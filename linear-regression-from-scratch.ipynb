{
 "cells": [
  {
   "cell_type": "code",
   "execution_count": 1,
   "id": "d872beca",
   "metadata": {
    "_cell_guid": "b1076dfc-b9ad-4769-8c92-a6c4dae69d19",
    "_uuid": "8f2839f25d086af736a60e9eeb907d3b93b6e0e5",
    "execution": {
     "iopub.execute_input": "2023-08-29T07:05:13.166262Z",
     "iopub.status.busy": "2023-08-29T07:05:13.165273Z",
     "iopub.status.idle": "2023-08-29T07:05:13.180967Z",
     "shell.execute_reply": "2023-08-29T07:05:13.179561Z"
    },
    "papermill": {
     "duration": 0.026125,
     "end_time": "2023-08-29T07:05:13.183857",
     "exception": false,
     "start_time": "2023-08-29T07:05:13.157732",
     "status": "completed"
    },
    "tags": []
   },
   "outputs": [],
   "source": [
    "import pandas as pd\n",
    "import numpy as np\n",
    "import matplotlib.pyplot as plt"
   ]
  },
  {
   "cell_type": "code",
   "execution_count": 2,
   "id": "e9947e65",
   "metadata": {
    "execution": {
     "iopub.execute_input": "2023-08-29T07:05:13.195325Z",
     "iopub.status.busy": "2023-08-29T07:05:13.194919Z",
     "iopub.status.idle": "2023-08-29T07:05:13.201257Z",
     "shell.execute_reply": "2023-08-29T07:05:13.199879Z"
    },
    "papermill": {
     "duration": 0.014948,
     "end_time": "2023-08-29T07:05:13.203766",
     "exception": false,
     "start_time": "2023-08-29T07:05:13.188818",
     "status": "completed"
    },
    "tags": []
   },
   "outputs": [],
   "source": [
    "def forward(x,w,b):\n",
    "        a=x.dot(w)+b\n",
    "        #apply the softmax\n",
    "        expa=np.exp(a)\n",
    "        y=expa/expa.sum(axis=1,keepdims=True)\n",
    "        return y"
   ]
  },
  {
   "cell_type": "code",
   "execution_count": 3,
   "id": "0f23e78d",
   "metadata": {
    "execution": {
     "iopub.execute_input": "2023-08-29T07:05:13.214848Z",
     "iopub.status.busy": "2023-08-29T07:05:13.214419Z",
     "iopub.status.idle": "2023-08-29T07:05:13.221196Z",
     "shell.execute_reply": "2023-08-29T07:05:13.219945Z"
    },
    "papermill": {
     "duration": 0.01523,
     "end_time": "2023-08-29T07:05:13.223784",
     "exception": false,
     "start_time": "2023-08-29T07:05:13.208554",
     "status": "completed"
    },
    "tags": []
   },
   "outputs": [],
   "source": [
    "def y2indicator(y):\n",
    "    n=len(y)\n",
    "    y=y.astype(np.int32)\n",
    "    k=y.max()+1\n",
    "    ind=np.zeros((n,k))\n",
    "    for n in range(n):\n",
    "        k=y[n]\n",
    "        ind[n,k]=1\n",
    "    return ind"
   ]
  },
  {
   "cell_type": "code",
   "execution_count": 4,
   "id": "2ff97c7d",
   "metadata": {
    "execution": {
     "iopub.execute_input": "2023-08-29T07:05:13.235157Z",
     "iopub.status.busy": "2023-08-29T07:05:13.234488Z",
     "iopub.status.idle": "2023-08-29T07:05:13.239989Z",
     "shell.execute_reply": "2023-08-29T07:05:13.238907Z"
    },
    "papermill": {
     "duration": 0.013992,
     "end_time": "2023-08-29T07:05:13.242422",
     "exception": false,
     "start_time": "2023-08-29T07:05:13.228430",
     "status": "completed"
    },
    "tags": []
   },
   "outputs": [],
   "source": [
    "def cost(y_pred,y_true):\n",
    "    tot=y_true*np.log(y_pred)\n",
    "    return -tot.sum()"
   ]
  },
  {
   "cell_type": "code",
   "execution_count": 5,
   "id": "663790fc",
   "metadata": {
    "execution": {
     "iopub.execute_input": "2023-08-29T07:05:13.253723Z",
     "iopub.status.busy": "2023-08-29T07:05:13.253285Z",
     "iopub.status.idle": "2023-08-29T07:05:13.258889Z",
     "shell.execute_reply": "2023-08-29T07:05:13.257338Z"
    },
    "papermill": {
     "duration": 0.014549,
     "end_time": "2023-08-29T07:05:13.261555",
     "exception": false,
     "start_time": "2023-08-29T07:05:13.247006",
     "status": "completed"
    },
    "tags": []
   },
   "outputs": [],
   "source": [
    "def predict(y_pred):\n",
    "    return np.argmax(y_pred,axis=1)"
   ]
  },
  {
   "cell_type": "code",
   "execution_count": 6,
   "id": "2c870d66",
   "metadata": {
    "execution": {
     "iopub.execute_input": "2023-08-29T07:05:13.273223Z",
     "iopub.status.busy": "2023-08-29T07:05:13.272077Z",
     "iopub.status.idle": "2023-08-29T07:05:13.278716Z",
     "shell.execute_reply": "2023-08-29T07:05:13.277413Z"
    },
    "papermill": {
     "duration": 0.015048,
     "end_time": "2023-08-29T07:05:13.281281",
     "exception": false,
     "start_time": "2023-08-29T07:05:13.266233",
     "status": "completed"
    },
    "tags": []
   },
   "outputs": [],
   "source": [
    "def error_rate(y_pred,y_true):\n",
    "    prediction=predict(y_pred)\n",
    "    return np.mean(prediction!= y_true)"
   ]
  },
  {
   "cell_type": "code",
   "execution_count": 7,
   "id": "0fc7f6fc",
   "metadata": {
    "execution": {
     "iopub.execute_input": "2023-08-29T07:05:13.292368Z",
     "iopub.status.busy": "2023-08-29T07:05:13.291946Z",
     "iopub.status.idle": "2023-08-29T07:05:13.296492Z",
     "shell.execute_reply": "2023-08-29T07:05:13.295576Z"
    },
    "papermill": {
     "duration": 0.012881,
     "end_time": "2023-08-29T07:05:13.298788",
     "exception": false,
     "start_time": "2023-08-29T07:05:13.285907",
     "status": "completed"
    },
    "tags": []
   },
   "outputs": [],
   "source": [
    "#this calculated the gradient of the weights\n",
    "def gradw(y_true,y_pred,X):\n",
    "    return X.T.dot(y_true-y_pred)"
   ]
  },
  {
   "cell_type": "code",
   "execution_count": 8,
   "id": "47344b12",
   "metadata": {
    "execution": {
     "iopub.execute_input": "2023-08-29T07:05:13.310165Z",
     "iopub.status.busy": "2023-08-29T07:05:13.309519Z",
     "iopub.status.idle": "2023-08-29T07:05:13.314829Z",
     "shell.execute_reply": "2023-08-29T07:05:13.313728Z"
    },
    "papermill": {
     "duration": 0.013921,
     "end_time": "2023-08-29T07:05:13.317324",
     "exception": false,
     "start_time": "2023-08-29T07:05:13.303403",
     "status": "completed"
    },
    "tags": []
   },
   "outputs": [],
   "source": [
    "#this calculates the gradient of the biases\n",
    "def gradb(y_true,y_pred):\n",
    "    return (y_true-y_pred).sum(axis=0)"
   ]
  },
  {
   "cell_type": "code",
   "execution_count": 9,
   "id": "3f3e25c7",
   "metadata": {
    "execution": {
     "iopub.execute_input": "2023-08-29T07:05:13.328387Z",
     "iopub.status.busy": "2023-08-29T07:05:13.327936Z",
     "iopub.status.idle": "2023-08-29T07:05:13.342953Z",
     "shell.execute_reply": "2023-08-29T07:05:13.341704Z"
    },
    "papermill": {
     "duration": 0.02401,
     "end_time": "2023-08-29T07:05:13.345865",
     "exception": false,
     "start_time": "2023-08-29T07:05:13.321855",
     "status": "completed"
    },
    "tags": []
   },
   "outputs": [],
   "source": [
    "def linear_regression():\n",
    "    df=pd.read_csv(\"/kaggle/input/digit-recognizer/train.csv\")\n",
    "    data=df.values.astype(np.float32)\n",
    "    np.random.shuffle(data)\n",
    "    \n",
    "    x=data[:,1:]\n",
    "    y=data[:,0]\n",
    "\n",
    "    x_train=x[:-10000]\n",
    "    y_train=y[:-10000]\n",
    "    x_test=x[-10000:]\n",
    "    y_test=y[-10000:]\n",
    "    \n",
    "    #lets standardize the inputs\n",
    "    ytrain_ind=y2indicator(y_train)\n",
    "    ytest_ind=y2indicator(y_test)\n",
    "    \n",
    "    #lets get the input shape\n",
    "    N,D=x_train.shape\n",
    "    \n",
    "    #number of columns for indicator matrix\n",
    "    K=ytrain_ind.shape[1]\n",
    "    \n",
    "    #lets initialize the variables\n",
    "    W=np.random.randn(D,K)/np.sqrt(D)\n",
    "    b=np.zeros(K)\n",
    "\n",
    "    train_losses=[]\n",
    "    test_losses=[]\n",
    "    train_classification_error=[]\n",
    "    test_classification_error=[]\n",
    "\n",
    "    lr=0.00003\n",
    "    reg=0.00004\n",
    "    n_iter=100\n",
    "\n",
    "    for i in range(n_iter):\n",
    "        \n",
    "        y_pred_train=forward(x_train,W,b)\n",
    "        train_loss=cost(y_pred_train,ytrain_ind)\n",
    "        train_losses.append(train_loss)\n",
    "\n",
    "        train_err=error_rate(y_pred_train,y_train)\n",
    "        train_classification_error.append(train_err)\n",
    "\n",
    "        #lets do the previous operation for the testing set\n",
    "        y_pred_test=forward(x_test,W,b)\n",
    "        test_loss=cost(y_pred_test,ytest_ind)\n",
    "        train_losses.append(test_loss)\n",
    "\n",
    "        test_err=error_rate(y_pred_test,y_test)\n",
    "        test_classification_error.append(test_err)\n",
    "\n",
    "        #lets upgrade the weight and the bias of the network\n",
    "        W+=lr*(gradw(ytrain_ind,y_pred_train,x_train)-reg*W)  #this assumes that gradient assent and gradient decent are the same\n",
    "        b+=lr*gradb(ytrain_ind,y_pred_train)\n",
    "    y_pred=forward(x_test,W,b)\n",
    "    print(\"final error rate:\",error_rate(y_pred,y_test))\n",
    "    plt.plot(train_losses,label=\"train loss\")\n",
    "    plt.plot(test_losses,label=\"test loss\")\n",
    "    plt.title(\"classification error per iteration\")\n",
    "    plt.legend()\n",
    "    plt.show()\n"
   ]
  },
  {
   "cell_type": "code",
   "execution_count": 10,
   "id": "c186aa75",
   "metadata": {
    "execution": {
     "iopub.execute_input": "2023-08-29T07:05:13.358622Z",
     "iopub.status.busy": "2023-08-29T07:05:13.358162Z",
     "iopub.status.idle": "2023-08-29T07:06:03.364522Z",
     "shell.execute_reply": "2023-08-29T07:06:03.363500Z"
    },
    "papermill": {
     "duration": 50.015055,
     "end_time": "2023-08-29T07:06:03.367156",
     "exception": false,
     "start_time": "2023-08-29T07:05:13.352101",
     "status": "completed"
    },
    "tags": []
   },
   "outputs": [
    {
     "name": "stderr",
     "output_type": "stream",
     "text": [
      "/tmp/ipykernel_20/2552119205.py:4: RuntimeWarning: overflow encountered in exp\n",
      "  expa=np.exp(a)\n",
      "/tmp/ipykernel_20/2552119205.py:5: RuntimeWarning: invalid value encountered in divide\n",
      "  y=expa/expa.sum(axis=1,keepdims=True)\n",
      "/tmp/ipykernel_20/563414472.py:2: RuntimeWarning: divide by zero encountered in log\n",
      "  tot=y_true*np.log(y_pred)\n",
      "/tmp/ipykernel_20/563414472.py:2: RuntimeWarning: invalid value encountered in multiply\n",
      "  tot=y_true*np.log(y_pred)\n"
     ]
    },
    {
     "name": "stdout",
     "output_type": "stream",
     "text": [
      "final error rate: 0.9014\n"
     ]
    },
    {
     "data": {
      "image/png": "[encoded data removed]",
      "text/plain": [
       "<Figure size 640x480 with 1 Axes>"
      ]
     },
     "metadata": {},
     "output_type": "display_data"
    }
   ],
   "source": [
    "linear_regression()"
   ]
  },
  {
   "cell_type": "code",
   "execution_count": null,
   "id": "ba001266",
   "metadata": {
    "papermill": {
     "duration": 0.005182,
     "end_time": "2023-08-29T07:06:03.378422",
     "exception": false,
     "start_time": "2023-08-29T07:06:03.373240",
     "status": "completed"
    },
    "tags": []
   },
   "outputs": [],
   "source": []
  }
 ],
 "metadata": {
  "kernelspec": {
   "display_name": "Python 3",
   "language": "python",
   "name": "python3"
  },
  "language_info": {
   "codemirror_mode": {
    "name": "ipython",
    "version": 3
   },
   "file_extension": ".py",
   "mimetype": "text/x-python",
   "name": "python",
   "nbconvert_exporter": "python",
   "pygments_lexer": "ipython3",
   "version": "3.10.12"
  },
  "papermill": {
   "default_parameters": {},
   "duration": 64.066632,
   "end_time": "2023-08-29T07:06:04.307876",
   "environment_variables": {},
   "exception": null,
   "input_path": "__notebook__.ipynb",
   "output_path": "__notebook__.ipynb",
   "parameters": {},
   "start_time": "2023-08-29T07:05:00.241244",
   "version": "2.4.0"
  }
 },
 "nbformat": 4,
 "nbformat_minor": 5
}

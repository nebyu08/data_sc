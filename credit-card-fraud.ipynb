{
 "cells": [
  {
   "cell_type": "code",
   "execution_count": 1,
   "id": "4df0fb7e",
   "metadata": {
    "_cell_guid": "b1076dfc-b9ad-4769-8c92-a6c4dae69d19",
    "_uuid": "8f2839f25d086af736a60e9eeb907d3b93b6e0e5",
    "execution": {
     "iopub.execute_input": "2023-12-08T12:57:14.294560Z",
     "iopub.status.busy": "2023-12-08T12:57:14.294177Z",
     "iopub.status.idle": "2023-12-08T12:57:16.099997Z",
     "shell.execute_reply": "2023-12-08T12:57:16.098955Z"
    },
    "papermill": {
     "duration": 1.815457,
     "end_time": "2023-12-08T12:57:16.102388",
     "exception": false,
     "start_time": "2023-12-08T12:57:14.286931",
     "status": "completed"
    },
    "tags": []
   },
   "outputs": [
    {
     "name": "stderr",
     "output_type": "stream",
     "text": [
      "/opt/conda/lib/python3.10/site-packages/scipy/__init__.py:146: UserWarning: A NumPy version >=1.16.5 and <1.23.0 is required for this version of SciPy (detected version 1.24.3\n",
      "  warnings.warn(f\"A NumPy version >={np_minversion} and <{np_maxversion}\"\n"
     ]
    }
   ],
   "source": [
    "import pandas as pd\n",
    "import numpy as np\n",
    "from sklearn.utils import resample\n",
    "from sklearn.ensemble import RandomForestClassifier\n",
    "from sklearn.model_selection import train_test_split"
   ]
  },
  {
   "cell_type": "code",
   "execution_count": 2,
   "id": "19cccde8",
   "metadata": {
    "execution": {
     "iopub.execute_input": "2023-12-08T12:57:16.115250Z",
     "iopub.status.busy": "2023-12-08T12:57:16.114816Z",
     "iopub.status.idle": "2023-12-08T12:57:16.181137Z",
     "shell.execute_reply": "2023-12-08T12:57:16.180220Z"
    },
    "papermill": {
     "duration": 0.074851,
     "end_time": "2023-12-08T12:57:16.183092",
     "exception": false,
     "start_time": "2023-12-08T12:57:16.108241",
     "status": "completed"
    },
    "tags": []
   },
   "outputs": [],
   "source": [
    "import warnings\n",
    "from sklearn.exceptions import DataConversionWarning\n",
    "\n",
    "# Suppress FutureWarning messages\n",
    "warnings.simplefilter(action='ignore', category=FutureWarning)\n",
    "\n",
    "# Suppress DataConversionWarning messages\n",
    "warnings.simplefilter(action='ignore', category=DataConversionWarning)\n"
   ]
  },
  {
   "cell_type": "markdown",
   "id": "f901c675",
   "metadata": {
    "papermill": {
     "duration": 0.005382,
     "end_time": "2023-12-08T12:57:16.194331",
     "exception": false,
     "start_time": "2023-12-08T12:57:16.188949",
     "status": "completed"
    },
    "tags": []
   },
   "source": [
    "# EDA-- explanatory data analysis"
   ]
  },
  {
   "cell_type": "code",
   "execution_count": 3,
   "id": "5421eee3",
   "metadata": {
    "execution": {
     "iopub.execute_input": "2023-12-08T12:57:16.206136Z",
     "iopub.status.busy": "2023-12-08T12:57:16.205833Z",
     "iopub.status.idle": "2023-12-08T12:57:20.007821Z",
     "shell.execute_reply": "2023-12-08T12:57:20.006881Z"
    },
    "papermill": {
     "duration": 3.810501,
     "end_time": "2023-12-08T12:57:20.010147",
     "exception": false,
     "start_time": "2023-12-08T12:57:16.199646",
     "status": "completed"
    },
    "tags": []
   },
   "outputs": [
    {
     "data": {
      "text/html": [
       "<div>\n",
       "<style scoped>\n",
       "    .dataframe tbody tr th:only-of-type {\n",
       "        vertical-align: middle;\n",
       "    }\n",
       "\n",
       "    .dataframe tbody tr th {\n",
       "        vertical-align: top;\n",
       "    }\n",
       "\n",
       "    .dataframe thead th {\n",
       "        text-align: right;\n",
       "    }\n",
       "</style>\n",
       "<table border=\"1\" class=\"dataframe\">\n",
       "  <thead>\n",
       "    <tr style=\"text-align: right;\">\n",
       "      <th></th>\n",
       "      <th>Time</th>\n",
       "      <th>V1</th>\n",
       "      <th>V2</th>\n",
       "      <th>V3</th>\n",
       "      <th>V4</th>\n",
       "      <th>V5</th>\n",
       "      <th>V6</th>\n",
       "      <th>V7</th>\n",
       "      <th>V8</th>\n",
       "      <th>V9</th>\n",
       "      <th>...</th>\n",
       "      <th>V21</th>\n",
       "      <th>V22</th>\n",
       "      <th>V23</th>\n",
       "      <th>V24</th>\n",
       "      <th>V25</th>\n",
       "      <th>V26</th>\n",
       "      <th>V27</th>\n",
       "      <th>V28</th>\n",
       "      <th>Amount</th>\n",
       "      <th>Class</th>\n",
       "    </tr>\n",
       "  </thead>\n",
       "  <tbody>\n",
       "    <tr>\n",
       "      <th>0</th>\n",
       "      <td>0.0</td>\n",
       "      <td>-1.359807</td>\n",
       "      <td>-0.072781</td>\n",
       "      <td>2.536347</td>\n",
       "      <td>1.378155</td>\n",
       "      <td>-0.338321</td>\n",
       "      <td>0.462388</td>\n",
       "      <td>0.239599</td>\n",
       "      <td>0.098698</td>\n",
       "      <td>0.363787</td>\n",
       "      <td>...</td>\n",
       "      <td>-0.018307</td>\n",
       "      <td>0.277838</td>\n",
       "      <td>-0.110474</td>\n",
       "      <td>0.066928</td>\n",
       "      <td>0.128539</td>\n",
       "      <td>-0.189115</td>\n",
       "      <td>0.133558</td>\n",
       "      <td>-0.021053</td>\n",
       "      <td>149.62</td>\n",
       "      <td>0</td>\n",
       "    </tr>\n",
       "    <tr>\n",
       "      <th>1</th>\n",
       "      <td>0.0</td>\n",
       "      <td>1.191857</td>\n",
       "      <td>0.266151</td>\n",
       "      <td>0.166480</td>\n",
       "      <td>0.448154</td>\n",
       "      <td>0.060018</td>\n",
       "      <td>-0.082361</td>\n",
       "      <td>-0.078803</td>\n",
       "      <td>0.085102</td>\n",
       "      <td>-0.255425</td>\n",
       "      <td>...</td>\n",
       "      <td>-0.225775</td>\n",
       "      <td>-0.638672</td>\n",
       "      <td>0.101288</td>\n",
       "      <td>-0.339846</td>\n",
       "      <td>0.167170</td>\n",
       "      <td>0.125895</td>\n",
       "      <td>-0.008983</td>\n",
       "      <td>0.014724</td>\n",
       "      <td>2.69</td>\n",
       "      <td>0</td>\n",
       "    </tr>\n",
       "    <tr>\n",
       "      <th>2</th>\n",
       "      <td>1.0</td>\n",
       "      <td>-1.358354</td>\n",
       "      <td>-1.340163</td>\n",
       "      <td>1.773209</td>\n",
       "      <td>0.379780</td>\n",
       "      <td>-0.503198</td>\n",
       "      <td>1.800499</td>\n",
       "      <td>0.791461</td>\n",
       "      <td>0.247676</td>\n",
       "      <td>-1.514654</td>\n",
       "      <td>...</td>\n",
       "      <td>0.247998</td>\n",
       "      <td>0.771679</td>\n",
       "      <td>0.909412</td>\n",
       "      <td>-0.689281</td>\n",
       "      <td>-0.327642</td>\n",
       "      <td>-0.139097</td>\n",
       "      <td>-0.055353</td>\n",
       "      <td>-0.059752</td>\n",
       "      <td>378.66</td>\n",
       "      <td>0</td>\n",
       "    </tr>\n",
       "    <tr>\n",
       "      <th>3</th>\n",
       "      <td>1.0</td>\n",
       "      <td>-0.966272</td>\n",
       "      <td>-0.185226</td>\n",
       "      <td>1.792993</td>\n",
       "      <td>-0.863291</td>\n",
       "      <td>-0.010309</td>\n",
       "      <td>1.247203</td>\n",
       "      <td>0.237609</td>\n",
       "      <td>0.377436</td>\n",
       "      <td>-1.387024</td>\n",
       "      <td>...</td>\n",
       "      <td>-0.108300</td>\n",
       "      <td>0.005274</td>\n",
       "      <td>-0.190321</td>\n",
       "      <td>-1.175575</td>\n",
       "      <td>0.647376</td>\n",
       "      <td>-0.221929</td>\n",
       "      <td>0.062723</td>\n",
       "      <td>0.061458</td>\n",
       "      <td>123.50</td>\n",
       "      <td>0</td>\n",
       "    </tr>\n",
       "    <tr>\n",
       "      <th>4</th>\n",
       "      <td>2.0</td>\n",
       "      <td>-1.158233</td>\n",
       "      <td>0.877737</td>\n",
       "      <td>1.548718</td>\n",
       "      <td>0.403034</td>\n",
       "      <td>-0.407193</td>\n",
       "      <td>0.095921</td>\n",
       "      <td>0.592941</td>\n",
       "      <td>-0.270533</td>\n",
       "      <td>0.817739</td>\n",
       "      <td>...</td>\n",
       "      <td>-0.009431</td>\n",
       "      <td>0.798278</td>\n",
       "      <td>-0.137458</td>\n",
       "      <td>0.141267</td>\n",
       "      <td>-0.206010</td>\n",
       "      <td>0.502292</td>\n",
       "      <td>0.219422</td>\n",
       "      <td>0.215153</td>\n",
       "      <td>69.99</td>\n",
       "      <td>0</td>\n",
       "    </tr>\n",
       "  </tbody>\n",
       "</table>\n",
       "<p>5 rows × 31 columns</p>\n",
       "</div>"
      ],
      "text/plain": [
       "   Time        V1        V2        V3        V4        V5        V6        V7  \\\n",
       "0   0.0 -1.359807 -0.072781  2.536347  1.378155 -0.338321  0.462388  0.239599   \n",
       "1   0.0  1.191857  0.266151  0.166480  0.448154  0.060018 -0.082361 -0.078803   \n",
       "2   1.0 -1.358354 -1.340163  1.773209  0.379780 -0.503198  1.800499  0.791461   \n",
       "3   1.0 -0.966272 -0.185226  1.792993 -0.863291 -0.010309  1.247203  0.237609   \n",
       "4   2.0 -1.158233  0.877737  1.548718  0.403034 -0.407193  0.095921  0.592941   \n",
       "\n",
       "         V8        V9  ...       V21       V22       V23       V24       V25  \\\n",
       "0  0.098698  0.363787  ... -0.018307  0.277838 -0.110474  0.066928  0.128539   \n",
       "1  0.085102 -0.255425  ... -0.225775 -0.638672  0.101288 -0.339846  0.167170   \n",
       "2  0.247676 -1.514654  ...  0.247998  0.771679  0.909412 -0.689281 -0.327642   \n",
       "3  0.377436 -1.387024  ... -0.108300  0.005274 -0.190321 -1.175575  0.647376   \n",
       "4 -0.270533  0.817739  ... -0.009431  0.798278 -0.137458  0.141267 -0.206010   \n",
       "\n",
       "        V26       V27       V28  Amount  Class  \n",
       "0 -0.189115  0.133558 -0.021053  149.62      0  \n",
       "1  0.125895 -0.008983  0.014724    2.69      0  \n",
       "2 -0.139097 -0.055353 -0.059752  378.66      0  \n",
       "3 -0.221929  0.062723  0.061458  123.50      0  \n",
       "4  0.502292  0.219422  0.215153   69.99      0  \n",
       "\n",
       "[5 rows x 31 columns]"
      ]
     },
     "execution_count": 3,
     "metadata": {},
     "output_type": "execute_result"
    }
   ],
   "source": [
    "data=pd.read_csv(\"/kaggle/input/creditcardfraud/creditcard.csv\")\n",
    "data.head()"
   ]
  },
  {
   "cell_type": "code",
   "execution_count": 4,
   "id": "3c7b6bcb",
   "metadata": {
    "execution": {
     "iopub.execute_input": "2023-12-08T12:57:20.023555Z",
     "iopub.status.busy": "2023-12-08T12:57:20.023250Z",
     "iopub.status.idle": "2023-12-08T12:57:20.064014Z",
     "shell.execute_reply": "2023-12-08T12:57:20.063003Z"
    },
    "papermill": {
     "duration": 0.049991,
     "end_time": "2023-12-08T12:57:20.066361",
     "exception": false,
     "start_time": "2023-12-08T12:57:20.016370",
     "status": "completed"
    },
    "tags": []
   },
   "outputs": [
    {
     "name": "stdout",
     "output_type": "stream",
     "text": [
      "<class 'pandas.core.frame.DataFrame'>\n",
      "RangeIndex: 284807 entries, 0 to 284806\n",
      "Data columns (total 31 columns):\n",
      " #   Column  Non-Null Count   Dtype  \n",
      "---  ------  --------------   -----  \n",
      " 0   Time    284807 non-null  float64\n",
      " 1   V1      284807 non-null  float64\n",
      " 2   V2      284807 non-null  float64\n",
      " 3   V3      284807 non-null  float64\n",
      " 4   V4      284807 non-null  float64\n",
      " 5   V5      284807 non-null  float64\n",
      " 6   V6      284807 non-null  float64\n",
      " 7   V7      284807 non-null  float64\n",
      " 8   V8      284807 non-null  float64\n",
      " 9   V9      284807 non-null  float64\n",
      " 10  V10     284807 non-null  float64\n",
      " 11  V11     284807 non-null  float64\n",
      " 12  V12     284807 non-null  float64\n",
      " 13  V13     284807 non-null  float64\n",
      " 14  V14     284807 non-null  float64\n",
      " 15  V15     284807 non-null  float64\n",
      " 16  V16     284807 non-null  float64\n",
      " 17  V17     284807 non-null  float64\n",
      " 18  V18     284807 non-null  float64\n",
      " 19  V19     284807 non-null  float64\n",
      " 20  V20     284807 non-null  float64\n",
      " 21  V21     284807 non-null  float64\n",
      " 22  V22     284807 non-null  float64\n",
      " 23  V23     284807 non-null  float64\n",
      " 24  V24     284807 non-null  float64\n",
      " 25  V25     284807 non-null  float64\n",
      " 26  V26     284807 non-null  float64\n",
      " 27  V27     284807 non-null  float64\n",
      " 28  V28     284807 non-null  float64\n",
      " 29  Amount  284807 non-null  float64\n",
      " 30  Class   284807 non-null  int64  \n",
      "dtypes: float64(30), int64(1)\n",
      "memory usage: 67.4 MB\n"
     ]
    }
   ],
   "source": [
    "data.info()"
   ]
  },
  {
   "cell_type": "code",
   "execution_count": 5,
   "id": "3df90eb0",
   "metadata": {
    "execution": {
     "iopub.execute_input": "2023-12-08T12:57:20.080059Z",
     "iopub.status.busy": "2023-12-08T12:57:20.079720Z",
     "iopub.status.idle": "2023-12-08T12:57:20.089940Z",
     "shell.execute_reply": "2023-12-08T12:57:20.089114Z"
    },
    "papermill": {
     "duration": 0.019369,
     "end_time": "2023-12-08T12:57:20.091987",
     "exception": false,
     "start_time": "2023-12-08T12:57:20.072618",
     "status": "completed"
    },
    "tags": []
   },
   "outputs": [
    {
     "data": {
      "text/plain": [
       "Class\n",
       "0    284315\n",
       "1       492\n",
       "Name: count, dtype: int64"
      ]
     },
     "execution_count": 5,
     "metadata": {},
     "output_type": "execute_result"
    }
   ],
   "source": [
    "data[\"Class\"].value_counts()"
   ]
  },
  {
   "cell_type": "markdown",
   "id": "50cd3aa0",
   "metadata": {
    "papermill": {
     "duration": 0.006303,
     "end_time": "2023-12-08T12:57:20.104460",
     "exception": false,
     "start_time": "2023-12-08T12:57:20.098157",
     "status": "completed"
    },
    "tags": []
   },
   "source": [
    "# lets handle the unbalanced dataset"
   ]
  },
  {
   "cell_type": "code",
   "execution_count": 6,
   "id": "99d6375d",
   "metadata": {
    "execution": {
     "iopub.execute_input": "2023-12-08T12:57:20.118380Z",
     "iopub.status.busy": "2023-12-08T12:57:20.118095Z",
     "iopub.status.idle": "2023-12-08T12:57:20.155658Z",
     "shell.execute_reply": "2023-12-08T12:57:20.154699Z"
    },
    "papermill": {
     "duration": 0.047567,
     "end_time": "2023-12-08T12:57:20.158288",
     "exception": false,
     "start_time": "2023-12-08T12:57:20.110721",
     "status": "completed"
    },
    "tags": []
   },
   "outputs": [],
   "source": [
    "data_maj=data[data[\"Class\"]==0]\n",
    "data_min=data[data[\"Class\"]==1]"
   ]
  },
  {
   "cell_type": "code",
   "execution_count": 7,
   "id": "6a95a397",
   "metadata": {
    "execution": {
     "iopub.execute_input": "2023-12-08T12:57:20.173713Z",
     "iopub.status.busy": "2023-12-08T12:57:20.173371Z",
     "iopub.status.idle": "2023-12-08T12:57:20.182245Z",
     "shell.execute_reply": "2023-12-08T12:57:20.181386Z"
    },
    "papermill": {
     "duration": 0.018682,
     "end_time": "2023-12-08T12:57:20.184433",
     "exception": false,
     "start_time": "2023-12-08T12:57:20.165751",
     "status": "completed"
    },
    "tags": []
   },
   "outputs": [
    {
     "name": "stdout",
     "output_type": "stream",
     "text": [
      "Class\n",
      "0    284315\n",
      "Name: count, dtype: int64\n",
      "Class\n",
      "1    492\n",
      "Name: count, dtype: int64\n"
     ]
    }
   ],
   "source": [
    "print(data_maj[\"Class\"].value_counts())\n",
    "print(data_min[\"Class\"].value_counts())"
   ]
  },
  {
   "cell_type": "code",
   "execution_count": 8,
   "id": "745d742a",
   "metadata": {
    "execution": {
     "iopub.execute_input": "2023-12-08T12:57:20.198132Z",
     "iopub.status.busy": "2023-12-08T12:57:20.197843Z",
     "iopub.status.idle": "2023-12-08T12:57:20.203340Z",
     "shell.execute_reply": "2023-12-08T12:57:20.202495Z"
    },
    "papermill": {
     "duration": 0.014606,
     "end_time": "2023-12-08T12:57:20.205345",
     "exception": false,
     "start_time": "2023-12-08T12:57:20.190739",
     "status": "completed"
    },
    "tags": []
   },
   "outputs": [
    {
     "data": {
      "text/plain": [
       "284315"
      ]
     },
     "execution_count": 8,
     "metadata": {},
     "output_type": "execute_result"
    }
   ],
   "source": [
    "resample_size=len(data)-len(data_min)\n",
    "resample_size"
   ]
  },
  {
   "cell_type": "code",
   "execution_count": 9,
   "id": "424dfe3e",
   "metadata": {
    "execution": {
     "iopub.execute_input": "2023-12-08T12:57:20.219285Z",
     "iopub.status.busy": "2023-12-08T12:57:20.219004Z",
     "iopub.status.idle": "2023-12-08T12:57:20.253304Z",
     "shell.execute_reply": "2023-12-08T12:57:20.252447Z"
    },
    "papermill": {
     "duration": 0.044086,
     "end_time": "2023-12-08T12:57:20.255669",
     "exception": false,
     "start_time": "2023-12-08T12:57:20.211583",
     "status": "completed"
    },
    "tags": []
   },
   "outputs": [],
   "source": [
    "data_min_upsampled=resample(data_min,replace=True,n_samples=resample_size,random_state=42)"
   ]
  },
  {
   "cell_type": "code",
   "execution_count": 10,
   "id": "0a9ec394",
   "metadata": {
    "execution": {
     "iopub.execute_input": "2023-12-08T12:57:20.270647Z",
     "iopub.status.busy": "2023-12-08T12:57:20.270265Z",
     "iopub.status.idle": "2023-12-08T12:57:20.327930Z",
     "shell.execute_reply": "2023-12-08T12:57:20.326941Z"
    },
    "papermill": {
     "duration": 0.067268,
     "end_time": "2023-12-08T12:57:20.330013",
     "exception": false,
     "start_time": "2023-12-08T12:57:20.262745",
     "status": "completed"
    },
    "tags": []
   },
   "outputs": [
    {
     "data": {
      "text/plain": [
       "(568630, 31)"
      ]
     },
     "execution_count": 10,
     "metadata": {},
     "output_type": "execute_result"
    }
   ],
   "source": [
    "data_balanced=pd.concat([data_maj,data_min_upsampled])\n",
    "data_balanced.shape"
   ]
  },
  {
   "cell_type": "code",
   "execution_count": 11,
   "id": "8d6999dc",
   "metadata": {
    "execution": {
     "iopub.execute_input": "2023-12-08T12:57:20.344704Z",
     "iopub.status.busy": "2023-12-08T12:57:20.344363Z",
     "iopub.status.idle": "2023-12-08T12:57:20.356923Z",
     "shell.execute_reply": "2023-12-08T12:57:20.355971Z"
    },
    "papermill": {
     "duration": 0.022206,
     "end_time": "2023-12-08T12:57:20.358963",
     "exception": false,
     "start_time": "2023-12-08T12:57:20.336757",
     "status": "completed"
    },
    "tags": []
   },
   "outputs": [
    {
     "data": {
      "text/plain": [
       "Class\n",
       "0    284315\n",
       "1    284315\n",
       "Name: count, dtype: int64"
      ]
     },
     "execution_count": 11,
     "metadata": {},
     "output_type": "execute_result"
    }
   ],
   "source": [
    "data_balanced[\"Class\"].value_counts()"
   ]
  },
  {
   "cell_type": "markdown",
   "id": "54e8400b",
   "metadata": {
    "papermill": {
     "duration": 0.006808,
     "end_time": "2023-12-08T12:57:20.373592",
     "exception": false,
     "start_time": "2023-12-08T12:57:20.366784",
     "status": "completed"
    },
    "tags": []
   },
   "source": [
    "# lets train our Random Forest"
   ]
  },
  {
   "cell_type": "code",
   "execution_count": 12,
   "id": "3be62784",
   "metadata": {
    "execution": {
     "iopub.execute_input": "2023-12-08T12:57:20.387977Z",
     "iopub.status.busy": "2023-12-08T12:57:20.387645Z",
     "iopub.status.idle": "2023-12-08T12:57:20.610102Z",
     "shell.execute_reply": "2023-12-08T12:57:20.608947Z"
    },
    "papermill": {
     "duration": 0.232424,
     "end_time": "2023-12-08T12:57:20.612736",
     "exception": false,
     "start_time": "2023-12-08T12:57:20.380312",
     "status": "completed"
    },
    "tags": []
   },
   "outputs": [],
   "source": [
    "x=data_balanced.drop([\"Class\"],axis=1)\n",
    "y=data_balanced[\"Class\"]\n",
    "x_train,x_test,y_train,y_test=train_test_split(x,y,random_state=42)"
   ]
  },
  {
   "cell_type": "code",
   "execution_count": 13,
   "id": "8500df7d",
   "metadata": {
    "execution": {
     "iopub.execute_input": "2023-12-08T12:57:20.627800Z",
     "iopub.status.busy": "2023-12-08T12:57:20.627466Z",
     "iopub.status.idle": "2023-12-08T12:57:20.634107Z",
     "shell.execute_reply": "2023-12-08T12:57:20.633039Z"
    },
    "papermill": {
     "duration": 0.01623,
     "end_time": "2023-12-08T12:57:20.636110",
     "exception": false,
     "start_time": "2023-12-08T12:57:20.619880",
     "status": "completed"
    },
    "tags": []
   },
   "outputs": [
    {
     "data": {
      "text/plain": [
       "((426472, 30), (426472,), (142158, 30), (142158,))"
      ]
     },
     "execution_count": 13,
     "metadata": {},
     "output_type": "execute_result"
    }
   ],
   "source": [
    "# lets check the shape\n",
    "x_train.shape,y_train.shape,x_test.shape,y_test.shape"
   ]
  },
  {
   "cell_type": "code",
   "execution_count": 14,
   "id": "d520906e",
   "metadata": {
    "execution": {
     "iopub.execute_input": "2023-12-08T12:57:20.650452Z",
     "iopub.status.busy": "2023-12-08T12:57:20.650164Z",
     "iopub.status.idle": "2023-12-08T13:00:42.744420Z",
     "shell.execute_reply": "2023-12-08T13:00:42.743480Z"
    },
    "papermill": {
     "duration": 202.110304,
     "end_time": "2023-12-08T13:00:42.753047",
     "exception": false,
     "start_time": "2023-12-08T12:57:20.642743",
     "status": "completed"
    },
    "tags": []
   },
   "outputs": [
    {
     "data": {
      "text/html": [
       "<style>#sk-container-id-1 {color: black;background-color: white;}#sk-container-id-1 pre{padding: 0;}#sk-container-id-1 div.sk-toggleable {background-color: white;}#sk-container-id-1 label.sk-toggleable__label {cursor: pointer;display: block;width: 100%;margin-bottom: 0;padding: 0.3em;box-sizing: border-box;text-align: center;}#sk-container-id-1 label.sk-toggleable__label-arrow:before {content: \"▸\";float: left;margin-right: 0.25em;color: #696969;}#sk-container-id-1 label.sk-toggleable__label-arrow:hover:before {color: black;}#sk-container-id-1 div.sk-estimator:hover label.sk-toggleable__label-arrow:before {color: black;}#sk-container-id-1 div.sk-toggleable__content {max-height: 0;max-width: 0;overflow: hidden;text-align: left;background-color: #f0f8ff;}#sk-container-id-1 div.sk-toggleable__content pre {margin: 0.2em;color: black;border-radius: 0.25em;background-color: #f0f8ff;}#sk-container-id-1 input.sk-toggleable__control:checked~div.sk-toggleable__content {max-height: 200px;max-width: 100%;overflow: auto;}#sk-container-id-1 input.sk-toggleable__control:checked~label.sk-toggleable__label-arrow:before {content: \"▾\";}#sk-container-id-1 div.sk-estimator input.sk-toggleable__control:checked~label.sk-toggleable__label {background-color: #d4ebff;}#sk-container-id-1 div.sk-label input.sk-toggleable__control:checked~label.sk-toggleable__label {background-color: #d4ebff;}#sk-container-id-1 input.sk-hidden--visually {border: 0;clip: rect(1px 1px 1px 1px);clip: rect(1px, 1px, 1px, 1px);height: 1px;margin: -1px;overflow: hidden;padding: 0;position: absolute;width: 1px;}#sk-container-id-1 div.sk-estimator {font-family: monospace;background-color: #f0f8ff;border: 1px dotted black;border-radius: 0.25em;box-sizing: border-box;margin-bottom: 0.5em;}#sk-container-id-1 div.sk-estimator:hover {background-color: #d4ebff;}#sk-container-id-1 div.sk-parallel-item::after {content: \"\";width: 100%;border-bottom: 1px solid gray;flex-grow: 1;}#sk-container-id-1 div.sk-label:hover label.sk-toggleable__label {background-color: #d4ebff;}#sk-container-id-1 div.sk-serial::before {content: \"\";position: absolute;border-left: 1px solid gray;box-sizing: border-box;top: 0;bottom: 0;left: 50%;z-index: 0;}#sk-container-id-1 div.sk-serial {display: flex;flex-direction: column;align-items: center;background-color: white;padding-right: 0.2em;padding-left: 0.2em;position: relative;}#sk-container-id-1 div.sk-item {position: relative;z-index: 1;}#sk-container-id-1 div.sk-parallel {display: flex;align-items: stretch;justify-content: center;background-color: white;position: relative;}#sk-container-id-1 div.sk-item::before, #sk-container-id-1 div.sk-parallel-item::before {content: \"\";position: absolute;border-left: 1px solid gray;box-sizing: border-box;top: 0;bottom: 0;left: 50%;z-index: -1;}#sk-container-id-1 div.sk-parallel-item {display: flex;flex-direction: column;z-index: 1;position: relative;background-color: white;}#sk-container-id-1 div.sk-parallel-item:first-child::after {align-self: flex-end;width: 50%;}#sk-container-id-1 div.sk-parallel-item:last-child::after {align-self: flex-start;width: 50%;}#sk-container-id-1 div.sk-parallel-item:only-child::after {width: 0;}#sk-container-id-1 div.sk-dashed-wrapped {border: 1px dashed gray;margin: 0 0.4em 0.5em 0.4em;box-sizing: border-box;padding-bottom: 0.4em;background-color: white;}#sk-container-id-1 div.sk-label label {font-family: monospace;font-weight: bold;display: inline-block;line-height: 1.2em;}#sk-container-id-1 div.sk-label-container {text-align: center;}#sk-container-id-1 div.sk-container {/* jupyter's `normalize.less` sets `[hidden] { display: none; }` but bootstrap.min.css set `[hidden] { display: none !important; }` so we also need the `!important` here to be able to override the default hidden behavior on the sphinx rendered scikit-learn.org. See: https://github.com/scikit-learn/scikit-learn/issues/21755 */display: inline-block !important;position: relative;}#sk-container-id-1 div.sk-text-repr-fallback {display: none;}</style><div id=\"sk-container-id-1\" class=\"sk-top-container\"><div class=\"sk-text-repr-fallback\"><pre>RandomForestClassifier()</pre><b>In a Jupyter environment, please rerun this cell to show the HTML representation or trust the notebook. <br />On GitHub, the HTML representation is unable to render, please try loading this page with nbviewer.org.</b></div><div class=\"sk-container\" hidden><div class=\"sk-item\"><div class=\"sk-estimator sk-toggleable\"><input class=\"sk-toggleable__control sk-hidden--visually\" id=\"sk-estimator-id-1\" type=\"checkbox\" checked><label for=\"sk-estimator-id-1\" class=\"sk-toggleable__label sk-toggleable__label-arrow\">RandomForestClassifier</label><div class=\"sk-toggleable__content\"><pre>RandomForestClassifier()</pre></div></div></div></div></div>"
      ],
      "text/plain": [
       "RandomForestClassifier()"
      ]
     },
     "execution_count": 14,
     "metadata": {},
     "output_type": "execute_result"
    }
   ],
   "source": [
    "model=RandomForestClassifier()\n",
    "model.fit(x_train,y_train)"
   ]
  },
  {
   "cell_type": "code",
   "execution_count": 15,
   "id": "8f8e78e4",
   "metadata": {
    "execution": {
     "iopub.execute_input": "2023-12-08T13:00:42.768386Z",
     "iopub.status.busy": "2023-12-08T13:00:42.768054Z",
     "iopub.status.idle": "2023-12-08T13:00:44.139079Z",
     "shell.execute_reply": "2023-12-08T13:00:44.138011Z"
    },
    "papermill": {
     "duration": 1.381219,
     "end_time": "2023-12-08T13:00:44.141363",
     "exception": false,
     "start_time": "2023-12-08T13:00:42.760144",
     "status": "completed"
    },
    "tags": []
   },
   "outputs": [
    {
     "name": "stdout",
     "output_type": "stream",
     "text": [
      "[[71009     0]\n",
      " [    6 71143]]\n"
     ]
    }
   ],
   "source": [
    "from sklearn.metrics import classification_report,confusion_matrix\n",
    "y_pred=model.predict(x_test)\n",
    "print(confusion_matrix(y_pred,y_test))"
   ]
  },
  {
   "cell_type": "code",
   "execution_count": 16,
   "id": "33ff49d9",
   "metadata": {
    "execution": {
     "iopub.execute_input": "2023-12-08T13:00:44.158474Z",
     "iopub.status.busy": "2023-12-08T13:00:44.158156Z",
     "iopub.status.idle": "2023-12-08T13:00:44.399962Z",
     "shell.execute_reply": "2023-12-08T13:00:44.399045Z"
    },
    "papermill": {
     "duration": 0.252784,
     "end_time": "2023-12-08T13:00:44.402205",
     "exception": false,
     "start_time": "2023-12-08T13:00:44.149421",
     "status": "completed"
    },
    "tags": []
   },
   "outputs": [
    {
     "name": "stdout",
     "output_type": "stream",
     "text": [
      "              precision    recall  f1-score   support\n",
      "\n",
      "           0       1.00      1.00      1.00     71009\n",
      "           1       1.00      1.00      1.00     71149\n",
      "\n",
      "    accuracy                           1.00    142158\n",
      "   macro avg       1.00      1.00      1.00    142158\n",
      "weighted avg       1.00      1.00      1.00    142158\n",
      "\n"
     ]
    }
   ],
   "source": [
    "print(classification_report(y_pred,y_test))"
   ]
  },
  {
   "cell_type": "code",
   "execution_count": null,
   "id": "4ec921a5",
   "metadata": {
    "papermill": {
     "duration": 0.006995,
     "end_time": "2023-12-08T13:00:44.416722",
     "exception": false,
     "start_time": "2023-12-08T13:00:44.409727",
     "status": "completed"
    },
    "tags": []
   },
   "outputs": [],
   "source": []
  }
 ],
 "metadata": {
  "kaggle": {
   "accelerator": "nvidiaTeslaT4",
   "dataSources": [
    {
     "datasetId": 310,
     "sourceId": 23498,
     "sourceType": "datasetVersion"
    }
   ],
   "dockerImageVersionId": 30616,
   "isGpuEnabled": true,
   "isInternetEnabled": true,
   "language": "python",
   "sourceType": "notebook"
  },
  "kernelspec": {
   "display_name": "Python 3",
   "language": "python",
   "name": "python3"
  },
  "language_info": {
   "codemirror_mode": {
    "name": "ipython",
    "version": 3
   },
   "file_extension": ".py",
   "mimetype": "text/x-python",
   "name": "python",
   "nbconvert_exporter": "python",
   "pygments_lexer": "ipython3",
   "version": "3.10.12"
  },
  "papermill": {
   "default_parameters": {},
   "duration": 213.930467,
   "end_time": "2023-12-08T13:00:44.842475",
   "environment_variables": {},
   "exception": null,
   "input_path": "__notebook__.ipynb",
   "output_path": "__notebook__.ipynb",
   "parameters": {},
   "start_time": "2023-12-08T12:57:10.912008",
   "version": "2.4.0"
  }
 },
 "nbformat": 4,
 "nbformat_minor": 5
}

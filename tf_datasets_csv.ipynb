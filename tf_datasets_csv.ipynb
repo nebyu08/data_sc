{
 "cells": [
  {
   "cell_type": "code",
   "execution_count": 88,
   "id": "ef95db50-6155-4a9f-bac0-60554d317139",
   "metadata": {},
   "outputs": [],
   "source": [
    "import tensorflow as tf\n",
    "import pandas as pd\n",
    "import keras\n",
    "import numpy as np\n",
    "import os\n",
    "import matplotlib.pyplot as plt"
   ]
  },
  {
   "cell_type": "code",
   "execution_count": 89,
   "id": "909bb57e-6414-4aef-9cc0-acb7d61f0546",
   "metadata": {},
   "outputs": [
    {
     "data": {
      "text/plain": [
       "<_TensorSliceDataset element_spec=TensorSpec(shape=(), dtype=tf.int32, name=None)>"
      ]
     },
     "execution_count": 89,
     "metadata": {},
     "output_type": "execute_result"
    }
   ],
   "source": [
    "a=tf.range(10)\n",
    "a1=tf.data.Dataset.from_tensor_slices(a)\n",
    "a1"
   ]
  },
  {
   "cell_type": "code",
   "execution_count": 90,
   "id": "f9fdaf3b-4607-4f79-b83d-20f35f5753fc",
   "metadata": {},
   "outputs": [
    {
     "name": "stdout",
     "output_type": "stream",
     "text": [
      "tf.Tensor(0, shape=(), dtype=int32)\n",
      "tf.Tensor(1, shape=(), dtype=int32)\n",
      "tf.Tensor(2, shape=(), dtype=int32)\n",
      "tf.Tensor(3, shape=(), dtype=int32)\n",
      "tf.Tensor(4, shape=(), dtype=int32)\n",
      "tf.Tensor(5, shape=(), dtype=int32)\n",
      "tf.Tensor(6, shape=(), dtype=int32)\n",
      "tf.Tensor(7, shape=(), dtype=int32)\n",
      "tf.Tensor(8, shape=(), dtype=int32)\n",
      "tf.Tensor(9, shape=(), dtype=int32)\n"
     ]
    }
   ],
   "source": [
    "for item in a1:\n",
    "    print(item)"
   ]
  },
  {
   "cell_type": "code",
   "execution_count": 91,
   "id": "e29542b7-a5f6-47ba-bbe3-1e933e161a29",
   "metadata": {},
   "outputs": [
    {
     "data": {
      "text/plain": [
       "<tf.Variable 'Variable:0' shape=(2, 3) dtype=int32, numpy=\n",
       "array([[12, 23, 34],\n",
       "       [45, 36, 23]])>"
      ]
     },
     "execution_count": 91,
     "metadata": {},
     "output_type": "execute_result"
    }
   ],
   "source": [
    "a=tf.Variable([[12,23,34],[45,36,23]])\n",
    "a"
   ]
  },
  {
   "cell_type": "code",
   "execution_count": 92,
   "id": "2ff11811-c5c2-4691-89ce-d1b1d283be4c",
   "metadata": {},
   "outputs": [
    {
     "name": "stdout",
     "output_type": "stream",
     "text": [
      "tf.Tensor([12 23 34], shape=(3,), dtype=int32)\n",
      "tf.Tensor([45 36 23], shape=(3,), dtype=int32)\n"
     ]
    }
   ],
   "source": [
    "a1=tf.data.Dataset.from_tensor_slices(a)\n",
    "for item in a1:\n",
    "    print(item)"
   ]
  },
  {
   "cell_type": "code",
   "execution_count": 93,
   "id": "ae179a34-0886-446c-8088-8bc34d331ccd",
   "metadata": {},
   "outputs": [],
   "source": [
    "a=tf.range(10)\n",
    "dataset=tf.data.Dataset.from_tensor_slices(a)"
   ]
  },
  {
   "cell_type": "code",
   "execution_count": 94,
   "id": "e28a7473-38e6-404b-96a3-1c1481065002",
   "metadata": {},
   "outputs": [
    {
     "name": "stdout",
     "output_type": "stream",
     "text": [
      "tf.Tensor([0 1 2 3 4 5 6], shape=(7,), dtype=int32)\n",
      "tf.Tensor([7 8 9 0 1 2 3], shape=(7,), dtype=int32)\n",
      "tf.Tensor([4 5 6 7 8 9 0], shape=(7,), dtype=int32)\n",
      "tf.Tensor([1 2 3 4 5 6 7], shape=(7,), dtype=int32)\n",
      "tf.Tensor([8 9 0 1 2 3 4], shape=(7,), dtype=int32)\n",
      "tf.Tensor([5 6 7 8 9 0 1], shape=(7,), dtype=int32)\n",
      "tf.Tensor([2 3 4 5 6 7 8], shape=(7,), dtype=int32)\n"
     ]
    }
   ],
   "source": [
    "dataset_batch=dataset.repeat(5).batch(7,drop_remainder=True)\n",
    "for item in dataset_batch:\n",
    "    print(item)"
   ]
  },
  {
   "cell_type": "markdown",
   "id": "684bc463-54c6-4801-af7d-45b443f1db6e",
   "metadata": {},
   "source": [
    "# lets do some filter of the data"
   ]
  },
  {
   "cell_type": "code",
   "execution_count": 95,
   "id": "6ea03192-bbb6-4085-87db-506fa76da2e9",
   "metadata": {},
   "outputs": [
    {
     "name": "stdout",
     "output_type": "stream",
     "text": [
      "tf.Tensor([ 0  2  4  6  8 10 12], shape=(7,), dtype=int32)\n",
      "tf.Tensor([14 16 18  0  2  4  6], shape=(7,), dtype=int32)\n",
      "tf.Tensor([ 8 10 12 14 16 18  0], shape=(7,), dtype=int32)\n",
      "tf.Tensor([ 2  4  6  8 10 12 14], shape=(7,), dtype=int32)\n",
      "tf.Tensor([16 18  0  2  4  6  8], shape=(7,), dtype=int32)\n",
      "tf.Tensor([10 12 14 16 18  0  2], shape=(7,), dtype=int32)\n",
      "tf.Tensor([ 4  6  8 10 12 14 16], shape=(7,), dtype=int32)\n"
     ]
    }
   ],
   "source": [
    "dataset_batch=dataset_batch.map(lambda x:x*2)\n",
    "for item in dataset_batch:\n",
    "    print(item)"
   ]
  },
  {
   "cell_type": "code",
   "execution_count": 96,
   "id": "fefdd936-badb-4f9c-b6ab-ed606fe8056c",
   "metadata": {},
   "outputs": [],
   "source": [
    "dataset_batch=dataset_batch.unbatch()"
   ]
  },
  {
   "cell_type": "code",
   "execution_count": 97,
   "id": "96880b43-9d70-4421-82c4-d53627165f12",
   "metadata": {},
   "outputs": [
    {
     "data": {
      "text/plain": [
       "<_FilterDataset element_spec=TensorSpec(shape=(), dtype=tf.int32, name=None)>"
      ]
     },
     "execution_count": 97,
     "metadata": {},
     "output_type": "execute_result"
    }
   ],
   "source": [
    "dataset_batch.filter(lambda x:x<10)"
   ]
  },
  {
   "cell_type": "code",
   "execution_count": 98,
   "id": "904f83f7-d358-419b-8922-c9ebcdaa7b72",
   "metadata": {},
   "outputs": [
    {
     "name": "stdout",
     "output_type": "stream",
     "text": [
      "tf.Tensor(0, shape=(), dtype=int32)\n",
      "tf.Tensor(2, shape=(), dtype=int32)\n",
      "tf.Tensor(4, shape=(), dtype=int32)\n",
      "tf.Tensor(6, shape=(), dtype=int32)\n",
      "tf.Tensor(8, shape=(), dtype=int32)\n"
     ]
    }
   ],
   "source": [
    "for item in dataset_batch.take(5):\n",
    "    print(item)"
   ]
  },
  {
   "cell_type": "code",
   "execution_count": 99,
   "id": "2f7306d5-ac45-4c5e-b92c-0b26bf87cba3",
   "metadata": {},
   "outputs": [
    {
     "name": "stdout",
     "output_type": "stream",
     "text": [
      "tf.Tensor([1 3 0 4 2 5 6], shape=(7,), dtype=int64)\n",
      "tf.Tensor([8 7 1 0 3 2 5], shape=(7,), dtype=int64)\n",
      "tf.Tensor([4 6 9 8 9 7 0], shape=(7,), dtype=int64)\n",
      "tf.Tensor([3 1 4 5 2 8 7], shape=(7,), dtype=int64)\n",
      "tf.Tensor([6 9], shape=(2,), dtype=int64)\n"
     ]
    }
   ],
   "source": [
    "data_shufle=tf.data.Dataset.range(10).repeat(3)\n",
    "data_shufle=data_shufle.shuffle(buffer_size=3,seed=42).batch(7)\n",
    "for item in data_shufle:\n",
    "    print(item)"
   ]
  },
  {
   "cell_type": "code",
   "execution_count": 100,
   "id": "80ae56ba-019c-4021-9c1e-1bb32960188f",
   "metadata": {},
   "outputs": [],
   "source": [
    "from sklearn.datasets import fetch_california_housing\n",
    "from sklearn.preprocessing import StandardScaler\n",
    "from sklearn.model_selection import train_test_split\n",
    "\n",
    "housing_df=fetch_california_housing()\n",
    "x_train_full,x_test,y_train_full,y_test=train_test_split(housing_df.data,housing_df.target.reshape(-1,1),random_state=42)\n",
    "x_train,x_valid,y_train,y_valid=train_test_split(x_train_full,y_train_full)"
   ]
  },
  {
   "cell_type": "code",
   "execution_count": 101,
   "id": "67832ba6-a200-40ea-8711-a6e4bff8a588",
   "metadata": {},
   "outputs": [
    {
     "data": {
      "text/plain": [
       "['MedInc',\n",
       " 'HouseAge',\n",
       " 'AveRooms',\n",
       " 'AveBedrms',\n",
       " 'Population',\n",
       " 'AveOccup',\n",
       " 'Latitude',\n",
       " 'Longitude']"
      ]
     },
     "execution_count": 101,
     "metadata": {},
     "output_type": "execute_result"
    }
   ],
   "source": [
    "housing_df.feature_names"
   ]
  },
  {
   "cell_type": "code",
   "execution_count": 102,
   "id": "f4daa2ad-5811-454c-979e-6662ffefb940",
   "metadata": {},
   "outputs": [
    {
     "data": {
      "text/html": [
       "<style>#sk-container-id-2 {color: black;}#sk-container-id-2 pre{padding: 0;}#sk-container-id-2 div.sk-toggleable {background-color: white;}#sk-container-id-2 label.sk-toggleable__label {cursor: pointer;display: block;width: 100%;margin-bottom: 0;padding: 0.3em;box-sizing: border-box;text-align: center;}#sk-container-id-2 label.sk-toggleable__label-arrow:before {content: \"▸\";float: left;margin-right: 0.25em;color: #696969;}#sk-container-id-2 label.sk-toggleable__label-arrow:hover:before {color: black;}#sk-container-id-2 div.sk-estimator:hover label.sk-toggleable__label-arrow:before {color: black;}#sk-container-id-2 div.sk-toggleable__content {max-height: 0;max-width: 0;overflow: hidden;text-align: left;background-color: #f0f8ff;}#sk-container-id-2 div.sk-toggleable__content pre {margin: 0.2em;color: black;border-radius: 0.25em;background-color: #f0f8ff;}#sk-container-id-2 input.sk-toggleable__control:checked~div.sk-toggleable__content {max-height: 200px;max-width: 100%;overflow: auto;}#sk-container-id-2 input.sk-toggleable__control:checked~label.sk-toggleable__label-arrow:before {content: \"▾\";}#sk-container-id-2 div.sk-estimator input.sk-toggleable__control:checked~label.sk-toggleable__label {background-color: #d4ebff;}#sk-container-id-2 div.sk-label input.sk-toggleable__control:checked~label.sk-toggleable__label {background-color: #d4ebff;}#sk-container-id-2 input.sk-hidden--visually {border: 0;clip: rect(1px 1px 1px 1px);clip: rect(1px, 1px, 1px, 1px);height: 1px;margin: -1px;overflow: hidden;padding: 0;position: absolute;width: 1px;}#sk-container-id-2 div.sk-estimator {font-family: monospace;background-color: #f0f8ff;border: 1px dotted black;border-radius: 0.25em;box-sizing: border-box;margin-bottom: 0.5em;}#sk-container-id-2 div.sk-estimator:hover {background-color: #d4ebff;}#sk-container-id-2 div.sk-parallel-item::after {content: \"\";width: 100%;border-bottom: 1px solid gray;flex-grow: 1;}#sk-container-id-2 div.sk-label:hover label.sk-toggleable__label {background-color: #d4ebff;}#sk-container-id-2 div.sk-serial::before {content: \"\";position: absolute;border-left: 1px solid gray;box-sizing: border-box;top: 0;bottom: 0;left: 50%;z-index: 0;}#sk-container-id-2 div.sk-serial {display: flex;flex-direction: column;align-items: center;background-color: white;padding-right: 0.2em;padding-left: 0.2em;position: relative;}#sk-container-id-2 div.sk-item {position: relative;z-index: 1;}#sk-container-id-2 div.sk-parallel {display: flex;align-items: stretch;justify-content: center;background-color: white;position: relative;}#sk-container-id-2 div.sk-item::before, #sk-container-id-2 div.sk-parallel-item::before {content: \"\";position: absolute;border-left: 1px solid gray;box-sizing: border-box;top: 0;bottom: 0;left: 50%;z-index: -1;}#sk-container-id-2 div.sk-parallel-item {display: flex;flex-direction: column;z-index: 1;position: relative;background-color: white;}#sk-container-id-2 div.sk-parallel-item:first-child::after {align-self: flex-end;width: 50%;}#sk-container-id-2 div.sk-parallel-item:last-child::after {align-self: flex-start;width: 50%;}#sk-container-id-2 div.sk-parallel-item:only-child::after {width: 0;}#sk-container-id-2 div.sk-dashed-wrapped {border: 1px dashed gray;margin: 0 0.4em 0.5em 0.4em;box-sizing: border-box;padding-bottom: 0.4em;background-color: white;}#sk-container-id-2 div.sk-label label {font-family: monospace;font-weight: bold;display: inline-block;line-height: 1.2em;}#sk-container-id-2 div.sk-label-container {text-align: center;}#sk-container-id-2 div.sk-container {/* jupyter's `normalize.less` sets `[hidden] { display: none; }` but bootstrap.min.css set `[hidden] { display: none !important; }` so we also need the `!important` here to be able to override the default hidden behavior on the sphinx rendered scikit-learn.org. See: https://github.com/scikit-learn/scikit-learn/issues/21755 */display: inline-block !important;position: relative;}#sk-container-id-2 div.sk-text-repr-fallback {display: none;}</style><div id=\"sk-container-id-2\" class=\"sk-top-container\"><div class=\"sk-text-repr-fallback\"><pre>StandardScaler()</pre><b>In a Jupyter environment, please rerun this cell to show the HTML representation or trust the notebook. <br />On GitHub, the HTML representation is unable to render, please try loading this page with nbviewer.org.</b></div><div class=\"sk-container\" hidden><div class=\"sk-item\"><div class=\"sk-estimator sk-toggleable\"><input class=\"sk-toggleable__control sk-hidden--visually\" id=\"sk-estimator-id-2\" type=\"checkbox\" checked><label for=\"sk-estimator-id-2\" class=\"sk-toggleable__label sk-toggleable__label-arrow\">StandardScaler</label><div class=\"sk-toggleable__content\"><pre>StandardScaler()</pre></div></div></div></div></div>"
      ],
      "text/plain": [
       "StandardScaler()"
      ]
     },
     "execution_count": 102,
     "metadata": {},
     "output_type": "execute_result"
    }
   ],
   "source": [
    "standard=StandardScaler()\n",
    "standard.fit(x_train)"
   ]
  },
  {
   "cell_type": "code",
   "execution_count": 103,
   "id": "25b37e09-e33f-451a-93fe-f2b04a780684",
   "metadata": {},
   "outputs": [],
   "source": [
    "x_mean=standard.mean_\n",
    "x_std=standard.scale_"
   ]
  },
  {
   "cell_type": "code",
   "execution_count": 104,
   "id": "845fffef-a5a9-4e52-a08d-4e687daa1e97",
   "metadata": {},
   "outputs": [],
   "source": [
    "train_data=np.c_[x_train,y_train]\n",
    "valid_data=np.c_[x_valid,y_valid]\n",
    "test_data=np.c_[x_test,y_test]"
   ]
  },
  {
   "cell_type": "code",
   "execution_count": 105,
   "id": "602204c1-6021-46c8-a4af-42061f68e230",
   "metadata": {},
   "outputs": [
    {
     "data": {
      "text/plain": [
       "((11610, 9), (3870, 9), (5160, 9))"
      ]
     },
     "execution_count": 105,
     "metadata": {},
     "output_type": "execute_result"
    }
   ],
   "source": [
    "train_data.shape,valid_data.shape,test_data.shape"
   ]
  },
  {
   "cell_type": "code",
   "execution_count": 106,
   "id": "4c20d3e4-7aa0-495d-b3d8-7eafa2ec2369",
   "metadata": {},
   "outputs": [],
   "source": [
    "header_cols=housing_df.feature_names+[\"MedianHouseValue\"]"
   ]
  },
  {
   "cell_type": "code",
   "execution_count": 107,
   "id": "edc627ef-4a29-440b-87f1-86f68381f9be",
   "metadata": {},
   "outputs": [],
   "source": [
    "header=\",\".join(header_cols)"
   ]
  },
  {
   "cell_type": "code",
   "execution_count": 108,
   "id": "014b7b94-b6ed-46c5-a9fc-e04ed29886f0",
   "metadata": {},
   "outputs": [],
   "source": [
    "def save_to_multiple_csv_files(data, name_prefix, header=None, n_parts=10):\n",
    "    housing_dir = os.path.join(\"datasets\", \"housing\")\n",
    "    os.makedirs(housing_dir, exist_ok=True)\n",
    "    path_format = os.path.join(housing_dir, \"my_{}_{:02d}.csv\")\n",
    "\n",
    "    filepaths = []\n",
    "    m = len(data)\n",
    "    for file_idx, row_indices in enumerate(np.array_split(np.arange(m), n_parts)):\n",
    "        part_csv = path_format.format(name_prefix, file_idx)\n",
    "        filepaths.append(part_csv)\n",
    "        with open(part_csv, \"wt\", encoding=\"utf-8\") as f:\n",
    "            if header is not None:\n",
    "                f.write(header)\n",
    "                f.write(\"\\n\")\n",
    "            for row_idx in row_indices:\n",
    "                f.write(\",\".join([repr(col) for col in data[row_idx]]))\n",
    "                f.write(\"\\n\")\n",
    "    return filepaths"
   ]
  },
  {
   "cell_type": "code",
   "execution_count": 109,
   "id": "6b3bafe0-8fb8-4375-a99f-fe0bc12e1405",
   "metadata": {},
   "outputs": [],
   "source": [
    "# lets define a function for spliting our data into multiple files\n",
    "train_filepath=save_to_multiple_csv_files(train_data,\"train\",header,n_parts=20)\n",
    "valid_filepath=save_to_multiple_csv_files(valid_data,\"valid\",header,n_parts=20)\n",
    "test_filepath=save_to_multiple_csv_files(test_data,\"test\",header,n_parts=10)"
   ]
  },
  {
   "cell_type": "code",
   "execution_count": 110,
   "id": "b7f6d09a-0b18-457f-baaf-958b214a0596",
   "metadata": {},
   "outputs": [
    {
     "data": {
      "text/html": [
       "<div>\n",
       "<style scoped>\n",
       "    .dataframe tbody tr th:only-of-type {\n",
       "        vertical-align: middle;\n",
       "    }\n",
       "\n",
       "    .dataframe tbody tr th {\n",
       "        vertical-align: top;\n",
       "    }\n",
       "\n",
       "    .dataframe thead th {\n",
       "        text-align: right;\n",
       "    }\n",
       "</style>\n",
       "<table border=\"1\" class=\"dataframe\">\n",
       "  <thead>\n",
       "    <tr style=\"text-align: right;\">\n",
       "      <th></th>\n",
       "      <th>MedInc</th>\n",
       "      <th>HouseAge</th>\n",
       "      <th>AveRooms</th>\n",
       "      <th>AveBedrms</th>\n",
       "      <th>Population</th>\n",
       "      <th>AveOccup</th>\n",
       "      <th>Latitude</th>\n",
       "      <th>Longitude</th>\n",
       "      <th>MedianHouseValue</th>\n",
       "    </tr>\n",
       "  </thead>\n",
       "  <tbody>\n",
       "    <tr>\n",
       "      <th>0</th>\n",
       "      <td>3.5214</td>\n",
       "      <td>15.0</td>\n",
       "      <td>3.049945</td>\n",
       "      <td>1.106548</td>\n",
       "      <td>1447.0</td>\n",
       "      <td>1.605993</td>\n",
       "      <td>37.63</td>\n",
       "      <td>-122.43</td>\n",
       "      <td>1.442</td>\n",
       "    </tr>\n",
       "    <tr>\n",
       "      <th>1</th>\n",
       "      <td>5.3275</td>\n",
       "      <td>5.0</td>\n",
       "      <td>6.490060</td>\n",
       "      <td>0.991054</td>\n",
       "      <td>3464.0</td>\n",
       "      <td>3.443340</td>\n",
       "      <td>33.69</td>\n",
       "      <td>-117.39</td>\n",
       "      <td>1.687</td>\n",
       "    </tr>\n",
       "    <tr>\n",
       "      <th>2</th>\n",
       "      <td>3.1000</td>\n",
       "      <td>29.0</td>\n",
       "      <td>7.542373</td>\n",
       "      <td>1.591525</td>\n",
       "      <td>1328.0</td>\n",
       "      <td>2.250847</td>\n",
       "      <td>38.44</td>\n",
       "      <td>-122.98</td>\n",
       "      <td>1.621</td>\n",
       "    </tr>\n",
       "    <tr>\n",
       "      <th>3</th>\n",
       "      <td>7.1736</td>\n",
       "      <td>12.0</td>\n",
       "      <td>6.289003</td>\n",
       "      <td>0.997442</td>\n",
       "      <td>1054.0</td>\n",
       "      <td>2.695652</td>\n",
       "      <td>33.55</td>\n",
       "      <td>-117.70</td>\n",
       "      <td>2.621</td>\n",
       "    </tr>\n",
       "    <tr>\n",
       "      <th>4</th>\n",
       "      <td>2.0549</td>\n",
       "      <td>13.0</td>\n",
       "      <td>5.312457</td>\n",
       "      <td>1.085092</td>\n",
       "      <td>3297.0</td>\n",
       "      <td>2.244384</td>\n",
       "      <td>33.93</td>\n",
       "      <td>-116.93</td>\n",
       "      <td>0.956</td>\n",
       "    </tr>\n",
       "  </tbody>\n",
       "</table>\n",
       "</div>"
      ],
      "text/plain": [
       "   MedInc  HouseAge  AveRooms  AveBedrms  Population  AveOccup  Latitude  \\\n",
       "0  3.5214      15.0  3.049945   1.106548      1447.0  1.605993     37.63   \n",
       "1  5.3275       5.0  6.490060   0.991054      3464.0  3.443340     33.69   \n",
       "2  3.1000      29.0  7.542373   1.591525      1328.0  2.250847     38.44   \n",
       "3  7.1736      12.0  6.289003   0.997442      1054.0  2.695652     33.55   \n",
       "4  2.0549      13.0  5.312457   1.085092      3297.0  2.244384     33.93   \n",
       "\n",
       "   Longitude  MedianHouseValue  \n",
       "0    -122.43             1.442  \n",
       "1    -117.39             1.687  \n",
       "2    -122.98             1.621  \n",
       "3    -117.70             2.621  \n",
       "4    -116.93             0.956  "
      ]
     },
     "execution_count": 110,
     "metadata": {},
     "output_type": "execute_result"
    }
   ],
   "source": [
    "pd.read_csv(train_filepath[0]).head()"
   ]
  },
  {
   "cell_type": "code",
   "execution_count": 111,
   "id": "8513d32d-dfc2-49fc-90af-bc5d215fa4dd",
   "metadata": {},
   "outputs": [
    {
     "name": "stdout",
     "output_type": "stream",
     "text": [
      "MedInc,HouseAge,AveRooms,AveBedrms,Population,AveOccup,Latitude,Longitude,MedianHouseValue\n",
      " 3.5214,15.0,3.0499445061043287,1.106548279689234,1447.0,1.6059933407325193,37.63,-122.43,1.442\n",
      " 5.3275,5.0,6.490059642147117,0.9910536779324056,3464.0,3.4433399602385686,33.69,-117.39,1.687\n",
      " 3.1,29.0,7.5423728813559325,1.5915254237288134,1328.0,2.2508474576271187,38.44,-122.98,1.621\n",
      " 7.1736,12.0,6.289002557544757,0.9974424552429667,1054.0,2.6956521739130435,33.55,-117.7,2.621\n",
      " "
     ]
    }
   ],
   "source": [
    "with open(train_filepath[0]) as f:\n",
    "    for i in range(5):\n",
    "        print(f.readline(),end=\" \")"
   ]
  },
  {
   "cell_type": "code",
   "execution_count": 112,
   "id": "d60ef7e2-b302-49dd-9c87-d8bf6abef315",
   "metadata": {},
   "outputs": [
    {
     "data": {
      "text/plain": [
       "['datasets\\\\housing\\\\my_train_00.csv',\n",
       " 'datasets\\\\housing\\\\my_train_01.csv',\n",
       " 'datasets\\\\housing\\\\my_train_02.csv',\n",
       " 'datasets\\\\housing\\\\my_train_03.csv',\n",
       " 'datasets\\\\housing\\\\my_train_04.csv',\n",
       " 'datasets\\\\housing\\\\my_train_05.csv',\n",
       " 'datasets\\\\housing\\\\my_train_06.csv',\n",
       " 'datasets\\\\housing\\\\my_train_07.csv',\n",
       " 'datasets\\\\housing\\\\my_train_08.csv',\n",
       " 'datasets\\\\housing\\\\my_train_09.csv',\n",
       " 'datasets\\\\housing\\\\my_train_10.csv',\n",
       " 'datasets\\\\housing\\\\my_train_11.csv',\n",
       " 'datasets\\\\housing\\\\my_train_12.csv',\n",
       " 'datasets\\\\housing\\\\my_train_13.csv',\n",
       " 'datasets\\\\housing\\\\my_train_14.csv',\n",
       " 'datasets\\\\housing\\\\my_train_15.csv',\n",
       " 'datasets\\\\housing\\\\my_train_16.csv',\n",
       " 'datasets\\\\housing\\\\my_train_17.csv',\n",
       " 'datasets\\\\housing\\\\my_train_18.csv',\n",
       " 'datasets\\\\housing\\\\my_train_19.csv']"
      ]
     },
     "execution_count": 112,
     "metadata": {},
     "output_type": "execute_result"
    }
   ],
   "source": [
    "train_filepath"
   ]
  },
  {
   "cell_type": "code",
   "execution_count": 113,
   "id": "6ebcd42d-09dc-49bc-9866-6fdcf080a2b2",
   "metadata": {},
   "outputs": [
    {
     "data": {
      "text/plain": [
       "['datasets\\\\housing\\\\my_valid_00.csv',\n",
       " 'datasets\\\\housing\\\\my_valid_01.csv',\n",
       " 'datasets\\\\housing\\\\my_valid_02.csv',\n",
       " 'datasets\\\\housing\\\\my_valid_03.csv',\n",
       " 'datasets\\\\housing\\\\my_valid_04.csv',\n",
       " 'datasets\\\\housing\\\\my_valid_05.csv',\n",
       " 'datasets\\\\housing\\\\my_valid_06.csv',\n",
       " 'datasets\\\\housing\\\\my_valid_07.csv',\n",
       " 'datasets\\\\housing\\\\my_valid_08.csv',\n",
       " 'datasets\\\\housing\\\\my_valid_09.csv',\n",
       " 'datasets\\\\housing\\\\my_valid_10.csv',\n",
       " 'datasets\\\\housing\\\\my_valid_11.csv',\n",
       " 'datasets\\\\housing\\\\my_valid_12.csv',\n",
       " 'datasets\\\\housing\\\\my_valid_13.csv',\n",
       " 'datasets\\\\housing\\\\my_valid_14.csv',\n",
       " 'datasets\\\\housing\\\\my_valid_15.csv',\n",
       " 'datasets\\\\housing\\\\my_valid_16.csv',\n",
       " 'datasets\\\\housing\\\\my_valid_17.csv',\n",
       " 'datasets\\\\housing\\\\my_valid_18.csv',\n",
       " 'datasets\\\\housing\\\\my_valid_19.csv']"
      ]
     },
     "execution_count": 113,
     "metadata": {},
     "output_type": "execute_result"
    }
   ],
   "source": [
    "valid_filepath"
   ]
  },
  {
   "cell_type": "markdown",
   "id": "4d9aa65e-4746-489f-b729-67d427e29bbd",
   "metadata": {},
   "source": [
    "# building a pipeline"
   ]
  },
  {
   "cell_type": "code",
   "execution_count": 114,
   "id": "8c531f5e-05be-42f4-8455-43c28aee250f",
   "metadata": {},
   "outputs": [],
   "source": [
    "filepath_dataset=tf.data.Dataset.list_files(train_filepath)"
   ]
  },
  {
   "cell_type": "code",
   "execution_count": 115,
   "id": "41708195-2f87-4ef6-b806-d8b4d937a132",
   "metadata": {},
   "outputs": [
    {
     "name": "stdout",
     "output_type": "stream",
     "text": [
      "tf.Tensor(b'datasets\\\\housing\\\\my_train_15.csv', shape=(), dtype=string)\n",
      "tf.Tensor(b'datasets\\\\housing\\\\my_train_08.csv', shape=(), dtype=string)\n",
      "tf.Tensor(b'datasets\\\\housing\\\\my_train_10.csv', shape=(), dtype=string)\n",
      "tf.Tensor(b'datasets\\\\housing\\\\my_train_12.csv', shape=(), dtype=string)\n",
      "tf.Tensor(b'datasets\\\\housing\\\\my_train_14.csv', shape=(), dtype=string)\n",
      "tf.Tensor(b'datasets\\\\housing\\\\my_train_17.csv', shape=(), dtype=string)\n",
      "tf.Tensor(b'datasets\\\\housing\\\\my_train_06.csv', shape=(), dtype=string)\n",
      "tf.Tensor(b'datasets\\\\housing\\\\my_train_03.csv', shape=(), dtype=string)\n",
      "tf.Tensor(b'datasets\\\\housing\\\\my_train_00.csv', shape=(), dtype=string)\n",
      "tf.Tensor(b'datasets\\\\housing\\\\my_train_05.csv', shape=(), dtype=string)\n",
      "tf.Tensor(b'datasets\\\\housing\\\\my_train_19.csv', shape=(), dtype=string)\n",
      "tf.Tensor(b'datasets\\\\housing\\\\my_train_01.csv', shape=(), dtype=string)\n",
      "tf.Tensor(b'datasets\\\\housing\\\\my_train_09.csv', shape=(), dtype=string)\n",
      "tf.Tensor(b'datasets\\\\housing\\\\my_train_07.csv', shape=(), dtype=string)\n",
      "tf.Tensor(b'datasets\\\\housing\\\\my_train_13.csv', shape=(), dtype=string)\n",
      "tf.Tensor(b'datasets\\\\housing\\\\my_train_16.csv', shape=(), dtype=string)\n",
      "tf.Tensor(b'datasets\\\\housing\\\\my_train_18.csv', shape=(), dtype=string)\n",
      "tf.Tensor(b'datasets\\\\housing\\\\my_train_02.csv', shape=(), dtype=string)\n",
      "tf.Tensor(b'datasets\\\\housing\\\\my_train_04.csv', shape=(), dtype=string)\n",
      "tf.Tensor(b'datasets\\\\housing\\\\my_train_11.csv', shape=(), dtype=string)\n"
     ]
    }
   ],
   "source": [
    "for filepath in filepath_dataset:\n",
    "    print(filepath)"
   ]
  },
  {
   "cell_type": "code",
   "execution_count": 116,
   "id": "9283a28c-dc28-4c14-97af-eaaf0f552f26",
   "metadata": {},
   "outputs": [],
   "source": [
    "n_readers=5\n",
    "dataset=filepath_dataset.interleave(\n",
    "    lambda filepath:tf.data.TextLineDataset(filepath).skip(1),\n",
    "    cycle_length=n_readers\n",
    ")"
   ]
  },
  {
   "cell_type": "code",
   "execution_count": 117,
   "id": "9e839e62-1e54-447b-bc7c-eba211509b4f",
   "metadata": {},
   "outputs": [
    {
     "name": "stdout",
     "output_type": "stream",
     "text": [
      "tf.Tensor(b'3.6641,17.0,5.577142857142857,1.1542857142857144,511.0,2.92,40.85,-121.07,0.808', shape=(), dtype=string)\n",
      "tf.Tensor(b'2.4792,24.0,3.4547038327526134,1.1341463414634145,2251.0,3.921602787456446,34.18,-118.38,2.0', shape=(), dtype=string)\n",
      "tf.Tensor(b'4.2708,45.0,5.121387283236994,0.953757225433526,492.0,2.8439306358381504,37.48,-122.19,2.67', shape=(), dtype=string)\n",
      "tf.Tensor(b'3.6875,44.0,4.524475524475524,0.993006993006993,457.0,3.195804195804196,34.04,-118.15,1.625', shape=(), dtype=string)\n",
      "tf.Tensor(b'2.1856,41.0,3.7189873417721517,1.0658227848101265,803.0,2.0329113924050635,32.76,-117.12,1.205', shape=(), dtype=string)\n",
      "<class 'tensorflow.python.framework.ops.EagerTensor'>\n"
     ]
    }
   ],
   "source": [
    "for line in dataset.take(5):\n",
    "    print(line)\n",
    "print(type(line))"
   ]
  },
  {
   "cell_type": "code",
   "execution_count": 118,
   "id": "5babb3e1-47cf-4709-bd6e-9670f6329e40",
   "metadata": {},
   "outputs": [
    {
     "data": {
      "text/plain": [
       "[<tf.Tensor: shape=(), dtype=int32, numpy=1>,\n",
       " <tf.Tensor: shape=(), dtype=float32, numpy=2.0>,\n",
       " <tf.Tensor: shape=(), dtype=float64, numpy=3.0>,\n",
       " <tf.Tensor: shape=(), dtype=string, numpy=b'4'>,\n",
       " <tf.Tensor: shape=(), dtype=float32, numpy=5.0>]"
      ]
     },
     "execution_count": 118,
     "metadata": {},
     "output_type": "execute_result"
    }
   ],
   "source": [
    "record_defaults=[0, np.nan, tf.constant(np.nan, dtype=tf.float64), \"Hello\", tf.constant([])]\n",
    "parsed_fields = tf.io.decode_csv('1,2,3,4,5', record_defaults)\n",
    "parsed_fields"
   ]
  },
  {
   "cell_type": "code",
   "execution_count": 119,
   "id": "f0541ce1-d100-4dab-818e-7ebdab8ebb50",
   "metadata": {},
   "outputs": [
    {
     "data": {
      "text/plain": [
       "[<tf.Tensor: shape=(), dtype=int32, numpy=0>,\n",
       " <tf.Tensor: shape=(), dtype=float32, numpy=nan>,\n",
       " <tf.Tensor: shape=(), dtype=float64, numpy=nan>,\n",
       " <tf.Tensor: shape=(), dtype=string, numpy=b'Hello'>,\n",
       " <tf.Tensor: shape=(), dtype=float32, numpy=5.0>]"
      ]
     },
     "execution_count": 119,
     "metadata": {},
     "output_type": "execute_result"
    }
   ],
   "source": [
    "parsed_fields=tf.io.decode_csv(\",,,,5\",record_defaults)\n",
    "parsed_fields"
   ]
  },
  {
   "cell_type": "code",
   "execution_count": 120,
   "id": "796e0214-c364-4e27-8322-161b20c951d1",
   "metadata": {},
   "outputs": [
    {
     "name": "stdout",
     "output_type": "stream",
     "text": [
      "{{function_node __wrapped__DecodeCSV_OUT_TYPE_5_device_/job:localhost/replica:0/task:0/device:CPU:0}} Field 4 is required but missing in record 0! [Op:DecodeCSV]\n"
     ]
    }
   ],
   "source": [
    "try:\n",
    "    parsed_fields = tf.io.decode_csv(',,,,', record_defaults)\n",
    "except tf.errors.InvalidArgumentError as ex:\n",
    "    print(ex)"
   ]
  },
  {
   "cell_type": "code",
   "execution_count": 121,
   "id": "2b3b907a-7ec2-4053-8dd9-9b9e6379c86e",
   "metadata": {},
   "outputs": [
    {
     "name": "stdout",
     "output_type": "stream",
     "text": [
      "{{function_node __wrapped__DecodeCSV_OUT_TYPE_5_device_/job:localhost/replica:0/task:0/device:CPU:0}} Expect 5 fields but have 7 in record 0 [Op:DecodeCSV]\n"
     ]
    }
   ],
   "source": [
    "try:\n",
    "    parsed_fields = tf.io.decode_csv('1,2,3,4,5,6,7', record_defaults)\n",
    "except tf.errors.InvalidArgumentError as ex:\n",
    "    print(ex)"
   ]
  },
  {
   "cell_type": "code",
   "execution_count": 122,
   "id": "3c4478d3-dec9-4d4e-9ba2-3c7464229d0e",
   "metadata": {},
   "outputs": [
    {
     "data": {
      "text/plain": [
       "[0.0, 0.0, 0.0, 0.0]"
      ]
     },
     "execution_count": 122,
     "metadata": {},
     "output_type": "execute_result"
    }
   ],
   "source": [
    "[0.]*4"
   ]
  },
  {
   "cell_type": "code",
   "execution_count": 123,
   "id": "452ac053-7f30-4d35-a2be-c2483c0e368a",
   "metadata": {},
   "outputs": [
    {
     "data": {
      "text/plain": [
       "[0.0, 0.0, 0.0, 0.0, 12, 23]"
      ]
     },
     "execution_count": 123,
     "metadata": {},
     "output_type": "execute_result"
    }
   ],
   "source": [
    "[0.]*4 + [12,23]"
   ]
  },
  {
   "cell_type": "code",
   "execution_count": 124,
   "id": "31c946be-5f8b-4fb8-8b52-2e196137182e",
   "metadata": {},
   "outputs": [],
   "source": [
    "n_inputs=8\n",
    "def preprocess(line):\n",
    "    defaults=[0.]*n_inputs +[tf.constant([],dtype=tf.float32)]\n",
    "    changed=tf.io.decode_csv(line,defaults)\n",
    "    x=tf.stack(changed[:-1])\n",
    "    y=tf.stack(changed[-1:])\n",
    "    return x-x_mean/x_std,y"
   ]
  },
  {
   "cell_type": "code",
   "execution_count": 125,
   "id": "d69d853e-f91e-4158-820c-aa19323a749d",
   "metadata": {},
   "outputs": [
    {
     "data": {
      "text/plain": [
       "(<tf.Tensor: shape=(8,), dtype=float32, numpy=\n",
       " array([ 1.1437545e+00,  6.7355642e+00,  3.5358925e+00, -1.3144144e+00,\n",
       "         6.7147002e+03,  1.9742706e+00,  1.7740389e+01, -5.7585697e+01],\n",
       "       dtype=float32)>,\n",
       " <tf.Tensor: shape=(1,), dtype=float32, numpy=array([0.956], dtype=float32)>)"
      ]
     },
     "execution_count": 125,
     "metadata": {},
     "output_type": "execute_result"
    }
   ],
   "source": [
    "preprocess(b'3.1821,9.0,5.675156174915906,1.0480538202787122,6716.0,3.2272945699183087,34.44,-117.35,0.956')"
   ]
  },
  {
   "cell_type": "code",
   "execution_count": 126,
   "id": "caf9d9ad-b056-49c7-bda3-feb3c928a8ac",
   "metadata": {},
   "outputs": [],
   "source": [
    "def csv_reader_dataset(filepath,repeat=1,n_readers=5,n_read_threads=None,\n",
    "                      shuffle_buffer_size=1000,n_parse_threads=5,batch_size=32):\n",
    "    dataset=tf.data.Dataset.list_files(filepath)\n",
    "    dataset=dataset.interleave(\n",
    "        lambda filepath: tf.data.TextLineDataset(filepath).repeat(1),\n",
    "        cycle_length=n_readers,num_parallel_calls=n_read_threads\n",
    "    )\n",
    "    dataset=dataset.shuffle(shuffle_buffer_size)\n",
    "    dataset=dataset.map(preprocess,num_parallel_calls=n_parse_threads)\n",
    "    dataset=dataset.batch(batch_size)\n",
    "    return dataset.prefetch(1)"
   ]
  },
  {
   "cell_type": "code",
   "execution_count": 127,
   "id": "67a29104-87b6-49be-a818-b76a5047ed1a",
   "metadata": {},
   "outputs": [],
   "source": [
    "tf.random.set_seed(42)"
   ]
  },
  {
   "cell_type": "code",
   "execution_count": 128,
   "id": "ce442097-5cb9-4b5c-b48d-91a89c6721f5",
   "metadata": {
    "scrolled": true
   },
   "outputs": [
    {
     "name": "stdout",
     "output_type": "stream",
     "text": [
      "x:  tf.Tensor(\n",
      "[[-8.1954563e-01  3.4735565e+01  2.2320814e+00 -1.1080823e+00\n",
      "   8.6370020e+02  1.2762156e+00  1.7230391e+01 -5.7115696e+01]\n",
      " [-4.3364561e-01  7.7355642e+00  2.7277312e+00 -1.2655882e+00\n",
      "   1.8517002e+03  1.7896688e+00  1.7880392e+01 -5.7645702e+01]\n",
      " [ 1.5178545e+00  4.0735565e+01  2.8945827e+00 -1.3655452e+00\n",
      "   7.9070020e+02  1.1838989e+00  2.0280390e+01 -6.2235699e+01]\n",
      " [ 7.0416546e+00  1.5735564e+01  6.7863564e+00 -1.3542038e+00\n",
      "   3.8070020e+02  1.9040008e+00  2.0510389e+01 -6.2105701e+01]\n",
      " [ 1.1295438e-01  5.7355642e+00  5.9785819e+00 -8.0354571e-01\n",
      "   7.8470020e+02  1.3934405e+00  2.3910391e+01 -6.1905697e+01]\n",
      " [ 2.1116545e+00  1.1735564e+01  4.3783145e+00 -1.2472339e+00\n",
      "   1.3837002e+03  1.4520540e+00  1.6530390e+01 -5.7315701e+01]\n",
      " [ 1.0449545e+00  2.4735563e+01  1.4191363e+00 -1.3736682e+00\n",
      "   1.5927002e+03  1.2973759e+00  1.7320391e+01 -5.8645702e+01]\n",
      " [-5.3834558e-01  2.9735563e+01  2.8116798e+00 -1.1737890e+00\n",
      "   5.9870020e+02  1.0111268e+00  2.0770391e+01 -6.0185696e+01]\n",
      " [ 1.7457545e+00  2.5735563e+01  3.2738419e+00 -1.2200181e+00\n",
      "   9.1670020e+02  1.3623605e+00  2.1290392e+01 -6.2245701e+01]\n",
      " [ 1.0137544e+00  2.6735563e+01  3.8479705e+00 -1.2348087e+00\n",
      "   5.5470020e+02  1.1129334e+00  2.1840391e+01 -6.1655697e+01]\n",
      " [-8.3424556e-01  4.7735565e+01  1.7233410e+00 -1.2059569e+00\n",
      "   1.2217002e+03  2.0814669e-01  2.1870390e+01 -6.1705700e+01]\n",
      " [ 1.4616544e+00  3.0735563e+01  2.3407364e+00 -1.3224683e+00\n",
      "   8.4170020e+02  2.9619761e+00  1.7140390e+01 -5.8525700e+01]\n",
      " [ 3.6720545e+00  2.7355640e+00  4.3876038e+00 -1.3480514e+00\n",
      "   2.3977002e+03  1.8911436e+00  2.1250391e+01 -6.1975697e+01]\n",
      " [ 5.4495454e-01  3.2735565e+01  2.3336430e+00 -1.2491678e+00\n",
      "   6.6570020e+02  2.0326903e+00  1.7400389e+01 -5.7695698e+01]\n",
      " [ 1.7741544e+00  1.2735564e+01  2.4513073e+00 -1.2681755e+00\n",
      "   1.3467002e+03  2.0918891e+00  2.1250391e+01 -6.1925701e+01]\n",
      " [-7.9704559e-01  8.7355642e+00  1.8284366e+00 -1.1854657e+00\n",
      "   2.8107002e+03  2.3800509e+00  1.5990389e+01 -5.7335697e+01]\n",
      " [ 7.7415442e-01  3.9735565e+01  2.2637215e+00 -1.4035130e+00\n",
      "   8.7570020e+02  2.0193639e+00  2.1070391e+01 -6.2415699e+01]\n",
      " [ 1.3761544e+00  3.2735565e+01  3.8216090e+00 -1.1314675e+00\n",
      "   3.4297002e+03  1.3286161e+00  1.8840391e+01 -5.7525700e+01]\n",
      " [ 9.9635434e-01  1.8735563e+01  3.1956201e+00 -1.2508403e+00\n",
      "   1.3047002e+03  1.7841852e+00  2.0070391e+01 -6.1935696e+01]\n",
      " [ 1.3574545e+00  2.3735563e+01  3.6558185e+00 -1.3378781e+00\n",
      "   1.1237002e+03  1.8207464e+00  2.2480391e+01 -6.1905697e+01]\n",
      " [ 2.9304545e+00  1.7355640e+00  4.1940699e+00 -1.3130856e+00\n",
      "   1.3397002e+03  1.5062351e+00  1.7360392e+01 -5.7365696e+01]\n",
      " [-2.2274554e-01  3.7735565e+01  3.6114526e-01 -1.3690095e+00\n",
      "   3.9517002e+03  1.9791918e+00  1.7390390e+01 -5.8535702e+01]\n",
      " [ 1.3991544e+00  1.9735563e+01  3.8607364e+00 -1.1230316e+00\n",
      "   4.5970020e+02  1.9934547e+00  2.2110392e+01 -6.2895702e+01]\n",
      " [ 3.1865542e+00  3.6735565e+01  4.9251623e+00 -1.2980424e+00\n",
      "   1.1117002e+03  1.8646231e+00  1.7420389e+01 -5.8275700e+01]\n",
      " [ 2.1563542e+00  2.3735563e+01  2.8356972e+00 -1.2623117e+00\n",
      "   2.1407002e+03  2.0990887e+00  2.0830389e+01 -6.2215702e+01]\n",
      " [ 9.7505450e-01  2.6735563e+01  2.5306158e+00 -1.3166851e+00\n",
      "   1.3047002e+03  1.8939638e+00  1.9430391e+01 -6.0595699e+01]\n",
      " [ 1.3674545e+00  1.0735564e+01  1.1951537e+00 -1.2903816e+00\n",
      "   3.3957002e+03  5.8816826e-01  1.7330389e+01 -5.8635700e+01]\n",
      " [-8.6414552e-01  2.2735563e+01  1.3488631e+00 -1.3413601e+00\n",
      "   7.9270020e+02  8.4196281e-01  2.4160391e+01 -6.4325699e+01]\n",
      " [ 8.3665442e-01  3.1735563e+01  7.9070582e+00 -3.0252266e-01\n",
      "   9.3970020e+02  1.3110087e+00  1.7540392e+01 -5.7505695e+01]\n",
      " [ 4.8261547e+00  2.0735563e+01  5.1637101e+00 -1.3234348e+00\n",
      "   1.8567002e+03  2.2005074e+00  1.7020391e+01 -5.8195698e+01]\n",
      " [ 2.1197546e+00  1.9735563e+01  4.2192483e+00 -1.3602134e+00\n",
      "   3.1557002e+03  2.3061643e+00  1.7420389e+01 -5.7585697e+01]\n",
      " [ 2.5866544e+00  3.6735565e+01  3.6231885e+00 -1.2896713e+00\n",
      "   7.1670020e+02  1.4979339e+00  1.7410391e+01 -5.8255695e+01]], shape=(32, 8), dtype=float32)\n",
      "\n",
      "y : tf.Tensor(\n",
      "[[-8.1954563e-01  3.4735565e+01  2.2320814e+00 -1.1080823e+00\n",
      "   8.6370020e+02  1.2762156e+00  1.7230391e+01 -5.7115696e+01]\n",
      " [-4.3364561e-01  7.7355642e+00  2.7277312e+00 -1.2655882e+00\n",
      "   1.8517002e+03  1.7896688e+00  1.7880392e+01 -5.7645702e+01]\n",
      " [ 1.5178545e+00  4.0735565e+01  2.8945827e+00 -1.3655452e+00\n",
      "   7.9070020e+02  1.1838989e+00  2.0280390e+01 -6.2235699e+01]\n",
      " [ 7.0416546e+00  1.5735564e+01  6.7863564e+00 -1.3542038e+00\n",
      "   3.8070020e+02  1.9040008e+00  2.0510389e+01 -6.2105701e+01]\n",
      " [ 1.1295438e-01  5.7355642e+00  5.9785819e+00 -8.0354571e-01\n",
      "   7.8470020e+02  1.3934405e+00  2.3910391e+01 -6.1905697e+01]\n",
      " [ 2.1116545e+00  1.1735564e+01  4.3783145e+00 -1.2472339e+00\n",
      "   1.3837002e+03  1.4520540e+00  1.6530390e+01 -5.7315701e+01]\n",
      " [ 1.0449545e+00  2.4735563e+01  1.4191363e+00 -1.3736682e+00\n",
      "   1.5927002e+03  1.2973759e+00  1.7320391e+01 -5.8645702e+01]\n",
      " [-5.3834558e-01  2.9735563e+01  2.8116798e+00 -1.1737890e+00\n",
      "   5.9870020e+02  1.0111268e+00  2.0770391e+01 -6.0185696e+01]\n",
      " [ 1.7457545e+00  2.5735563e+01  3.2738419e+00 -1.2200181e+00\n",
      "   9.1670020e+02  1.3623605e+00  2.1290392e+01 -6.2245701e+01]\n",
      " [ 1.0137544e+00  2.6735563e+01  3.8479705e+00 -1.2348087e+00\n",
      "   5.5470020e+02  1.1129334e+00  2.1840391e+01 -6.1655697e+01]\n",
      " [-8.3424556e-01  4.7735565e+01  1.7233410e+00 -1.2059569e+00\n",
      "   1.2217002e+03  2.0814669e-01  2.1870390e+01 -6.1705700e+01]\n",
      " [ 1.4616544e+00  3.0735563e+01  2.3407364e+00 -1.3224683e+00\n",
      "   8.4170020e+02  2.9619761e+00  1.7140390e+01 -5.8525700e+01]\n",
      " [ 3.6720545e+00  2.7355640e+00  4.3876038e+00 -1.3480514e+00\n",
      "   2.3977002e+03  1.8911436e+00  2.1250391e+01 -6.1975697e+01]\n",
      " [ 5.4495454e-01  3.2735565e+01  2.3336430e+00 -1.2491678e+00\n",
      "   6.6570020e+02  2.0326903e+00  1.7400389e+01 -5.7695698e+01]\n",
      " [ 1.7741544e+00  1.2735564e+01  2.4513073e+00 -1.2681755e+00\n",
      "   1.3467002e+03  2.0918891e+00  2.1250391e+01 -6.1925701e+01]\n",
      " [-7.9704559e-01  8.7355642e+00  1.8284366e+00 -1.1854657e+00\n",
      "   2.8107002e+03  2.3800509e+00  1.5990389e+01 -5.7335697e+01]\n",
      " [ 7.7415442e-01  3.9735565e+01  2.2637215e+00 -1.4035130e+00\n",
      "   8.7570020e+02  2.0193639e+00  2.1070391e+01 -6.2415699e+01]\n",
      " [ 1.3761544e+00  3.2735565e+01  3.8216090e+00 -1.1314675e+00\n",
      "   3.4297002e+03  1.3286161e+00  1.8840391e+01 -5.7525700e+01]\n",
      " [ 9.9635434e-01  1.8735563e+01  3.1956201e+00 -1.2508403e+00\n",
      "   1.3047002e+03  1.7841852e+00  2.0070391e+01 -6.1935696e+01]\n",
      " [ 1.3574545e+00  2.3735563e+01  3.6558185e+00 -1.3378781e+00\n",
      "   1.1237002e+03  1.8207464e+00  2.2480391e+01 -6.1905697e+01]\n",
      " [ 2.9304545e+00  1.7355640e+00  4.1940699e+00 -1.3130856e+00\n",
      "   1.3397002e+03  1.5062351e+00  1.7360392e+01 -5.7365696e+01]\n",
      " [-2.2274554e-01  3.7735565e+01  3.6114526e-01 -1.3690095e+00\n",
      "   3.9517002e+03  1.9791918e+00  1.7390390e+01 -5.8535702e+01]\n",
      " [ 1.3991544e+00  1.9735563e+01  3.8607364e+00 -1.1230316e+00\n",
      "   4.5970020e+02  1.9934547e+00  2.2110392e+01 -6.2895702e+01]\n",
      " [ 3.1865542e+00  3.6735565e+01  4.9251623e+00 -1.2980424e+00\n",
      "   1.1117002e+03  1.8646231e+00  1.7420389e+01 -5.8275700e+01]\n",
      " [ 2.1563542e+00  2.3735563e+01  2.8356972e+00 -1.2623117e+00\n",
      "   2.1407002e+03  2.0990887e+00  2.0830389e+01 -6.2215702e+01]\n",
      " [ 9.7505450e-01  2.6735563e+01  2.5306158e+00 -1.3166851e+00\n",
      "   1.3047002e+03  1.8939638e+00  1.9430391e+01 -6.0595699e+01]\n",
      " [ 1.3674545e+00  1.0735564e+01  1.1951537e+00 -1.2903816e+00\n",
      "   3.3957002e+03  5.8816826e-01  1.7330389e+01 -5.8635700e+01]\n",
      " [-8.6414552e-01  2.2735563e+01  1.3488631e+00 -1.3413601e+00\n",
      "   7.9270020e+02  8.4196281e-01  2.4160391e+01 -6.4325699e+01]\n",
      " [ 8.3665442e-01  3.1735563e+01  7.9070582e+00 -3.0252266e-01\n",
      "   9.3970020e+02  1.3110087e+00  1.7540392e+01 -5.7505695e+01]\n",
      " [ 4.8261547e+00  2.0735563e+01  5.1637101e+00 -1.3234348e+00\n",
      "   1.8567002e+03  2.2005074e+00  1.7020391e+01 -5.8195698e+01]\n",
      " [ 2.1197546e+00  1.9735563e+01  4.2192483e+00 -1.3602134e+00\n",
      "   3.1557002e+03  2.3061643e+00  1.7420389e+01 -5.7585697e+01]\n",
      " [ 2.5866544e+00  3.6735565e+01  3.6231885e+00 -1.2896713e+00\n",
      "   7.1670020e+02  1.4979339e+00  1.7410391e+01 -5.8255695e+01]], shape=(32, 8), dtype=float32)\n",
      "x:  tf.Tensor(\n",
      "[[ 2.4945543e+00  4.3735565e+01  2.7332854e+00 -1.4310957e+00\n",
      "   8.3970020e+02  1.4953420e+00  2.1060389e+01 -6.2735699e+01]\n",
      " [ 6.0400543e+00  4.9735565e+01  4.7429280e+00 -1.3871257e+00\n",
      "   9.7670020e+02  1.4264278e+00  1.7070391e+01 -5.8105701e+01]\n",
      " [ 1.7105436e-01  1.7735563e+01  2.5985479e-02 -1.2737683e+00\n",
      "   1.7477002e+03  8.7212777e-01  1.7360392e+01 -5.8535702e+01]\n",
      " [ 1.4866545e+00  1.7735563e+01  2.8702149e+00 -1.3956436e+00\n",
      "   2.3877002e+03  1.5775447e+00  2.0260389e+01 -6.2005695e+01]\n",
      " [ 1.8522544e+00  3.1735563e+01  3.8192616e+00 -1.3716848e+00\n",
      "   7.7270020e+02  2.3137963e+00  1.7270391e+01 -5.7765697e+01]\n",
      " [ 6.1015439e-01  1.5735564e+01  2.0959854e+00 -1.2544223e+00\n",
      "   2.8817002e+03  9.5617127e-01  2.1890390e+01 -6.1645702e+01]\n",
      " [ 3.5676544e+00  2.9735563e+01  3.2258916e+00 -1.2646163e+00\n",
      "   1.1897002e+03  1.5894580e+00  2.0610392e+01 -6.2215702e+01]\n",
      " [ 1.0345545e+00  3.1735563e+01  2.3901833e+01  3.0347919e+00\n",
      "   1.6970020e+02  1.0894415e+00  2.0410391e+01 -5.9515697e+01]\n",
      " [ 2.4154425e-02  3.6735565e+01  3.6982651e+00 -1.2594935e+00\n",
      "   1.1797002e+03  1.4494932e+00  2.2820391e+01 -6.2435696e+01]\n",
      " [ 2.1775544e+00  1.5735564e+01  3.5662918e+00 -1.2180238e+00\n",
      "   4.3470020e+02  1.1691980e+00  1.6950392e+01 -5.8215702e+01]\n",
      " [ 2.0496542e+00  2.4735563e+01  3.9498930e+00 -1.3046370e+00\n",
      "   1.0877002e+03  1.3710723e+00  2.1800390e+01 -6.1675701e+01]\n",
      " [ 2.0172546e+00  1.7735563e+01  2.2665057e+00 -1.2816991e+00\n",
      "   2.3237002e+03  9.8255277e-01  2.0950392e+01 -6.2765697e+01]\n",
      " [ 2.4616544e+00  1.2735564e+01  3.9328518e+00 -1.3480451e+00\n",
      "   6.6370020e+02  1.9440913e+00  2.1710390e+01 -6.2175701e+01]\n",
      " [-2.6754558e-01  2.1735563e+01  2.7586341e+00 -1.3414472e+00\n",
      "   1.0407002e+03  1.8761051e+00  2.3410391e+01 -6.2405697e+01]\n",
      " [ 1.5449545e+00  2.9735563e+01  3.6902161e+00 -1.3248960e+00\n",
      "   8.5370020e+02  1.2180741e+00  2.4090391e+01 -6.4365692e+01]\n",
      " [ 2.5991542e+00  1.2735564e+01  2.2111301e+00 -1.3034132e+00\n",
      "   1.6677002e+03  3.8969243e-01  1.7450392e+01 -5.8675701e+01]\n",
      " [ 3.6401546e+00  1.7735563e+01  3.9123769e+00 -1.3441788e+00\n",
      "   4.9507002e+03  1.4107738e+00  1.7420389e+01 -5.7945698e+01]\n",
      " [ 2.4635434e-01  2.3735563e+01  3.8621569e+00 -1.1039455e+00\n",
      "   1.7937002e+03  1.2966919e+00  1.8580389e+01 -6.0925701e+01]\n",
      " [ 6.1895442e-01  2.6735563e+01  1.3118641e+00 -1.2847741e+00\n",
      "   9.6770020e+02  1.1755474e+00  2.0610392e+01 -6.2165699e+01]\n",
      " [ 1.1229544e+00  3.3735565e+01  2.0694652e+00 -1.2979521e+00\n",
      "   1.7877002e+03  2.1416628e+00  1.7090391e+01 -5.8505695e+01]\n",
      " [ 1.9810545e+00  2.5735563e+01  2.9157677e+00 -1.3373110e+00\n",
      "   2.0647002e+03  1.9954035e+00  1.7060389e+01 -5.8215702e+01]\n",
      " [ 5.5454493e-02  1.3735564e+01  4.3051810e+00 -5.2913487e-01\n",
      "   1.2170019e+02  1.0247536e+00  1.6050390e+01 -5.5955700e+01]\n",
      " [ 1.3783543e+00  2.8735563e+01  4.8839922e+00 -1.2306854e+00\n",
      "   3.8170020e+02  1.7159681e+00  2.0970388e+01 -6.1295696e+01]\n",
      " [ 6.7854404e-02  1.8735563e+01  2.1850176e+00 -1.2841935e+00\n",
      "   1.7407002e+03  1.5297234e+00  1.7390390e+01 -5.8175701e+01]\n",
      " [ 1.5137544e+00  3.2735565e+01  2.6860638e+00 -1.2794988e+00\n",
      "   2.4237002e+03  2.2768159e+00  1.7140390e+01 -5.8125698e+01]\n",
      " [ 2.4437544e+00  3.9735565e+01  2.3107362e+00 -1.4674683e+00\n",
      "   5.5370020e+02  1.5219760e+00  1.7540392e+01 -5.8495701e+01]\n",
      " [ 7.6525450e-01  2.1735563e+01  2.2604961e+00 -1.3180505e+00\n",
      "   1.9527002e+03  1.0927143e+00  2.0270391e+01 -6.2205700e+01]\n",
      " [ 1.0866544e+00  2.7735563e+01  1.6527071e+00 -1.2566289e+00\n",
      "   6.0470020e+02  9.5865464e-01  1.7330389e+01 -5.8675701e+01]\n",
      " [ 3.3428543e+00  7.7355642e+00  3.1767740e+00 -1.2162418e+00\n",
      "   1.5827002e+03  1.2375419e+00  1.7140390e+01 -5.8105701e+01]\n",
      " [ 7.5715446e-01  2.8735563e+01  2.9308000e+00 -1.2223408e+00\n",
      "   1.5597002e+03  1.2326448e+00  2.0980391e+01 -6.2375698e+01]\n",
      " [ 1.4929545e+00  4.5735565e+01  3.2806258e+00 -1.3790429e+00\n",
      "   7.0270020e+02  6.9172728e-01  2.1870390e+01 -6.1685696e+01]\n",
      " [ 2.9718544e+00  2.2735563e+01  3.7533169e+00 -1.2915934e+00\n",
      "   1.9677002e+03  9.2748523e-01  1.7080389e+01 -5.8315701e+01]], shape=(32, 8), dtype=float32)\n",
      "\n",
      "y : tf.Tensor(\n",
      "[[ 2.4945543e+00  4.3735565e+01  2.7332854e+00 -1.4310957e+00\n",
      "   8.3970020e+02  1.4953420e+00  2.1060389e+01 -6.2735699e+01]\n",
      " [ 6.0400543e+00  4.9735565e+01  4.7429280e+00 -1.3871257e+00\n",
      "   9.7670020e+02  1.4264278e+00  1.7070391e+01 -5.8105701e+01]\n",
      " [ 1.7105436e-01  1.7735563e+01  2.5985479e-02 -1.2737683e+00\n",
      "   1.7477002e+03  8.7212777e-01  1.7360392e+01 -5.8535702e+01]\n",
      " [ 1.4866545e+00  1.7735563e+01  2.8702149e+00 -1.3956436e+00\n",
      "   2.3877002e+03  1.5775447e+00  2.0260389e+01 -6.2005695e+01]\n",
      " [ 1.8522544e+00  3.1735563e+01  3.8192616e+00 -1.3716848e+00\n",
      "   7.7270020e+02  2.3137963e+00  1.7270391e+01 -5.7765697e+01]\n",
      " [ 6.1015439e-01  1.5735564e+01  2.0959854e+00 -1.2544223e+00\n",
      "   2.8817002e+03  9.5617127e-01  2.1890390e+01 -6.1645702e+01]\n",
      " [ 3.5676544e+00  2.9735563e+01  3.2258916e+00 -1.2646163e+00\n",
      "   1.1897002e+03  1.5894580e+00  2.0610392e+01 -6.2215702e+01]\n",
      " [ 1.0345545e+00  3.1735563e+01  2.3901833e+01  3.0347919e+00\n",
      "   1.6970020e+02  1.0894415e+00  2.0410391e+01 -5.9515697e+01]\n",
      " [ 2.4154425e-02  3.6735565e+01  3.6982651e+00 -1.2594935e+00\n",
      "   1.1797002e+03  1.4494932e+00  2.2820391e+01 -6.2435696e+01]\n",
      " [ 2.1775544e+00  1.5735564e+01  3.5662918e+00 -1.2180238e+00\n",
      "   4.3470020e+02  1.1691980e+00  1.6950392e+01 -5.8215702e+01]\n",
      " [ 2.0496542e+00  2.4735563e+01  3.9498930e+00 -1.3046370e+00\n",
      "   1.0877002e+03  1.3710723e+00  2.1800390e+01 -6.1675701e+01]\n",
      " [ 2.0172546e+00  1.7735563e+01  2.2665057e+00 -1.2816991e+00\n",
      "   2.3237002e+03  9.8255277e-01  2.0950392e+01 -6.2765697e+01]\n",
      " [ 2.4616544e+00  1.2735564e+01  3.9328518e+00 -1.3480451e+00\n",
      "   6.6370020e+02  1.9440913e+00  2.1710390e+01 -6.2175701e+01]\n",
      " [-2.6754558e-01  2.1735563e+01  2.7586341e+00 -1.3414472e+00\n",
      "   1.0407002e+03  1.8761051e+00  2.3410391e+01 -6.2405697e+01]\n",
      " [ 1.5449545e+00  2.9735563e+01  3.6902161e+00 -1.3248960e+00\n",
      "   8.5370020e+02  1.2180741e+00  2.4090391e+01 -6.4365692e+01]\n",
      " [ 2.5991542e+00  1.2735564e+01  2.2111301e+00 -1.3034132e+00\n",
      "   1.6677002e+03  3.8969243e-01  1.7450392e+01 -5.8675701e+01]\n",
      " [ 3.6401546e+00  1.7735563e+01  3.9123769e+00 -1.3441788e+00\n",
      "   4.9507002e+03  1.4107738e+00  1.7420389e+01 -5.7945698e+01]\n",
      " [ 2.4635434e-01  2.3735563e+01  3.8621569e+00 -1.1039455e+00\n",
      "   1.7937002e+03  1.2966919e+00  1.8580389e+01 -6.0925701e+01]\n",
      " [ 6.1895442e-01  2.6735563e+01  1.3118641e+00 -1.2847741e+00\n",
      "   9.6770020e+02  1.1755474e+00  2.0610392e+01 -6.2165699e+01]\n",
      " [ 1.1229544e+00  3.3735565e+01  2.0694652e+00 -1.2979521e+00\n",
      "   1.7877002e+03  2.1416628e+00  1.7090391e+01 -5.8505695e+01]\n",
      " [ 1.9810545e+00  2.5735563e+01  2.9157677e+00 -1.3373110e+00\n",
      "   2.0647002e+03  1.9954035e+00  1.7060389e+01 -5.8215702e+01]\n",
      " [ 5.5454493e-02  1.3735564e+01  4.3051810e+00 -5.2913487e-01\n",
      "   1.2170019e+02  1.0247536e+00  1.6050390e+01 -5.5955700e+01]\n",
      " [ 1.3783543e+00  2.8735563e+01  4.8839922e+00 -1.2306854e+00\n",
      "   3.8170020e+02  1.7159681e+00  2.0970388e+01 -6.1295696e+01]\n",
      " [ 6.7854404e-02  1.8735563e+01  2.1850176e+00 -1.2841935e+00\n",
      "   1.7407002e+03  1.5297234e+00  1.7390390e+01 -5.8175701e+01]\n",
      " [ 1.5137544e+00  3.2735565e+01  2.6860638e+00 -1.2794988e+00\n",
      "   2.4237002e+03  2.2768159e+00  1.7140390e+01 -5.8125698e+01]\n",
      " [ 2.4437544e+00  3.9735565e+01  2.3107362e+00 -1.4674683e+00\n",
      "   5.5370020e+02  1.5219760e+00  1.7540392e+01 -5.8495701e+01]\n",
      " [ 7.6525450e-01  2.1735563e+01  2.2604961e+00 -1.3180505e+00\n",
      "   1.9527002e+03  1.0927143e+00  2.0270391e+01 -6.2205700e+01]\n",
      " [ 1.0866544e+00  2.7735563e+01  1.6527071e+00 -1.2566289e+00\n",
      "   6.0470020e+02  9.5865464e-01  1.7330389e+01 -5.8675701e+01]\n",
      " [ 3.3428543e+00  7.7355642e+00  3.1767740e+00 -1.2162418e+00\n",
      "   1.5827002e+03  1.2375419e+00  1.7140390e+01 -5.8105701e+01]\n",
      " [ 7.5715446e-01  2.8735563e+01  2.9308000e+00 -1.2223408e+00\n",
      "   1.5597002e+03  1.2326448e+00  2.0980391e+01 -6.2375698e+01]\n",
      " [ 1.4929545e+00  4.5735565e+01  3.2806258e+00 -1.3790429e+00\n",
      "   7.0270020e+02  6.9172728e-01  2.1870390e+01 -6.1685696e+01]\n",
      " [ 2.9718544e+00  2.2735563e+01  3.7533169e+00 -1.2915934e+00\n",
      "   1.9677002e+03  9.2748523e-01  1.7080389e+01 -5.8315701e+01]], shape=(32, 8), dtype=float32)\n"
     ]
    }
   ],
   "source": [
    "train_sample=csv_reader_dataset(train_filepath,batch_size=32)\n",
    "for x_batch,y_batch in train_sample.take(2):\n",
    "    print(\"x: \",x_batch)\n",
    "    print()\n",
    "    print(\"y :\",x_batch)"
   ]
  },
  {
   "cell_type": "code",
   "execution_count": 129,
   "id": "221bfe54-1096-4985-8514-9f9e6367a4ba",
   "metadata": {},
   "outputs": [],
   "source": [
    "train_set=csv_reader_dataset(train_filepath)\n",
    "valid_set=csv_reader_dataset(valid_filepath)\n",
    "test_set=csv_reader_dataset(test_filepath)"
   ]
  },
  {
   "cell_type": "code",
   "execution_count": 130,
   "id": "a32f3d00-9d0f-4662-b66c-b82961d783a3",
   "metadata": {},
   "outputs": [],
   "source": [
    "# lets train our model\n",
    "keras.backend.clear_session()\n",
    "np.random.seed(42)\n",
    "tf.random.set_seed(42)"
   ]
  },
  {
   "cell_type": "markdown",
   "id": "b5d593be-5970-464f-b4e1-6b390369e2eb",
   "metadata": {},
   "source": []
  },
  {
   "cell_type": "code",
   "execution_count": null,
   "id": "54c731d9-e274-4c6f-bcaf-dcacf19a639c",
   "metadata": {},
   "outputs": [],
   "source": []
  }
 ],
 "metadata": {
  "kernelspec": {
   "display_name": "Python 3 (ipykernel)",
   "language": "python",
   "name": "python3"
  },
  "language_info": {
   "codemirror_mode": {
    "name": "ipython",
    "version": 3
   },
   "file_extension": ".py",
   "mimetype": "text/x-python",
   "name": "python",
   "nbconvert_exporter": "python",
   "pygments_lexer": "ipython3",
   "version": "3.8.17"
  }
 },
 "nbformat": 4,
 "nbformat_minor": 5
}

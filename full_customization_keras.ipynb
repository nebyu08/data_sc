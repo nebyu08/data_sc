{
 "cells": [
  {
   "cell_type": "code",
   "execution_count": 1,
   "id": "9c2f05da-6892-4302-9e14-c3fd0c9746bc",
   "metadata": {},
   "outputs": [],
   "source": [
    "import numpy as np"
   ]
  },
  {
   "cell_type": "code",
   "execution_count": 2,
   "id": "f3d9f671-da56-41b5-803a-2b40f3f142ee",
   "metadata": {},
   "outputs": [],
   "source": [
    "import tensorflow as tf\n",
    "import keras\n",
    "import matplotlib.pyplot as plt"
   ]
  },
  {
   "cell_type": "code",
   "execution_count": 3,
   "id": "e5c5d80d-a780-4153-94e5-6dd4de654e8b",
   "metadata": {},
   "outputs": [],
   "source": [
    "from sklearn.datasets import fetch_california_housing\n",
    "from sklearn.model_selection import train_test_split\n",
    "from sklearn.preprocessing import StandardScaler\n",
    "\n",
    "housing = fetch_california_housing()\n",
    "X_train_full, X_test, y_train_full, y_test = train_test_split(\n",
    "    housing.data, housing.target.reshape(-1, 1), random_state=42)\n",
    "X_train, X_valid, y_train, y_valid = train_test_split(\n",
    "    X_train_full, y_train_full, random_state=42)\n",
    "\n",
    "scaler = StandardScaler()\n",
    "X_train_scaled = scaler.fit_transform(X_train)\n",
    "X_valid_scaled = scaler.transform(X_valid)\n",
    "X_test_scaled = scaler.transform(X_test)"
   ]
  },
  {
   "cell_type": "code",
   "execution_count": 4,
   "id": "a0bfd941-cfe9-44bc-95eb-3a7376a3495a",
   "metadata": {},
   "outputs": [],
   "source": [
    "def huber_fn(y_true, y_pred):\n",
    "    error = y_true - y_pred\n",
    "    is_small_error = tf.abs(error) < 1\n",
    "    squared_loss = tf.square(error) / 2\n",
    "    linear_loss  = tf.abs(error) - 0.5\n",
    "    return tf.where(is_small_error, squared_loss, linear_loss)"
   ]
  },
  {
   "cell_type": "code",
   "execution_count": 5,
   "id": "eabef8e4-196a-476f-8c70-3b6a5855566f",
   "metadata": {},
   "outputs": [
    {
     "data": {
      "text/plain": [
       "[<matplotlib.lines.Line2D at 0x280362d8a00>]"
      ]
     },
     "execution_count": 5,
     "metadata": {},
     "output_type": "execute_result"
    },
    {
     "data": {
      "image/png": "[encoded data removed]",
      "text/plain": [
       "<Figure size 800x350 with 1 Axes>"
      ]
     },
     "metadata": {},
     "output_type": "display_data"
    }
   ],
   "source": [
    "plt.figure(figsize=(8, 3.5))\n",
    "z = np.linspace(-4, 4, 200)\n",
    "plt.plot(z, huber_fn(0, z), \"b-\", linewidth=2, label=\"huber($z$)\")"
   ]
  },
  {
   "cell_type": "code",
   "execution_count": 6,
   "id": "a03dd5c4-a3fe-4e3a-aa2a-0e2051cdf8d3",
   "metadata": {},
   "outputs": [],
   "source": [
    "input_shape = X_train.shape[1:]\n",
    "\n",
    "model = keras.models.Sequential([\n",
    "    keras.layers.Dense(30, activation=\"selu\", kernel_initializer=\"lecun_normal\",\n",
    "                       input_shape=input_shape),\n",
    "    keras.layers.Dense(1),\n",
    "])"
   ]
  },
  {
   "cell_type": "code",
   "execution_count": 7,
   "id": "ea55617a-fc30-4c23-b4e0-7c4baa6608e7",
   "metadata": {},
   "outputs": [],
   "source": [
    "model.compile(loss=huber_fn, optimizer=\"nadam\", metrics=[\"mae\"])"
   ]
  },
  {
   "cell_type": "code",
   "execution_count": 8,
   "id": "fd7438a6-28a0-45d4-aacc-a1d66db94c5d",
   "metadata": {},
   "outputs": [
    {
     "name": "stdout",
     "output_type": "stream",
     "text": [
      "Epoch 1/2\n",
      "363/363 [==============================] - 12s 13ms/step - loss: 0.6005 - mae: 0.9563 - val_loss: 0.3331 - val_mae: 0.6259\n",
      "Epoch 2/2\n",
      "363/363 [==============================] - 5s 13ms/step - loss: 0.2165 - mae: 0.5097 - val_loss: 0.2742 - val_mae: 0.5607\n"
     ]
    },
    {
     "data": {
      "text/plain": [
       "<keras.src.callbacks.History at 0x280386d4ac0>"
      ]
     },
     "execution_count": 8,
     "metadata": {},
     "output_type": "execute_result"
    }
   ],
   "source": [
    "model.fit(X_train_scaled, y_train, epochs=2,\n",
    "          validation_data=(X_valid_scaled, y_valid))"
   ]
  },
  {
   "cell_type": "code",
   "execution_count": 9,
   "id": "dc6395eb-58f5-4e13-a1b2-e559687b37ed",
   "metadata": {},
   "outputs": [
    {
     "name": "stderr",
     "output_type": "stream",
     "text": [
      "C:\\Users\\dread-miles\\miniconda3\\envs\\snakey\\lib\\site-packages\\keras\\src\\engine\\training.py:3000: UserWarning: You are saving your model as an HDF5 file via `model.save()`. This file format is considered legacy. We recommend using instead the native Keras format, e.g. `model.save('my_model.keras')`.\n",
      "  saving_api.save_model(\n"
     ]
    }
   ],
   "source": [
    "model.save(\"my_custom_loss_model.h5\")"
   ]
  },
  {
   "cell_type": "code",
   "execution_count": 10,
   "id": "d0ce5d99-6094-4286-8e58-bddffa3ea429",
   "metadata": {},
   "outputs": [],
   "source": [
    "load_model=keras.models.load_model(\"my_custom_loss_model.h5\",custom_objects={\"huber_fn\":huber_fn})"
   ]
  },
  {
   "cell_type": "code",
   "execution_count": 11,
   "id": "7dbefc5f-3177-4f74-b5fe-28bdc1098127",
   "metadata": {},
   "outputs": [],
   "source": [
    "def create_huber(threshold):\n",
    "    def huber_fn(y_true,y_pred):\n",
    "        error=y_true-y_pred\n",
    "        is_small_error=tf.abs(error)<threshold\n",
    "        squared_loss=tf.square(error)/2\n",
    "        linear_loss=threshold*tf.abs(error)-threshold**2/2\n",
    "        return tf.where(is_small_error,squared_loss,linear_loss)\n",
    "    return huber_fn"
   ]
  },
  {
   "cell_type": "code",
   "execution_count": 12,
   "id": "7ae0ab15-2b8d-4304-aaf0-a2c651b72038",
   "metadata": {},
   "outputs": [],
   "source": [
    "# lets put some threshold into our loss function\n",
    "model.compile(loss=create_huber(1.0),optimizer=\"nadam\",metrics=[\"mae\"])"
   ]
  },
  {
   "cell_type": "code",
   "execution_count": 13,
   "id": "e2a6456f-2b9c-4c11-84b7-301817689013",
   "metadata": {},
   "outputs": [
    {
     "name": "stdout",
     "output_type": "stream",
     "text": [
      "Epoch 1/3\n",
      "363/363 [==============================] - 12s 12ms/step - loss: 0.2056 - mae: 0.4945 - val_loss: 79.5559 - val_mae: 80.0559\n",
      "Epoch 2/3\n",
      "363/363 [==============================] - 2s 6ms/step - loss: 0.1974 - mae: 0.4844 - val_loss: 105.0474 - val_mae: 105.5474\n",
      "Epoch 3/3\n",
      "363/363 [==============================] - 2s 6ms/step - loss: 0.1912 - mae: 0.4748 - val_loss: 70.2424 - val_mae: 70.7424\n"
     ]
    },
    {
     "data": {
      "text/plain": [
       "<keras.src.callbacks.History at 0x2803aa54bb0>"
      ]
     },
     "execution_count": 13,
     "metadata": {},
     "output_type": "execute_result"
    }
   ],
   "source": [
    "model.fit(X_train_scaled,y_train,epochs=3,validation_data=(X_valid,y_valid))"
   ]
  },
  {
   "cell_type": "code",
   "execution_count": 14,
   "id": "9b64862a-8e4b-451d-8ac0-7170e27d418a",
   "metadata": {},
   "outputs": [],
   "source": [
    "# lets customize from the keras \n",
    "class HubberLoss(keras.losses.Loss):\n",
    "    def __init__(self,threshold,**kwargs):\n",
    "        self.threshold=threshold\n",
    "        super().__init__(**kwargs)\n",
    "    def call(self,y_true,y_pred):\n",
    "        error=y_true-y_pred\n",
    "        is_small_error=tf.abs(error)<self.threshold\n",
    "        squared_loss=tf.square(error)/2\n",
    "        linear_loss=self.threshold * tf.abs(error)-self.threshold**2/2\n",
    "        return tf.where(is_small_error,squared_loss,linear_loss)\n",
    "    def get_config(self):\n",
    "        base_config=super().get_config()\n",
    "        return {**base_config,\"threshold\":self.threshold}"
   ]
  },
  {
   "cell_type": "code",
   "execution_count": 15,
   "id": "b8724050-ea67-4378-8d6c-f04871757beb",
   "metadata": {},
   "outputs": [],
   "source": [
    "model2=keras.models.Sequential(\n",
    "    [\n",
    "        keras.layers.Dense(30,activation=\"selu\",kernel_initializer=\"lecun_normal\"),\n",
    "        keras.layers.Dense(1)\n",
    "    ]\n",
    ")"
   ]
  },
  {
   "cell_type": "code",
   "execution_count": 16,
   "id": "59e373f9-d0c9-4e3d-ae9d-a4fc9ecde40e",
   "metadata": {},
   "outputs": [],
   "source": [
    "model2.compile(loss=HubberLoss(2.),optimizer=\"nadam\",metrics=[\"mse\"])"
   ]
  },
  {
   "cell_type": "code",
   "execution_count": 17,
   "id": "1bef4bc4-cea4-44a5-b616-5a22c545cd4a",
   "metadata": {},
   "outputs": [
    {
     "name": "stdout",
     "output_type": "stream",
     "text": [
      "Epoch 1/5\n",
      "363/363 [==============================] - 5s 6ms/step - loss: 0.8613 - mse: 1.9394 - val_loss: 1111.5826 - val_mse: 525103.4375\n",
      "Epoch 2/5\n",
      "363/363 [==============================] - 2s 7ms/step - loss: 0.2545 - mse: 0.5317 - val_loss: 839.4847 - val_mse: 287835.5625\n",
      "Epoch 3/5\n",
      "363/363 [==============================] - 5s 13ms/step - loss: 0.2342 - mse: 0.4828 - val_loss: 808.2312 - val_mse: 261580.0469\n",
      "Epoch 4/5\n",
      "363/363 [==============================] - 6s 16ms/step - loss: 0.2260 - mse: 0.4608 - val_loss: 813.8699 - val_mse: 263895.0312\n",
      "Epoch 5/5\n",
      "363/363 [==============================] - 4s 10ms/step - loss: 0.2218 - mse: 0.4536 - val_loss: 732.8983 - val_mse: 209608.4062\n"
     ]
    },
    {
     "data": {
      "text/plain": [
       "<keras.src.callbacks.History at 0x2803ac18e50>"
      ]
     },
     "execution_count": 17,
     "metadata": {},
     "output_type": "execute_result"
    }
   ],
   "source": [
    "model2.fit(X_train_scaled,y_train,epochs=5,validation_data=(X_valid,y_valid))"
   ]
  },
  {
   "cell_type": "code",
   "execution_count": 18,
   "id": "ab3d9b0e-f91f-4778-bff9-e40e7ff907c3",
   "metadata": {},
   "outputs": [],
   "source": [
    "model2.save(\"my_custom_loss_fn.h5\")"
   ]
  },
  {
   "cell_type": "code",
   "execution_count": 19,
   "id": "d755a0bc-87b8-41ec-b7ec-c2e66d138c16",
   "metadata": {},
   "outputs": [],
   "source": [
    "#load_saved_model2=keras.models.load_model(\"my_custom_loss_fn.h5\",custom_objects={\"hubber loss\":HubberLoss})"
   ]
  },
  {
   "cell_type": "code",
   "execution_count": 20,
   "id": "9bc4cd8b-f4e0-44da-bc72-4a158fb63d90",
   "metadata": {},
   "outputs": [
    {
     "data": {
      "text/plain": [
       "<function keras.src.backend.clear_session()>"
      ]
     },
     "execution_count": 20,
     "metadata": {},
     "output_type": "execute_result"
    }
   ],
   "source": [
    "keras.backend.clear_session"
   ]
  },
  {
   "cell_type": "code",
   "execution_count": 21,
   "id": "22085f03-ca6b-4579-a737-785a92343877",
   "metadata": {},
   "outputs": [],
   "source": [
    "#other custom functions\n",
    "def my_softplus(z): # return value is just tf.nn.softplus(z)\n",
    "    return tf.math.log(tf.exp(z) + 1.0)\n",
    "def my_glorot_initializer(shape, dtype=tf.float32):\n",
    "    stddev = tf.sqrt(2. / (shape[0] + shape[1]))\n",
    "    return tf.random.normal(shape, stddev=stddev, dtype=dtype)\n",
    "def my_l1_regularizer(weights):\n",
    "    return tf.reduce_sum(tf.abs(0.01 * weights))\n",
    "def my_positive_weights(weights): # return value is just tf.nn.relu(weights)\n",
    "    return tf.where(weights < 0., tf.zeros_like(weights), weights)"
   ]
  },
  {
   "cell_type": "markdown",
   "id": "c79d9cab-f717-41b6-a894-a949cbe84d72",
   "metadata": {},
   "source": [
    "# customize the layer"
   ]
  },
  {
   "cell_type": "code",
   "execution_count": 22,
   "id": "131fafa5-0ae8-4ad0-a441-3ba8a313e060",
   "metadata": {},
   "outputs": [
    {
     "data": {
      "text/plain": [
       "<function keras.src.backend.clear_session()>"
      ]
     },
     "execution_count": 22,
     "metadata": {},
     "output_type": "execute_result"
    }
   ],
   "source": [
    "keras.backend.clear_session"
   ]
  },
  {
   "cell_type": "code",
   "execution_count": 23,
   "id": "8aed1b23-02b6-4c79-8bc3-4397a37d3a22",
   "metadata": {},
   "outputs": [],
   "source": [
    "model=keras.models.Sequential([\n",
    "    keras.layers.Dense(25,kernel_initializer=\"lecun_normal\",input_shape=input_shape),\n",
    "    keras.layers.Dense(1,activation=my_softplus,\n",
    "                      kernel_initializer=my_glorot_initializer,\n",
    "                      kernel_regularizer=my_l1_regularizer,\n",
    "                      kernel_constraint=my_positive_weights\n",
    "                      )\n",
    "])"
   ]
  },
  {
   "cell_type": "code",
   "execution_count": 24,
   "id": "c2dfe26a-4187-4795-b4b7-74b471b62944",
   "metadata": {},
   "outputs": [],
   "source": [
    "model.compile(loss=\"mse\",optimizer=\"nadam\",metrics=[\"mse\"])"
   ]
  },
  {
   "cell_type": "code",
   "execution_count": 25,
   "id": "e60033fe-14ac-4846-a7d4-00aaedb461eb",
   "metadata": {},
   "outputs": [
    {
     "name": "stdout",
     "output_type": "stream",
     "text": [
      "Epoch 1/3\n",
      "363/363 [==============================] - 6s 7ms/step - loss: 1.7330 - mse: 1.6896 - val_loss: inf - val_mse: inf\n",
      "Epoch 2/3\n",
      "363/363 [==============================] - 2s 7ms/step - loss: 0.5629 - mse: 0.5163 - val_loss: inf - val_mse: inf\n",
      "Epoch 3/3\n",
      "363/363 [==============================] - 3s 7ms/step - loss: 0.5297 - mse: 0.4825 - val_loss: inf - val_mse: inf\n"
     ]
    },
    {
     "data": {
      "text/plain": [
       "<keras.src.callbacks.History at 0x2803bf3e130>"
      ]
     },
     "execution_count": 25,
     "metadata": {},
     "output_type": "execute_result"
    }
   ],
   "source": [
    "model.fit(X_train_scaled,y_train,epochs=3,validation_data=[X_valid,y_valid])"
   ]
  },
  {
   "cell_type": "code",
   "execution_count": 26,
   "id": "61703dde-7f9e-4794-bb82-c8f98ccef1c7",
   "metadata": {},
   "outputs": [],
   "source": [
    "from keras.utils import custom_object_scope"
   ]
  },
  {
   "cell_type": "code",
   "execution_count": 27,
   "id": "9b5d89ed-4828-49be-b163-328032bae043",
   "metadata": {},
   "outputs": [],
   "source": [
    "model.save(\"my_heavly_regularized.h5\")"
   ]
  },
  {
   "cell_type": "code",
   "execution_count": 28,
   "id": "ea740c10-b680-406f-b3fa-0e6a91996712",
   "metadata": {},
   "outputs": [
    {
     "data": {
      "text/plain": [
       "'\\nloaded_model = keras.models.load_model(\\n    \"my_heavly_regularized.h5\",\\n    custom_objects={\\n       \"my_glorot_initializer\": my_glorot_initializer,\\n        \"my_l1_regularizer\":my_l1_regularizer,\\n       \"my_positive_weights\": my_positive_weights,\\n       \"my_softplus\": my_softplus,\\n    })\\n    '"
      ]
     },
     "execution_count": 28,
     "metadata": {},
     "output_type": "execute_result"
    }
   ],
   "source": [
    "'''\n",
    "loaded_model = keras.models.load_model(\n",
    "    \"my_heavly_regularized.h5\",\n",
    "    custom_objects={\n",
    "       \"my_glorot_initializer\": my_glorot_initializer,\n",
    "        \"my_l1_regularizer\":my_l1_regularizer,\n",
    "       \"my_positive_weights\": my_positive_weights,\n",
    "       \"my_softplus\": my_softplus,\n",
    "    })\n",
    "    '''"
   ]
  },
  {
   "cell_type": "code",
   "execution_count": 29,
   "id": "df294ecc-5cfe-47aa-a7ad-02b508694031",
   "metadata": {},
   "outputs": [],
   "source": [
    "#model_config=loaded_model.get_config()"
   ]
  },
  {
   "cell_type": "markdown",
   "id": "10580cb4-2d99-426f-99e0-22109c996545",
   "metadata": {},
   "source": [
    "# custom metrics"
   ]
  },
  {
   "cell_type": "code",
   "execution_count": 30,
   "id": "1eaa4393-e669-498e-b26d-485ec65f732e",
   "metadata": {},
   "outputs": [],
   "source": [
    "keras.backend.clear_session()"
   ]
  },
  {
   "cell_type": "code",
   "execution_count": 31,
   "id": "06cfb46b-9bfc-4e1e-b2e7-d2d2846a8247",
   "metadata": {},
   "outputs": [],
   "source": [
    "# lets use the huber function as a metric\n",
    "model=keras.models.Sequential([\n",
    "    keras.layers.Dense(35,kernel_initializer=\"lecun_normal\"),\n",
    "    keras.layers.Dense(1)\n",
    "])\n",
    "model.compile(loss=huber_fn,optimizer=\"nadam\",metrics=[create_huber(2.)])"
   ]
  },
  {
   "cell_type": "code",
   "execution_count": 32,
   "id": "f5c819e6-955a-4b05-8e05-04e677db2a0f",
   "metadata": {},
   "outputs": [
    {
     "name": "stdout",
     "output_type": "stream",
     "text": [
      "Epoch 1/3\n",
      "363/363 [==============================] - 3s 3ms/step - loss: 0.6115 - huber_fn: 0.8350\n",
      "Epoch 2/3\n",
      "363/363 [==============================] - 2s 5ms/step - loss: 0.2178 - huber_fn: 0.2578\n",
      "Epoch 3/3\n",
      "363/363 [==============================] - 1s 4ms/step - loss: 0.2169 - huber_fn: 0.2563\n"
     ]
    },
    {
     "data": {
      "text/plain": [
       "<keras.src.callbacks.History at 0x2803d16b640>"
      ]
     },
     "execution_count": 32,
     "metadata": {},
     "output_type": "execute_result"
    }
   ],
   "source": [
    "model.fit(X_train_scaled,y_train,epochs=3)"
   ]
  },
  {
   "cell_type": "code",
   "execution_count": 33,
   "id": "56f502d3-9231-440f-9560-494a402ff7fe",
   "metadata": {},
   "outputs": [],
   "source": [
    "#making custom metric \n",
    "class HuberMetric(keras.metrics.Metric):\n",
    "    def __init__(self,threshold,**kwargs):\n",
    "        super().__init__(**kwargs)\n",
    "        self.threshold=threshold\n",
    "        self.huber_fn=create_huber(threshold)\n",
    "        self.total=self.add_weight(\"total\",initializer=\"zeros\")\n",
    "        self.count=self.add_weight(\"count\",initializer=\"zeros\")\n",
    "        \n",
    "    def update_state(self, y_true, y_pred, sample_weight=None):\n",
    "        metric = self.huber_fn(y_true, y_pred)\n",
    "        if sample_weight is not None:\n",
    "            metric *= sample_weight\n",
    "            self.count.assign_add(tf.reduce_sum(sample_weight))\n",
    "        else:\n",
    "            self.count.assign_add(tf.cast(tf.size(y_true), tf.float32))\n",
    "\n",
    "        self.total.assign_add(tf.reduce_sum(metric))\n",
    "        \n",
    "    def result(self):\n",
    "        return self.total/self.count\n",
    "    def get_config(self):\n",
    "        base_config=super().get_config()\n",
    "        return {**base_config,\"threshold\":self.threshold}"
   ]
  },
  {
   "cell_type": "code",
   "execution_count": 34,
   "id": "e3d8f447-75d2-49de-9a1b-3d8b6094cdbf",
   "metadata": {},
   "outputs": [
    {
     "name": "stdout",
     "output_type": "stream",
     "text": [
      "HuberMetric(name=huber_metric,dtype=float32,threshold=2.0)\n"
     ]
    }
   ],
   "source": [
    "# lets test our custom metric\n",
    "metric=HuberMetric(2.)  #this is the threshold\n",
    "\n",
    "metric(tf.constant([[2.]]),tf.constant([[3.]]))\n",
    "print(metric)"
   ]
  },
  {
   "cell_type": "code",
   "execution_count": 35,
   "id": "1e074940-b073-4fe0-a101-6fb4d8669931",
   "metadata": {},
   "outputs": [
    {
     "data": {
      "text/plain": [
       "<tf.Tensor: shape=(), dtype=float32, numpy=342.66666>"
      ]
     },
     "execution_count": 35,
     "metadata": {},
     "output_type": "execute_result"
    }
   ],
   "source": [
    "#lets try it for an array\n",
    "metric_2=HuberMetric(4.)\n",
    "#...\n",
    "metric_2(tf.constant([[12.],[23.],[2.]]),tf.constant([[100.],[100.],[100.]]))\n",
    "metric_2.result()"
   ]
  },
  {
   "cell_type": "code",
   "execution_count": 36,
   "id": "043a65ae-95ab-4d04-b441-44a05448a46e",
   "metadata": {},
   "outputs": [
    {
     "data": {
      "text/plain": [
       "[<tf.Variable 'total:0' shape=() dtype=float32, numpy=1028.0>,\n",
       " <tf.Variable 'count:0' shape=() dtype=float32, numpy=3.0>]"
      ]
     },
     "execution_count": 36,
     "metadata": {},
     "output_type": "execute_result"
    }
   ],
   "source": [
    "metric_2.variables"
   ]
  },
  {
   "cell_type": "code",
   "execution_count": 37,
   "id": "035a4072-a838-4efe-9f14-aa43217ad7bb",
   "metadata": {},
   "outputs": [
    {
     "data": {
      "text/plain": [
       "[<tf.Variable 'total:0' shape=() dtype=float32, numpy=0.0>,\n",
       " <tf.Variable 'count:0' shape=() dtype=float32, numpy=0.0>]"
      ]
     },
     "execution_count": 37,
     "metadata": {},
     "output_type": "execute_result"
    }
   ],
   "source": [
    "metric_2.reset_states()\n",
    "metric_2.variables"
   ]
  },
  {
   "cell_type": "code",
   "execution_count": 38,
   "id": "f894a9b7-6f2a-4b13-98e8-b244662bffd1",
   "metadata": {},
   "outputs": [
    {
     "data": {
      "text/plain": [
       "<tf.Tensor: shape=(), dtype=float32, numpy=342.66666>"
      ]
     },
     "execution_count": 38,
     "metadata": {},
     "output_type": "execute_result"
    }
   ],
   "source": [
    "metric_2(tf.constant([[12.],[23.],[2.]]),tf.constant([[100.],[100.],[100.]]))\n",
    "metric_2.result()"
   ]
  },
  {
   "cell_type": "code",
   "execution_count": 39,
   "id": "fdc9f5ca-a1a4-4e19-a68c-b93ca7fdd21b",
   "metadata": {},
   "outputs": [],
   "source": [
    "keras.backend.clear_session()\n",
    "np.random.seed(42)\n",
    "tf.random.set_seed(42)"
   ]
  },
  {
   "cell_type": "code",
   "execution_count": 40,
   "id": "4dfd72c4-0d79-4540-a577-4f7ef734c0a3",
   "metadata": {},
   "outputs": [],
   "source": [
    "# lets putit to model\n",
    "model=keras.models.Sequential([\n",
    "    keras.layers.Dense(12,activation=\"elu\"),\n",
    "    keras.layers.Dense(1)\n",
    "])"
   ]
  },
  {
   "cell_type": "code",
   "execution_count": 41,
   "id": "93fc8f48-e8a7-4a72-a721-c175731b2c16",
   "metadata": {},
   "outputs": [],
   "source": [
    "model.compile(loss=create_huber(2.0),optimizer=\"nadam\",metrics=[HuberMetric(2.0)])"
   ]
  },
  {
   "cell_type": "code",
   "execution_count": 42,
   "id": "1518e27b-d5e1-45b8-aedf-c8aa3b9dfa80",
   "metadata": {},
   "outputs": [
    {
     "name": "stdout",
     "output_type": "stream",
     "text": [
      "Epoch 1/3\n",
      "363/363 [==============================] - 4s 4ms/step - loss: 1.0326 - huber_metric: 1.0326\n",
      "Epoch 2/3\n",
      "363/363 [==============================] - 1s 3ms/step - loss: 0.2653 - huber_metric: 0.2653\n",
      "Epoch 3/3\n",
      "363/363 [==============================] - 1s 4ms/step - loss: 0.2338 - huber_metric: 0.2338\n"
     ]
    },
    {
     "data": {
      "text/plain": [
       "<keras.src.callbacks.History at 0x2803d3a6040>"
      ]
     },
     "execution_count": 42,
     "metadata": {},
     "output_type": "execute_result"
    }
   ],
   "source": [
    "model.fit(X_train_scaled.astype(np.float32),y_train.astype(np.float32),epochs=3)"
   ]
  },
  {
   "cell_type": "code",
   "execution_count": 43,
   "id": "1a77c0f4-1195-4666-903d-5507e80bf1cc",
   "metadata": {},
   "outputs": [],
   "source": [
    "model.save(\"made_with_custom_metric.h5\")"
   ]
  },
  {
   "cell_type": "code",
   "execution_count": 44,
   "id": "0bff0c29-ca96-4815-8eb5-897727828399",
   "metadata": {},
   "outputs": [],
   "source": [
    "loaded_model=keras.models.load_model(\"made_with_custom_metric.h5\",custom_objects={\"huber_fn\":huber_fn,\n",
    "                                                                                  \"HuberMetric\":HuberMetric\n",
    "})"
   ]
  },
  {
   "cell_type": "markdown",
   "id": "007d00c2-b02f-4be3-825e-7745117be8d0",
   "metadata": {},
   "source": [
    "# more customizing layers"
   ]
  },
  {
   "cell_type": "code",
   "execution_count": 45,
   "id": "b105804f-c270-46e5-a219-2034fd05fb7f",
   "metadata": {},
   "outputs": [],
   "source": [
    "exponential_layer=keras.layers.Lambda(lambda x: tf.exp(x))"
   ]
  },
  {
   "cell_type": "code",
   "execution_count": 46,
   "id": "c7b817de-7449-4a76-95ff-14b5ce7079c6",
   "metadata": {},
   "outputs": [
    {
     "data": {
      "text/plain": [
       "<tf.Tensor: shape=(1,), dtype=float32, numpy=array([7.389056], dtype=float32)>"
      ]
     },
     "execution_count": 46,
     "metadata": {},
     "output_type": "execute_result"
    }
   ],
   "source": [
    "exponential_layer([2.])"
   ]
  },
  {
   "cell_type": "code",
   "execution_count": 47,
   "id": "b4d5f5bf-3be3-4668-aa5a-f8c2980489a9",
   "metadata": {},
   "outputs": [
    {
     "data": {
      "text/plain": [
       "<tf.Tensor: shape=(3,), dtype=float32, numpy=array([ 0.36787945,  1.2214028 , 20.085537  ], dtype=float32)>"
      ]
     },
     "execution_count": 47,
     "metadata": {},
     "output_type": "execute_result"
    }
   ],
   "source": [
    "exponential_layer([-1.,0.2,3.])"
   ]
  },
  {
   "cell_type": "code",
   "execution_count": 48,
   "id": "9829011e-b3a0-424c-8e3b-7955d2967883",
   "metadata": {},
   "outputs": [],
   "source": [
    "keras.backend.clear_session()\n",
    "np.random.seed(42)\n",
    "tf.random.set_seed(42)"
   ]
  },
  {
   "cell_type": "code",
   "execution_count": 49,
   "id": "fb9f0e84-06bd-4aaf-b822-068bd9e8d296",
   "metadata": {},
   "outputs": [],
   "source": [
    "# lets make a simple layer with our \"activation function\"\n",
    "model=keras.models.Sequential([\n",
    "    keras.layers.Dense(24,activation=\"relu\"),\n",
    "    keras.layers.Dense(1),\n",
    "    exponential_layer\n",
    "])"
   ]
  },
  {
   "cell_type": "code",
   "execution_count": 50,
   "id": "0de8c70e-9686-4547-bb9e-8f33a8669432",
   "metadata": {},
   "outputs": [],
   "source": [
    "model.compile(loss=\"mse\",optimizer=\"sgd\")"
   ]
  },
  {
   "cell_type": "code",
   "execution_count": 51,
   "id": "ef9433c0-80a8-4d7f-aed8-195c06d441d0",
   "metadata": {},
   "outputs": [
    {
     "name": "stdout",
     "output_type": "stream",
     "text": [
      "Epoch 1/4\n",
      "363/363 [==============================] - 2s 4ms/step - loss: 13.6067 - val_loss: 5.4561\n",
      "Epoch 2/4\n",
      "363/363 [==============================] - 1s 4ms/step - loss: 5.6755 - val_loss: 5.4561\n",
      "Epoch 3/4\n",
      "363/363 [==============================] - 1s 4ms/step - loss: 5.6755 - val_loss: 5.4561\n",
      "Epoch 4/4\n",
      "363/363 [==============================] - 1s 4ms/step - loss: 5.6755 - val_loss: 5.4561\n",
      "162/162 [==============================] - 1s 3ms/step - loss: 5.5800\n",
      "5.579954147338867\n"
     ]
    }
   ],
   "source": [
    "model.fit(X_train_scaled,y_train,epochs=4,validation_data=(X_valid,y_valid))\n",
    "eval=model.evaluate(X_test,y_test)\n",
    "print(eval)"
   ]
  },
  {
   "cell_type": "code",
   "execution_count": 52,
   "id": "e5094577-ceab-4c89-869b-8162b9fe4f2a",
   "metadata": {},
   "outputs": [],
   "source": [
    "#inherited format yey\n",
    "class MyDense(keras.layers.Dense):\n",
    "    def __init__(self,units,activation=None,**kwargs):\n",
    "        super(MyDense,self).__init__(**kwargs)\n",
    "        self.activation=keras.activations.get(activation)\n",
    "        self.units=units\n",
    "        \n",
    "    #this builds the architecture of the model\n",
    "    def build(self,batch_input_shape):\n",
    "        self.kernel=self.add_weight(name=\"kernel\",shape=[batch_input_shape[-1],self.units],initializer=\"glorot_normal\",trainable=True)\n",
    "        self.bias=self.add_weight(name=\"bias\", shape=[self.units],initializer=\"zeros\",trainable=True)\n",
    "        super().build(batch_input_shape)\n",
    "        \n",
    "    #this is the feed forward method\n",
    "    def call(self,X):\n",
    "        return self.activation(tf.matmult(X, self.kernel) + self.bias)\n",
    "\n",
    "    #this determines the outputs shape\n",
    "    def compute_output_shape(batch_input_shape):\n",
    "        return tf.TensorShape((batch_input_shape[0],[self.units]))\n",
    "    \n",
    "    def get_config(self,**kwargs):\n",
    "        base_config=super().get_config()\n",
    "        return {**base_config,\"units\":self.units,\n",
    "                            \"activation\":keras.activations.serialize(self.activation)}"
   ]
  },
  {
   "cell_type": "code",
   "execution_count": 53,
   "id": "5ae0465d-55e1-4e34-8991-9c9915df403b",
   "metadata": {},
   "outputs": [
    {
     "data": {
      "text/plain": [
       "'\\nmy_model=keras.models.Sequential([\\n    MyDense(units=23,activation=\"relu\",input_shape=input_shape),\\n    MyDense(units=1)\\n])\\n'"
      ]
     },
     "execution_count": 53,
     "metadata": {},
     "output_type": "execute_result"
    }
   ],
   "source": [
    "# lets create a model\n",
    "'''\n",
    "my_model=keras.models.Sequential([\n",
    "    MyDense(units=23,activation=\"relu\",input_shape=input_shape),\n",
    "    MyDense(units=1)\n",
    "])\n",
    "'''"
   ]
  },
  {
   "cell_type": "code",
   "execution_count": 54,
   "id": "e6fc3183-8546-4685-9112-d0849e130aef",
   "metadata": {},
   "outputs": [],
   "source": [
    "# letr create a multi layer\n",
    "class MyMultiLayer(keras.layers.Layer):\n",
    "    def call(self,X):\n",
    "        x1,x2=X\n",
    "        print(\"x1.shape: \",x1.shape,\" x2.shape :\",x2.shape)\n",
    "        return x1+x2,x1*x2\n",
    "    def compute_output_shape(self,batch_input_shape):\n",
    "        batch_input_1,batch_input_2=batch_input_shape\n",
    "        return [batch_input_1,batch_input_2]"
   ]
  },
  {
   "cell_type": "code",
   "execution_count": 55,
   "id": "5d836eae-f954-49a5-9e4a-38de583383aa",
   "metadata": {},
   "outputs": [
    {
     "name": "stdout",
     "output_type": "stream",
     "text": [
      "x1.shape:  (None, 2)  x2.shape : (None, 2)\n"
     ]
    }
   ],
   "source": [
    "inputs1 = keras.layers.Input(shape=[2])\n",
    "inputs2 = keras.layers.Input(shape=[2])\n",
    "outputs1, outputs2 = MyMultiLayer()((inputs1, inputs2))"
   ]
  },
  {
   "cell_type": "code",
   "execution_count": 56,
   "id": "c4c85cdb-bc37-4537-8270-11515d9e68a3",
   "metadata": {},
   "outputs": [],
   "source": [
    "def split_data(data):\n",
    "    columns_count = data.shape[-1]\n",
    "    half = columns_count // 2\n",
    "    return data[:, :half], data[:, half:]\n",
    "\n",
    "X_train_scaled_A, X_train_scaled_B = split_data(X_train_scaled)\n",
    "X_valid_scaled_A, X_valid_scaled_B = split_data(X_valid_scaled)\n",
    "X_test_scaled_A, X_test_scaled_B = split_data(X_test_scaled)"
   ]
  },
  {
   "cell_type": "code",
   "execution_count": 57,
   "id": "b010a809-3bc7-4ab3-9db9-9172400964f2",
   "metadata": {},
   "outputs": [
    {
     "name": "stdout",
     "output_type": "stream",
     "text": [
      "x1.shape:  (11610, 4)  x2.shape : (11610, 4)\n"
     ]
    }
   ],
   "source": [
    "outputs1, outputs2 = MyMultiLayer()((X_train_scaled_A, X_train_scaled_B))"
   ]
  },
  {
   "cell_type": "code",
   "execution_count": 58,
   "id": "f0852e6f-e48c-4121-8241-a38d5aa06e47",
   "metadata": {},
   "outputs": [
    {
     "name": "stdout",
     "output_type": "stream",
     "text": [
      "x1.shape:  (None, 4)  x2.shape : (None, 4)\n"
     ]
    }
   ],
   "source": [
    "#lets build a more sophisticated model\n",
    "keras.backend.clear_session()\n",
    "np.random.seed(42)\n",
    "tf.random.set_seed(42)\n",
    "\n",
    "input_a=keras.layers.Input(X_train_scaled_A.shape[-1])\n",
    "input_b=keras.layers.Input(X_train_scaled_B.shape[-1])\n",
    "\n",
    "hidden_a,hidden_b=MyMultiLayer()((input_a,input_b))\n",
    "\n",
    "hidden_a=keras.layers.Dense(34,activation=\"relu\")(hidden_a)\n",
    "hidden_b=keras.layers.Dense(34,activation=\"relu\")(hidden_b)\n",
    "concat=keras.layers.Concatenate()((hidden_a,hidden_b))\n",
    "output=keras.layers.Dense(1)(concat)\n",
    "model=keras.models.Model(inputs=[input_a,input_b],outputs=[output])"
   ]
  },
  {
   "cell_type": "code",
   "execution_count": 59,
   "id": "43a0426e-2193-4042-816b-7c6abe00e030",
   "metadata": {},
   "outputs": [],
   "source": [
    "model.compile(loss='mse', optimizer='nadam')"
   ]
  },
  {
   "cell_type": "code",
   "execution_count": 60,
   "id": "d226ea07-b3eb-4672-b0aa-794ead915990",
   "metadata": {},
   "outputs": [
    {
     "name": "stdout",
     "output_type": "stream",
     "text": [
      "Epoch 1/3\n",
      "x1.shape:  (None, 4)  x2.shape : (None, 4)\n",
      "x1.shape:  (None, 4)  x2.shape : (None, 4)\n",
      "356/363 [============================>.] - ETA: 0s - loss: 2.1634x1.shape:  (None, 4)  x2.shape : (None, 4)\n",
      "363/363 [==============================] - 5s 6ms/step - loss: 2.1420 - val_loss: 8.4880\n",
      "Epoch 2/3\n",
      "363/363 [==============================] - 2s 5ms/step - loss: 1.0664 - val_loss: 3.8667\n",
      "Epoch 3/3\n",
      "363/363 [==============================] - 2s 4ms/step - loss: 0.9368 - val_loss: 2.3327\n"
     ]
    },
    {
     "data": {
      "text/plain": [
       "<keras.src.callbacks.History at 0x2803ef22dc0>"
      ]
     },
     "execution_count": 60,
     "metadata": {},
     "output_type": "execute_result"
    }
   ],
   "source": [
    "model.fit((X_train_scaled_A,X_train_scaled_B),y_train,epochs=3,validation_data=((X_valid_scaled_A,X_valid_scaled_B),y_valid))"
   ]
  },
  {
   "cell_type": "markdown",
   "id": "588e790b-398c-4854-a234-1788357919ea",
   "metadata": {},
   "source": [
    "# lets add Noise to our data "
   ]
  },
  {
   "cell_type": "code",
   "execution_count": 61,
   "id": "995c583d-bb38-46e6-851d-b5d27a73a266",
   "metadata": {},
   "outputs": [],
   "source": [
    "class AddGaussianNoise(keras.layers.Layer):\n",
    "    def __init__(self, stddev, **kwargs):\n",
    "        super().__init__(**kwargs)\n",
    "        self.stddev = stddev\n",
    "\n",
    "    def call(self, X, training=None):\n",
    "        if training:\n",
    "            noise = tf.random.normal(tf.shape(X), stddev=self.stddev)\n",
    "            return X + noise\n",
    "        else:\n",
    "            return X\n",
    "\n",
    "    def compute_output_shape(self, batch_input_shape):\n",
    "        return batch_input_shape"
   ]
  },
  {
   "cell_type": "code",
   "execution_count": 62,
   "id": "57ff1df8-d13a-42c6-9ce3-76966486d82b",
   "metadata": {},
   "outputs": [],
   "source": [
    "keras.backend.clear_session()\n",
    "np.random.seed(42)\n",
    "tf.random.set_seed(42)\n",
    "\n",
    "model = keras.models.Sequential([\n",
    "    AddGaussianNoise(stddev=1.0),\n",
    "    keras.layers.Dense(30, activation=\"selu\"),\n",
    "    keras.layers.Dense(1)\n",
    "])"
   ]
  },
  {
   "cell_type": "code",
   "execution_count": 63,
   "id": "426abd5e-035c-455c-b202-472a4b21c143",
   "metadata": {},
   "outputs": [
    {
     "name": "stdout",
     "output_type": "stream",
     "text": [
      "Epoch 1/2\n",
      "363/363 [==============================] - 4s 5ms/step - loss: 2.3432 - val_loss: 2.0158\n",
      "Epoch 2/2\n",
      "363/363 [==============================] - 2s 4ms/step - loss: 1.0068 - val_loss: 1.1709\n",
      "162/162 [==============================] - 0s 3ms/step - loss: 0.7169\n"
     ]
    },
    {
     "data": {
      "text/plain": [
       "0.7169358134269714"
      ]
     },
     "execution_count": 63,
     "metadata": {},
     "output_type": "execute_result"
    }
   ],
   "source": [
    "model.compile(loss=\"mse\", optimizer=\"nadam\")\n",
    "model.fit(X_train_scaled, y_train, epochs=2,\n",
    "          validation_data=(X_valid_scaled, y_valid))\n",
    "model.evaluate(X_test_scaled, y_test)"
   ]
  },
  {
   "cell_type": "markdown",
   "id": "8d705444-44ef-450a-9df5-3c040055d115",
   "metadata": {},
   "source": [
    "# Custom models"
   ]
  },
  {
   "cell_type": "code",
   "execution_count": 80,
   "id": "2c1293c2-0049-4790-b4c9-716f9cab3aac",
   "metadata": {},
   "outputs": [],
   "source": [
    "#lets make a custom models\n",
    "class ResidualBlock(keras.layers.Layer):\n",
    "    def __init__(self,n_hidden,n_neurons,**kwargs):\n",
    "        super().__init__(**kwargs)\n",
    "        self.hidden=[keras.layers.Dense(n_neurons,kernel_initializer=\"he_normal\",activation=\"elu\") for _ in range(n_hidden)]\n",
    "        \n",
    "    def call(self,input):\n",
    "        tmp=input\n",
    "        for layer in self.hidden:\n",
    "            tmp=layer(tmp)\n",
    "        return tmp+tmp #this is based on the residual arctitecture from the book"
   ]
  },
  {
   "cell_type": "code",
   "execution_count": 84,
   "id": "eafc8b2d-fde5-4852-9323-601cf0ced353",
   "metadata": {},
   "outputs": [],
   "source": [
    "# lets build a regressor based on the above class\n",
    "class ResidualRegressor(keras.Model):\n",
    "    def __init__(self,output_dims,**kwargs):\n",
    "        super().__init__(**kwargs)\n",
    "        self.hidden=keras.layers.Dense(30,activation=\"relu\",kernel_initializer=\"he_normal\")\n",
    "        self.block1=ResidualBlock(n_hidden=3,n_neurons=30)\n",
    "        self.block2=ResidualBlock(n_hidden=2,n_neurons=30)\n",
    "        self.out=keras.layers.Dense(output_dims)\n",
    "                                      \n",
    "    def call(self,input):\n",
    "        temp=self.hidden(input)\n",
    "        for _ in range(1+4): \n",
    "            temp=self.block1(temp)\n",
    "        self.out=self.block2(temp)\n",
    "        return self.out"
   ]
  },
  {
   "cell_type": "code",
   "execution_count": 85,
   "id": "09199893-1c43-4617-a2e1-8bf1ee3ad167",
   "metadata": {},
   "outputs": [],
   "source": [
    "keras.backend.clear_session()\n",
    "tf.random.set_seed(42)\n",
    "np.random.seed(42)"
   ]
  },
  {
   "cell_type": "code",
   "execution_count": 89,
   "id": "9ec98b6e-0ed1-4d90-9c65-d38deb728263",
   "metadata": {},
   "outputs": [
    {
     "name": "stdout",
     "output_type": "stream",
     "text": [
      "Epoch 1/5\n",
      "363/363 [==============================] - 10s 6ms/step - loss: 13.9747\n",
      "Epoch 2/5\n",
      "363/363 [==============================] - 3s 7ms/step - loss: 1.4387\n",
      "Epoch 3/5\n",
      "363/363 [==============================] - 2s 6ms/step - loss: 1.0332\n",
      "Epoch 4/5\n",
      "363/363 [==============================] - 2s 6ms/step - loss: 0.8254\n",
      "Epoch 5/5\n",
      "363/363 [==============================] - 2s 6ms/step - loss: 0.7100\n"
     ]
    },
    {
     "data": {
      "text/plain": [
       "<keras.src.callbacks.History at 0x28040cecaf0>"
      ]
     },
     "execution_count": 89,
     "metadata": {},
     "output_type": "execute_result"
    }
   ],
   "source": [
    "#lets implement the model\n",
    "model=ResidualRegressor(1)  #one is the number of output or the dims\n",
    "model.compile(optimizer=\"nadam\",loss=\"mse\")\n",
    "model.fit(X_train_scaled,y_train,epochs=5)"
   ]
  },
  {
   "cell_type": "code",
   "execution_count": 90,
   "id": "54c5e478-5e95-46cc-8aae-010d2fa1524a",
   "metadata": {},
   "outputs": [
    {
     "name": "stdout",
     "output_type": "stream",
     "text": [
      "WARNING:tensorflow:Skipping full serialization of Keras layer <keras.src.layers.core.dense.Dense object at 0x00000280411DD0D0>, because it is not built.\n"
     ]
    },
    {
     "name": "stderr",
     "output_type": "stream",
     "text": [
      "WARNING:tensorflow:Skipping full serialization of Keras layer <keras.src.layers.core.dense.Dense object at 0x00000280411DD0D0>, because it is not built.\n"
     ]
    },
    {
     "name": "stdout",
     "output_type": "stream",
     "text": [
      "INFO:tensorflow:Assets written to: my_cusotm_model.ckpt\\assets\n"
     ]
    },
    {
     "name": "stderr",
     "output_type": "stream",
     "text": [
      "INFO:tensorflow:Assets written to: my_cusotm_model.ckpt\\assets\n"
     ]
    }
   ],
   "source": [
    "model.save(\"my_cusotm_model.ckpt\")"
   ]
  },
  {
   "cell_type": "code",
   "execution_count": 91,
   "id": "bec6ad85-c229-4db4-956f-21444bb62de8",
   "metadata": {},
   "outputs": [],
   "source": [
    "my_custom_model=keras.models.load_model(\"my_cusotm_model.ckpt\")"
   ]
  },
  {
   "cell_type": "code",
   "execution_count": 94,
   "id": "ed9c5fc5-060b-4d68-8ca1-c4367fe13cf8",
   "metadata": {},
   "outputs": [],
   "source": [
    "#lets make a models using the residual block and sequential API\n",
    "block=ResidualBlock(2,30)\n",
    "model=keras.models.Sequential([\n",
    "    keras.layers.Dense(30),\n",
    "    block,block,block,block,\n",
    "    keras.layers.Dense(1)\n",
    "])"
   ]
  },
  {
   "cell_type": "code",
   "execution_count": 96,
   "id": "d45863f2-c7b5-4997-afa4-ccf38adfa121",
   "metadata": {},
   "outputs": [],
   "source": [
    "model.compile(loss=\"mse\",optimizer=\"nadam\")"
   ]
  },
  {
   "cell_type": "code",
   "execution_count": 98,
   "id": "5fee5516-83d6-4d00-be81-9a9d8ca6fcf2",
   "metadata": {},
   "outputs": [
    {
     "name": "stdout",
     "output_type": "stream",
     "text": [
      "Epoch 1/4\n",
      "363/363 [==============================] - 2s 7ms/step - loss: 0.4418\n",
      "Epoch 2/4\n",
      "363/363 [==============================] - 2s 4ms/step - loss: 0.4384\n",
      "Epoch 3/4\n",
      "363/363 [==============================] - 2s 6ms/step - loss: 0.4339\n",
      "Epoch 4/4\n",
      "363/363 [==============================] - 2s 6ms/step - loss: 0.3818\n"
     ]
    },
    {
     "data": {
      "text/plain": [
       "<keras.src.callbacks.History at 0x280452befd0>"
      ]
     },
     "execution_count": 98,
     "metadata": {},
     "output_type": "execute_result"
    }
   ],
   "source": [
    "model.fit(X_train_scaled,y_train,epochs=4)"
   ]
  },
  {
   "cell_type": "code",
   "execution_count": 99,
   "id": "092f18e6-9a83-4286-862b-b72eab081421",
   "metadata": {},
   "outputs": [
    {
     "name": "stdout",
     "output_type": "stream",
     "text": [
      "162/162 [==============================] - 2s 5ms/step - loss: 0.3744\n"
     ]
    },
    {
     "data": {
      "text/plain": [
       "0.37440377473831177"
      ]
     },
     "execution_count": 99,
     "metadata": {},
     "output_type": "execute_result"
    }
   ],
   "source": [
    "model.evaluate(X_test_scaled,y_test)"
   ]
  },
  {
   "cell_type": "markdown",
   "id": "7a23d460-7837-484b-951a-5eee7cdd289b",
   "metadata": {},
   "source": [
    "# loss and metric based on the internals of the model"
   ]
  },
  {
   "cell_type": "code",
   "execution_count": 121,
   "id": "01045af5-671b-4ddc-bd6f-6a378c0d6ce4",
   "metadata": {},
   "outputs": [],
   "source": [
    "# custom loss based on other part of the model\n",
    "class ReconstractingRegressor(keras.Model):\n",
    "    \n",
    "    def __init__(self,output_dim,**kwargs):\n",
    "        super().__init__(**kwargs)\n",
    "        self.hidden=[keras.layers.Dense(30,activation=\"selu\",kernel_initializer=\"lecun_normal\") for _ in range(5)]\n",
    "        self.out=keras.layers.Dense(output_dim)\n",
    "        self.reconstraction_mean=keras.metrics.Mean(name=\"reconstruction_error\")  #for the reconstruction error \n",
    "   \n",
    "    def build(self,batch_input_shape):\n",
    "        input_shape=batch_input_shape[-1]  #this gets the input feature\n",
    "        self.reconstruct=keras.layers.Dense(input_shape)\n",
    "        \n",
    "    def call(self,input):\n",
    "        temp=input\n",
    "        for layer in self.hidden:\n",
    "            temp=layer(temp)\n",
    "        reconstruction=self.reconstruct(temp)\n",
    "        reconstruct_loss=tf.reduce_mean(tf.square(reconstruction-input))\n",
    "        self.add_loss(0.05*reconstruct_loss)\n",
    "        '''\n",
    "        if training:\n",
    "            result=self.reconstruction_mean(reconstruct_loss)\n",
    "            self.add_metric(result)\n",
    "        '''\n",
    "        return self.out(temp)"
   ]
  },
  {
   "cell_type": "code",
   "execution_count": 122,
   "id": "7155c24a-379c-406d-a603-bc0d99149119",
   "metadata": {},
   "outputs": [],
   "source": [
    "keras.backend.clear_session()\n",
    "tf.random.set_seed(42)\n",
    "np.random.seed(42)"
   ]
  },
  {
   "cell_type": "code",
   "execution_count": 123,
   "id": "44affb72-4837-4073-811c-c9b798f3af3f",
   "metadata": {},
   "outputs": [],
   "source": [
    "model=ReconstractingRegressor(1)\n",
    "model.compile(optimizer=\"nadam\",loss=\"mse\")"
   ]
  },
  {
   "cell_type": "code",
   "execution_count": 124,
   "id": "aef0b470-c241-4d93-9e48-d9efef33eded",
   "metadata": {},
   "outputs": [
    {
     "name": "stdout",
     "output_type": "stream",
     "text": [
      "Epoch 1/4\n",
      "363/363 [==============================] - 12s 14ms/step - loss: 0.7005 - reconstruction_error: 0.0000e+00\n",
      "Epoch 2/4\n",
      "363/363 [==============================] - 3s 8ms/step - loss: 0.4220 - reconstruction_error: 0.0000e+00\n",
      "Epoch 3/4\n",
      "363/363 [==============================] - 5s 12ms/step - loss: 0.3821 - reconstruction_error: 0.0000e+00\n",
      "Epoch 4/4\n",
      "363/363 [==============================] - 6s 17ms/step - loss: 0.3669 - reconstruction_error: 0.0000e+00\n"
     ]
    },
    {
     "data": {
      "text/plain": [
       "<keras.src.callbacks.History at 0x28046d01ee0>"
      ]
     },
     "execution_count": 124,
     "metadata": {},
     "output_type": "execute_result"
    }
   ],
   "source": [
    "model.fit(X_train_scaled,y_train,epochs=4)"
   ]
  },
  {
   "cell_type": "code",
   "execution_count": 126,
   "id": "b06b1cfc-2cf9-4162-bb2c-dff2a0a2b4c6",
   "metadata": {},
   "outputs": [
    {
     "name": "stdout",
     "output_type": "stream",
     "text": [
      "162/162 [==============================] - 1s 4ms/step\n"
     ]
    }
   ],
   "source": [
    "model_predicted=model.predict(X_test_scaled)"
   ]
  },
  {
   "cell_type": "code",
   "execution_count": 127,
   "id": "3da0c954-e8a6-469a-ace3-6a6daabdf790",
   "metadata": {},
   "outputs": [
    {
     "name": "stdout",
     "output_type": "stream",
     "text": [
      "162/162 [==============================] - 1s 5ms/step - loss: 0.3920 - reconstruction_error: 0.0000e+00\n"
     ]
    },
    {
     "data": {
      "text/plain": [
       "[0.39197298884391785, 0.0]"
      ]
     },
     "execution_count": 127,
     "metadata": {},
     "output_type": "execute_result"
    }
   ],
   "source": [
    "model.evaluate(X_test_scaled,y_test)"
   ]
  }
 ],
 "metadata": {
  "kernelspec": {
   "display_name": "Python 3 (ipykernel)",
   "language": "python",
   "name": "python3"
  },
  "language_info": {
   "codemirror_mode": {
    "name": "ipython",
    "version": 3
   },
   "file_extension": ".py",
   "mimetype": "text/x-python",
   "name": "python",
   "nbconvert_exporter": "python",
   "pygments_lexer": "ipython3",
   "version": "3.8.17"
  }
 },
 "nbformat": 4,
 "nbformat_minor": 5
}

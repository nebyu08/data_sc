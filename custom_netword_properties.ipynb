{
 "cells": [
  {
   "cell_type": "code",
   "execution_count": 40,
   "id": "16be1eab",
   "metadata": {},
   "outputs": [],
   "source": [
    "# creating a tensor\n",
    "import tensorflow as tf\n",
    "\n",
    "tens=tf.constant([[2,3,4],[2,3,4]])"
   ]
  },
  {
   "cell_type": "code",
   "execution_count": 41,
   "id": "23cc1afb",
   "metadata": {},
   "outputs": [
    {
     "data": {
      "text/plain": [
       "(TensorShape([2, 3]), tf.int32)"
      ]
     },
     "execution_count": 41,
     "metadata": {},
     "output_type": "execute_result"
    }
   ],
   "source": [
    "tens.shape,tens.dtype"
   ]
  },
  {
   "cell_type": "code",
   "execution_count": 42,
   "id": "bd343851",
   "metadata": {},
   "outputs": [
    {
     "data": {
      "text/plain": [
       "<tf.Tensor: shape=(2, 2), dtype=int32, numpy=\n",
       "array([[3, 4],\n",
       "       [3, 4]])>"
      ]
     },
     "execution_count": 42,
     "metadata": {},
     "output_type": "execute_result"
    }
   ],
   "source": [
    "tens[:,1:]"
   ]
  },
  {
   "cell_type": "code",
   "execution_count": 43,
   "id": "13c9b245",
   "metadata": {},
   "outputs": [
    {
     "data": {
      "text/plain": [
       "<tf.Tensor: shape=(2, 1), dtype=int32, numpy=\n",
       "array([[3],\n",
       "       [3]])>"
      ]
     },
     "execution_count": 43,
     "metadata": {},
     "output_type": "execute_result"
    }
   ],
   "source": [
    "a=tens[:,1,tf.newaxis]\n",
    "a"
   ]
  },
  {
   "cell_type": "code",
   "execution_count": null,
   "id": "081064ca",
   "metadata": {},
   "outputs": [],
   "source": []
  },
  {
   "cell_type": "code",
   "execution_count": 44,
   "id": "d459edcf",
   "metadata": {},
   "outputs": [
    {
     "data": {
      "text/plain": [
       "<tf.Tensor: shape=(2, 2), dtype=int32, numpy=\n",
       "array([[29, 29],\n",
       "       [29, 29]])>"
      ]
     },
     "execution_count": 44,
     "metadata": {},
     "output_type": "execute_result"
    }
   ],
   "source": [
    "tens @ tf.transpose(tens)\n"
   ]
  },
  {
   "cell_type": "code",
   "execution_count": 45,
   "id": "40ff8201",
   "metadata": {},
   "outputs": [
    {
     "data": {
      "text/plain": [
       "<tf.Tensor: shape=(3, 2), dtype=int32, numpy=\n",
       "array([[2, 2],\n",
       "       [3, 3],\n",
       "       [4, 4]])>"
      ]
     },
     "execution_count": 45,
     "metadata": {},
     "output_type": "execute_result"
    }
   ],
   "source": [
    "tf.transpose(tens)"
   ]
  },
  {
   "cell_type": "code",
   "execution_count": 46,
   "id": "7c66f08b",
   "metadata": {},
   "outputs": [
    {
     "data": {
      "text/plain": [
       "<tf.Tensor: shape=(2, 3), dtype=int32, numpy=\n",
       "array([[2, 3, 4],\n",
       "       [2, 3, 4]])>"
      ]
     },
     "execution_count": 46,
     "metadata": {},
     "output_type": "execute_result"
    }
   ],
   "source": [
    "tens"
   ]
  },
  {
   "cell_type": "code",
   "execution_count": 47,
   "id": "e4464e5a",
   "metadata": {},
   "outputs": [
    {
     "data": {
      "text/plain": [
       "<tf.Tensor: shape=(2, 3), dtype=int32, numpy=\n",
       "array([[12, 13, 14],\n",
       "       [12, 13, 14]])>"
      ]
     },
     "execution_count": 47,
     "metadata": {},
     "output_type": "execute_result"
    }
   ],
   "source": [
    "tens+10"
   ]
  },
  {
   "cell_type": "code",
   "execution_count": 48,
   "id": "674cdd20",
   "metadata": {},
   "outputs": [
    {
     "data": {
      "text/plain": [
       "<tf.Tensor: shape=(2, 2), dtype=int32, numpy=\n",
       "array([[29, 29],\n",
       "       [29, 29]])>"
      ]
     },
     "execution_count": 48,
     "metadata": {},
     "output_type": "execute_result"
    }
   ],
   "source": [
    "tens @ tf.transpose(tens)"
   ]
  },
  {
   "cell_type": "code",
   "execution_count": 49,
   "id": "b0292240",
   "metadata": {},
   "outputs": [
    {
     "data": {
      "text/plain": [
       "array([[23, 26],\n",
       "       [24, 27],\n",
       "       [25, 28]])"
      ]
     },
     "execution_count": 49,
     "metadata": {},
     "output_type": "execute_result"
    }
   ],
   "source": [
    "import numpy as np\n",
    "a=np.array([[23,24,25],[26,27,28]])\n",
    "a.T"
   ]
  },
  {
   "cell_type": "code",
   "execution_count": 50,
   "id": "ba9576a7",
   "metadata": {},
   "outputs": [
    {
     "data": {
      "text/plain": [
       "<tf.Tensor: shape=(3,), dtype=int32, numpy=array([2, 4, 5])>"
      ]
     },
     "execution_count": 50,
     "metadata": {},
     "output_type": "execute_result"
    }
   ],
   "source": [
    "a=np.array([2,4,5])\n",
    "b=tf.constant(a)\n",
    "b"
   ]
  },
  {
   "cell_type": "code",
   "execution_count": 51,
   "id": "ad1eff62",
   "metadata": {},
   "outputs": [
    {
     "data": {
      "text/plain": [
       "tensorflow.python.framework.ops.EagerTensor"
      ]
     },
     "execution_count": 51,
     "metadata": {},
     "output_type": "execute_result"
    }
   ],
   "source": [
    "type(b)"
   ]
  },
  {
   "cell_type": "code",
   "execution_count": 52,
   "id": "a65b87ba",
   "metadata": {},
   "outputs": [
    {
     "data": {
      "text/plain": [
       "<tf.Tensor: shape=(), dtype=int32, numpy=56>"
      ]
     },
     "execution_count": 52,
     "metadata": {},
     "output_type": "execute_result"
    }
   ],
   "source": [
    "tf.constant(2) + tf.constant(54)"
   ]
  },
  {
   "cell_type": "code",
   "execution_count": 53,
   "id": "1ab5e459",
   "metadata": {},
   "outputs": [],
   "source": [
    "a=tf.constant(40,dtype=tf.float64)\n",
    "b=tf.constant(2.)\n",
    "c=b+tf.cast(a,tf.float32)"
   ]
  },
  {
   "cell_type": "code",
   "execution_count": 54,
   "id": "cc0ba84e",
   "metadata": {},
   "outputs": [
    {
     "data": {
      "text/plain": [
       "<tf.Tensor: shape=(), dtype=float32, numpy=42.0>"
      ]
     },
     "execution_count": 54,
     "metadata": {},
     "output_type": "execute_result"
    }
   ],
   "source": [
    "c"
   ]
  },
  {
   "cell_type": "code",
   "execution_count": 55,
   "id": "9a5c874c",
   "metadata": {},
   "outputs": [
    {
     "data": {
      "text/plain": [
       "<tf.Variable 'Variable:0' shape=(2, 3) dtype=int32, numpy=\n",
       "array([[1, 2, 3],\n",
       "       [4, 5, 6]])>"
      ]
     },
     "execution_count": 55,
     "metadata": {},
     "output_type": "execute_result"
    }
   ],
   "source": [
    "v=tf.Variable([[1,2,3],[4,5,6]])\n",
    "v"
   ]
  },
  {
   "cell_type": "code",
   "execution_count": 56,
   "id": "a30fe750",
   "metadata": {},
   "outputs": [
    {
     "data": {
      "text/plain": [
       "<tf.Variable 'UnreadVariable' shape=(2, 3) dtype=int32, numpy=\n",
       "array([[ 2,  4,  6],\n",
       "       [ 8, 10, 12]])>"
      ]
     },
     "execution_count": 56,
     "metadata": {},
     "output_type": "execute_result"
    }
   ],
   "source": [
    "v.assign(2*v)"
   ]
  },
  {
   "cell_type": "code",
   "execution_count": 57,
   "id": "45cdbbe6",
   "metadata": {},
   "outputs": [
    {
     "data": {
      "text/plain": [
       "<tf.Variable 'UnreadVariable' shape=(2, 3) dtype=int32, numpy=\n",
       "array([[ 2,  4,  6],\n",
       "       [ 8, 32, 12]])>"
      ]
     },
     "execution_count": 57,
     "metadata": {},
     "output_type": "execute_result"
    }
   ],
   "source": [
    "v[1,1].assign(32)"
   ]
  },
  {
   "cell_type": "code",
   "execution_count": 58,
   "id": "3e787588",
   "metadata": {},
   "outputs": [
    {
     "data": {
      "text/plain": [
       "<tf.Variable 'UnreadVariable' shape=(2, 3) dtype=int32, numpy=\n",
       "array([[ 2, 90,  6],\n",
       "       [ 8, 90, 12]])>"
      ]
     },
     "execution_count": 58,
     "metadata": {},
     "output_type": "execute_result"
    }
   ],
   "source": [
    "v[:,1].assign(90)"
   ]
  },
  {
   "cell_type": "code",
   "execution_count": 59,
   "id": "df05165a",
   "metadata": {},
   "outputs": [
    {
     "data": {
      "text/plain": [
       "<tf.Variable 'UnreadVariable' shape=(2, 3) dtype=int32, numpy=\n",
       "array([[100,  90,   6],\n",
       "       [  8,  90, 200]])>"
      ]
     },
     "execution_count": 59,
     "metadata": {},
     "output_type": "execute_result"
    }
   ],
   "source": [
    "v.scatter_nd_update(indices=[[0,0],[1,2]],updates=[100,200])"
   ]
  },
  {
   "cell_type": "code",
   "execution_count": 60,
   "id": "0047e2ae",
   "metadata": {},
   "outputs": [
    {
     "data": {
      "text/plain": [
       "<tf.Variable 'Variable:0' shape=(2, 3) dtype=int32, numpy=\n",
       "array([[100,  90,   6],\n",
       "       [  8,  90, 200]])>"
      ]
     },
     "execution_count": 60,
     "metadata": {},
     "output_type": "execute_result"
    }
   ],
   "source": [
    "v"
   ]
  },
  {
   "cell_type": "code",
   "execution_count": 61,
   "id": "f4b9daac",
   "metadata": {},
   "outputs": [
    {
     "data": {
      "text/plain": [
       "'2.11.0'"
      ]
     },
     "execution_count": 61,
     "metadata": {},
     "output_type": "execute_result"
    }
   ],
   "source": [
    "tf.__version__"
   ]
  },
  {
   "cell_type": "code",
   "execution_count": 62,
   "id": "88d7646e",
   "metadata": {},
   "outputs": [],
   "source": [
    "# lets define a huberman loss\n",
    "def huber_fn(y_true,y_pred):\n",
    "    error=y_true-y_pred\n",
    "    is_small_error=tf.abs(error)<1\n",
    "    square_loss=tf.square(error)/2\n",
    "    linear_loss=tf.abs(error)- 0.5\n",
    "    return tf.where(is_small_error,square_loss,liear_loss)"
   ]
  },
  {
   "cell_type": "code",
   "execution_count": 63,
   "id": "53baabe3",
   "metadata": {},
   "outputs": [],
   "source": [
    "# hubberman loss with threshold loss\n",
    "def create_hubber(threshold=1.0):\n",
    "    def hubber_fn(y_true,y_pred):\n",
    "        error=tf.abs(y_true,y_pred)\n",
    "        is_small_error=tf.abs(error)<threshold\n",
    "        square_loss=tf.square(error)/2\n",
    "        linear_loss=threshold*tf.abs(error)-threshold**2/2\n",
    "        return tf.where(is_small_error,sqaure_error,linear_loss)\n",
    "    "
   ]
  },
  {
   "cell_type": "code",
   "execution_count": 64,
   "id": "df04adb1",
   "metadata": {},
   "outputs": [],
   "source": [
    "#lets make it so that can adjust it when u save the model\n",
    "import keras\n",
    "class HubberLoss(keras.losses.Loss):\n",
    "    def __init__(self,threshold=1.0,**kwargs):\n",
    "        self.threshold=threshold\n",
    "        super().__init__(**kwargs)\n",
    "    def call(self,y_true,y_pred):\n",
    "        error=tf.abs(y_true,y_pred)\n",
    "        is_small_error=tf.abs(error)<self.threshold\n",
    "        square_loss=tf.square(error)/2\n",
    "        linear_loss=self.threshold*tf.abs(error)-self.threshold**2/2\n",
    "        return tf.where(is_small_error,sqaure_error,linear_loss)\n",
    "    def get_config(self):\n",
    "        base_config=super().get_config()\n",
    "        return {**base_config,\"threshol\":self.threshold}"
   ]
  },
  {
   "cell_type": "code",
   "execution_count": 65,
   "id": "441f558d",
   "metadata": {},
   "outputs": [],
   "source": [
    "precision=keras.metrics.Precision()"
   ]
  },
  {
   "cell_type": "code",
   "execution_count": 66,
   "id": "29d7ca5d",
   "metadata": {},
   "outputs": [
    {
     "data": {
      "text/plain": [
       "<tf.Tensor: shape=(), dtype=float32, numpy=0.8>"
      ]
     },
     "execution_count": 66,
     "metadata": {},
     "output_type": "execute_result"
    }
   ],
   "source": [
    "precision([0, 1, 1, 1, 0, 1, 0, 1],[1, 1, 0, 1, 0, 1, 0, 1])"
   ]
  },
  {
   "cell_type": "code",
   "execution_count": 67,
   "id": "2c092755",
   "metadata": {},
   "outputs": [
    {
     "data": {
      "text/plain": [
       "[<tf.Variable 'true_positives:0' shape=(1,) dtype=float32, numpy=array([4.], dtype=float32)>,\n",
       " <tf.Variable 'false_positives:0' shape=(1,) dtype=float32, numpy=array([1.], dtype=float32)>]"
      ]
     },
     "execution_count": 67,
     "metadata": {},
     "output_type": "execute_result"
    }
   ],
   "source": [
    "precision.variables"
   ]
  },
  {
   "cell_type": "code",
   "execution_count": 68,
   "id": "ca2ba7db",
   "metadata": {},
   "outputs": [
    {
     "data": {
      "text/plain": [
       "<tf.Tensor: shape=(), dtype=float32, numpy=0.5>"
      ]
     },
     "execution_count": 68,
     "metadata": {},
     "output_type": "execute_result"
    }
   ],
   "source": [
    "precision([0, 1, 0, 0, 1, 0, 1, 1], [1, 0, 1, 1, 0, 0, 0, 0])"
   ]
  },
  {
   "cell_type": "code",
   "execution_count": 69,
   "id": "19271ba2",
   "metadata": {},
   "outputs": [
    {
     "data": {
      "text/plain": [
       "[<tf.Variable 'true_positives:0' shape=(1,) dtype=float32, numpy=array([4.], dtype=float32)>,\n",
       " <tf.Variable 'false_positives:0' shape=(1,) dtype=float32, numpy=array([4.], dtype=float32)>]"
      ]
     },
     "execution_count": 69,
     "metadata": {},
     "output_type": "execute_result"
    }
   ],
   "source": [
    "precision.variables"
   ]
  },
  {
   "cell_type": "markdown",
   "id": "4ede3934",
   "metadata": {},
   "source": [
    "# custome metric...its the same as loss"
   ]
  },
  {
   "cell_type": "code",
   "execution_count": 70,
   "id": "3ea452d5",
   "metadata": {},
   "outputs": [],
   "source": [
    "class HubberMetric(keras.metrics.Metric):\n",
    "    def __init(self,threshold=1.0,*kwargs):\n",
    "        super().__init__(*kwargs)\n",
    "        self.threshold=threshold\n",
    "        self.hubber_fn=create_hubber(threshold)\n",
    "        self.total=self.add_weight(\"total\",initializer=\"zeros\")\n",
    "        self.count=self.add_weight(\"count\",initializer=\"zeros\")\n",
    "    def update_state(self,y_true,y_pred,sample_weight=None):\n",
    "        metric=self.hubber(y_truey_pred)\n",
    "        self.total.assign_add(tf.reduce_sum(metric))\n",
    "        self.count.assign_add(tf.cast(tf.size(y_true),tf.float32))\n",
    "    def result(self):\n",
    "        return self.total/self.count\n",
    "    def get_config(self):\n",
    "        base_config=super().get_config()\n",
    "        return {**base_config,\"threshold\":self.threshold}"
   ]
  },
  {
   "cell_type": "code",
   "execution_count": 71,
   "id": "badb7590",
   "metadata": {},
   "outputs": [],
   "source": [
    "#custom layers\n",
    "exponentia_layer=keras.layers.Lambda(lambda x:tf.exp(x))"
   ]
  },
  {
   "cell_type": "code",
   "execution_count": 72,
   "id": "b1297405",
   "metadata": {},
   "outputs": [],
   "source": [
    "class mydense(keras.layers.Layer):\n",
    "    def __init__(self,units,activation=None,**kwargs):\n",
    "        super().__init__(**kwargs)\n",
    "        self.units=units,\n",
    "        self.activation=keras.activations.get(activation)  \n",
    "    def build(self,batch_input_shape):\n",
    "        self.kernel=self.add_weight(\n",
    "            name=\"kernel\",shape=[batch_input_shape[-1],self.units],\n",
    "            initializer=\"glorot_normal\"\n",
    "        )\n",
    "        self.bias=self.add_weight(\n",
    "            name=\"bias\",shape=[self.units],initializer=\"zeros\"\n",
    "        )\n",
    "        super().build(batch_input_shape)\n",
    "    def call(self,x):\n",
    "        return self.activation(x @ self.kernel + self.bias)\n",
    "    def compute_output_shape(self,batch_input_shape):\n",
    "        return tf.TensorShape(batch_input_shape.as_list()[-1] + [self.units])\n",
    "    def get_config(self):\n",
    "        base_config=super().get_config()\n",
    "        return {**base_config,\"units\":self.units,\"activation\":keras.activations.serialize(self.activation)}"
   ]
  },
  {
   "cell_type": "markdown",
   "id": "ebaf07fe",
   "metadata": {},
   "source": [
    "# making custom model"
   ]
  },
  {
   "cell_type": "code",
   "execution_count": 73,
   "id": "6a0e9e65",
   "metadata": {},
   "outputs": [],
   "source": [
    "# lets make a residual block of code:\n",
    "class residualblock(keras.layers.Layer):\n",
    "    def __init__(self,n_layers,n_neurons,**kwargs):\n",
    "        super().__init__(**kwargs)\n",
    "        self.hidden=[\n",
    "                     keras.layers.Dense(n_neurons,activation=\"elu\",kernel_initializer=\"he_normal\") \n",
    "                     for _ in range(n_layers)\n",
    "                    ]\n",
    "    \n",
    "    def call(self,inputs):\n",
    "        z=inputs\n",
    "        for layer in self.hidden:\n",
    "            z=layer(z)\n",
    "        return inputs+z"
   ]
  },
  {
   "cell_type": "code",
   "execution_count": 74,
   "id": "925b6a14",
   "metadata": {},
   "outputs": [],
   "source": [
    "class residualregressor(keras.Model):\n",
    "    #make the architecture of the model at the constructor\n",
    "    def __init__(self,output_dim,**kwargs):\n",
    "        super().__init__(**kwargs)\n",
    "        self.hidden1=keras.layers.Dense(30,activation=\"elu\",kernel_initializer=\"he_normal\")  #this is the first layer\n",
    "        self.block1=residualblock(2,30)#this is the residual block\n",
    "        self.block2=residualblock(2,30) #this is the residual block\n",
    "        self.out=keras.layers.Dense(output_dim)  #this is the output layer\n",
    "        \n",
    "    def call(self,inputs):\n",
    "        z=self.hidden1(inputs)\n",
    "        for _ in range(4):\n",
    "            z=self.block1(inputs)\n",
    "        z=self.block2(z)\n",
    "        return self.out(z)"
   ]
  },
  {
   "cell_type": "code",
   "execution_count": 75,
   "id": "95599069",
   "metadata": {},
   "outputs": [],
   "source": [
    "t1=residualregressor(4)"
   ]
  },
  {
   "cell_type": "markdown",
   "id": "359c4c41",
   "metadata": {},
   "source": [
    "# making a custom loss functon based on the weight not the predicted outputs"
   ]
  },
  {
   "cell_type": "code",
   "execution_count": 76,
   "id": "3d7826ff",
   "metadata": {},
   "outputs": [],
   "source": [
    "class reconstructregressor(keras.Model):\n",
    "    def __init__(self,output_dim,**kwargs):\n",
    "        super().__init__(**kwargs)\n",
    "        self.hidden=[keras.layers.Dense(30,activation=\"relu\",kernel_initializer=\"lecun_normal\")\n",
    "                     for _ in range(5)\n",
    "                    ]\n",
    "        self.out=keras.layers.Dense(output_dim)\n",
    "    \n",
    "    def build(self,batch_input_shape):\n",
    "        n_inputs=batch_input_shape[-1]\n",
    "        self.reconstruct=keras.layers.Dense(n_inputs)\n",
    "        super.build(batch_input_shape)\n",
    "    \n",
    "    def call(self,inputs):\n",
    "        z=inputs\n",
    "        for layer in self.hidden:\n",
    "            z=layer(z)\n",
    "            \n",
    "        reconstruction=self.reconstruct(z)\n",
    "        recon_loss=tf.reduce_mean(tf.square(reconstruction-inputs))\n",
    "        self.add_loss(0.05*recon_loss)\n",
    "        return self.out(z)\n",
    "    "
   ]
  },
  {
   "cell_type": "code",
   "execution_count": 77,
   "id": "bb258fdf",
   "metadata": {},
   "outputs": [],
   "source": [
    "def f(w1,w2):\n",
    "    return 3*w1**2+2*w1*w2"
   ]
  },
  {
   "cell_type": "code",
   "execution_count": 79,
   "id": "774986a7",
   "metadata": {},
   "outputs": [
    {
     "data": {
      "text/plain": [
       "[<tf.Tensor: shape=(), dtype=float32, numpy=36.0>,\n",
       " <tf.Tensor: shape=(), dtype=float32, numpy=10.0>]"
      ]
     },
     "execution_count": 79,
     "metadata": {},
     "output_type": "execute_result"
    }
   ],
   "source": [
    "w1,w2=tf.Variable(5.),tf.Variable(3.)\n",
    "with tf.GradientTape() as tape:\n",
    "    z=f(w1,w2)\n",
    "gradient=tape.gradient(z,[w1,w2])\n",
    "\n",
    "gradient"
   ]
  },
  {
   "cell_type": "code",
   "execution_count": 85,
   "id": "b2875d72",
   "metadata": {},
   "outputs": [
    {
     "data": {
      "text/plain": [
       "[<tf.Tensor: shape=(), dtype=float32, numpy=36.0>,\n",
       " <tf.Tensor: shape=(), dtype=float32, numpy=10.0>]"
      ]
     },
     "execution_count": 85,
     "metadata": {},
     "output_type": "execute_result"
    }
   ],
   "source": [
    "c1, c2 = tf.constant(5.), tf.constant(3.)\n",
    "with tf.GradientTape() as tape:\n",
    "    tape.watch(c1)  #it make the gradient watch the constant vairables\n",
    "    tape.watch(c2)\n",
    "    \n",
    "    z = f(c1, c2)\n",
    "gradients = tape.gradient(z, [c1, c2]) \n",
    "gradients"
   ]
  },
  {
   "cell_type": "code",
   "execution_count": null,
   "id": "a514982b",
   "metadata": {},
   "outputs": [],
   "source": []
  }
 ],
 "metadata": {
  "kernelspec": {
   "display_name": "Python 3 (ipykernel)",
   "language": "python",
   "name": "python3"
  },
  "language_info": {
   "codemirror_mode": {
    "name": "ipython",
    "version": 3
   },
   "file_extension": ".py",
   "mimetype": "text/x-python",
   "name": "python",
   "nbconvert_exporter": "python",
   "pygments_lexer": "ipython3",
   "version": "3.8.17"
  }
 },
 "nbformat": 4,
 "nbformat_minor": 5
}

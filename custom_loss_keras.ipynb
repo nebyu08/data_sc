{
 "cells": [
  {
   "cell_type": "code",
   "execution_count": 3,
   "id": "6a87e3dd-67ed-4e78-8d3e-93ef9dbba4e8",
   "metadata": {},
   "outputs": [],
   "source": [
    "import numpy as np\n",
    "import tensorflow as tf\n",
    "import keras\n",
    "import matplotlib.pyplot as plt"
   ]
  },
  {
   "cell_type": "code",
   "execution_count": 4,
   "id": "dc146ec2-2b64-4f63-9222-eeae0ca6b2d3",
   "metadata": {},
   "outputs": [],
   "source": [
    "from sklearn.datasets import fetch_california_housing\n",
    "from sklearn.model_selection import train_test_split\n",
    "from sklearn.preprocessing import StandardScaler\n",
    "\n",
    "housing = fetch_california_housing()\n",
    "X_train_full, X_test, y_train_full, y_test = train_test_split(\n",
    "    housing.data, housing.target.reshape(-1, 1), random_state=42)\n",
    "X_train, X_valid, y_train, y_valid = train_test_split(\n",
    "    X_train_full, y_train_full, random_state=42)\n",
    "\n",
    "scaler = StandardScaler()\n",
    "X_train_scaled = scaler.fit_transform(X_train)\n",
    "X_valid_scaled = scaler.transform(X_valid)\n",
    "X_test_scaled = scaler.transform(X_test)"
   ]
  },
  {
   "cell_type": "code",
   "execution_count": 5,
   "id": "2ef4bfc0-2c5c-467a-960e-dcd5ebeabe2d",
   "metadata": {},
   "outputs": [],
   "source": [
    "def huber_fn(y_true, y_pred):\n",
    "    error = y_true - y_pred\n",
    "    is_small_error = tf.abs(error) < 1\n",
    "    squared_loss = tf.square(error) / 2\n",
    "    linear_loss  = tf.abs(error) - 0.5\n",
    "    return tf.where(is_small_error, squared_loss, linear_loss)"
   ]
  },
  {
   "cell_type": "code",
   "execution_count": 6,
   "id": "91751306-727a-459f-bada-00ffb5de6f63",
   "metadata": {},
   "outputs": [],
   "source": [
    "def huber_fn(y_true, y_pred):\n",
    "    error = y_true - y_pred\n",
    "    is_small_error = tf.abs(error) < 1\n",
    "    squared_loss = tf.square(error) / 2\n",
    "    linear_loss  = tf.abs(error) - 0.5\n",
    "    return tf.where(is_small_error, squared_loss, linear_loss)"
   ]
  },
  {
   "cell_type": "code",
   "execution_count": 7,
   "id": "f040561a-e470-433c-b55f-cd5d932d6782",
   "metadata": {},
   "outputs": [
    {
     "data": {
      "text/plain": [
       "[<matplotlib.lines.Line2D at 0x2425482ba30>]"
      ]
     },
     "execution_count": 7,
     "metadata": {},
     "output_type": "execute_result"
    },
    {
     "data": {
      "image/png": "[encoded data removed]",
      "text/plain": [
       "<Figure size 800x350 with 1 Axes>"
      ]
     },
     "metadata": {},
     "output_type": "display_data"
    }
   ],
   "source": [
    "plt.figure(figsize=(8, 3.5))\n",
    "z = np.linspace(-4, 4, 200)\n",
    "plt.plot(z, huber_fn(0, z), \"b-\", linewidth=2, label=\"huber($z$)\")"
   ]
  },
  {
   "cell_type": "code",
   "execution_count": 8,
   "id": "bbe76082-8749-4854-9085-ff84ebed554e",
   "metadata": {},
   "outputs": [],
   "source": [
    "input_shape = X_train.shape[1:]\n",
    "\n",
    "model = keras.models.Sequential([\n",
    "    keras.layers.Dense(30, activation=\"selu\", kernel_initializer=\"lecun_normal\",\n",
    "                       input_shape=input_shape),\n",
    "    keras.layers.Dense(1),\n",
    "])"
   ]
  },
  {
   "cell_type": "code",
   "execution_count": 9,
   "id": "8e373eae-3990-415a-945d-8424c51faeba",
   "metadata": {},
   "outputs": [],
   "source": [
    "model.compile(loss=huber_fn, optimizer=\"nadam\", metrics=[\"mae\"])"
   ]
  },
  {
   "cell_type": "code",
   "execution_count": 10,
   "id": "dc7d595e-7bf8-4e08-b489-a74898ee26ae",
   "metadata": {},
   "outputs": [
    {
     "name": "stdout",
     "output_type": "stream",
     "text": [
      "Epoch 1/2\n",
      "363/363 [==============================] - 44s 57ms/step - loss: 0.5615 - mae: 0.9235 - val_loss: 0.2651 - val_mae: 0.5605\n",
      "Epoch 2/2\n",
      "363/363 [==============================] - 2s 4ms/step - loss: 0.2207 - mae: 0.5156 - val_loss: 0.2260 - val_mae: 0.5118\n"
     ]
    },
    {
     "data": {
      "text/plain": [
       "<keras.src.callbacks.History at 0x24254a8fee0>"
      ]
     },
     "execution_count": 10,
     "metadata": {},
     "output_type": "execute_result"
    }
   ],
   "source": [
    "model.fit(X_train_scaled, y_train, epochs=2,\n",
    "          validation_data=(X_valid_scaled, y_valid))"
   ]
  },
  {
   "cell_type": "code",
   "execution_count": 11,
   "id": "5170e8d0-fd72-47a8-a53f-8273e266a85a",
   "metadata": {},
   "outputs": [
    {
     "name": "stderr",
     "output_type": "stream",
     "text": [
      "C:\\Users\\dread-miles\\miniconda3\\envs\\snakey\\lib\\site-packages\\keras\\src\\engine\\training.py:3000: UserWarning: You are saving your model as an HDF5 file via `model.save()`. This file format is considered legacy. We recommend using instead the native Keras format, e.g. `model.save('my_model.keras')`.\n",
      "  saving_api.save_model(\n"
     ]
    }
   ],
   "source": [
    "model.save(\"my_custom_loss_model.h5\")"
   ]
  },
  {
   "cell_type": "code",
   "execution_count": 12,
   "id": "b7122292-b74c-4869-8a33-21e1a0bd48de",
   "metadata": {},
   "outputs": [],
   "source": [
    "load_model=keras.models.load_model(\"my_custom_loss_model.h5\",custom_objects={\"huber_fn\":huber_fn})"
   ]
  },
  {
   "cell_type": "code",
   "execution_count": 13,
   "id": "99f0149b-9b7d-4a2f-9858-6529fc109523",
   "metadata": {},
   "outputs": [],
   "source": [
    "def create_huber(threshold):\n",
    "    def huber_fn(y_true,y_pred):\n",
    "        error=y_true-y_pred\n",
    "        is_small_error=tf.abs(error)<threshold\n",
    "        squared_loss=tf.square(error)/2\n",
    "        linear_loss=threshold*tf.abs(error)-threshold**2/2\n",
    "        return tf.where(is_small_error,squared_loss,linear_loss)\n",
    "    return huber_fn"
   ]
  },
  {
   "cell_type": "code",
   "execution_count": 14,
   "id": "6f01cc9d-3669-4c27-acc8-f238105fb733",
   "metadata": {},
   "outputs": [],
   "source": [
    "# lets put some threshold into our loss function\n",
    "model.compile(loss=create_huber(1.0),optimizer=\"nadam\",metrics=[\"mae\"])"
   ]
  },
  {
   "cell_type": "code",
   "execution_count": 15,
   "id": "50cda733-8ee1-4de2-abb6-8ec12afc0de5",
   "metadata": {},
   "outputs": [
    {
     "name": "stdout",
     "output_type": "stream",
     "text": [
      "Epoch 1/3\n",
      "363/363 [==============================] - 8s 8ms/step - loss: 0.2063 - mae: 0.4965 - val_loss: 343.2182 - val_mae: 343.7182\n",
      "Epoch 2/3\n",
      "363/363 [==============================] - 2s 7ms/step - loss: 0.1981 - mae: 0.4846 - val_loss: 275.9564 - val_mae: 276.4564\n",
      "Epoch 3/3\n",
      "363/363 [==============================] - 3s 7ms/step - loss: 0.1928 - mae: 0.4766 - val_loss: 275.6290 - val_mae: 276.1290\n"
     ]
    },
    {
     "data": {
      "text/plain": [
       "<keras.src.callbacks.History at 0x24258f8cfa0>"
      ]
     },
     "execution_count": 15,
     "metadata": {},
     "output_type": "execute_result"
    }
   ],
   "source": [
    "model.fit(X_train_scaled,y_train,epochs=3,validation_data=(X_valid,y_valid))"
   ]
  },
  {
   "cell_type": "code",
   "execution_count": 16,
   "id": "c4cc36db-a9f5-4cde-97b1-e326935f54d1",
   "metadata": {},
   "outputs": [],
   "source": [
    "# lets customize from the keras \n",
    "class HubberLoss(keras.losses.Loss):\n",
    "    def __init__(self,threshold,**kwargs):\n",
    "        self.threshold=threshold\n",
    "        super().__init__(**kwargs)\n",
    "    def call(self,y_true,y_pred):\n",
    "        error=y_true-y_pred\n",
    "        is_small_error=tf.abs(error)<self.threshold\n",
    "        squared_loss=tf.square(error)/2\n",
    "        linear_loss=self.threshold * tf.abs(error)-self.threshold**2/2\n",
    "        return tf.where(is_small_error,squared_loss,linear_loss)\n",
    "    def get_config(self):\n",
    "        base_config=super().get_config()\n",
    "        return {**base_config,\"threshold\":self.threshold}"
   ]
  },
  {
   "cell_type": "code",
   "execution_count": 17,
   "id": "00ff3156-d03c-4dc3-9f14-e1a55b46cbfe",
   "metadata": {},
   "outputs": [],
   "source": [
    "model2=keras.models.Sequential(\n",
    "    [\n",
    "        keras.layers.Dense(30,activation=\"selu\",kernel_initializer=\"lecun_normal\"),\n",
    "        keras.layers.Dense(1)\n",
    "    ]\n",
    ")"
   ]
  },
  {
   "cell_type": "code",
   "execution_count": 18,
   "id": "32834e13-b313-49b0-afa1-1172fa8707b7",
   "metadata": {},
   "outputs": [],
   "source": [
    "model2.compile(loss=HubberLoss(2.),optimizer=\"nadam\",metrics=[\"mse\"])"
   ]
  },
  {
   "cell_type": "code",
   "execution_count": 19,
   "id": "991f5600-2b1c-4fc5-b906-0f789d87539c",
   "metadata": {},
   "outputs": [
    {
     "name": "stdout",
     "output_type": "stream",
     "text": [
      "Epoch 1/5\n",
      "363/363 [==============================] - 9s 8ms/step - loss: 0.8217 - mse: 2.0004 - val_loss: 57.3825 - val_mse: 2351.5132\n",
      "Epoch 2/5\n",
      "363/363 [==============================] - 5s 13ms/step - loss: 0.2518 - mse: 0.5843 - val_loss: 198.9100 - val_mse: 10856.0234\n",
      "Epoch 3/5\n",
      "363/363 [==============================] - 4s 12ms/step - loss: 0.2345 - mse: 0.4838 - val_loss: 331.7575 - val_mse: 33582.9531\n",
      "Epoch 4/5\n",
      "363/363 [==============================] - 2s 5ms/step - loss: 0.2267 - mse: 0.4648 - val_loss: 413.5237 - val_mse: 53669.3164\n",
      "Epoch 5/5\n",
      "363/363 [==============================] - 2s 5ms/step - loss: 0.2195 - mse: 0.4480 - val_loss: 445.3784 - val_mse: 61341.3359\n"
     ]
    },
    {
     "data": {
      "text/plain": [
       "<keras.src.callbacks.History at 0x24259207af0>"
      ]
     },
     "execution_count": 19,
     "metadata": {},
     "output_type": "execute_result"
    }
   ],
   "source": [
    "model2.fit(X_train_scaled,y_train,epochs=5,validation_data=(X_valid,y_valid))"
   ]
  },
  {
   "cell_type": "code",
   "execution_count": 20,
   "id": "496936e9-aa6a-455f-b570-6d072b37e814",
   "metadata": {},
   "outputs": [],
   "source": [
    "model2.save(\"my_custom_loss_fn.h5\")"
   ]
  },
  {
   "cell_type": "code",
   "execution_count": null,
   "id": "5ffe5ed6-153b-4369-ac2b-8328610d7f7e",
   "metadata": {},
   "outputs": [],
   "source": []
  },
  {
   "cell_type": "code",
   "execution_count": null,
   "id": "9101435d-2fa0-474a-a060-96a0a8cea1e9",
   "metadata": {},
   "outputs": [],
   "source": []
  }
 ],
 "metadata": {
  "kernelspec": {
   "display_name": "Python 3 (ipykernel)",
   "language": "python",
   "name": "python3"
  },
  "language_info": {
   "codemirror_mode": {
    "name": "ipython",
    "version": 3
   },
   "file_extension": ".py",
   "mimetype": "text/x-python",
   "name": "python",
   "nbconvert_exporter": "python",
   "pygments_lexer": "ipython3",
   "version": "3.8.17"
  }
 },
 "nbformat": 4,
 "nbformat_minor": 5
}

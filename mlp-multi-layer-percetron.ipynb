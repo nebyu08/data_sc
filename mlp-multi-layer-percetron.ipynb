{
 "cells": [
  {
   "cell_type": "code",
   "execution_count": 1,
   "id": "2f7edac0",
   "metadata": {
    "_cell_guid": "b1076dfc-b9ad-4769-8c92-a6c4dae69d19",
    "_uuid": "8f2839f25d086af736a60e9eeb907d3b93b6e0e5",
    "execution": {
     "iopub.execute_input": "2023-08-30T09:39:26.808920Z",
     "iopub.status.busy": "2023-08-30T09:39:26.808344Z",
     "iopub.status.idle": "2023-08-30T09:39:26.819483Z",
     "shell.execute_reply": "2023-08-30T09:39:26.818090Z"
    },
    "papermill": {
     "duration": 0.019977,
     "end_time": "2023-08-30T09:39:26.822017",
     "exception": false,
     "start_time": "2023-08-30T09:39:26.802040",
     "status": "completed"
    },
    "tags": []
   },
   "outputs": [],
   "source": [
    "import pandas as pd\n",
    "import numpy as np\n",
    "import matplotlib.pyplot as plt"
   ]
  },
  {
   "cell_type": "code",
   "execution_count": 2,
   "id": "c09900eb",
   "metadata": {
    "execution": {
     "iopub.execute_input": "2023-08-30T09:39:26.831166Z",
     "iopub.status.busy": "2023-08-30T09:39:26.830768Z",
     "iopub.status.idle": "2023-08-30T09:39:26.836663Z",
     "shell.execute_reply": "2023-08-30T09:39:26.835529Z"
    },
    "papermill": {
     "duration": 0.013949,
     "end_time": "2023-08-30T09:39:26.839857",
     "exception": false,
     "start_time": "2023-08-30T09:39:26.825908",
     "status": "completed"
    },
    "tags": []
   },
   "outputs": [],
   "source": [
    "def forward(X,w1,b1,W2,b2):\n",
    "    #sigmoid \n",
    "    z=1/(1+np.exp(-(X.dot(W1) + b)))\n",
    "    \n",
    "    a=z.dot(W1)+b2\n",
    "    expa=np.exp(a)\n",
    "    y=expa/expa.sum(axis=1,keepdims=True)\n",
    "    \n",
    "    return y,z"
   ]
  },
  {
   "cell_type": "code",
   "execution_count": 3,
   "id": "f1970d45",
   "metadata": {
    "execution": {
     "iopub.execute_input": "2023-08-30T09:39:26.851179Z",
     "iopub.status.busy": "2023-08-30T09:39:26.850546Z",
     "iopub.status.idle": "2023-08-30T09:39:26.855147Z",
     "shell.execute_reply": "2023-08-30T09:39:26.854492Z"
    },
    "papermill": {
     "duration": 0.01191,
     "end_time": "2023-08-30T09:39:26.857459",
     "exception": false,
     "start_time": "2023-08-30T09:39:26.845549",
     "status": "completed"
    },
    "tags": []
   },
   "outputs": [],
   "source": [
    "def derivative_w1(X,Z,T,Y,W2):\n",
    "    return X.T.dot( ( ( Y-T ).dot(W2.T) * ( Z*(1 - Z) ) ) )"
   ]
  },
  {
   "cell_type": "code",
   "execution_count": 4,
   "id": "f1e403e5",
   "metadata": {
    "execution": {
     "iopub.execute_input": "2023-08-30T09:39:26.866628Z",
     "iopub.status.busy": "2023-08-30T09:39:26.866060Z",
     "iopub.status.idle": "2023-08-30T09:39:26.870885Z",
     "shell.execute_reply": "2023-08-30T09:39:26.869580Z"
    },
    "papermill": {
     "duration": 0.011616,
     "end_time": "2023-08-30T09:39:26.872977",
     "exception": false,
     "start_time": "2023-08-30T09:39:26.861361",
     "status": "completed"
    },
    "tags": []
   },
   "outputs": [],
   "source": [
    "def derivative_w2(Z,T,Y):\n",
    "    return Z.T.dot(Y-T)"
   ]
  },
  {
   "cell_type": "code",
   "execution_count": 5,
   "id": "20a6d0f8",
   "metadata": {
    "execution": {
     "iopub.execute_input": "2023-08-30T09:39:26.882336Z",
     "iopub.status.busy": "2023-08-30T09:39:26.881948Z",
     "iopub.status.idle": "2023-08-30T09:39:26.886613Z",
     "shell.execute_reply": "2023-08-30T09:39:26.885279Z"
    },
    "papermill": {
     "duration": 0.012034,
     "end_time": "2023-08-30T09:39:26.888914",
     "exception": false,
     "start_time": "2023-08-30T09:39:26.876880",
     "status": "completed"
    },
    "tags": []
   },
   "outputs": [],
   "source": [
    "def derivative_b2(T,Y):\n",
    "    return (Y-T).sum(axis=0)"
   ]
  },
  {
   "cell_type": "code",
   "execution_count": 6,
   "id": "8c122319",
   "metadata": {
    "execution": {
     "iopub.execute_input": "2023-08-30T09:39:26.898198Z",
     "iopub.status.busy": "2023-08-30T09:39:26.897834Z",
     "iopub.status.idle": "2023-08-30T09:39:26.902369Z",
     "shell.execute_reply": "2023-08-30T09:39:26.901418Z"
    },
    "papermill": {
     "duration": 0.011591,
     "end_time": "2023-08-30T09:39:26.904279",
     "exception": false,
     "start_time": "2023-08-30T09:39:26.892688",
     "status": "completed"
    },
    "tags": []
   },
   "outputs": [],
   "source": [
    "def derivative_w1(X,Z,T,Y,W2):\n",
    "    return X.T.dot((Y-T).dot(W2.dot(W2)*(Z*(1-Z))))"
   ]
  },
  {
   "cell_type": "code",
   "execution_count": 7,
   "id": "368690b9",
   "metadata": {
    "execution": {
     "iopub.execute_input": "2023-08-30T09:39:26.912874Z",
     "iopub.status.busy": "2023-08-30T09:39:26.912119Z",
     "iopub.status.idle": "2023-08-30T09:39:26.916374Z",
     "shell.execute_reply": "2023-08-30T09:39:26.915682Z"
    },
    "papermill": {
     "duration": 0.009916,
     "end_time": "2023-08-30T09:39:26.917850",
     "exception": false,
     "start_time": "2023-08-30T09:39:26.907934",
     "status": "completed"
    },
    "tags": []
   },
   "outputs": [],
   "source": [
    "def derivative_b1(Z, T, Y, W2):\n",
    "     return (( Y-T ).dot(W2.T) * ( Z*(1 - Z) )).sum(axis=0) # for sigmoid"
   ]
  },
  {
   "cell_type": "code",
   "execution_count": null,
   "id": "03f6610c",
   "metadata": {
    "papermill": {
     "duration": 0.003149,
     "end_time": "2023-08-30T09:39:26.924567",
     "exception": false,
     "start_time": "2023-08-30T09:39:26.921418",
     "status": "completed"
    },
    "tags": []
   },
   "outputs": [],
   "source": []
  }
 ],
 "kernelspec": {
  "display_name": "Python 3",
  "language": "python",
  "name": "python3"
 },
 "language_info": {
  "codemirror_mode": {
   "name": "ipython",
   "version": 3
  },
  "file_extension": ".py",
  "mimetype": "text/x-python",
  "name": "python",
  "nbconvert_exporter": "python",
  "pygments_lexer": "ipython3",
  "version": "3.6.4"
 },
 "metadata": {
  "kernelspec": {
   "display_name": "Python 3",
   "language": "python",
   "name": "python3"
  },
  "language_info": {
   "codemirror_mode": {
    "name": "ipython",
    "version": 3
   },
   "file_extension": ".py",
   "mimetype": "text/x-python",
   "name": "python",
   "nbconvert_exporter": "python",
   "pygments_lexer": "ipython3",
   "version": "3.10.12"
  },
  "papermill": {
   "default_parameters": {},
   "duration": 9.410107,
   "end_time": "2023-08-30T09:39:27.748629",
   "environment_variables": {},
   "exception": null,
   "input_path": "__notebook__.ipynb",
   "output_path": "__notebook__.ipynb",
   "parameters": {},
   "start_time": "2023-08-30T09:39:18.338522",
   "version": "2.4.0"
  }
 },
 "nbformat": 4,
 "nbformat_minor": 5
}

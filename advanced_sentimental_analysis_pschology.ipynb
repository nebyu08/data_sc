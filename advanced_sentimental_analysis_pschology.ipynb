{
  "nbformat": 4,
  "nbformat_minor": 0,
  "metadata": {
    "colab": {
      "provenance": [],
      "gpuType": "T4",
      "authorship_tag": "ABX9TyPBtrIyfuMN9bM0sZuG49a6",
      "include_colab_link": true
    },
    "kernelspec": {
      "name": "python3",
      "display_name": "Python 3"
    },
    "language_info": {
      "name": "python"
    },
    "accelerator": "GPU"
  },
  "cells": [
    {
      "cell_type": "markdown",
      "metadata": {
        "id": "view-in-github",
        "colab_type": "text"
      },
      "source": [
        "<a href=\"https://colab.research.google.com/github/nebyu08/data_sc/blob/main/advanced_sentimental_analysis_pschology.ipynb\" target=\"_parent\"><img src=\"https://colab.research.google.com/assets/colab-badge.svg\" alt=\"Open In Colab\"/></a>"
      ]
    },
    {
      "cell_type": "code",
      "execution_count": 1,
      "metadata": {
        "colab": {
          "base_uri": "https://localhost:8080/"
        },
        "id": "hkEux3CGBWoY",
        "outputId": "91ca8757-500d-44dc-c6ab-9869ee671171"
      },
      "outputs": [
        {
          "output_type": "stream",
          "name": "stdout",
          "text": [
            "Requirement already satisfied: torch in /usr/local/lib/python3.10/dist-packages (2.0.1+cu118)\n",
            "Collecting transformers\n",
            "  Downloading transformers-4.30.2-py3-none-any.whl (7.2 MB)\n",
            "\u001b[2K     \u001b[90m━━━━━━━━━━━━━━━━━━━━━━━━━━━━━━━━━━━━━━━━\u001b[0m \u001b[32m7.2/7.2 MB\u001b[0m \u001b[31m78.9 MB/s\u001b[0m eta \u001b[36m0:00:00\u001b[0m\n",
            "\u001b[?25hRequirement already satisfied: filelock in /usr/local/lib/python3.10/dist-packages (from torch) (3.12.2)\n",
            "Requirement already satisfied: typing-extensions in /usr/local/lib/python3.10/dist-packages (from torch) (4.6.3)\n",
            "Requirement already satisfied: sympy in /usr/local/lib/python3.10/dist-packages (from torch) (1.11.1)\n",
            "Requirement already satisfied: networkx in /usr/local/lib/python3.10/dist-packages (from torch) (3.1)\n",
            "Requirement already satisfied: jinja2 in /usr/local/lib/python3.10/dist-packages (from torch) (3.1.2)\n",
            "Requirement already satisfied: triton==2.0.0 in /usr/local/lib/python3.10/dist-packages (from torch) (2.0.0)\n",
            "Requirement already satisfied: cmake in /usr/local/lib/python3.10/dist-packages (from triton==2.0.0->torch) (3.25.2)\n",
            "Requirement already satisfied: lit in /usr/local/lib/python3.10/dist-packages (from triton==2.0.0->torch) (16.0.6)\n",
            "Collecting huggingface-hub<1.0,>=0.14.1 (from transformers)\n",
            "  Downloading huggingface_hub-0.16.4-py3-none-any.whl (268 kB)\n",
            "\u001b[2K     \u001b[90m━━━━━━━━━━━━━━━━━━━━━━━━━━━━━━━━━━━━━━\u001b[0m \u001b[32m268.8/268.8 kB\u001b[0m \u001b[31m33.2 MB/s\u001b[0m eta \u001b[36m0:00:00\u001b[0m\n",
            "\u001b[?25hRequirement already satisfied: numpy>=1.17 in /usr/local/lib/python3.10/dist-packages (from transformers) (1.22.4)\n",
            "Requirement already satisfied: packaging>=20.0 in /usr/local/lib/python3.10/dist-packages (from transformers) (23.1)\n",
            "Requirement already satisfied: pyyaml>=5.1 in /usr/local/lib/python3.10/dist-packages (from transformers) (6.0)\n",
            "Requirement already satisfied: regex!=2019.12.17 in /usr/local/lib/python3.10/dist-packages (from transformers) (2022.10.31)\n",
            "Requirement already satisfied: requests in /usr/local/lib/python3.10/dist-packages (from transformers) (2.27.1)\n",
            "Collecting tokenizers!=0.11.3,<0.14,>=0.11.1 (from transformers)\n",
            "  Downloading tokenizers-0.13.3-cp310-cp310-manylinux_2_17_x86_64.manylinux2014_x86_64.whl (7.8 MB)\n",
            "\u001b[2K     \u001b[90m━━━━━━━━━━━━━━━━━━━━━━━━━━━━━━━━━━━━━━━━\u001b[0m \u001b[32m7.8/7.8 MB\u001b[0m \u001b[31m102.1 MB/s\u001b[0m eta \u001b[36m0:00:00\u001b[0m\n",
            "\u001b[?25hCollecting safetensors>=0.3.1 (from transformers)\n",
            "  Downloading safetensors-0.3.1-cp310-cp310-manylinux_2_17_x86_64.manylinux2014_x86_64.whl (1.3 MB)\n",
            "\u001b[2K     \u001b[90m━━━━━━━━━━━━━━━━━━━━━━━━━━━━━━━━━━━━━━━━\u001b[0m \u001b[32m1.3/1.3 MB\u001b[0m \u001b[31m86.5 MB/s\u001b[0m eta \u001b[36m0:00:00\u001b[0m\n",
            "\u001b[?25hRequirement already satisfied: tqdm>=4.27 in /usr/local/lib/python3.10/dist-packages (from transformers) (4.65.0)\n",
            "Requirement already satisfied: fsspec in /usr/local/lib/python3.10/dist-packages (from huggingface-hub<1.0,>=0.14.1->transformers) (2023.6.0)\n",
            "Requirement already satisfied: MarkupSafe>=2.0 in /usr/local/lib/python3.10/dist-packages (from jinja2->torch) (2.1.3)\n",
            "Requirement already satisfied: urllib3<1.27,>=1.21.1 in /usr/local/lib/python3.10/dist-packages (from requests->transformers) (1.26.16)\n",
            "Requirement already satisfied: certifi>=2017.4.17 in /usr/local/lib/python3.10/dist-packages (from requests->transformers) (2023.5.7)\n",
            "Requirement already satisfied: charset-normalizer~=2.0.0 in /usr/local/lib/python3.10/dist-packages (from requests->transformers) (2.0.12)\n",
            "Requirement already satisfied: idna<4,>=2.5 in /usr/local/lib/python3.10/dist-packages (from requests->transformers) (3.4)\n",
            "Requirement already satisfied: mpmath>=0.19 in /usr/local/lib/python3.10/dist-packages (from sympy->torch) (1.3.0)\n",
            "Installing collected packages: tokenizers, safetensors, huggingface-hub, transformers\n",
            "Successfully installed huggingface-hub-0.16.4 safetensors-0.3.1 tokenizers-0.13.3 transformers-4.30.2\n",
            "Requirement already satisfied: torch in /usr/local/lib/python3.10/dist-packages (2.0.1+cu118)\n",
            "Requirement already satisfied: transformers in /usr/local/lib/python3.10/dist-packages (4.30.2)\n",
            "Requirement already satisfied: filelock in /usr/local/lib/python3.10/dist-packages (from torch) (3.12.2)\n",
            "Requirement already satisfied: typing-extensions in /usr/local/lib/python3.10/dist-packages (from torch) (4.6.3)\n",
            "Requirement already satisfied: sympy in /usr/local/lib/python3.10/dist-packages (from torch) (1.11.1)\n",
            "Requirement already satisfied: networkx in /usr/local/lib/python3.10/dist-packages (from torch) (3.1)\n",
            "Requirement already satisfied: jinja2 in /usr/local/lib/python3.10/dist-packages (from torch) (3.1.2)\n",
            "Requirement already satisfied: triton==2.0.0 in /usr/local/lib/python3.10/dist-packages (from torch) (2.0.0)\n",
            "Requirement already satisfied: cmake in /usr/local/lib/python3.10/dist-packages (from triton==2.0.0->torch) (3.25.2)\n",
            "Requirement already satisfied: lit in /usr/local/lib/python3.10/dist-packages (from triton==2.0.0->torch) (16.0.6)\n",
            "Requirement already satisfied: huggingface-hub<1.0,>=0.14.1 in /usr/local/lib/python3.10/dist-packages (from transformers) (0.16.4)\n",
            "Requirement already satisfied: numpy>=1.17 in /usr/local/lib/python3.10/dist-packages (from transformers) (1.22.4)\n",
            "Requirement already satisfied: packaging>=20.0 in /usr/local/lib/python3.10/dist-packages (from transformers) (23.1)\n",
            "Requirement already satisfied: pyyaml>=5.1 in /usr/local/lib/python3.10/dist-packages (from transformers) (6.0)\n",
            "Requirement already satisfied: regex!=2019.12.17 in /usr/local/lib/python3.10/dist-packages (from transformers) (2022.10.31)\n",
            "Requirement already satisfied: requests in /usr/local/lib/python3.10/dist-packages (from transformers) (2.27.1)\n",
            "Requirement already satisfied: tokenizers!=0.11.3,<0.14,>=0.11.1 in /usr/local/lib/python3.10/dist-packages (from transformers) (0.13.3)\n",
            "Requirement already satisfied: safetensors>=0.3.1 in /usr/local/lib/python3.10/dist-packages (from transformers) (0.3.1)\n",
            "Requirement already satisfied: tqdm>=4.27 in /usr/local/lib/python3.10/dist-packages (from transformers) (4.65.0)\n",
            "Requirement already satisfied: fsspec in /usr/local/lib/python3.10/dist-packages (from huggingface-hub<1.0,>=0.14.1->transformers) (2023.6.0)\n",
            "Requirement already satisfied: MarkupSafe>=2.0 in /usr/local/lib/python3.10/dist-packages (from jinja2->torch) (2.1.3)\n",
            "Requirement already satisfied: urllib3<1.27,>=1.21.1 in /usr/local/lib/python3.10/dist-packages (from requests->transformers) (1.26.16)\n",
            "Requirement already satisfied: certifi>=2017.4.17 in /usr/local/lib/python3.10/dist-packages (from requests->transformers) (2023.5.7)\n",
            "Requirement already satisfied: charset-normalizer~=2.0.0 in /usr/local/lib/python3.10/dist-packages (from requests->transformers) (2.0.12)\n",
            "Requirement already satisfied: idna<4,>=2.5 in /usr/local/lib/python3.10/dist-packages (from requests->transformers) (3.4)\n",
            "Requirement already satisfied: mpmath>=0.19 in /usr/local/lib/python3.10/dist-packages (from sympy->torch) (1.3.0)\n"
          ]
        }
      ],
      "source": [
        "!pip install torch transformers\n",
        "!pip install torch transformers"
      ]
    },
    {
      "cell_type": "markdown",
      "source": [
        "# define the model"
      ],
      "metadata": {
        "id": "6ZiaebeDzJIH"
      }
    },
    {
      "cell_type": "code",
      "source": [
        "import torch\n",
        "import transformers\n",
        "\n",
        "# Load the model and tokenizer\n",
        "model = transformers.AutoModelForSequenceClassification.from_pretrained(\"facebook/bart-large-mnli\")\n",
        "tokenizer = transformers.AutoTokenizer.from_pretrained(\"facebook/bart-large-mnli\")\n"
      ],
      "metadata": {
        "id": "C0D1JM32zIqv"
      },
      "execution_count": 15,
      "outputs": []
    },
    {
      "cell_type": "code",
      "source": [
        "def classify(text,model):\n",
        "  # Define the candidate labels\n",
        "  labels = [\"depression\", \"anxiety\", \"bipolar disorder\", \"schizophrenia\", \"PTSD\", \"OCD\", \"ADHD\", \"autism\", \"eating disorder\", \"personality disorder\", \"phobia\"]\n",
        "  # Split the text into segments\n",
        "  segments = split_text(text)\n",
        "  # Initialize an empty list for logits\n",
        "  logits_list = []\n",
        "  #move device to GPU\n",
        "  device = torch.device(\"cuda\" if torch.cuda.is_available() else \"cpu\")\n",
        "  model = model.to(device) # Move the model to the device\n",
        "  # Loop through the segments\n",
        "  for segment in segments:\n",
        "    # Encode the segment and the labels\n",
        "    inputs = tokenizer([segment] + labels, padding=True, return_tensors=\"pt\")\n",
        "    # Get the input ids and attention mask\n",
        "    input_ids = inputs[\"input_ids\"]\n",
        "    attention_mask = inputs[\"attention_mask\"]\n",
        "    # Move the input ids and attention mask to the device\n",
        "    input_ids = input_ids.to(device)\n",
        "    attention_mask = attention_mask.to(device)\n",
        "    #Get the model outputs for each segment\n",
        "    outputs = model(\n",
        "      input_ids,\n",
        "      attention_mask=attention_mask,\n",
        "    )\n",
        "    # Get the logits for each segment and append them to the logits list\n",
        "    logits = outputs.logits\n",
        "    logits_list.append(logits)\n",
        "  # Average the logits across the segments\n",
        "  avg_logits = torch.mean(torch.stack(logits_list), dim=0)\n",
        "  # Get the entailment scores for each label from the averaged logits\n",
        "  scores = avg_logits[:, :]\n",
        "  # Sort the scores and get the indices\n",
        "  sorted_scores, indices = torch.sort(scores, descending=True)\n",
        "  # Get the sorted labels and scores\n",
        "  sorted_labels = [labels[i.item()] for i in indices.flatten()]\n",
        "  sorted_scores = sorted_scores.tolist()\n",
        "  # Return the results as a dictionary\n",
        "  return {\n",
        "    \"sequence\": text,\n",
        "    \"labels\": sorted_labels,\n",
        "    \"scores\": sorted_scores\n",
        "  }"
      ],
      "metadata": {
        "id": "yCpOzUtoFUlf"
      },
      "execution_count": 27,
      "outputs": []
    },
    {
      "cell_type": "code",
      "source": [
        "# Define a text to classify\n",
        "text = \"I feel restless and irritable most of the time. I have trouble concentrating and making decisions. I often have mood swings and act impulsively.\""
      ],
      "metadata": {
        "id": "-sxGAoBGQ90k"
      },
      "execution_count": 28,
      "outputs": []
    },
    {
      "cell_type": "code",
      "source": [
        "print(split_text(text))"
      ],
      "metadata": {
        "colab": {
          "base_uri": "https://localhost:8080/"
        },
        "id": "k0_Gcc07XwbD",
        "outputId": "93ac6269-57ef-4a52-ff35-4e7170e1d61c"
      },
      "execution_count": 29,
      "outputs": [
        {
          "output_type": "stream",
          "name": "stdout",
          "text": [
            "['I feel restless and irritable most of the time.', ' I have trouble concentrating and making decisions.', ' I often have mood swings and act impulsively.']\n"
          ]
        }
      ]
    },
    {
      "cell_type": "code",
      "source": [
        "# Call the classify function using sliding window approach\n",
        "output = classify(text,model)"
      ],
      "metadata": {
        "id": "Nqyx9V6ERIKK"
      },
      "execution_count": 30,
      "outputs": []
    },
    {
      "cell_type": "code",
      "source": [
        "# Print the output\n",
        "print(output)"
      ],
      "metadata": {
        "id": "pE3Al7aFUF51",
        "colab": {
          "base_uri": "https://localhost:8080/"
        },
        "outputId": "367013b5-5ba6-41c2-d10e-0bf30c6c4c82"
      },
      "execution_count": 31,
      "outputs": [
        {
          "output_type": "stream",
          "name": "stdout",
          "text": [
            "{'sequence': 'I feel restless and irritable most of the time. I have trouble concentrating and making decisions. I often have mood swings and act impulsively.', 'labels': ['anxiety', 'bipolar disorder', 'depression', 'anxiety', 'bipolar disorder', 'depression', 'anxiety', 'bipolar disorder', 'depression', 'anxiety', 'bipolar disorder', 'depression', 'anxiety', 'bipolar disorder', 'depression', 'anxiety', 'bipolar disorder', 'depression', 'anxiety', 'bipolar disorder', 'depression', 'anxiety', 'bipolar disorder', 'depression', 'anxiety', 'bipolar disorder', 'depression', 'anxiety', 'bipolar disorder', 'depression', 'anxiety', 'bipolar disorder', 'depression', 'anxiety', 'bipolar disorder', 'depression'], 'scores': [[4.015264511108398, -1.198138952255249, -2.654818534851074], [1.1328034400939941, 1.0545679330825806, -1.9834131002426147], [1.0575324296951294, 0.9243408441543579, -2.2091121673583984], [1.6687244176864624, 0.6978153586387634, -2.4287972450256348], [1.1087653636932373, 1.0055880546569824, -1.6760658025741577], [1.1850286722183228, 0.14634037017822266, -1.6234687566757202], [1.7420295476913452, 0.3722994029521942, -2.2263317108154297], [1.5771472454071045, 0.08855649083852768, -1.5359032154083252], [1.2267053127288818, 0.7769078016281128, -1.3323447704315186], [2.2208404541015625, -0.5563780665397644, -1.8332242965698242], [1.8375037908554077, -0.11080506443977356, -1.3058415651321411], [0.703985869884491, 0.16457346081733704, -1.235140323638916]]}\n"
          ]
        }
      ]
    }
  ]
}
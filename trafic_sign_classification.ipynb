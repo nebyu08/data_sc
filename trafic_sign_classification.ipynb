{
 "cells": [
  {
   "cell_type": "markdown",
   "id": "8f948a8b",
   "metadata": {},
   "source": [
    "# lets import library and datasets\n"
   ]
  },
  {
   "cell_type": "code",
   "execution_count": 1,
   "id": "946d5adc",
   "metadata": {},
   "outputs": [],
   "source": [
    "import pandas as pd\n",
    "import numpy as np\n",
    "import matplotlib.pyplot as plt\n",
    "import seaborn as sns\n",
    "import pickle"
   ]
  },
  {
   "cell_type": "code",
   "execution_count": 2,
   "id": "f6df6b3f",
   "metadata": {},
   "outputs": [],
   "source": [
    "with open(\"C:/Users/dread-miles/Documents/Data Sets/udemy_data_sets/Project 5/traffic-signs-data/train.p\",mode='rb') as training_data:\n",
    "    train=pickle.load(training_data)\n",
    "with open(\"C:/Users/dread-miles/Documents/Data Sets/udemy_data_sets/Project 5/traffic-signs-data/test.p\",mode='rb') as testing_data:\n",
    "    test=pickle.load(testing_data)\n",
    "with open(\"C:/Users/dread-miles/Documents/Data Sets/udemy_data_sets/Project 5/traffic-signs-data/valid.p\",mode='rb') as validating_data:\n",
    "    val=pickle.load(validating_data)"
   ]
  },
  {
   "cell_type": "code",
   "execution_count": 3,
   "id": "b833d3d4",
   "metadata": {},
   "outputs": [
    {
     "data": {
      "text/plain": [
       "{'coords': array([[  6,   5,  21,  20],\n",
       "        [  6,   6,  22,  22],\n",
       "        [  5,   6,  22,  23],\n",
       "        ...,\n",
       "        [ 17,  15, 178, 155],\n",
       "        [ 17,  15, 183, 160],\n",
       "        [ 20,  18, 211, 184]], dtype=uint8),\n",
       " 'labels': array([41, 41, 41, ..., 25, 25, 25], dtype=uint8),\n",
       " 'features': array([[[[ 28,  25,  24],\n",
       "          [ 27,  24,  23],\n",
       "          [ 27,  24,  22],\n",
       "          ...,\n",
       "          [ 32,  28,  24],\n",
       "          [ 31,  27,  25],\n",
       "          [ 31,  27,  26]],\n",
       " \n",
       "         [[ 29,  26,  25],\n",
       "          [ 27,  25,  23],\n",
       "          [ 27,  25,  23],\n",
       "          ...,\n",
       "          [ 32,  28,  24],\n",
       "          [ 31,  27,  24],\n",
       "          [ 30,  27,  25]],\n",
       " \n",
       "         [[ 28,  26,  26],\n",
       "          [ 27,  25,  23],\n",
       "          [ 26,  25,  23],\n",
       "          ...,\n",
       "          [ 32,  28,  24],\n",
       "          [ 31,  27,  24],\n",
       "          [ 30,  27,  25]],\n",
       " \n",
       "         ...,\n",
       " \n",
       "         [[ 27,  24,  23],\n",
       "          [ 28,  25,  24],\n",
       "          [ 30,  25,  24],\n",
       "          ...,\n",
       "          [ 27,  24,  23],\n",
       "          [ 28,  24,  22],\n",
       "          [ 29,  25,  22]],\n",
       " \n",
       "         [[ 28,  23,  23],\n",
       "          [ 29,  24,  24],\n",
       "          [ 31,  25,  24],\n",
       "          ...,\n",
       "          [ 27,  24,  23],\n",
       "          [ 28,  24,  22],\n",
       "          [ 28,  24,  21]],\n",
       " \n",
       "         [[ 29,  23,  23],\n",
       "          [ 30,  24,  24],\n",
       "          [ 32,  24,  23],\n",
       "          ...,\n",
       "          [ 27,  24,  22],\n",
       "          [ 27,  23,  21],\n",
       "          [ 26,  22,  20]]],\n",
       " \n",
       " \n",
       "        [[[ 28,  24,  24],\n",
       "          [ 26,  23,  23],\n",
       "          [ 27,  24,  24],\n",
       "          ...,\n",
       "          [ 31,  28,  26],\n",
       "          [ 31,  28,  27],\n",
       "          [ 32,  28,  27]],\n",
       " \n",
       "         [[ 27,  24,  24],\n",
       "          [ 27,  24,  24],\n",
       "          [ 28,  25,  24],\n",
       "          ...,\n",
       "          [ 31,  27,  25],\n",
       "          [ 31,  27,  26],\n",
       "          [ 33,  29,  27]],\n",
       " \n",
       "         [[ 26,  24,  24],\n",
       "          [ 26,  24,  24],\n",
       "          [ 27,  24,  23],\n",
       "          ...,\n",
       "          [ 31,  26,  25],\n",
       "          [ 31,  27,  26],\n",
       "          [ 33,  29,  27]],\n",
       " \n",
       "         ...,\n",
       " \n",
       "         [[ 28,  25,  23],\n",
       "          [ 30,  27,  24],\n",
       "          [ 30,  27,  24],\n",
       "          ...,\n",
       "          [ 27,  24,  22],\n",
       "          [ 27,  24,  22],\n",
       "          [ 28,  24,  22]],\n",
       " \n",
       "         [[ 27,  24,  22],\n",
       "          [ 29,  26,  23],\n",
       "          [ 31,  26,  24],\n",
       "          ...,\n",
       "          [ 26,  23,  21],\n",
       "          [ 27,  24,  22],\n",
       "          [ 28,  25,  23]],\n",
       " \n",
       "         [[ 28,  24,  23],\n",
       "          [ 28,  24,  22],\n",
       "          [ 29,  24,  22],\n",
       "          ...,\n",
       "          [ 27,  23,  22],\n",
       "          [ 27,  24,  23],\n",
       "          [ 29,  26,  25]]],\n",
       " \n",
       " \n",
       "        [[[ 29,  25,  25],\n",
       "          [ 29,  26,  26],\n",
       "          [ 30,  27,  27],\n",
       "          ...,\n",
       "          [ 31,  27,  24],\n",
       "          [ 31,  28,  25],\n",
       "          [ 32,  29,  27]],\n",
       " \n",
       "         [[ 27,  24,  24],\n",
       "          [ 27,  25,  25],\n",
       "          [ 28,  26,  26],\n",
       "          ...,\n",
       "          [ 31,  27,  23],\n",
       "          [ 32,  28,  25],\n",
       "          [ 33,  30,  27]],\n",
       " \n",
       "         [[ 27,  24,  24],\n",
       "          [ 28,  26,  26],\n",
       "          [ 29,  27,  27],\n",
       "          ...,\n",
       "          [ 32,  28,  24],\n",
       "          [ 32,  28,  24],\n",
       "          [ 33,  29,  26]],\n",
       " \n",
       "         ...,\n",
       " \n",
       "         [[ 28,  26,  22],\n",
       "          [ 29,  26,  21],\n",
       "          [ 31,  26,  22],\n",
       "          ...,\n",
       "          [ 29,  24,  21],\n",
       "          [ 28,  23,  20],\n",
       "          [ 28,  23,  22]],\n",
       " \n",
       "         [[ 27,  26,  23],\n",
       "          [ 28,  25,  21],\n",
       "          [ 30,  25,  22],\n",
       "          ...,\n",
       "          [ 28,  23,  21],\n",
       "          [ 27,  22,  20],\n",
       "          [ 28,  24,  22]],\n",
       " \n",
       "         [[ 29,  26,  23],\n",
       "          [ 28,  24,  21],\n",
       "          [ 29,  24,  21],\n",
       "          ...,\n",
       "          [ 29,  25,  23],\n",
       "          [ 28,  24,  22],\n",
       "          [ 30,  26,  24]]],\n",
       " \n",
       " \n",
       "        ...,\n",
       " \n",
       " \n",
       "        [[[ 51,  67,  86],\n",
       "          [ 55,  59,  71],\n",
       "          [ 75,  81,  92],\n",
       "          ...,\n",
       "          [250, 248, 243],\n",
       "          [207, 212, 233],\n",
       "          [121, 116, 140]],\n",
       " \n",
       "         [[ 35,  42,  49],\n",
       "          [ 48,  47,  51],\n",
       "          [ 91,  96, 113],\n",
       "          ...,\n",
       "          [220, 224, 226],\n",
       "          [169, 177, 187],\n",
       "          [ 84,  87, 100]],\n",
       " \n",
       "         [[ 27,  26,  29],\n",
       "          [ 41,  38,  39],\n",
       "          [ 55,  64,  78],\n",
       "          ...,\n",
       "          [122, 143, 160],\n",
       "          [ 97, 104, 129],\n",
       "          [ 59,  59,  56]],\n",
       " \n",
       "         ...,\n",
       " \n",
       "         [[ 24,  23,  27],\n",
       "          [ 21,  20,  27],\n",
       "          [ 20,  19,  22],\n",
       "          ...,\n",
       "          [ 76,  79,  83],\n",
       "          [ 54,  64,  77],\n",
       "          [ 45,  51,  65]],\n",
       " \n",
       "         [[ 31,  31,  33],\n",
       "          [ 22,  23,  29],\n",
       "          [ 20,  18,  21],\n",
       "          ...,\n",
       "          [ 66,  67,  84],\n",
       "          [ 56,  65,  74],\n",
       "          [ 45,  55,  73]],\n",
       " \n",
       "         [[ 28,  28,  30],\n",
       "          [ 22,  21,  25],\n",
       "          [ 19,  18,  19],\n",
       "          ...,\n",
       "          [ 67,  63,  76],\n",
       "          [ 39,  45,  55],\n",
       "          [ 32,  37,  47]]],\n",
       " \n",
       " \n",
       "        [[[ 82,  78,  96],\n",
       "          [120, 126, 148],\n",
       "          [112, 125, 146],\n",
       "          ...,\n",
       "          [185, 182, 177],\n",
       "          [204, 210, 215],\n",
       "          [132, 114, 121]],\n",
       " \n",
       "         [[ 74,  77,  93],\n",
       "          [171, 174, 185],\n",
       "          [137, 164, 184],\n",
       "          ...,\n",
       "          [180, 181, 187],\n",
       "          [198, 200, 213],\n",
       "          [ 79,  85,  85]],\n",
       " \n",
       "         [[ 54,  50,  56],\n",
       "          [100, 106, 118],\n",
       "          [117, 132, 158],\n",
       "          ...,\n",
       "          [157, 153, 160],\n",
       "          [176, 183, 199],\n",
       "          [ 88,  80,  82]],\n",
       " \n",
       "         ...,\n",
       " \n",
       "         [[ 22,  21,  22],\n",
       "          [ 20,  19,  19],\n",
       "          [ 18,  16,  19],\n",
       "          ...,\n",
       "          [ 50,  50,  60],\n",
       "          [ 37,  43,  52],\n",
       "          [ 30,  41,  59]],\n",
       " \n",
       "         [[ 18,  16,  18],\n",
       "          [ 19,  17,  18],\n",
       "          [ 19,  18,  21],\n",
       "          ...,\n",
       "          [ 36,  44,  60],\n",
       "          [ 33,  36,  48],\n",
       "          [ 36,  43,  61]],\n",
       " \n",
       "         [[ 18,  17,  20],\n",
       "          [ 21,  20,  23],\n",
       "          [ 24,  22,  25],\n",
       "          ...,\n",
       "          [ 32,  34,  41],\n",
       "          [ 45,  42,  48],\n",
       "          [ 41,  43,  52]]],\n",
       " \n",
       " \n",
       "        [[[ 69,  79,  96],\n",
       "          [ 24,  26,  28],\n",
       "          [ 40,  42,  45],\n",
       "          ...,\n",
       "          [225, 234, 237],\n",
       "          [151, 161, 166],\n",
       "          [164, 162, 169]],\n",
       " \n",
       "         [[ 99, 110, 125],\n",
       "          [ 36,  41,  47],\n",
       "          [ 63,  56,  62],\n",
       "          ...,\n",
       "          [197, 216, 224],\n",
       "          [154, 163, 169],\n",
       "          [164, 163, 159]],\n",
       " \n",
       "         [[104, 107, 113],\n",
       "          [ 34,  37,  40],\n",
       "          [ 72,  70,  77],\n",
       "          ...,\n",
       "          [223, 237, 235],\n",
       "          [181, 192, 198],\n",
       "          [166, 167, 159]],\n",
       " \n",
       "         ...,\n",
       " \n",
       "         [[ 21,  20,  23],\n",
       "          [ 23,  24,  30],\n",
       "          [ 19,  20,  24],\n",
       "          ...,\n",
       "          [ 45,  47,  54],\n",
       "          [ 58,  62,  70],\n",
       "          [ 58,  70,  82]],\n",
       " \n",
       "         [[ 18,  17,  21],\n",
       "          [ 19,  19,  24],\n",
       "          [ 18,  18,  23],\n",
       "          ...,\n",
       "          [ 36,  36,  40],\n",
       "          [ 58,  59,  70],\n",
       "          [ 61,  69,  81]],\n",
       " \n",
       "         [[ 17,  16,  19],\n",
       "          [ 16,  15,  18],\n",
       "          [ 16,  15,  18],\n",
       "          ...,\n",
       "          [ 40,  40,  44],\n",
       "          [ 57,  62,  73],\n",
       "          [ 57,  68,  80]]]], dtype=uint8),\n",
       " 'sizes': array([[ 26,  25],\n",
       "        [ 27,  27],\n",
       "        [ 27,  28],\n",
       "        ...,\n",
       "        [194, 169],\n",
       "        [201, 175],\n",
       "        [230, 201]], dtype=uint8)}"
      ]
     },
     "execution_count": 3,
     "metadata": {},
     "output_type": "execute_result"
    }
   ],
   "source": [
    "train"
   ]
  },
  {
   "cell_type": "code",
   "execution_count": 4,
   "id": "55740c90",
   "metadata": {},
   "outputs": [],
   "source": [
    "x_train,y_train=train[\"features\"],train['labels']\n",
    "x_test,y_test=test[\"features\"],test[\"labels\"]\n",
    "x_val,y_val=val[\"features\"],val[\"labels\"]"
   ]
  },
  {
   "cell_type": "code",
   "execution_count": 5,
   "id": "8adc25a2",
   "metadata": {},
   "outputs": [
    {
     "data": {
      "text/plain": [
       "((34799, 32, 32, 3), (12630, 32, 32, 3), (4410, 32, 32, 3))"
      ]
     },
     "execution_count": 5,
     "metadata": {},
     "output_type": "execute_result"
    }
   ],
   "source": [
    "x_train.shape,x_test.shape,x_val.shape"
   ]
  },
  {
   "cell_type": "code",
   "execution_count": 6,
   "id": "89a0b855",
   "metadata": {},
   "outputs": [
    {
     "data": {
      "text/plain": [
       "((34799,), (12630,), (4410,))"
      ]
     },
     "execution_count": 6,
     "metadata": {},
     "output_type": "execute_result"
    }
   ],
   "source": [
    "y_train.shape,y_test.shape,y_val.shape"
   ]
  },
  {
   "cell_type": "markdown",
   "id": "7046d8ca",
   "metadata": {},
   "source": [
    "# explore some data"
   ]
  },
  {
   "cell_type": "code",
   "execution_count": 7,
   "id": "0c558aec",
   "metadata": {},
   "outputs": [
    {
     "data": {
      "text/plain": [
       "34799"
      ]
     },
     "execution_count": 7,
     "metadata": {},
     "output_type": "execute_result"
    }
   ],
   "source": [
    "len(x_train)"
   ]
  },
  {
   "cell_type": "code",
   "execution_count": 8,
   "id": "e6696729",
   "metadata": {},
   "outputs": [
    {
     "data": {
      "text/plain": [
       "39"
      ]
     },
     "execution_count": 8,
     "metadata": {},
     "output_type": "execute_result"
    },
    {
     "data": {
      "image/png": "[encoded data removed]",
      "text/plain": [
       "<Figure size 640x480 with 1 Axes>"
      ]
     },
     "metadata": {},
     "output_type": "display_data"
    }
   ],
   "source": [
    "i=3215\n",
    "plt.imshow(x_val[i])\n",
    "y_val[i]"
   ]
  },
  {
   "cell_type": "code",
   "execution_count": 9,
   "id": "bd76e3ec",
   "metadata": {},
   "outputs": [
    {
     "data": {
      "text/plain": [
       "1"
      ]
     },
     "execution_count": 9,
     "metadata": {},
     "output_type": "execute_result"
    },
    {
     "data": {
      "image/png": "[encoded data removed]",
      "text/plain": [
       "<Figure size 640x480 with 1 Axes>"
      ]
     },
     "metadata": {},
     "output_type": "display_data"
    }
   ],
   "source": [
    "i=3215\n",
    "plt.imshow(x_train[i])\n",
    "y_train[i]"
   ]
  },
  {
   "cell_type": "markdown",
   "id": "bb782420",
   "metadata": {},
   "source": [
    "# lets preprocess our data sets"
   ]
  },
  {
   "cell_type": "code",
   "execution_count": 10,
   "id": "5eb96c85",
   "metadata": {},
   "outputs": [],
   "source": [
    "#lets do some re-shuffling our data\n",
    "from sklearn.utils import shuffle\n",
    "x_train,y_train=shuffle(x_train,y_train)"
   ]
  },
  {
   "cell_type": "code",
   "execution_count": 11,
   "id": "821d7903",
   "metadata": {},
   "outputs": [],
   "source": [
    "x_train_gray=np.sum(x_train/3,axis=3,keepdims=True)"
   ]
  },
  {
   "cell_type": "code",
   "execution_count": 12,
   "id": "41d63d49",
   "metadata": {},
   "outputs": [],
   "source": [
    "x_test_gray=np.sum(x_test/3,axis=3,keepdims=True)"
   ]
  },
  {
   "cell_type": "code",
   "execution_count": 13,
   "id": "1fd8dd6e",
   "metadata": {},
   "outputs": [],
   "source": [
    "x_val_gray=np.sum(x_val/3,axis=3,keepdims=True)"
   ]
  },
  {
   "cell_type": "code",
   "execution_count": 14,
   "id": "6bfded7c",
   "metadata": {},
   "outputs": [
    {
     "data": {
      "text/plain": [
       "((34799, 32, 32, 1), (4410, 32, 32, 1), (12630, 32, 32, 1))"
      ]
     },
     "execution_count": 14,
     "metadata": {},
     "output_type": "execute_result"
    }
   ],
   "source": [
    "x_train_gray.shape,x_val_gray.shape,x_test_gray.shape"
   ]
  },
  {
   "cell_type": "code",
   "execution_count": 15,
   "id": "fbe86caa",
   "metadata": {},
   "outputs": [
    {
     "data": {
      "text/plain": [
       "3.666666666666666"
      ]
     },
     "execution_count": 15,
     "metadata": {},
     "output_type": "execute_result"
    }
   ],
   "source": [
    "np.min(x_train_gray)"
   ]
  },
  {
   "cell_type": "markdown",
   "id": "0c4c2819",
   "metadata": {},
   "source": [
    "# and know lets normalize the data"
   ]
  },
  {
   "cell_type": "code",
   "execution_count": 16,
   "id": "14690b3c",
   "metadata": {},
   "outputs": [],
   "source": [
    "x_train_gray_norm=(x_train_gray-128)/128\n",
    "x_test_gray_norm=(x_test_gray-128)/128\n",
    "x_val_gray_norm=(x_val_gray-128)/128"
   ]
  },
  {
   "cell_type": "code",
   "execution_count": 22,
   "id": "ed8335bf",
   "metadata": {},
   "outputs": [
    {
     "data": {
      "text/plain": [
       "(34799, 12630, 4410)"
      ]
     },
     "execution_count": 22,
     "metadata": {},
     "output_type": "execute_result"
    }
   ],
   "source": [
    "len(x_train_gray_norm),len(x_test_gray_norm),len(x_val_gray_norm)"
   ]
  },
  {
   "cell_type": "code",
   "execution_count": 17,
   "id": "dd93f088",
   "metadata": {},
   "outputs": [
    {
     "data": {
      "text/plain": [
       "<matplotlib.image.AxesImage at 0x2b582990c10>"
      ]
     },
     "execution_count": 17,
     "metadata": {},
     "output_type": "execute_result"
    },
    {
     "data": {
      "image/png": "[encoded data removed]",
      "text/plain": [
       "<Figure size 640x480 with 1 Axes>"
      ]
     },
     "metadata": {},
     "output_type": "display_data"
    },
    {
     "data": {
      "image/png": "[encoded data removed]",
      "text/plain": [
       "<Figure size 640x480 with 1 Axes>"
      ]
     },
     "metadata": {},
     "output_type": "display_data"
    },
    {
     "data": {
      "image/png": "[encoded data removed]",
      "text/plain": [
       "<Figure size 640x480 with 1 Axes>"
      ]
     },
     "metadata": {},
     "output_type": "display_data"
    }
   ],
   "source": [
    "i=1000\n",
    "plt.imshow(x_train_gray_norm[i].squeeze(),cmap='gray')\n",
    "plt.figure()\n",
    "plt.imshow(x_train[i])\n",
    "plt.figure()\n",
    "plt.imshow(x_train_gray[i].squeeze(),cmap='gray')"
   ]
  },
  {
   "cell_type": "code",
   "execution_count": 18,
   "id": "537088f5",
   "metadata": {},
   "outputs": [],
   "source": [
    "from keras.models import Sequential \n",
    "from keras.layers import Conv2D,MaxPooling2D,AveragePooling2D,Dense,Flatten,Dropout\n",
    "from keras.optimizers import Adam\n",
    "from keras.callbacks import TensorBoard"
   ]
  },
  {
   "cell_type": "code",
   "execution_count": 19,
   "id": "23356ad1",
   "metadata": {},
   "outputs": [],
   "source": [
    "cnn_model=Sequential()\n",
    "cnn_model.add(Conv2D(filters=6,kernel_size=(5,5),activation=\"relu\",input_shape=(32,32,1)))\n",
    "cnn_model.add(AveragePooling2D())\n",
    "\n",
    "cnn_model.add(Conv2D(filters=16,kernel_size=(5,5),activation=\"relu\"))\n",
    "cnn_model.add(AveragePooling2D())\n",
    "\n",
    "cnn_model.add(Flatten())\n",
    "\n",
    "cnn_model.add(Dense(units=120,activation=\"relu\"))\n",
    "cnn_model.add(Dense(units=84,activation=\"relu\"))\n",
    "cnn_model.add(Dense(units=43,activation=\"softmax\"))   # we can also use sigmoid"
   ]
  },
  {
   "cell_type": "code",
   "execution_count": 20,
   "id": "d8d727a9",
   "metadata": {},
   "outputs": [],
   "source": [
    "cnn_model.compile(loss=\"sparse_categorical_crossentropy\",optimizer=Adam(learning_rate=0.001),metrics=['accuracy'])"
   ]
  },
  {
   "cell_type": "code",
   "execution_count": 21,
   "id": "1c432fd5",
   "metadata": {},
   "outputs": [
    {
     "name": "stdout",
     "output_type": "stream",
     "text": [
      "Epoch 1/50\n",
      "70/70 [==============================] - 84s 1s/step - loss: 3.0849 - accuracy: 0.1958 - val_loss: 2.5127 - val_accuracy: 0.3605\n",
      "Epoch 2/50\n",
      "70/70 [==============================] - 45s 633ms/step - loss: 1.5797 - accuracy: 0.5511 - val_loss: 1.4542 - val_accuracy: 0.6014\n",
      "Epoch 3/50\n",
      "70/70 [==============================] - 49s 699ms/step - loss: 0.9208 - accuracy: 0.7320 - val_loss: 1.1077 - val_accuracy: 0.6678\n",
      "Epoch 4/50\n",
      "70/70 [==============================] - 33s 473ms/step - loss: 0.6680 - accuracy: 0.8104 - val_loss: 0.9215 - val_accuracy: 0.7331\n",
      "Epoch 5/50\n",
      "70/70 [==============================] - 47s 673ms/step - loss: 0.5331 - accuracy: 0.8501 - val_loss: 0.8340 - val_accuracy: 0.7567\n",
      "Epoch 6/50\n",
      "70/70 [==============================] - 47s 668ms/step - loss: 0.4317 - accuracy: 0.8813 - val_loss: 0.7945 - val_accuracy: 0.7789\n",
      "Epoch 7/50\n",
      "70/70 [==============================] - 64s 914ms/step - loss: 0.3765 - accuracy: 0.8964 - val_loss: 0.7288 - val_accuracy: 0.7964\n",
      "Epoch 8/50\n",
      "70/70 [==============================] - 57s 809ms/step - loss: 0.3246 - accuracy: 0.9150 - val_loss: 0.6644 - val_accuracy: 0.8145\n",
      "Epoch 9/50\n",
      "70/70 [==============================] - 36s 494ms/step - loss: 0.2893 - accuracy: 0.9220 - val_loss: 0.6730 - val_accuracy: 0.8143\n",
      "Epoch 10/50\n",
      "70/70 [==============================] - 28s 396ms/step - loss: 0.2617 - accuracy: 0.9314 - val_loss: 0.6899 - val_accuracy: 0.8152\n",
      "Epoch 11/50\n",
      "70/70 [==============================] - 24s 346ms/step - loss: 0.2317 - accuracy: 0.9392 - val_loss: 0.6904 - val_accuracy: 0.8184\n",
      "Epoch 12/50\n",
      "70/70 [==============================] - 27s 388ms/step - loss: 0.2089 - accuracy: 0.9454 - val_loss: 0.6600 - val_accuracy: 0.8293\n",
      "Epoch 13/50\n",
      "70/70 [==============================] - 26s 374ms/step - loss: 0.1940 - accuracy: 0.9503 - val_loss: 0.6777 - val_accuracy: 0.8220\n",
      "Epoch 14/50\n",
      "70/70 [==============================] - 24s 342ms/step - loss: 0.1736 - accuracy: 0.9548 - val_loss: 0.6780 - val_accuracy: 0.8243\n",
      "Epoch 15/50\n",
      "70/70 [==============================] - 24s 343ms/step - loss: 0.1624 - accuracy: 0.9578 - val_loss: 0.6459 - val_accuracy: 0.8320\n",
      "Epoch 16/50\n",
      "70/70 [==============================] - 25s 363ms/step - loss: 0.1477 - accuracy: 0.9629 - val_loss: 0.6957 - val_accuracy: 0.8265\n",
      "Epoch 17/50\n",
      "70/70 [==============================] - 25s 357ms/step - loss: 0.1413 - accuracy: 0.9631 - val_loss: 0.7055 - val_accuracy: 0.8270\n",
      "Epoch 18/50\n",
      "70/70 [==============================] - 25s 352ms/step - loss: 0.1218 - accuracy: 0.9697 - val_loss: 0.6737 - val_accuracy: 0.8302\n",
      "Epoch 19/50\n",
      "70/70 [==============================] - 25s 362ms/step - loss: 0.1178 - accuracy: 0.9698 - val_loss: 0.6602 - val_accuracy: 0.8422\n",
      "Epoch 20/50\n",
      "70/70 [==============================] - 26s 373ms/step - loss: 0.1083 - accuracy: 0.9724 - val_loss: 0.6751 - val_accuracy: 0.8408\n",
      "Epoch 21/50\n",
      "70/70 [==============================] - 25s 359ms/step - loss: 0.0982 - accuracy: 0.9756 - val_loss: 0.6826 - val_accuracy: 0.8408\n",
      "Epoch 22/50\n",
      "70/70 [==============================] - 24s 349ms/step - loss: 0.0892 - accuracy: 0.9778 - val_loss: 0.7207 - val_accuracy: 0.8374\n",
      "Epoch 23/50\n",
      "70/70 [==============================] - 24s 346ms/step - loss: 0.0841 - accuracy: 0.9787 - val_loss: 0.7005 - val_accuracy: 0.8413\n",
      "Epoch 24/50\n",
      "70/70 [==============================] - 24s 349ms/step - loss: 0.0784 - accuracy: 0.9798 - val_loss: 0.7014 - val_accuracy: 0.8354\n",
      "Epoch 25/50\n",
      "70/70 [==============================] - 25s 351ms/step - loss: 0.0748 - accuracy: 0.9813 - val_loss: 0.7155 - val_accuracy: 0.8420\n",
      "Epoch 26/50\n",
      "70/70 [==============================] - 24s 346ms/step - loss: 0.0667 - accuracy: 0.9829 - val_loss: 0.7143 - val_accuracy: 0.8422\n",
      "Epoch 27/50\n",
      "70/70 [==============================] - 24s 338ms/step - loss: 0.0616 - accuracy: 0.9842 - val_loss: 0.7537 - val_accuracy: 0.8376\n",
      "Epoch 28/50\n",
      "70/70 [==============================] - 24s 342ms/step - loss: 0.0574 - accuracy: 0.9857 - val_loss: 0.7381 - val_accuracy: 0.8451\n",
      "Epoch 29/50\n",
      "70/70 [==============================] - 24s 342ms/step - loss: 0.0581 - accuracy: 0.9845 - val_loss: 0.7910 - val_accuracy: 0.8331\n",
      "Epoch 30/50\n",
      "70/70 [==============================] - 24s 343ms/step - loss: 0.0556 - accuracy: 0.9860 - val_loss: 0.7751 - val_accuracy: 0.8422\n",
      "Epoch 31/50\n",
      "70/70 [==============================] - 23s 335ms/step - loss: 0.0489 - accuracy: 0.9877 - val_loss: 0.8266 - val_accuracy: 0.8376\n",
      "Epoch 32/50\n",
      "70/70 [==============================] - 23s 332ms/step - loss: 0.0484 - accuracy: 0.9867 - val_loss: 0.8074 - val_accuracy: 0.8342\n",
      "Epoch 33/50\n",
      "70/70 [==============================] - 23s 329ms/step - loss: 0.0474 - accuracy: 0.9872 - val_loss: 0.7777 - val_accuracy: 0.8508\n",
      "Epoch 34/50\n",
      "70/70 [==============================] - 25s 351ms/step - loss: 0.0413 - accuracy: 0.9882 - val_loss: 0.8454 - val_accuracy: 0.8372\n",
      "Epoch 35/50\n",
      "70/70 [==============================] - 24s 348ms/step - loss: 0.0456 - accuracy: 0.9868 - val_loss: 0.7595 - val_accuracy: 0.8501\n",
      "Epoch 36/50\n",
      "70/70 [==============================] - 24s 339ms/step - loss: 0.0321 - accuracy: 0.9921 - val_loss: 0.8449 - val_accuracy: 0.8379\n",
      "Epoch 37/50\n",
      "70/70 [==============================] - 23s 334ms/step - loss: 0.0302 - accuracy: 0.9930 - val_loss: 0.8852 - val_accuracy: 0.8340\n",
      "Epoch 38/50\n",
      "70/70 [==============================] - 23s 331ms/step - loss: 0.0254 - accuracy: 0.9942 - val_loss: 0.7963 - val_accuracy: 0.8517\n",
      "Epoch 39/50\n",
      "70/70 [==============================] - 23s 327ms/step - loss: 0.0228 - accuracy: 0.9952 - val_loss: 0.8726 - val_accuracy: 0.8494\n",
      "Epoch 40/50\n",
      "70/70 [==============================] - 23s 324ms/step - loss: 0.0227 - accuracy: 0.9943 - val_loss: 1.0239 - val_accuracy: 0.8206\n",
      "Epoch 41/50\n",
      "70/70 [==============================] - 23s 327ms/step - loss: 0.0265 - accuracy: 0.9929 - val_loss: 0.9548 - val_accuracy: 0.8415\n",
      "Epoch 42/50\n",
      "70/70 [==============================] - 23s 327ms/step - loss: 0.0300 - accuracy: 0.9916 - val_loss: 0.9126 - val_accuracy: 0.8347\n",
      "Epoch 43/50\n",
      "70/70 [==============================] - 23s 328ms/step - loss: 0.0272 - accuracy: 0.9927 - val_loss: 0.9400 - val_accuracy: 0.8397\n",
      "Epoch 44/50\n",
      "70/70 [==============================] - 24s 348ms/step - loss: 0.0244 - accuracy: 0.9934 - val_loss: 0.8554 - val_accuracy: 0.8583\n",
      "Epoch 45/50\n",
      "70/70 [==============================] - 24s 336ms/step - loss: 0.0226 - accuracy: 0.9938 - val_loss: 0.8572 - val_accuracy: 0.8571\n",
      "Epoch 46/50\n",
      "70/70 [==============================] - 23s 325ms/step - loss: 0.0214 - accuracy: 0.9939 - val_loss: 0.9191 - val_accuracy: 0.8488\n",
      "Epoch 47/50\n",
      "70/70 [==============================] - 23s 331ms/step - loss: 0.0229 - accuracy: 0.9934 - val_loss: 0.9280 - val_accuracy: 0.8424\n",
      "Epoch 48/50\n",
      "70/70 [==============================] - 24s 347ms/step - loss: 0.0263 - accuracy: 0.9914 - val_loss: 0.9716 - val_accuracy: 0.8383\n",
      "Epoch 49/50\n",
      "70/70 [==============================] - 24s 343ms/step - loss: 0.0225 - accuracy: 0.9936 - val_loss: 1.0463 - val_accuracy: 0.8376\n",
      "Epoch 50/50\n",
      "70/70 [==============================] - 24s 340ms/step - loss: 0.0130 - accuracy: 0.9968 - val_loss: 0.9734 - val_accuracy: 0.8465\n"
     ]
    }
   ],
   "source": [
    "history= cnn_model.fit(x_train_gray_norm,\n",
    "             y_train,\n",
    "             batch_size=500,\n",
    "             epochs=50,\n",
    "             verbose=1,\n",
    "             validation_data=(x_val_gray_norm,y_val))"
   ]
  },
  {
   "cell_type": "markdown",
   "id": "d26840e2",
   "metadata": {},
   "source": [
    "# lets evaluate model evaluation "
   ]
  },
  {
   "cell_type": "code",
   "execution_count": 24,
   "id": "b410e23d",
   "metadata": {},
   "outputs": [
    {
     "name": "stdout",
     "output_type": "stream",
     "text": [
      "395/395 [==============================] - 6s 15ms/step - loss: 1.4486 - accuracy: 0.8501\n",
      "accuracy is 0.8501187562942505\n"
     ]
    }
   ],
   "source": [
    "score=cnn_model.evaluate(x_test_gray_norm,y_test)\n",
    "print(\"accuracy is {}\".format(score[1]))"
   ]
  },
  {
   "cell_type": "code",
   "execution_count": 26,
   "id": "f473d20d",
   "metadata": {},
   "outputs": [
    {
     "data": {
      "text/plain": [
       "dict_keys(['loss', 'accuracy', 'val_loss', 'val_accuracy'])"
      ]
     },
     "execution_count": 26,
     "metadata": {},
     "output_type": "execute_result"
    }
   ],
   "source": [
    "history.history.keys()"
   ]
  },
  {
   "cell_type": "code",
   "execution_count": 30,
   "id": "5fc909ac",
   "metadata": {
    "scrolled": true
   },
   "outputs": [
    {
     "data": {
      "text/plain": [
       "<matplotlib.legend.Legend at 0x2b5a49baf10>"
      ]
     },
     "execution_count": 30,
     "metadata": {},
     "output_type": "execute_result"
    },
    {
     "data": {
      "image/png": "[encoded data removed]",
      "text/plain": [
       "<Figure size 640x480 with 1 Axes>"
      ]
     },
     "metadata": {},
     "output_type": "display_data"
    }
   ],
   "source": [
    "accuracy=history.history[\"accuracy\"]\n",
    "loss=history.history[\"loss\"]\n",
    "val_loss=history.history[\"val_loss\"]\n",
    "val_acc=history.history[\"val_accuracy\"]\n",
    "\n",
    "epochs=range(len(accuracy))\n",
    "\n",
    "plt.plot(epochs,accuracy,\"bo\",label=\"training accuracy\")\n",
    "plt.plot(epochs,val_acc,\"b\",label=\"validation loss\")\n",
    "plt.title(\"training and validating\")\n",
    "plt.legend()"
   ]
  }
 ],
 "metadata": {
  "kernelspec": {
   "display_name": "Python 3 (ipykernel)",
   "language": "python",
   "name": "python3"
  },
  "language_info": {
   "codemirror_mode": {
    "name": "ipython",
    "version": 3
   },
   "file_extension": ".py",
   "mimetype": "text/x-python",
   "name": "python",
   "nbconvert_exporter": "python",
   "pygments_lexer": "ipython3",
   "version": "3.8.16"
  }
 },
 "nbformat": 4,
 "nbformat_minor": 5
}

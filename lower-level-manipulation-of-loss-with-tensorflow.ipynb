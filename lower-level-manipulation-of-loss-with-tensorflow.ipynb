{
 "cells": [
  {
   "cell_type": "code",
   "execution_count": 1,
   "id": "99901c63",
   "metadata": {
    "execution": {
     "iopub.execute_input": "2023-08-21T08:28:45.345744Z",
     "iopub.status.busy": "2023-08-21T08:28:45.345349Z",
     "iopub.status.idle": "2023-08-21T08:28:47.249202Z",
     "shell.execute_reply": "2023-08-21T08:28:47.248088Z"
    },
    "papermill": {
     "duration": 1.910793,
     "end_time": "2023-08-21T08:28:47.251878",
     "exception": false,
     "start_time": "2023-08-21T08:28:45.341085",
     "status": "completed"
    },
    "tags": []
   },
   "outputs": [
    {
     "name": "stdout",
     "output_type": "stream",
     "text": [
      "\r\n",
      "Usage:   \r\n",
      "  pip install [options] <requirement specifier> [package-index-options] ...\r\n",
      "  pip install [options] -r <requirements file> [package-index-options] ...\r\n",
      "  pip install [options] [-e] <vcs project url> ...\r\n",
      "  pip install [options] [-e] <local project path> ...\r\n",
      "  pip install [options] <archive url/path> ...\r\n",
      "\r\n",
      "no such option: --update\r\n"
     ]
    }
   ],
   "source": [
    "!pip install tensorflow --update -q"
   ]
  },
  {
   "cell_type": "code",
   "execution_count": 2,
   "id": "28d6c076",
   "metadata": {
    "_cell_guid": "b1076dfc-b9ad-4769-8c92-a6c4dae69d19",
    "_uuid": "8f2839f25d086af736a60e9eeb907d3b93b6e0e5",
    "execution": {
     "iopub.execute_input": "2023-08-21T08:28:47.258173Z",
     "iopub.status.busy": "2023-08-21T08:28:47.257816Z",
     "iopub.status.idle": "2023-08-21T08:28:55.939941Z",
     "shell.execute_reply": "2023-08-21T08:28:55.938699Z"
    },
    "papermill": {
     "duration": 8.688345,
     "end_time": "2023-08-21T08:28:55.942499",
     "exception": false,
     "start_time": "2023-08-21T08:28:47.254154",
     "status": "completed"
    },
    "tags": []
   },
   "outputs": [
    {
     "name": "stderr",
     "output_type": "stream",
     "text": [
      "/opt/conda/lib/python3.10/site-packages/scipy/__init__.py:146: UserWarning: A NumPy version >=1.16.5 and <1.23.0 is required for this version of SciPy (detected version 1.23.5\n",
      "  warnings.warn(f\"A NumPy version >={np_minversion} and <{np_maxversion}\"\n",
      "/opt/conda/lib/python3.10/site-packages/tensorflow_io/python/ops/__init__.py:98: UserWarning: unable to load libtensorflow_io_plugins.so: unable to open file: libtensorflow_io_plugins.so, from paths: ['/opt/conda/lib/python3.10/site-packages/tensorflow_io/python/ops/libtensorflow_io_plugins.so']\n",
      "caused by: ['/opt/conda/lib/python3.10/site-packages/tensorflow_io/python/ops/libtensorflow_io_plugins.so: undefined symbol: _ZN3tsl6StatusC1EN10tensorflow5error4CodeESt17basic_string_viewIcSt11char_traitsIcEENS_14SourceLocationE']\n",
      "  warnings.warn(f\"unable to load libtensorflow_io_plugins.so: {e}\")\n",
      "/opt/conda/lib/python3.10/site-packages/tensorflow_io/python/ops/__init__.py:104: UserWarning: file system plugins are not loaded: unable to open file: libtensorflow_io.so, from paths: ['/opt/conda/lib/python3.10/site-packages/tensorflow_io/python/ops/libtensorflow_io.so']\n",
      "caused by: ['/opt/conda/lib/python3.10/site-packages/tensorflow_io/python/ops/libtensorflow_io.so: undefined symbol: _ZTVN10tensorflow13GcsFileSystemE']\n",
      "  warnings.warn(f\"file system plugins are not loaded: {e}\")\n"
     ]
    }
   ],
   "source": [
    "import tensorflow as tf\n",
    "import keras"
   ]
  },
  {
   "cell_type": "code",
   "execution_count": 3,
   "id": "663b9fa6",
   "metadata": {
    "execution": {
     "iopub.execute_input": "2023-08-21T08:28:55.949199Z",
     "iopub.status.busy": "2023-08-21T08:28:55.948473Z",
     "iopub.status.idle": "2023-08-21T08:28:55.956809Z",
     "shell.execute_reply": "2023-08-21T08:28:55.955686Z"
    },
    "papermill": {
     "duration": 0.014086,
     "end_time": "2023-08-21T08:28:55.959006",
     "exception": false,
     "start_time": "2023-08-21T08:28:55.944920",
     "status": "completed"
    },
    "tags": []
   },
   "outputs": [],
   "source": [
    "#lets make it so that can adjust it when u save the model\n",
    "class HubberLoss(keras.losses.Loss):\n",
    "    def __init__(self,threshold=1.0,**kwargs):\n",
    "        self.threshold=threshold\n",
    "        super().__init__(**kwargs)\n",
    "    def call(self,y_true,y_pred):\n",
    "        error=tf.abs(y_true,y_pred)\n",
    "        is_small_error=tf.abs(error)<self.threshold\n",
    "        square_loss=tf.square(error)/2\n",
    "        linear_loss=self.threshold*tf.abs(error)-self.threshold**2/2\n",
    "        return tf.where(is_small_error,sqaure_error,linear_loss)\n",
    "    def get_config(self):\n",
    "        base_config=super().get_config()\n",
    "        return {**base_config,\"threshol\":self.threshold}"
   ]
  },
  {
   "cell_type": "code",
   "execution_count": null,
   "id": "8cbad2c3",
   "metadata": {
    "papermill": {
     "duration": 0.001924,
     "end_time": "2023-08-21T08:28:55.963271",
     "exception": false,
     "start_time": "2023-08-21T08:28:55.961347",
     "status": "completed"
    },
    "tags": []
   },
   "outputs": [],
   "source": []
  }
 ],
 "metadata": {
  "kernelspec": {
   "display_name": "Python 3",
   "language": "python",
   "name": "python3"
  },
  "language_info": {
   "codemirror_mode": {
    "name": "ipython",
    "version": 3
   },
   "file_extension": ".py",
   "mimetype": "text/x-python",
   "name": "python",
   "nbconvert_exporter": "python",
   "pygments_lexer": "ipython3",
   "version": "3.10.12"
  },
  "papermill": {
   "default_parameters": {},
   "duration": 22.515813,
   "end_time": "2023-08-21T08:28:58.640147",
   "environment_variables": {},
   "exception": null,
   "input_path": "__notebook__.ipynb",
   "output_path": "__notebook__.ipynb",
   "parameters": {},
   "start_time": "2023-08-21T08:28:36.124334",
   "version": "2.4.0"
  }
 },
 "nbformat": 4,
 "nbformat_minor": 5
}

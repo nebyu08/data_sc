{
 "cells": [
  {
   "cell_type": "markdown",
   "id": "b8dde55c",
   "metadata": {},
   "source": [
    "# ... yay lets try this part of the book"
   ]
  },
  {
   "cell_type": "code",
   "execution_count": 52,
   "id": "cf29a6e2",
   "metadata": {},
   "outputs": [],
   "source": [
    "import pandas as pd\n",
    "import numpy as np\n",
    "import matplotlib.pyplot as plt"
   ]
  },
  {
   "cell_type": "code",
   "execution_count": 32,
   "id": "981a2ba1",
   "metadata": {},
   "outputs": [],
   "source": [
    "import keras"
   ]
  },
  {
   "cell_type": "code",
   "execution_count": 33,
   "id": "087d1a2c",
   "metadata": {},
   "outputs": [],
   "source": [
    "from keras.datasets import fashion_mnist"
   ]
  },
  {
   "cell_type": "code",
   "execution_count": 3,
   "id": "ccd408f1",
   "metadata": {},
   "outputs": [],
   "source": [
    "(x_train, y_train), (x_test, y_test) = fashion_mnist.load_data()\n"
   ]
  },
  {
   "cell_type": "code",
   "execution_count": 5,
   "id": "9e362df8",
   "metadata": {},
   "outputs": [
    {
     "data": {
      "text/plain": [
       "(60000, 28, 28)"
      ]
     },
     "execution_count": 5,
     "metadata": {},
     "output_type": "execute_result"
    }
   ],
   "source": [
    "x_train.shape"
   ]
  },
  {
   "cell_type": "code",
   "execution_count": 42,
   "id": "123223dc",
   "metadata": {},
   "outputs": [
    {
     "data": {
      "text/plain": [
       "array([[  0,   0,   0,   0,   0,   0,   0,   0,   0,   0,   0,   0,   0,\n",
       "          0,   0,   0,   0,   0,   0,   0,   0,   0,   0,   0,   0,   0,\n",
       "          0,   0],\n",
       "       [  0,   0,   0,   0,   0,   0,   0,   0,   0,   0,   0,   0,   0,\n",
       "          0,   0,   0,   0,   0,   0,   0,   0,   0,   0,   0,   0,   0,\n",
       "          0,   0],\n",
       "       [  0,   0,   0,   0,   0,   0,   0,   0,   0,   0,   0,   0,   0,\n",
       "          0,   0,   0,   0,   0,   0,   0,   0,   0,   0,   0,   0,   0,\n",
       "          0,   0],\n",
       "       [  0,   0,   0,   0,   0,   0,   0,   0,   0,   0,   0,   0,   1,\n",
       "          0,   0,  13,  73,   0,   0,   1,   4,   0,   0,   0,   0,   1,\n",
       "          1,   0],\n",
       "       [  0,   0,   0,   0,   0,   0,   0,   0,   0,   0,   0,   0,   3,\n",
       "          0,  36, 136, 127,  62,  54,   0,   0,   0,   1,   3,   4,   0,\n",
       "          0,   3],\n",
       "       [  0,   0,   0,   0,   0,   0,   0,   0,   0,   0,   0,   0,   6,\n",
       "          0, 102, 204, 176, 134, 144, 123,  23,   0,   0,   0,   0,  12,\n",
       "         10,   0],\n",
       "       [  0,   0,   0,   0,   0,   0,   0,   0,   0,   0,   0,   0,   0,\n",
       "          0, 155, 236, 207, 178, 107, 156, 161, 109,  64,  23,  77, 130,\n",
       "         72,  15],\n",
       "       [  0,   0,   0,   0,   0,   0,   0,   0,   0,   0,   0,   1,   0,\n",
       "         69, 207, 223, 218, 216, 216, 163, 127, 121, 122, 146, 141,  88,\n",
       "        172,  66],\n",
       "       [  0,   0,   0,   0,   0,   0,   0,   0,   0,   1,   1,   1,   0,\n",
       "        200, 232, 232, 233, 229, 223, 223, 215, 213, 164, 127, 123, 196,\n",
       "        229,   0],\n",
       "       [  0,   0,   0,   0,   0,   0,   0,   0,   0,   0,   0,   0,   0,\n",
       "        183, 225, 216, 223, 228, 235, 227, 224, 222, 224, 221, 223, 245,\n",
       "        173,   0],\n",
       "       [  0,   0,   0,   0,   0,   0,   0,   0,   0,   0,   0,   0,   0,\n",
       "        193, 228, 218, 213, 198, 180, 212, 210, 211, 213, 223, 220, 243,\n",
       "        202,   0],\n",
       "       [  0,   0,   0,   0,   0,   0,   0,   0,   0,   1,   3,   0,  12,\n",
       "        219, 220, 212, 218, 192, 169, 227, 208, 218, 224, 212, 226, 197,\n",
       "        209,  52],\n",
       "       [  0,   0,   0,   0,   0,   0,   0,   0,   0,   0,   6,   0,  99,\n",
       "        244, 222, 220, 218, 203, 198, 221, 215, 213, 222, 220, 245, 119,\n",
       "        167,  56],\n",
       "       [  0,   0,   0,   0,   0,   0,   0,   0,   0,   4,   0,   0,  55,\n",
       "        236, 228, 230, 228, 240, 232, 213, 218, 223, 234, 217, 217, 209,\n",
       "         92,   0],\n",
       "       [  0,   0,   1,   4,   6,   7,   2,   0,   0,   0,   0,   0, 237,\n",
       "        226, 217, 223, 222, 219, 222, 221, 216, 223, 229, 215, 218, 255,\n",
       "         77,   0],\n",
       "       [  0,   3,   0,   0,   0,   0,   0,   0,   0,  62, 145, 204, 228,\n",
       "        207, 213, 221, 218, 208, 211, 218, 224, 223, 219, 215, 224, 244,\n",
       "        159,   0],\n",
       "       [  0,   0,   0,   0,  18,  44,  82, 107, 189, 228, 220, 222, 217,\n",
       "        226, 200, 205, 211, 230, 224, 234, 176, 188, 250, 248, 233, 238,\n",
       "        215,   0],\n",
       "       [  0,  57, 187, 208, 224, 221, 224, 208, 204, 214, 208, 209, 200,\n",
       "        159, 245, 193, 206, 223, 255, 255, 221, 234, 221, 211, 220, 232,\n",
       "        246,   0],\n",
       "       [  3, 202, 228, 224, 221, 211, 211, 214, 205, 205, 205, 220, 240,\n",
       "         80, 150, 255, 229, 221, 188, 154, 191, 210, 204, 209, 222, 228,\n",
       "        225,   0],\n",
       "       [ 98, 233, 198, 210, 222, 229, 229, 234, 249, 220, 194, 215, 217,\n",
       "        241,  65,  73, 106, 117, 168, 219, 221, 215, 217, 223, 223, 224,\n",
       "        229,  29],\n",
       "       [ 75, 204, 212, 204, 193, 205, 211, 225, 216, 185, 197, 206, 198,\n",
       "        213, 240, 195, 227, 245, 239, 223, 218, 212, 209, 222, 220, 221,\n",
       "        230,  67],\n",
       "       [ 48, 203, 183, 194, 213, 197, 185, 190, 194, 192, 202, 214, 219,\n",
       "        221, 220, 236, 225, 216, 199, 206, 186, 181, 177, 172, 181, 205,\n",
       "        206, 115],\n",
       "       [  0, 122, 219, 193, 179, 171, 183, 196, 204, 210, 213, 207, 211,\n",
       "        210, 200, 196, 194, 191, 195, 191, 198, 192, 176, 156, 167, 177,\n",
       "        210,  92],\n",
       "       [  0,   0,  74, 189, 212, 191, 175, 172, 175, 181, 185, 188, 189,\n",
       "        188, 193, 198, 204, 209, 210, 210, 211, 188, 188, 194, 192, 216,\n",
       "        170,   0],\n",
       "       [  2,   0,   0,   0,  66, 200, 222, 237, 239, 242, 246, 243, 244,\n",
       "        221, 220, 193, 191, 179, 182, 182, 181, 176, 166, 168,  99,  58,\n",
       "          0,   0],\n",
       "       [  0,   0,   0,   0,   0,   0,   0,  40,  61,  44,  72,  41,  35,\n",
       "          0,   0,   0,   0,   0,   0,   0,   0,   0,   0,   0,   0,   0,\n",
       "          0,   0],\n",
       "       [  0,   0,   0,   0,   0,   0,   0,   0,   0,   0,   0,   0,   0,\n",
       "          0,   0,   0,   0,   0,   0,   0,   0,   0,   0,   0,   0,   0,\n",
       "          0,   0],\n",
       "       [  0,   0,   0,   0,   0,   0,   0,   0,   0,   0,   0,   0,   0,\n",
       "          0,   0,   0,   0,   0,   0,   0,   0,   0,   0,   0,   0,   0,\n",
       "          0,   0]], dtype=uint8)"
      ]
     },
     "execution_count": 42,
     "metadata": {},
     "output_type": "execute_result"
    }
   ],
   "source": [
    "x_train[0]"
   ]
  },
  {
   "cell_type": "code",
   "execution_count": 43,
   "id": "88cfb37b",
   "metadata": {},
   "outputs": [],
   "source": [
    "x_valid,x_train_1=x_train[:5000]/255.0,x_train[5000:]/255.0\n",
    "y_valid,y_train_1=y_train[:5000],y_train[5000:]"
   ]
  },
  {
   "cell_type": "code",
   "execution_count": 44,
   "id": "bd19e545",
   "metadata": {},
   "outputs": [],
   "source": [
    "#lets build the neural network using keras\n",
    "from keras import Sequential\n",
    "from keras.layers import Dense,Flatten\n",
    "\n",
    "#lets build the arhitecture of the network\n",
    "model=Sequential()\n",
    "model.add(Flatten(input_shape=[28,28]))\n",
    "model.add(Dense(300,activation=\"relu\"))\n",
    "model.add(Dense(100,activation=\"relu\"))\n",
    "model.add(Dense(10,activation=\"softmax\"))\n"
   ]
  },
  {
   "cell_type": "code",
   "execution_count": 45,
   "id": "fba84be8",
   "metadata": {},
   "outputs": [
    {
     "name": "stdout",
     "output_type": "stream",
     "text": [
      "Model: \"sequential_2\"\n",
      "_________________________________________________________________\n",
      " Layer (type)                Output Shape              Param #   \n",
      "=================================================================\n",
      " flatten_1 (Flatten)         (None, 784)               0         \n",
      "                                                                 \n",
      " dense_3 (Dense)             (None, 300)               235500    \n",
      "                                                                 \n",
      " dense_4 (Dense)             (None, 100)               30100     \n",
      "                                                                 \n",
      " dense_5 (Dense)             (None, 10)                1010      \n",
      "                                                                 \n",
      "=================================================================\n",
      "Total params: 266,610\n",
      "Trainable params: 266,610\n",
      "Non-trainable params: 0\n",
      "_________________________________________________________________\n"
     ]
    }
   ],
   "source": [
    "model.summary()"
   ]
  },
  {
   "cell_type": "code",
   "execution_count": 17,
   "id": "d4c1477d",
   "metadata": {},
   "outputs": [],
   "source": [
    "hidden1=model.layers[1]"
   ]
  },
  {
   "cell_type": "code",
   "execution_count": 18,
   "id": "71420cd4",
   "metadata": {},
   "outputs": [
    {
     "data": {
      "text/plain": [
       "<keras.layers.core.dense.Dense at 0x1d47d171f40>"
      ]
     },
     "execution_count": 18,
     "metadata": {},
     "output_type": "execute_result"
    }
   ],
   "source": [
    "hidden1"
   ]
  },
  {
   "cell_type": "code",
   "execution_count": 19,
   "id": "b3b949ce",
   "metadata": {},
   "outputs": [],
   "source": [
    "weights,biases=hidden1.get_weights()"
   ]
  },
  {
   "cell_type": "code",
   "execution_count": 20,
   "id": "302af16a",
   "metadata": {},
   "outputs": [
    {
     "data": {
      "text/plain": [
       "array([[-0.0688479 ,  0.0034949 , -0.06587924, ..., -0.01448606,\n",
       "        -0.04246868, -0.05888907],\n",
       "       [ 0.01528217, -0.06159426,  0.02098613, ..., -0.01398204,\n",
       "         0.00551952, -0.04911908],\n",
       "       [ 0.00165081, -0.00662019, -0.05229845, ...,  0.0489985 ,\n",
       "         0.03051514,  0.0735521 ],\n",
       "       ...,\n",
       "       [ 0.04645848,  0.05935191, -0.04063059, ..., -0.0557346 ,\n",
       "         0.0292351 , -0.04529077],\n",
       "       [-0.00521427,  0.0489047 , -0.04015288, ..., -0.04035623,\n",
       "         0.05525149, -0.0432867 ],\n",
       "       [ 0.03875977, -0.00816604,  0.00855066, ..., -0.00379229,\n",
       "         0.03026353, -0.07237651]], dtype=float32)"
      ]
     },
     "execution_count": 20,
     "metadata": {},
     "output_type": "execute_result"
    }
   ],
   "source": [
    "weights"
   ]
  },
  {
   "cell_type": "code",
   "execution_count": 21,
   "id": "9b1a6a4d",
   "metadata": {},
   "outputs": [
    {
     "data": {
      "text/plain": [
       "array([0., 0., 0., 0., 0., 0., 0., 0., 0., 0., 0., 0., 0., 0., 0., 0., 0.,\n",
       "       0., 0., 0., 0., 0., 0., 0., 0., 0., 0., 0., 0., 0., 0., 0., 0., 0.,\n",
       "       0., 0., 0., 0., 0., 0., 0., 0., 0., 0., 0., 0., 0., 0., 0., 0., 0.,\n",
       "       0., 0., 0., 0., 0., 0., 0., 0., 0., 0., 0., 0., 0., 0., 0., 0., 0.,\n",
       "       0., 0., 0., 0., 0., 0., 0., 0., 0., 0., 0., 0., 0., 0., 0., 0., 0.,\n",
       "       0., 0., 0., 0., 0., 0., 0., 0., 0., 0., 0., 0., 0., 0., 0., 0., 0.,\n",
       "       0., 0., 0., 0., 0., 0., 0., 0., 0., 0., 0., 0., 0., 0., 0., 0., 0.,\n",
       "       0., 0., 0., 0., 0., 0., 0., 0., 0., 0., 0., 0., 0., 0., 0., 0., 0.,\n",
       "       0., 0., 0., 0., 0., 0., 0., 0., 0., 0., 0., 0., 0., 0., 0., 0., 0.,\n",
       "       0., 0., 0., 0., 0., 0., 0., 0., 0., 0., 0., 0., 0., 0., 0., 0., 0.,\n",
       "       0., 0., 0., 0., 0., 0., 0., 0., 0., 0., 0., 0., 0., 0., 0., 0., 0.,\n",
       "       0., 0., 0., 0., 0., 0., 0., 0., 0., 0., 0., 0., 0., 0., 0., 0., 0.,\n",
       "       0., 0., 0., 0., 0., 0., 0., 0., 0., 0., 0., 0., 0., 0., 0., 0., 0.,\n",
       "       0., 0., 0., 0., 0., 0., 0., 0., 0., 0., 0., 0., 0., 0., 0., 0., 0.,\n",
       "       0., 0., 0., 0., 0., 0., 0., 0., 0., 0., 0., 0., 0., 0., 0., 0., 0.,\n",
       "       0., 0., 0., 0., 0., 0., 0., 0., 0., 0., 0., 0., 0., 0., 0., 0., 0.,\n",
       "       0., 0., 0., 0., 0., 0., 0., 0., 0., 0., 0., 0., 0., 0., 0., 0., 0.,\n",
       "       0., 0., 0., 0., 0., 0., 0., 0., 0., 0., 0.], dtype=float32)"
      ]
     },
     "execution_count": 21,
     "metadata": {},
     "output_type": "execute_result"
    }
   ],
   "source": [
    "biases"
   ]
  },
  {
   "cell_type": "code",
   "execution_count": 22,
   "id": "c5acdc20",
   "metadata": {},
   "outputs": [
    {
     "data": {
      "text/plain": [
       "((784, 300), (300,))"
      ]
     },
     "execution_count": 22,
     "metadata": {},
     "output_type": "execute_result"
    }
   ],
   "source": [
    "weights.shape,biases.shape"
   ]
  },
  {
   "cell_type": "code",
   "execution_count": 47,
   "id": "fc365f6d",
   "metadata": {},
   "outputs": [],
   "source": [
    "model.compile(loss=\"sparse_categorical_crossentropy\",\n",
    "              optimizer=\"sgd\",\n",
    "              metrics=[\"accuracy\"])"
   ]
  },
  {
   "cell_type": "code",
   "execution_count": 48,
   "id": "92ec1385",
   "metadata": {},
   "outputs": [
    {
     "name": "stdout",
     "output_type": "stream",
     "text": [
      "Epoch 1/35\n",
      "1719/1719 [==============================] - 29s 16ms/step - loss: 0.7372 - accuracy: 0.7607 - val_loss: 0.5080 - val_accuracy: 0.8332\n",
      "Epoch 2/35\n",
      "1719/1719 [==============================] - 13s 8ms/step - loss: 0.4938 - accuracy: 0.8288 - val_loss: 0.4609 - val_accuracy: 0.8426\n",
      "Epoch 3/35\n",
      "1719/1719 [==============================] - 12s 7ms/step - loss: 0.4469 - accuracy: 0.8435 - val_loss: 0.4172 - val_accuracy: 0.8568\n",
      "Epoch 4/35\n",
      "1719/1719 [==============================] - 12s 7ms/step - loss: 0.4188 - accuracy: 0.8531 - val_loss: 0.3902 - val_accuracy: 0.8666\n",
      "Epoch 5/35\n",
      "1719/1719 [==============================] - 12s 7ms/step - loss: 0.3984 - accuracy: 0.8617 - val_loss: 0.4005 - val_accuracy: 0.8622\n",
      "Epoch 6/35\n",
      "1719/1719 [==============================] - 12s 7ms/step - loss: 0.3818 - accuracy: 0.8650 - val_loss: 0.3706 - val_accuracy: 0.8746\n",
      "Epoch 7/35\n",
      "1719/1719 [==============================] - 13s 7ms/step - loss: 0.3684 - accuracy: 0.8695 - val_loss: 0.3766 - val_accuracy: 0.8670\n",
      "Epoch 8/35\n",
      "1719/1719 [==============================] - 16s 9ms/step - loss: 0.3561 - accuracy: 0.8732 - val_loss: 0.3715 - val_accuracy: 0.8738\n",
      "Epoch 9/35\n",
      "1719/1719 [==============================] - 20s 12ms/step - loss: 0.3470 - accuracy: 0.8767 - val_loss: 0.3684 - val_accuracy: 0.8696\n",
      "Epoch 10/35\n",
      "1719/1719 [==============================] - 15s 9ms/step - loss: 0.3371 - accuracy: 0.8807 - val_loss: 0.3388 - val_accuracy: 0.8828\n",
      "Epoch 11/35\n",
      "1719/1719 [==============================] - 13s 7ms/step - loss: 0.3286 - accuracy: 0.8827 - val_loss: 0.3411 - val_accuracy: 0.8806\n",
      "Epoch 12/35\n",
      "1719/1719 [==============================] - 12s 7ms/step - loss: 0.3207 - accuracy: 0.8857 - val_loss: 0.3495 - val_accuracy: 0.8768\n",
      "Epoch 13/35\n",
      "1719/1719 [==============================] - 13s 7ms/step - loss: 0.3125 - accuracy: 0.8883 - val_loss: 0.3280 - val_accuracy: 0.8844\n",
      "Epoch 14/35\n",
      "1719/1719 [==============================] - 12s 7ms/step - loss: 0.3059 - accuracy: 0.8900 - val_loss: 0.3219 - val_accuracy: 0.8850\n",
      "Epoch 15/35\n",
      "1719/1719 [==============================] - 12s 7ms/step - loss: 0.2989 - accuracy: 0.8928 - val_loss: 0.3236 - val_accuracy: 0.8858\n",
      "Epoch 16/35\n",
      "1719/1719 [==============================] - 12s 7ms/step - loss: 0.2934 - accuracy: 0.8936 - val_loss: 0.3500 - val_accuracy: 0.8706\n",
      "Epoch 17/35\n",
      "1719/1719 [==============================] - 12s 7ms/step - loss: 0.2865 - accuracy: 0.8969 - val_loss: 0.3405 - val_accuracy: 0.8794\n",
      "Epoch 18/35\n",
      "1719/1719 [==============================] - 12s 7ms/step - loss: 0.2818 - accuracy: 0.8980 - val_loss: 0.3174 - val_accuracy: 0.8854\n",
      "Epoch 19/35\n",
      "1719/1719 [==============================] - 15s 8ms/step - loss: 0.2760 - accuracy: 0.9005 - val_loss: 0.3192 - val_accuracy: 0.8818\n",
      "Epoch 20/35\n",
      "1719/1719 [==============================] - 14s 8ms/step - loss: 0.2710 - accuracy: 0.9026 - val_loss: 0.3161 - val_accuracy: 0.8852\n",
      "Epoch 21/35\n",
      "1719/1719 [==============================] - 13s 7ms/step - loss: 0.2663 - accuracy: 0.9041 - val_loss: 0.3267 - val_accuracy: 0.8838\n",
      "Epoch 22/35\n",
      "1719/1719 [==============================] - 12s 7ms/step - loss: 0.2616 - accuracy: 0.9051 - val_loss: 0.2998 - val_accuracy: 0.8928\n",
      "Epoch 23/35\n",
      "1719/1719 [==============================] - 13s 8ms/step - loss: 0.2557 - accuracy: 0.9079 - val_loss: 0.3113 - val_accuracy: 0.8892\n",
      "Epoch 24/35\n",
      "1719/1719 [==============================] - 16s 9ms/step - loss: 0.2508 - accuracy: 0.9099 - val_loss: 0.2968 - val_accuracy: 0.8922\n",
      "Epoch 25/35\n",
      "1719/1719 [==============================] - 16s 9ms/step - loss: 0.2463 - accuracy: 0.9122 - val_loss: 0.3053 - val_accuracy: 0.8918\n",
      "Epoch 26/35\n",
      "1719/1719 [==============================] - 12s 7ms/step - loss: 0.2435 - accuracy: 0.9121 - val_loss: 0.3018 - val_accuracy: 0.8878\n",
      "Epoch 27/35\n",
      "1719/1719 [==============================] - 14s 8ms/step - loss: 0.2395 - accuracy: 0.9140 - val_loss: 0.3022 - val_accuracy: 0.8900\n",
      "Epoch 28/35\n",
      "1719/1719 [==============================] - 19s 11ms/step - loss: 0.2350 - accuracy: 0.9154 - val_loss: 0.3080 - val_accuracy: 0.8902\n",
      "Epoch 29/35\n",
      "1719/1719 [==============================] - 23s 13ms/step - loss: 0.2315 - accuracy: 0.9171 - val_loss: 0.2940 - val_accuracy: 0.8968\n",
      "Epoch 30/35\n",
      "1719/1719 [==============================] - 25s 14ms/step - loss: 0.2274 - accuracy: 0.9182 - val_loss: 0.2907 - val_accuracy: 0.8964\n",
      "Epoch 31/35\n",
      "1719/1719 [==============================] - 20s 12ms/step - loss: 0.2241 - accuracy: 0.9191 - val_loss: 0.3095 - val_accuracy: 0.8842\n",
      "Epoch 32/35\n",
      "1719/1719 [==============================] - 23s 13ms/step - loss: 0.2199 - accuracy: 0.9209 - val_loss: 0.2993 - val_accuracy: 0.8956\n",
      "Epoch 33/35\n",
      "1719/1719 [==============================] - 15s 9ms/step - loss: 0.2161 - accuracy: 0.9227 - val_loss: 0.3212 - val_accuracy: 0.8810\n",
      "Epoch 34/35\n",
      "1719/1719 [==============================] - 15s 9ms/step - loss: 0.2125 - accuracy: 0.9239 - val_loss: 0.2963 - val_accuracy: 0.8926\n",
      "Epoch 35/35\n",
      "1719/1719 [==============================] - 18s 11ms/step - loss: 0.2089 - accuracy: 0.9251 - val_loss: 0.3257 - val_accuracy: 0.8872\n"
     ]
    }
   ],
   "source": [
    "history=model.fit(x_train_1, y_train_1,\n",
    "                  epochs=35,\n",
    "                 validation_data=(x_valid,y_valid)\n",
    "         )"
   ]
  },
  {
   "cell_type": "code",
   "execution_count": 53,
   "id": "80e99fe4",
   "metadata": {},
   "outputs": [
    {
     "data": {
      "image/png": "[encoded data removed]",
      "text/plain": [
       "<Figure size 1000x500 with 1 Axes>"
      ]
     },
     "metadata": {},
     "output_type": "display_data"
    }
   ],
   "source": [
    "pd.DataFrame(history.history).plot(figsize=(10,5))\n",
    "plt.gca().set_ylim(0,1)\n",
    "plt.show()"
   ]
  },
  {
   "cell_type": "code",
   "execution_count": 54,
   "id": "bddb2da6",
   "metadata": {},
   "outputs": [
    {
     "name": "stdout",
     "output_type": "stream",
     "text": [
      "313/313 [==============================] - 3s 8ms/step - loss: 85.0073 - accuracy: 0.8245\n"
     ]
    },
    {
     "data": {
      "text/plain": [
       "[85.00726318359375, 0.8245000243186951]"
      ]
     },
     "execution_count": 54,
     "metadata": {},
     "output_type": "execute_result"
    }
   ],
   "source": [
    "model.evaluate(x_test,y_test)"
   ]
  },
  {
   "cell_type": "code",
   "execution_count": 58,
   "id": "53a600bc",
   "metadata": {},
   "outputs": [
    {
     "name": "stdout",
     "output_type": "stream",
     "text": [
      "1/1 [==============================] - 0s 33ms/step\n"
     ]
    },
    {
     "data": {
      "text/plain": [
       "array([[0., 0., 0., 0., 0., 0., 0., 0., 0., 1.],\n",
       "       [0., 0., 1., 0., 0., 0., 0., 0., 0., 0.],\n",
       "       [0., 1., 0., 0., 0., 0., 0., 0., 0., 0.],\n",
       "       [0., 1., 0., 0., 0., 0., 0., 0., 0., 0.],\n",
       "       [1., 0., 0., 0., 0., 0., 0., 0., 0., 0.]], dtype=float32)"
      ]
     },
     "execution_count": 58,
     "metadata": {},
     "output_type": "execute_result"
    }
   ],
   "source": [
    "#lets test it our self\n",
    "x_new=x_test[:5]\n",
    "y_pred=model.predict(x_new)\n",
    "y_pred"
   ]
  },
  {
   "cell_type": "code",
   "execution_count": 59,
   "id": "aa47f945",
   "metadata": {},
   "outputs": [
    {
     "data": {
      "text/plain": [
       "array([9, 2, 1, 1, 6], dtype=uint8)"
      ]
     },
     "execution_count": 59,
     "metadata": {},
     "output_type": "execute_result"
    }
   ],
   "source": [
    "y_test[:5]"
   ]
  },
  {
   "cell_type": "markdown",
   "id": "bd3b76a0",
   "metadata": {},
   "source": [
    "# THE END"
   ]
  }
 ],
 "metadata": {
  "kernelspec": {
   "display_name": "Python 3 (ipykernel)",
   "language": "python",
   "name": "python3"
  },
  "language_info": {
   "codemirror_mode": {
    "name": "ipython",
    "version": 3
   },
   "file_extension": ".py",
   "mimetype": "text/x-python",
   "name": "python",
   "nbconvert_exporter": "python",
   "pygments_lexer": "ipython3",
   "version": "3.8.16"
  }
 },
 "nbformat": 4,
 "nbformat_minor": 5
}

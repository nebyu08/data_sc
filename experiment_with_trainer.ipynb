{
  "metadata": {
    "kernelspec": {
      "display_name": "Python 3",
      "name": "python3"
    },
    "language_info": {
      "name": "python",
      "version": "3.10.13",
      "mimetype": "text/x-python",
      "codemirror_mode": {
        "name": "ipython",
        "version": 3
      },
      "pygments_lexer": "ipython3",
      "nbconvert_exporter": "python",
      "file_extension": ".py"
    },
    "kaggle": {
      "accelerator": "nvidiaTeslaT4",
      "dataSources": [
        {
          "sourceId": 7257995,
          "sourceType": "datasetVersion",
          "datasetId": 4205998
        }
      ],
      "dockerImageVersionId": 30683,
      "isInternetEnabled": true,
      "language": "python",
      "sourceType": "notebook",
      "isGpuEnabled": true
    },
    "colab": {
      "name": "experiment_with_trainer",
      "provenance": [],
      "include_colab_link": true
    },
    "widgets": {
      "application/vnd.jupyter.widget-state+json": {
        "4080ef538b564408b4910071c10be1eb": {
          "model_module": "@jupyter-widgets/controls",
          "model_name": "HBoxModel",
          "model_module_version": "1.5.0",
          "state": {
            "_dom_classes": [],
            "_model_module": "@jupyter-widgets/controls",
            "_model_module_version": "1.5.0",
            "_model_name": "HBoxModel",
            "_view_count": null,
            "_view_module": "@jupyter-widgets/controls",
            "_view_module_version": "1.5.0",
            "_view_name": "HBoxView",
            "box_style": "",
            "children": [
              "IPY_MODEL_df4b5946e0b84c8b8f6690e3fcd6823f",
              "IPY_MODEL_2897cf2843c44643ab4c97955e7de114",
              "IPY_MODEL_21a83e2d5b80498abbd93548ef84edff"
            ],
            "layout": "IPY_MODEL_7853ffee89504bb0b83c7221928890dc"
          }
        },
        "df4b5946e0b84c8b8f6690e3fcd6823f": {
          "model_module": "@jupyter-widgets/controls",
          "model_name": "HTMLModel",
          "model_module_version": "1.5.0",
          "state": {
            "_dom_classes": [],
            "_model_module": "@jupyter-widgets/controls",
            "_model_module_version": "1.5.0",
            "_model_name": "HTMLModel",
            "_view_count": null,
            "_view_module": "@jupyter-widgets/controls",
            "_view_module_version": "1.5.0",
            "_view_name": "HTMLView",
            "description": "",
            "description_tooltip": null,
            "layout": "IPY_MODEL_76fc1818d55342ab8decae79df222332",
            "placeholder": "​",
            "style": "IPY_MODEL_4c96d72dbe914623b04c597e65b8957c",
            "value": "config.json: 100%"
          }
        },
        "2897cf2843c44643ab4c97955e7de114": {
          "model_module": "@jupyter-widgets/controls",
          "model_name": "FloatProgressModel",
          "model_module_version": "1.5.0",
          "state": {
            "_dom_classes": [],
            "_model_module": "@jupyter-widgets/controls",
            "_model_module_version": "1.5.0",
            "_model_name": "FloatProgressModel",
            "_view_count": null,
            "_view_module": "@jupyter-widgets/controls",
            "_view_module_version": "1.5.0",
            "_view_name": "ProgressView",
            "bar_style": "success",
            "description": "",
            "description_tooltip": null,
            "layout": "IPY_MODEL_115585173fe3490c89c03dd5afc34bed",
            "max": 929,
            "min": 0,
            "orientation": "horizontal",
            "style": "IPY_MODEL_86c788c107c64854a8feeb62d16b908b",
            "value": 929
          }
        },
        "21a83e2d5b80498abbd93548ef84edff": {
          "model_module": "@jupyter-widgets/controls",
          "model_name": "HTMLModel",
          "model_module_version": "1.5.0",
          "state": {
            "_dom_classes": [],
            "_model_module": "@jupyter-widgets/controls",
            "_model_module_version": "1.5.0",
            "_model_name": "HTMLModel",
            "_view_count": null,
            "_view_module": "@jupyter-widgets/controls",
            "_view_module_version": "1.5.0",
            "_view_name": "HTMLView",
            "description": "",
            "description_tooltip": null,
            "layout": "IPY_MODEL_4a3161be9e674cab8ca38cae44a249e9",
            "placeholder": "​",
            "style": "IPY_MODEL_bceb66c1edc040ceae41b603b5763459",
            "value": " 929/929 [00:00&lt;00:00, 62.7kB/s]"
          }
        },
        "7853ffee89504bb0b83c7221928890dc": {
          "model_module": "@jupyter-widgets/base",
          "model_name": "LayoutModel",
          "model_module_version": "1.2.0",
          "state": {
            "_model_module": "@jupyter-widgets/base",
            "_model_module_version": "1.2.0",
            "_model_name": "LayoutModel",
            "_view_count": null,
            "_view_module": "@jupyter-widgets/base",
            "_view_module_version": "1.2.0",
            "_view_name": "LayoutView",
            "align_content": null,
            "align_items": null,
            "align_self": null,
            "border": null,
            "bottom": null,
            "display": null,
            "flex": null,
            "flex_flow": null,
            "grid_area": null,
            "grid_auto_columns": null,
            "grid_auto_flow": null,
            "grid_auto_rows": null,
            "grid_column": null,
            "grid_gap": null,
            "grid_row": null,
            "grid_template_areas": null,
            "grid_template_columns": null,
            "grid_template_rows": null,
            "height": null,
            "justify_content": null,
            "justify_items": null,
            "left": null,
            "margin": null,
            "max_height": null,
            "max_width": null,
            "min_height": null,
            "min_width": null,
            "object_fit": null,
            "object_position": null,
            "order": null,
            "overflow": null,
            "overflow_x": null,
            "overflow_y": null,
            "padding": null,
            "right": null,
            "top": null,
            "visibility": null,
            "width": null
          }
        },
        "76fc1818d55342ab8decae79df222332": {
          "model_module": "@jupyter-widgets/base",
          "model_name": "LayoutModel",
          "model_module_version": "1.2.0",
          "state": {
            "_model_module": "@jupyter-widgets/base",
            "_model_module_version": "1.2.0",
            "_model_name": "LayoutModel",
            "_view_count": null,
            "_view_module": "@jupyter-widgets/base",
            "_view_module_version": "1.2.0",
            "_view_name": "LayoutView",
            "align_content": null,
            "align_items": null,
            "align_self": null,
            "border": null,
            "bottom": null,
            "display": null,
            "flex": null,
            "flex_flow": null,
            "grid_area": null,
            "grid_auto_columns": null,
            "grid_auto_flow": null,
            "grid_auto_rows": null,
            "grid_column": null,
            "grid_gap": null,
            "grid_row": null,
            "grid_template_areas": null,
            "grid_template_columns": null,
            "grid_template_rows": null,
            "height": null,
            "justify_content": null,
            "justify_items": null,
            "left": null,
            "margin": null,
            "max_height": null,
            "max_width": null,
            "min_height": null,
            "min_width": null,
            "object_fit": null,
            "object_position": null,
            "order": null,
            "overflow": null,
            "overflow_x": null,
            "overflow_y": null,
            "padding": null,
            "right": null,
            "top": null,
            "visibility": null,
            "width": null
          }
        },
        "4c96d72dbe914623b04c597e65b8957c": {
          "model_module": "@jupyter-widgets/controls",
          "model_name": "DescriptionStyleModel",
          "model_module_version": "1.5.0",
          "state": {
            "_model_module": "@jupyter-widgets/controls",
            "_model_module_version": "1.5.0",
            "_model_name": "DescriptionStyleModel",
            "_view_count": null,
            "_view_module": "@jupyter-widgets/base",
            "_view_module_version": "1.2.0",
            "_view_name": "StyleView",
            "description_width": ""
          }
        },
        "115585173fe3490c89c03dd5afc34bed": {
          "model_module": "@jupyter-widgets/base",
          "model_name": "LayoutModel",
          "model_module_version": "1.2.0",
          "state": {
            "_model_module": "@jupyter-widgets/base",
            "_model_module_version": "1.2.0",
            "_model_name": "LayoutModel",
            "_view_count": null,
            "_view_module": "@jupyter-widgets/base",
            "_view_module_version": "1.2.0",
            "_view_name": "LayoutView",
            "align_content": null,
            "align_items": null,
            "align_self": null,
            "border": null,
            "bottom": null,
            "display": null,
            "flex": null,
            "flex_flow": null,
            "grid_area": null,
            "grid_auto_columns": null,
            "grid_auto_flow": null,
            "grid_auto_rows": null,
            "grid_column": null,
            "grid_gap": null,
            "grid_row": null,
            "grid_template_areas": null,
            "grid_template_columns": null,
            "grid_template_rows": null,
            "height": null,
            "justify_content": null,
            "justify_items": null,
            "left": null,
            "margin": null,
            "max_height": null,
            "max_width": null,
            "min_height": null,
            "min_width": null,
            "object_fit": null,
            "object_position": null,
            "order": null,
            "overflow": null,
            "overflow_x": null,
            "overflow_y": null,
            "padding": null,
            "right": null,
            "top": null,
            "visibility": null,
            "width": null
          }
        },
        "86c788c107c64854a8feeb62d16b908b": {
          "model_module": "@jupyter-widgets/controls",
          "model_name": "ProgressStyleModel",
          "model_module_version": "1.5.0",
          "state": {
            "_model_module": "@jupyter-widgets/controls",
            "_model_module_version": "1.5.0",
            "_model_name": "ProgressStyleModel",
            "_view_count": null,
            "_view_module": "@jupyter-widgets/base",
            "_view_module_version": "1.2.0",
            "_view_name": "StyleView",
            "bar_color": null,
            "description_width": ""
          }
        },
        "4a3161be9e674cab8ca38cae44a249e9": {
          "model_module": "@jupyter-widgets/base",
          "model_name": "LayoutModel",
          "model_module_version": "1.2.0",
          "state": {
            "_model_module": "@jupyter-widgets/base",
            "_model_module_version": "1.2.0",
            "_model_name": "LayoutModel",
            "_view_count": null,
            "_view_module": "@jupyter-widgets/base",
            "_view_module_version": "1.2.0",
            "_view_name": "LayoutView",
            "align_content": null,
            "align_items": null,
            "align_self": null,
            "border": null,
            "bottom": null,
            "display": null,
            "flex": null,
            "flex_flow": null,
            "grid_area": null,
            "grid_auto_columns": null,
            "grid_auto_flow": null,
            "grid_auto_rows": null,
            "grid_column": null,
            "grid_gap": null,
            "grid_row": null,
            "grid_template_areas": null,
            "grid_template_columns": null,
            "grid_template_rows": null,
            "height": null,
            "justify_content": null,
            "justify_items": null,
            "left": null,
            "margin": null,
            "max_height": null,
            "max_width": null,
            "min_height": null,
            "min_width": null,
            "object_fit": null,
            "object_position": null,
            "order": null,
            "overflow": null,
            "overflow_x": null,
            "overflow_y": null,
            "padding": null,
            "right": null,
            "top": null,
            "visibility": null,
            "width": null
          }
        },
        "bceb66c1edc040ceae41b603b5763459": {
          "model_module": "@jupyter-widgets/controls",
          "model_name": "DescriptionStyleModel",
          "model_module_version": "1.5.0",
          "state": {
            "_model_module": "@jupyter-widgets/controls",
            "_model_module_version": "1.5.0",
            "_model_name": "DescriptionStyleModel",
            "_view_count": null,
            "_view_module": "@jupyter-widgets/base",
            "_view_module_version": "1.2.0",
            "_view_name": "StyleView",
            "description_width": ""
          }
        },
        "351897e922624b19879547debb6e8f74": {
          "model_module": "@jupyter-widgets/controls",
          "model_name": "HBoxModel",
          "model_module_version": "1.5.0",
          "state": {
            "_dom_classes": [],
            "_model_module": "@jupyter-widgets/controls",
            "_model_module_version": "1.5.0",
            "_model_name": "HBoxModel",
            "_view_count": null,
            "_view_module": "@jupyter-widgets/controls",
            "_view_module_version": "1.5.0",
            "_view_name": "HBoxView",
            "box_style": "",
            "children": [
              "IPY_MODEL_30cadba085604dae9381ba6d579ee7a9",
              "IPY_MODEL_297ff4c60eae4c139e92788e10fc6df0",
              "IPY_MODEL_eba7bdb0363c49a59e7efe9a17ea5254"
            ],
            "layout": "IPY_MODEL_4a5ef879a7b143b88a3d66dc49cf458e"
          }
        },
        "30cadba085604dae9381ba6d579ee7a9": {
          "model_module": "@jupyter-widgets/controls",
          "model_name": "HTMLModel",
          "model_module_version": "1.5.0",
          "state": {
            "_dom_classes": [],
            "_model_module": "@jupyter-widgets/controls",
            "_model_module_version": "1.5.0",
            "_model_name": "HTMLModel",
            "_view_count": null,
            "_view_module": "@jupyter-widgets/controls",
            "_view_module_version": "1.5.0",
            "_view_name": "HTMLView",
            "description": "",
            "description_tooltip": null,
            "layout": "IPY_MODEL_c918d4da79cb4206be4bd17bd7ce9775",
            "placeholder": "​",
            "style": "IPY_MODEL_e6c86e90d0624c0eb7e266983fcb92c4",
            "value": "vocab.json: 100%"
          }
        },
        "297ff4c60eae4c139e92788e10fc6df0": {
          "model_module": "@jupyter-widgets/controls",
          "model_name": "FloatProgressModel",
          "model_module_version": "1.5.0",
          "state": {
            "_dom_classes": [],
            "_model_module": "@jupyter-widgets/controls",
            "_model_module_version": "1.5.0",
            "_model_name": "FloatProgressModel",
            "_view_count": null,
            "_view_module": "@jupyter-widgets/controls",
            "_view_module_version": "1.5.0",
            "_view_name": "ProgressView",
            "bar_style": "success",
            "description": "",
            "description_tooltip": null,
            "layout": "IPY_MODEL_d1a2b29a2d3e46e4b1527e0353d29369",
            "max": 898822,
            "min": 0,
            "orientation": "horizontal",
            "style": "IPY_MODEL_c521f9075dec431e8d5f8f68696a7404",
            "value": 898822
          }
        },
        "eba7bdb0363c49a59e7efe9a17ea5254": {
          "model_module": "@jupyter-widgets/controls",
          "model_name": "HTMLModel",
          "model_module_version": "1.5.0",
          "state": {
            "_dom_classes": [],
            "_model_module": "@jupyter-widgets/controls",
            "_model_module_version": "1.5.0",
            "_model_name": "HTMLModel",
            "_view_count": null,
            "_view_module": "@jupyter-widgets/controls",
            "_view_module_version": "1.5.0",
            "_view_name": "HTMLView",
            "description": "",
            "description_tooltip": null,
            "layout": "IPY_MODEL_f3926e81139444d1977264d3bb73b6bf",
            "placeholder": "​",
            "style": "IPY_MODEL_789a7855ce39474c88e590aa6bf838e7",
            "value": " 899k/899k [00:00&lt;00:00, 12.7MB/s]"
          }
        },
        "4a5ef879a7b143b88a3d66dc49cf458e": {
          "model_module": "@jupyter-widgets/base",
          "model_name": "LayoutModel",
          "model_module_version": "1.2.0",
          "state": {
            "_model_module": "@jupyter-widgets/base",
            "_model_module_version": "1.2.0",
            "_model_name": "LayoutModel",
            "_view_count": null,
            "_view_module": "@jupyter-widgets/base",
            "_view_module_version": "1.2.0",
            "_view_name": "LayoutView",
            "align_content": null,
            "align_items": null,
            "align_self": null,
            "border": null,
            "bottom": null,
            "display": null,
            "flex": null,
            "flex_flow": null,
            "grid_area": null,
            "grid_auto_columns": null,
            "grid_auto_flow": null,
            "grid_auto_rows": null,
            "grid_column": null,
            "grid_gap": null,
            "grid_row": null,
            "grid_template_areas": null,
            "grid_template_columns": null,
            "grid_template_rows": null,
            "height": null,
            "justify_content": null,
            "justify_items": null,
            "left": null,
            "margin": null,
            "max_height": null,
            "max_width": null,
            "min_height": null,
            "min_width": null,
            "object_fit": null,
            "object_position": null,
            "order": null,
            "overflow": null,
            "overflow_x": null,
            "overflow_y": null,
            "padding": null,
            "right": null,
            "top": null,
            "visibility": null,
            "width": null
          }
        },
        "c918d4da79cb4206be4bd17bd7ce9775": {
          "model_module": "@jupyter-widgets/base",
          "model_name": "LayoutModel",
          "model_module_version": "1.2.0",
          "state": {
            "_model_module": "@jupyter-widgets/base",
            "_model_module_version": "1.2.0",
            "_model_name": "LayoutModel",
            "_view_count": null,
            "_view_module": "@jupyter-widgets/base",
            "_view_module_version": "1.2.0",
            "_view_name": "LayoutView",
            "align_content": null,
            "align_items": null,
            "align_self": null,
            "border": null,
            "bottom": null,
            "display": null,
            "flex": null,
            "flex_flow": null,
            "grid_area": null,
            "grid_auto_columns": null,
            "grid_auto_flow": null,
            "grid_auto_rows": null,
            "grid_column": null,
            "grid_gap": null,
            "grid_row": null,
            "grid_template_areas": null,
            "grid_template_columns": null,
            "grid_template_rows": null,
            "height": null,
            "justify_content": null,
            "justify_items": null,
            "left": null,
            "margin": null,
            "max_height": null,
            "max_width": null,
            "min_height": null,
            "min_width": null,
            "object_fit": null,
            "object_position": null,
            "order": null,
            "overflow": null,
            "overflow_x": null,
            "overflow_y": null,
            "padding": null,
            "right": null,
            "top": null,
            "visibility": null,
            "width": null
          }
        },
        "e6c86e90d0624c0eb7e266983fcb92c4": {
          "model_module": "@jupyter-widgets/controls",
          "model_name": "DescriptionStyleModel",
          "model_module_version": "1.5.0",
          "state": {
            "_model_module": "@jupyter-widgets/controls",
            "_model_module_version": "1.5.0",
            "_model_name": "DescriptionStyleModel",
            "_view_count": null,
            "_view_module": "@jupyter-widgets/base",
            "_view_module_version": "1.2.0",
            "_view_name": "StyleView",
            "description_width": ""
          }
        },
        "d1a2b29a2d3e46e4b1527e0353d29369": {
          "model_module": "@jupyter-widgets/base",
          "model_name": "LayoutModel",
          "model_module_version": "1.2.0",
          "state": {
            "_model_module": "@jupyter-widgets/base",
            "_model_module_version": "1.2.0",
            "_model_name": "LayoutModel",
            "_view_count": null,
            "_view_module": "@jupyter-widgets/base",
            "_view_module_version": "1.2.0",
            "_view_name": "LayoutView",
            "align_content": null,
            "align_items": null,
            "align_self": null,
            "border": null,
            "bottom": null,
            "display": null,
            "flex": null,
            "flex_flow": null,
            "grid_area": null,
            "grid_auto_columns": null,
            "grid_auto_flow": null,
            "grid_auto_rows": null,
            "grid_column": null,
            "grid_gap": null,
            "grid_row": null,
            "grid_template_areas": null,
            "grid_template_columns": null,
            "grid_template_rows": null,
            "height": null,
            "justify_content": null,
            "justify_items": null,
            "left": null,
            "margin": null,
            "max_height": null,
            "max_width": null,
            "min_height": null,
            "min_width": null,
            "object_fit": null,
            "object_position": null,
            "order": null,
            "overflow": null,
            "overflow_x": null,
            "overflow_y": null,
            "padding": null,
            "right": null,
            "top": null,
            "visibility": null,
            "width": null
          }
        },
        "c521f9075dec431e8d5f8f68696a7404": {
          "model_module": "@jupyter-widgets/controls",
          "model_name": "ProgressStyleModel",
          "model_module_version": "1.5.0",
          "state": {
            "_model_module": "@jupyter-widgets/controls",
            "_model_module_version": "1.5.0",
            "_model_name": "ProgressStyleModel",
            "_view_count": null,
            "_view_module": "@jupyter-widgets/base",
            "_view_module_version": "1.2.0",
            "_view_name": "StyleView",
            "bar_color": null,
            "description_width": ""
          }
        },
        "f3926e81139444d1977264d3bb73b6bf": {
          "model_module": "@jupyter-widgets/base",
          "model_name": "LayoutModel",
          "model_module_version": "1.2.0",
          "state": {
            "_model_module": "@jupyter-widgets/base",
            "_model_module_version": "1.2.0",
            "_model_name": "LayoutModel",
            "_view_count": null,
            "_view_module": "@jupyter-widgets/base",
            "_view_module_version": "1.2.0",
            "_view_name": "LayoutView",
            "align_content": null,
            "align_items": null,
            "align_self": null,
            "border": null,
            "bottom": null,
            "display": null,
            "flex": null,
            "flex_flow": null,
            "grid_area": null,
            "grid_auto_columns": null,
            "grid_auto_flow": null,
            "grid_auto_rows": null,
            "grid_column": null,
            "grid_gap": null,
            "grid_row": null,
            "grid_template_areas": null,
            "grid_template_columns": null,
            "grid_template_rows": null,
            "height": null,
            "justify_content": null,
            "justify_items": null,
            "left": null,
            "margin": null,
            "max_height": null,
            "max_width": null,
            "min_height": null,
            "min_width": null,
            "object_fit": null,
            "object_position": null,
            "order": null,
            "overflow": null,
            "overflow_x": null,
            "overflow_y": null,
            "padding": null,
            "right": null,
            "top": null,
            "visibility": null,
            "width": null
          }
        },
        "789a7855ce39474c88e590aa6bf838e7": {
          "model_module": "@jupyter-widgets/controls",
          "model_name": "DescriptionStyleModel",
          "model_module_version": "1.5.0",
          "state": {
            "_model_module": "@jupyter-widgets/controls",
            "_model_module_version": "1.5.0",
            "_model_name": "DescriptionStyleModel",
            "_view_count": null,
            "_view_module": "@jupyter-widgets/base",
            "_view_module_version": "1.2.0",
            "_view_name": "StyleView",
            "description_width": ""
          }
        },
        "2b1c6ad432f64782905bf8f4643345cd": {
          "model_module": "@jupyter-widgets/controls",
          "model_name": "HBoxModel",
          "model_module_version": "1.5.0",
          "state": {
            "_dom_classes": [],
            "_model_module": "@jupyter-widgets/controls",
            "_model_module_version": "1.5.0",
            "_model_name": "HBoxModel",
            "_view_count": null,
            "_view_module": "@jupyter-widgets/controls",
            "_view_module_version": "1.5.0",
            "_view_name": "HBoxView",
            "box_style": "",
            "children": [
              "IPY_MODEL_43d6ef8f63ac499d9cd653f236763e93",
              "IPY_MODEL_8725b3e1833147bba059ccda606e0e7b",
              "IPY_MODEL_e80f1f9af09b45589ae97e8f1bb6dc3d"
            ],
            "layout": "IPY_MODEL_10ad4b94e55f4f7181cd03b843d2b8f7"
          }
        },
        "43d6ef8f63ac499d9cd653f236763e93": {
          "model_module": "@jupyter-widgets/controls",
          "model_name": "HTMLModel",
          "model_module_version": "1.5.0",
          "state": {
            "_dom_classes": [],
            "_model_module": "@jupyter-widgets/controls",
            "_model_module_version": "1.5.0",
            "_model_name": "HTMLModel",
            "_view_count": null,
            "_view_module": "@jupyter-widgets/controls",
            "_view_module_version": "1.5.0",
            "_view_name": "HTMLView",
            "description": "",
            "description_tooltip": null,
            "layout": "IPY_MODEL_f34bae8ae9c34b84922a3347b9725a21",
            "placeholder": "​",
            "style": "IPY_MODEL_aabfd658887e4acd9ca62d69848fb5d1",
            "value": "merges.txt: 100%"
          }
        },
        "8725b3e1833147bba059ccda606e0e7b": {
          "model_module": "@jupyter-widgets/controls",
          "model_name": "FloatProgressModel",
          "model_module_version": "1.5.0",
          "state": {
            "_dom_classes": [],
            "_model_module": "@jupyter-widgets/controls",
            "_model_module_version": "1.5.0",
            "_model_name": "FloatProgressModel",
            "_view_count": null,
            "_view_module": "@jupyter-widgets/controls",
            "_view_module_version": "1.5.0",
            "_view_name": "ProgressView",
            "bar_style": "success",
            "description": "",
            "description_tooltip": null,
            "layout": "IPY_MODEL_d6e8725f8d934cdb8265553237c450eb",
            "max": 456318,
            "min": 0,
            "orientation": "horizontal",
            "style": "IPY_MODEL_0cff5cc622c84b6a8df8b5d615028f81",
            "value": 456318
          }
        },
        "e80f1f9af09b45589ae97e8f1bb6dc3d": {
          "model_module": "@jupyter-widgets/controls",
          "model_name": "HTMLModel",
          "model_module_version": "1.5.0",
          "state": {
            "_dom_classes": [],
            "_model_module": "@jupyter-widgets/controls",
            "_model_module_version": "1.5.0",
            "_model_name": "HTMLModel",
            "_view_count": null,
            "_view_module": "@jupyter-widgets/controls",
            "_view_module_version": "1.5.0",
            "_view_name": "HTMLView",
            "description": "",
            "description_tooltip": null,
            "layout": "IPY_MODEL_6eb8da3e3b5b4813a85e1d4cfa69bfc9",
            "placeholder": "​",
            "style": "IPY_MODEL_eb34c003c3ab409dbe27a31a23fd0be0",
            "value": " 456k/456k [00:00&lt;00:00, 8.86MB/s]"
          }
        },
        "10ad4b94e55f4f7181cd03b843d2b8f7": {
          "model_module": "@jupyter-widgets/base",
          "model_name": "LayoutModel",
          "model_module_version": "1.2.0",
          "state": {
            "_model_module": "@jupyter-widgets/base",
            "_model_module_version": "1.2.0",
            "_model_name": "LayoutModel",
            "_view_count": null,
            "_view_module": "@jupyter-widgets/base",
            "_view_module_version": "1.2.0",
            "_view_name": "LayoutView",
            "align_content": null,
            "align_items": null,
            "align_self": null,
            "border": null,
            "bottom": null,
            "display": null,
            "flex": null,
            "flex_flow": null,
            "grid_area": null,
            "grid_auto_columns": null,
            "grid_auto_flow": null,
            "grid_auto_rows": null,
            "grid_column": null,
            "grid_gap": null,
            "grid_row": null,
            "grid_template_areas": null,
            "grid_template_columns": null,
            "grid_template_rows": null,
            "height": null,
            "justify_content": null,
            "justify_items": null,
            "left": null,
            "margin": null,
            "max_height": null,
            "max_width": null,
            "min_height": null,
            "min_width": null,
            "object_fit": null,
            "object_position": null,
            "order": null,
            "overflow": null,
            "overflow_x": null,
            "overflow_y": null,
            "padding": null,
            "right": null,
            "top": null,
            "visibility": null,
            "width": null
          }
        },
        "f34bae8ae9c34b84922a3347b9725a21": {
          "model_module": "@jupyter-widgets/base",
          "model_name": "LayoutModel",
          "model_module_version": "1.2.0",
          "state": {
            "_model_module": "@jupyter-widgets/base",
            "_model_module_version": "1.2.0",
            "_model_name": "LayoutModel",
            "_view_count": null,
            "_view_module": "@jupyter-widgets/base",
            "_view_module_version": "1.2.0",
            "_view_name": "LayoutView",
            "align_content": null,
            "align_items": null,
            "align_self": null,
            "border": null,
            "bottom": null,
            "display": null,
            "flex": null,
            "flex_flow": null,
            "grid_area": null,
            "grid_auto_columns": null,
            "grid_auto_flow": null,
            "grid_auto_rows": null,
            "grid_column": null,
            "grid_gap": null,
            "grid_row": null,
            "grid_template_areas": null,
            "grid_template_columns": null,
            "grid_template_rows": null,
            "height": null,
            "justify_content": null,
            "justify_items": null,
            "left": null,
            "margin": null,
            "max_height": null,
            "max_width": null,
            "min_height": null,
            "min_width": null,
            "object_fit": null,
            "object_position": null,
            "order": null,
            "overflow": null,
            "overflow_x": null,
            "overflow_y": null,
            "padding": null,
            "right": null,
            "top": null,
            "visibility": null,
            "width": null
          }
        },
        "aabfd658887e4acd9ca62d69848fb5d1": {
          "model_module": "@jupyter-widgets/controls",
          "model_name": "DescriptionStyleModel",
          "model_module_version": "1.5.0",
          "state": {
            "_model_module": "@jupyter-widgets/controls",
            "_model_module_version": "1.5.0",
            "_model_name": "DescriptionStyleModel",
            "_view_count": null,
            "_view_module": "@jupyter-widgets/base",
            "_view_module_version": "1.2.0",
            "_view_name": "StyleView",
            "description_width": ""
          }
        },
        "d6e8725f8d934cdb8265553237c450eb": {
          "model_module": "@jupyter-widgets/base",
          "model_name": "LayoutModel",
          "model_module_version": "1.2.0",
          "state": {
            "_model_module": "@jupyter-widgets/base",
            "_model_module_version": "1.2.0",
            "_model_name": "LayoutModel",
            "_view_count": null,
            "_view_module": "@jupyter-widgets/base",
            "_view_module_version": "1.2.0",
            "_view_name": "LayoutView",
            "align_content": null,
            "align_items": null,
            "align_self": null,
            "border": null,
            "bottom": null,
            "display": null,
            "flex": null,
            "flex_flow": null,
            "grid_area": null,
            "grid_auto_columns": null,
            "grid_auto_flow": null,
            "grid_auto_rows": null,
            "grid_column": null,
            "grid_gap": null,
            "grid_row": null,
            "grid_template_areas": null,
            "grid_template_columns": null,
            "grid_template_rows": null,
            "height": null,
            "justify_content": null,
            "justify_items": null,
            "left": null,
            "margin": null,
            "max_height": null,
            "max_width": null,
            "min_height": null,
            "min_width": null,
            "object_fit": null,
            "object_position": null,
            "order": null,
            "overflow": null,
            "overflow_x": null,
            "overflow_y": null,
            "padding": null,
            "right": null,
            "top": null,
            "visibility": null,
            "width": null
          }
        },
        "0cff5cc622c84b6a8df8b5d615028f81": {
          "model_module": "@jupyter-widgets/controls",
          "model_name": "ProgressStyleModel",
          "model_module_version": "1.5.0",
          "state": {
            "_model_module": "@jupyter-widgets/controls",
            "_model_module_version": "1.5.0",
            "_model_name": "ProgressStyleModel",
            "_view_count": null,
            "_view_module": "@jupyter-widgets/base",
            "_view_module_version": "1.2.0",
            "_view_name": "StyleView",
            "bar_color": null,
            "description_width": ""
          }
        },
        "6eb8da3e3b5b4813a85e1d4cfa69bfc9": {
          "model_module": "@jupyter-widgets/base",
          "model_name": "LayoutModel",
          "model_module_version": "1.2.0",
          "state": {
            "_model_module": "@jupyter-widgets/base",
            "_model_module_version": "1.2.0",
            "_model_name": "LayoutModel",
            "_view_count": null,
            "_view_module": "@jupyter-widgets/base",
            "_view_module_version": "1.2.0",
            "_view_name": "LayoutView",
            "align_content": null,
            "align_items": null,
            "align_self": null,
            "border": null,
            "bottom": null,
            "display": null,
            "flex": null,
            "flex_flow": null,
            "grid_area": null,
            "grid_auto_columns": null,
            "grid_auto_flow": null,
            "grid_auto_rows": null,
            "grid_column": null,
            "grid_gap": null,
            "grid_row": null,
            "grid_template_areas": null,
            "grid_template_columns": null,
            "grid_template_rows": null,
            "height": null,
            "justify_content": null,
            "justify_items": null,
            "left": null,
            "margin": null,
            "max_height": null,
            "max_width": null,
            "min_height": null,
            "min_width": null,
            "object_fit": null,
            "object_position": null,
            "order": null,
            "overflow": null,
            "overflow_x": null,
            "overflow_y": null,
            "padding": null,
            "right": null,
            "top": null,
            "visibility": null,
            "width": null
          }
        },
        "eb34c003c3ab409dbe27a31a23fd0be0": {
          "model_module": "@jupyter-widgets/controls",
          "model_name": "DescriptionStyleModel",
          "model_module_version": "1.5.0",
          "state": {
            "_model_module": "@jupyter-widgets/controls",
            "_model_module_version": "1.5.0",
            "_model_name": "DescriptionStyleModel",
            "_view_count": null,
            "_view_module": "@jupyter-widgets/base",
            "_view_module_version": "1.2.0",
            "_view_name": "StyleView",
            "description_width": ""
          }
        },
        "54257177ab714f8b89d8e07d88b0d392": {
          "model_module": "@jupyter-widgets/controls",
          "model_name": "HBoxModel",
          "model_module_version": "1.5.0",
          "state": {
            "_dom_classes": [],
            "_model_module": "@jupyter-widgets/controls",
            "_model_module_version": "1.5.0",
            "_model_name": "HBoxModel",
            "_view_count": null,
            "_view_module": "@jupyter-widgets/controls",
            "_view_module_version": "1.5.0",
            "_view_name": "HBoxView",
            "box_style": "",
            "children": [
              "IPY_MODEL_1161be7733614d7984cc7534b399d9e6",
              "IPY_MODEL_07476d77dd5f473ebf9d46ddab646f5b",
              "IPY_MODEL_a78729ee96e2489888f3a293ce28069e"
            ],
            "layout": "IPY_MODEL_2b125050f34d4de893a7968fcd75e145"
          }
        },
        "1161be7733614d7984cc7534b399d9e6": {
          "model_module": "@jupyter-widgets/controls",
          "model_name": "HTMLModel",
          "model_module_version": "1.5.0",
          "state": {
            "_dom_classes": [],
            "_model_module": "@jupyter-widgets/controls",
            "_model_module_version": "1.5.0",
            "_model_name": "HTMLModel",
            "_view_count": null,
            "_view_module": "@jupyter-widgets/controls",
            "_view_module_version": "1.5.0",
            "_view_name": "HTMLView",
            "description": "",
            "description_tooltip": null,
            "layout": "IPY_MODEL_b5922028d25d44eabb88c19b11a92d4a",
            "placeholder": "​",
            "style": "IPY_MODEL_c33b80cf4b1c4c91a85b2c6ee6198cf3",
            "value": "special_tokens_map.json: 100%"
          }
        },
        "07476d77dd5f473ebf9d46ddab646f5b": {
          "model_module": "@jupyter-widgets/controls",
          "model_name": "FloatProgressModel",
          "model_module_version": "1.5.0",
          "state": {
            "_dom_classes": [],
            "_model_module": "@jupyter-widgets/controls",
            "_model_module_version": "1.5.0",
            "_model_name": "FloatProgressModel",
            "_view_count": null,
            "_view_module": "@jupyter-widgets/controls",
            "_view_module_version": "1.5.0",
            "_view_name": "ProgressView",
            "bar_style": "success",
            "description": "",
            "description_tooltip": null,
            "layout": "IPY_MODEL_0298db5fb2a44b1bb5504c547376bbcd",
            "max": 239,
            "min": 0,
            "orientation": "horizontal",
            "style": "IPY_MODEL_0ac23406252b495cad61a8e3460a4186",
            "value": 239
          }
        },
        "a78729ee96e2489888f3a293ce28069e": {
          "model_module": "@jupyter-widgets/controls",
          "model_name": "HTMLModel",
          "model_module_version": "1.5.0",
          "state": {
            "_dom_classes": [],
            "_model_module": "@jupyter-widgets/controls",
            "_model_module_version": "1.5.0",
            "_model_name": "HTMLModel",
            "_view_count": null,
            "_view_module": "@jupyter-widgets/controls",
            "_view_module_version": "1.5.0",
            "_view_name": "HTMLView",
            "description": "",
            "description_tooltip": null,
            "layout": "IPY_MODEL_f38fb2542b17451581ee72915cd0c346",
            "placeholder": "​",
            "style": "IPY_MODEL_a87d7ed3c28649579ec71f440df0192e",
            "value": " 239/239 [00:00&lt;00:00, 9.20kB/s]"
          }
        },
        "2b125050f34d4de893a7968fcd75e145": {
          "model_module": "@jupyter-widgets/base",
          "model_name": "LayoutModel",
          "model_module_version": "1.2.0",
          "state": {
            "_model_module": "@jupyter-widgets/base",
            "_model_module_version": "1.2.0",
            "_model_name": "LayoutModel",
            "_view_count": null,
            "_view_module": "@jupyter-widgets/base",
            "_view_module_version": "1.2.0",
            "_view_name": "LayoutView",
            "align_content": null,
            "align_items": null,
            "align_self": null,
            "border": null,
            "bottom": null,
            "display": null,
            "flex": null,
            "flex_flow": null,
            "grid_area": null,
            "grid_auto_columns": null,
            "grid_auto_flow": null,
            "grid_auto_rows": null,
            "grid_column": null,
            "grid_gap": null,
            "grid_row": null,
            "grid_template_areas": null,
            "grid_template_columns": null,
            "grid_template_rows": null,
            "height": null,
            "justify_content": null,
            "justify_items": null,
            "left": null,
            "margin": null,
            "max_height": null,
            "max_width": null,
            "min_height": null,
            "min_width": null,
            "object_fit": null,
            "object_position": null,
            "order": null,
            "overflow": null,
            "overflow_x": null,
            "overflow_y": null,
            "padding": null,
            "right": null,
            "top": null,
            "visibility": null,
            "width": null
          }
        },
        "b5922028d25d44eabb88c19b11a92d4a": {
          "model_module": "@jupyter-widgets/base",
          "model_name": "LayoutModel",
          "model_module_version": "1.2.0",
          "state": {
            "_model_module": "@jupyter-widgets/base",
            "_model_module_version": "1.2.0",
            "_model_name": "LayoutModel",
            "_view_count": null,
            "_view_module": "@jupyter-widgets/base",
            "_view_module_version": "1.2.0",
            "_view_name": "LayoutView",
            "align_content": null,
            "align_items": null,
            "align_self": null,
            "border": null,
            "bottom": null,
            "display": null,
            "flex": null,
            "flex_flow": null,
            "grid_area": null,
            "grid_auto_columns": null,
            "grid_auto_flow": null,
            "grid_auto_rows": null,
            "grid_column": null,
            "grid_gap": null,
            "grid_row": null,
            "grid_template_areas": null,
            "grid_template_columns": null,
            "grid_template_rows": null,
            "height": null,
            "justify_content": null,
            "justify_items": null,
            "left": null,
            "margin": null,
            "max_height": null,
            "max_width": null,
            "min_height": null,
            "min_width": null,
            "object_fit": null,
            "object_position": null,
            "order": null,
            "overflow": null,
            "overflow_x": null,
            "overflow_y": null,
            "padding": null,
            "right": null,
            "top": null,
            "visibility": null,
            "width": null
          }
        },
        "c33b80cf4b1c4c91a85b2c6ee6198cf3": {
          "model_module": "@jupyter-widgets/controls",
          "model_name": "DescriptionStyleModel",
          "model_module_version": "1.5.0",
          "state": {
            "_model_module": "@jupyter-widgets/controls",
            "_model_module_version": "1.5.0",
            "_model_name": "DescriptionStyleModel",
            "_view_count": null,
            "_view_module": "@jupyter-widgets/base",
            "_view_module_version": "1.2.0",
            "_view_name": "StyleView",
            "description_width": ""
          }
        },
        "0298db5fb2a44b1bb5504c547376bbcd": {
          "model_module": "@jupyter-widgets/base",
          "model_name": "LayoutModel",
          "model_module_version": "1.2.0",
          "state": {
            "_model_module": "@jupyter-widgets/base",
            "_model_module_version": "1.2.0",
            "_model_name": "LayoutModel",
            "_view_count": null,
            "_view_module": "@jupyter-widgets/base",
            "_view_module_version": "1.2.0",
            "_view_name": "LayoutView",
            "align_content": null,
            "align_items": null,
            "align_self": null,
            "border": null,
            "bottom": null,
            "display": null,
            "flex": null,
            "flex_flow": null,
            "grid_area": null,
            "grid_auto_columns": null,
            "grid_auto_flow": null,
            "grid_auto_rows": null,
            "grid_column": null,
            "grid_gap": null,
            "grid_row": null,
            "grid_template_areas": null,
            "grid_template_columns": null,
            "grid_template_rows": null,
            "height": null,
            "justify_content": null,
            "justify_items": null,
            "left": null,
            "margin": null,
            "max_height": null,
            "max_width": null,
            "min_height": null,
            "min_width": null,
            "object_fit": null,
            "object_position": null,
            "order": null,
            "overflow": null,
            "overflow_x": null,
            "overflow_y": null,
            "padding": null,
            "right": null,
            "top": null,
            "visibility": null,
            "width": null
          }
        },
        "0ac23406252b495cad61a8e3460a4186": {
          "model_module": "@jupyter-widgets/controls",
          "model_name": "ProgressStyleModel",
          "model_module_version": "1.5.0",
          "state": {
            "_model_module": "@jupyter-widgets/controls",
            "_model_module_version": "1.5.0",
            "_model_name": "ProgressStyleModel",
            "_view_count": null,
            "_view_module": "@jupyter-widgets/base",
            "_view_module_version": "1.2.0",
            "_view_name": "StyleView",
            "bar_color": null,
            "description_width": ""
          }
        },
        "f38fb2542b17451581ee72915cd0c346": {
          "model_module": "@jupyter-widgets/base",
          "model_name": "LayoutModel",
          "model_module_version": "1.2.0",
          "state": {
            "_model_module": "@jupyter-widgets/base",
            "_model_module_version": "1.2.0",
            "_model_name": "LayoutModel",
            "_view_count": null,
            "_view_module": "@jupyter-widgets/base",
            "_view_module_version": "1.2.0",
            "_view_name": "LayoutView",
            "align_content": null,
            "align_items": null,
            "align_self": null,
            "border": null,
            "bottom": null,
            "display": null,
            "flex": null,
            "flex_flow": null,
            "grid_area": null,
            "grid_auto_columns": null,
            "grid_auto_flow": null,
            "grid_auto_rows": null,
            "grid_column": null,
            "grid_gap": null,
            "grid_row": null,
            "grid_template_areas": null,
            "grid_template_columns": null,
            "grid_template_rows": null,
            "height": null,
            "justify_content": null,
            "justify_items": null,
            "left": null,
            "margin": null,
            "max_height": null,
            "max_width": null,
            "min_height": null,
            "min_width": null,
            "object_fit": null,
            "object_position": null,
            "order": null,
            "overflow": null,
            "overflow_x": null,
            "overflow_y": null,
            "padding": null,
            "right": null,
            "top": null,
            "visibility": null,
            "width": null
          }
        },
        "a87d7ed3c28649579ec71f440df0192e": {
          "model_module": "@jupyter-widgets/controls",
          "model_name": "DescriptionStyleModel",
          "model_module_version": "1.5.0",
          "state": {
            "_model_module": "@jupyter-widgets/controls",
            "_model_module_version": "1.5.0",
            "_model_name": "DescriptionStyleModel",
            "_view_count": null,
            "_view_module": "@jupyter-widgets/base",
            "_view_module_version": "1.2.0",
            "_view_name": "StyleView",
            "description_width": ""
          }
        },
        "a51f7f48a3cf4752b7ded3d1100c506b": {
          "model_module": "@jupyter-widgets/controls",
          "model_name": "HBoxModel",
          "model_module_version": "1.5.0",
          "state": {
            "_dom_classes": [],
            "_model_module": "@jupyter-widgets/controls",
            "_model_module_version": "1.5.0",
            "_model_name": "HBoxModel",
            "_view_count": null,
            "_view_module": "@jupyter-widgets/controls",
            "_view_module_version": "1.5.0",
            "_view_name": "HBoxView",
            "box_style": "",
            "children": [
              "IPY_MODEL_70afb069e3814e45ba678fb363f7e33a",
              "IPY_MODEL_01e104e3a98744d79e631dd98bff15c5",
              "IPY_MODEL_2ead31979bfd4abaa18981c636568b0b"
            ],
            "layout": "IPY_MODEL_1f7a7707009945bfb89087881aca171d"
          }
        },
        "70afb069e3814e45ba678fb363f7e33a": {
          "model_module": "@jupyter-widgets/controls",
          "model_name": "HTMLModel",
          "model_module_version": "1.5.0",
          "state": {
            "_dom_classes": [],
            "_model_module": "@jupyter-widgets/controls",
            "_model_module_version": "1.5.0",
            "_model_name": "HTMLModel",
            "_view_count": null,
            "_view_module": "@jupyter-widgets/controls",
            "_view_module_version": "1.5.0",
            "_view_name": "HTMLView",
            "description": "",
            "description_tooltip": null,
            "layout": "IPY_MODEL_e6f53d9409c643ba96007ce98def7832",
            "placeholder": "​",
            "style": "IPY_MODEL_2ac3f6bfadcf4dff9564f97ffd5b3ea0",
            "value": "pytorch_model.bin: 100%"
          }
        },
        "01e104e3a98744d79e631dd98bff15c5": {
          "model_module": "@jupyter-widgets/controls",
          "model_name": "FloatProgressModel",
          "model_module_version": "1.5.0",
          "state": {
            "_dom_classes": [],
            "_model_module": "@jupyter-widgets/controls",
            "_model_module_version": "1.5.0",
            "_model_name": "FloatProgressModel",
            "_view_count": null,
            "_view_module": "@jupyter-widgets/controls",
            "_view_module_version": "1.5.0",
            "_view_name": "ProgressView",
            "bar_style": "success",
            "description": "",
            "description_tooltip": null,
            "layout": "IPY_MODEL_eb4cfc15c7b04d03a8b1ad0a8424feca",
            "max": 501045531,
            "min": 0,
            "orientation": "horizontal",
            "style": "IPY_MODEL_f3c177acc6594beeba28e8d2df067033",
            "value": 501045531
          }
        },
        "2ead31979bfd4abaa18981c636568b0b": {
          "model_module": "@jupyter-widgets/controls",
          "model_name": "HTMLModel",
          "model_module_version": "1.5.0",
          "state": {
            "_dom_classes": [],
            "_model_module": "@jupyter-widgets/controls",
            "_model_module_version": "1.5.0",
            "_model_name": "HTMLModel",
            "_view_count": null,
            "_view_module": "@jupyter-widgets/controls",
            "_view_module_version": "1.5.0",
            "_view_name": "HTMLView",
            "description": "",
            "description_tooltip": null,
            "layout": "IPY_MODEL_b5090a1ae4ac43e8b67bee68f6c71092",
            "placeholder": "​",
            "style": "IPY_MODEL_2e6c2d40e78a4752ac567f8814e85ee5",
            "value": " 501M/501M [00:02&lt;00:00, 201MB/s]"
          }
        },
        "1f7a7707009945bfb89087881aca171d": {
          "model_module": "@jupyter-widgets/base",
          "model_name": "LayoutModel",
          "model_module_version": "1.2.0",
          "state": {
            "_model_module": "@jupyter-widgets/base",
            "_model_module_version": "1.2.0",
            "_model_name": "LayoutModel",
            "_view_count": null,
            "_view_module": "@jupyter-widgets/base",
            "_view_module_version": "1.2.0",
            "_view_name": "LayoutView",
            "align_content": null,
            "align_items": null,
            "align_self": null,
            "border": null,
            "bottom": null,
            "display": null,
            "flex": null,
            "flex_flow": null,
            "grid_area": null,
            "grid_auto_columns": null,
            "grid_auto_flow": null,
            "grid_auto_rows": null,
            "grid_column": null,
            "grid_gap": null,
            "grid_row": null,
            "grid_template_areas": null,
            "grid_template_columns": null,
            "grid_template_rows": null,
            "height": null,
            "justify_content": null,
            "justify_items": null,
            "left": null,
            "margin": null,
            "max_height": null,
            "max_width": null,
            "min_height": null,
            "min_width": null,
            "object_fit": null,
            "object_position": null,
            "order": null,
            "overflow": null,
            "overflow_x": null,
            "overflow_y": null,
            "padding": null,
            "right": null,
            "top": null,
            "visibility": null,
            "width": null
          }
        },
        "e6f53d9409c643ba96007ce98def7832": {
          "model_module": "@jupyter-widgets/base",
          "model_name": "LayoutModel",
          "model_module_version": "1.2.0",
          "state": {
            "_model_module": "@jupyter-widgets/base",
            "_model_module_version": "1.2.0",
            "_model_name": "LayoutModel",
            "_view_count": null,
            "_view_module": "@jupyter-widgets/base",
            "_view_module_version": "1.2.0",
            "_view_name": "LayoutView",
            "align_content": null,
            "align_items": null,
            "align_self": null,
            "border": null,
            "bottom": null,
            "display": null,
            "flex": null,
            "flex_flow": null,
            "grid_area": null,
            "grid_auto_columns": null,
            "grid_auto_flow": null,
            "grid_auto_rows": null,
            "grid_column": null,
            "grid_gap": null,
            "grid_row": null,
            "grid_template_areas": null,
            "grid_template_columns": null,
            "grid_template_rows": null,
            "height": null,
            "justify_content": null,
            "justify_items": null,
            "left": null,
            "margin": null,
            "max_height": null,
            "max_width": null,
            "min_height": null,
            "min_width": null,
            "object_fit": null,
            "object_position": null,
            "order": null,
            "overflow": null,
            "overflow_x": null,
            "overflow_y": null,
            "padding": null,
            "right": null,
            "top": null,
            "visibility": null,
            "width": null
          }
        },
        "2ac3f6bfadcf4dff9564f97ffd5b3ea0": {
          "model_module": "@jupyter-widgets/controls",
          "model_name": "DescriptionStyleModel",
          "model_module_version": "1.5.0",
          "state": {
            "_model_module": "@jupyter-widgets/controls",
            "_model_module_version": "1.5.0",
            "_model_name": "DescriptionStyleModel",
            "_view_count": null,
            "_view_module": "@jupyter-widgets/base",
            "_view_module_version": "1.2.0",
            "_view_name": "StyleView",
            "description_width": ""
          }
        },
        "eb4cfc15c7b04d03a8b1ad0a8424feca": {
          "model_module": "@jupyter-widgets/base",
          "model_name": "LayoutModel",
          "model_module_version": "1.2.0",
          "state": {
            "_model_module": "@jupyter-widgets/base",
            "_model_module_version": "1.2.0",
            "_model_name": "LayoutModel",
            "_view_count": null,
            "_view_module": "@jupyter-widgets/base",
            "_view_module_version": "1.2.0",
            "_view_name": "LayoutView",
            "align_content": null,
            "align_items": null,
            "align_self": null,
            "border": null,
            "bottom": null,
            "display": null,
            "flex": null,
            "flex_flow": null,
            "grid_area": null,
            "grid_auto_columns": null,
            "grid_auto_flow": null,
            "grid_auto_rows": null,
            "grid_column": null,
            "grid_gap": null,
            "grid_row": null,
            "grid_template_areas": null,
            "grid_template_columns": null,
            "grid_template_rows": null,
            "height": null,
            "justify_content": null,
            "justify_items": null,
            "left": null,
            "margin": null,
            "max_height": null,
            "max_width": null,
            "min_height": null,
            "min_width": null,
            "object_fit": null,
            "object_position": null,
            "order": null,
            "overflow": null,
            "overflow_x": null,
            "overflow_y": null,
            "padding": null,
            "right": null,
            "top": null,
            "visibility": null,
            "width": null
          }
        },
        "f3c177acc6594beeba28e8d2df067033": {
          "model_module": "@jupyter-widgets/controls",
          "model_name": "ProgressStyleModel",
          "model_module_version": "1.5.0",
          "state": {
            "_model_module": "@jupyter-widgets/controls",
            "_model_module_version": "1.5.0",
            "_model_name": "ProgressStyleModel",
            "_view_count": null,
            "_view_module": "@jupyter-widgets/base",
            "_view_module_version": "1.2.0",
            "_view_name": "StyleView",
            "bar_color": null,
            "description_width": ""
          }
        },
        "b5090a1ae4ac43e8b67bee68f6c71092": {
          "model_module": "@jupyter-widgets/base",
          "model_name": "LayoutModel",
          "model_module_version": "1.2.0",
          "state": {
            "_model_module": "@jupyter-widgets/base",
            "_model_module_version": "1.2.0",
            "_model_name": "LayoutModel",
            "_view_count": null,
            "_view_module": "@jupyter-widgets/base",
            "_view_module_version": "1.2.0",
            "_view_name": "LayoutView",
            "align_content": null,
            "align_items": null,
            "align_self": null,
            "border": null,
            "bottom": null,
            "display": null,
            "flex": null,
            "flex_flow": null,
            "grid_area": null,
            "grid_auto_columns": null,
            "grid_auto_flow": null,
            "grid_auto_rows": null,
            "grid_column": null,
            "grid_gap": null,
            "grid_row": null,
            "grid_template_areas": null,
            "grid_template_columns": null,
            "grid_template_rows": null,
            "height": null,
            "justify_content": null,
            "justify_items": null,
            "left": null,
            "margin": null,
            "max_height": null,
            "max_width": null,
            "min_height": null,
            "min_width": null,
            "object_fit": null,
            "object_position": null,
            "order": null,
            "overflow": null,
            "overflow_x": null,
            "overflow_y": null,
            "padding": null,
            "right": null,
            "top": null,
            "visibility": null,
            "width": null
          }
        },
        "2e6c2d40e78a4752ac567f8814e85ee5": {
          "model_module": "@jupyter-widgets/controls",
          "model_name": "DescriptionStyleModel",
          "model_module_version": "1.5.0",
          "state": {
            "_model_module": "@jupyter-widgets/controls",
            "_model_module_version": "1.5.0",
            "_model_name": "DescriptionStyleModel",
            "_view_count": null,
            "_view_module": "@jupyter-widgets/base",
            "_view_module_version": "1.2.0",
            "_view_name": "StyleView",
            "description_width": ""
          }
        }
      }
    }
  },
  "nbformat_minor": 0,
  "nbformat": 4,
  "cells": [
    {
      "cell_type": "markdown",
      "metadata": {
        "id": "view-in-github",
        "colab_type": "text"
      },
      "source": [
        "<a href=\"https://colab.research.google.com/github/nebyu08/data_sc/blob/main/experiment_with_trainer.ipynb\" target=\"_parent\"><img src=\"https://colab.research.google.com/assets/colab-badge.svg\" alt=\"Open In Colab\"/></a>"
      ]
    },
    {
      "source": [
        "\n",
        "# IMPORTANT: RUN THIS CELL IN ORDER TO IMPORT YOUR KAGGLE DATA SOURCES\n",
        "# TO THE CORRECT LOCATION (/kaggle/input) IN YOUR NOTEBOOK,\n",
        "# THEN FEEL FREE TO DELETE THIS CELL.\n",
        "# NOTE: THIS NOTEBOOK ENVIRONMENT DIFFERS FROM KAGGLE'S PYTHON\n",
        "# ENVIRONMENT SO THERE MAY BE MISSING LIBRARIES USED BY YOUR\n",
        "# NOTEBOOK.\n",
        "\n",
        "import os\n",
        "import sys\n",
        "from tempfile import NamedTemporaryFile\n",
        "from urllib.request import urlopen\n",
        "from urllib.parse import unquote, urlparse\n",
        "from urllib.error import HTTPError\n",
        "from zipfile import ZipFile\n",
        "import tarfile\n",
        "import shutil\n",
        "\n",
        "CHUNK_SIZE = 40960\n",
        "DATA_SOURCE_MAPPING = 'hate-speech-detection-curated-dataset:https%3A%2F%2Fstorage.googleapis.com%2Fkaggle-data-sets%2F4205998%2F7257995%2Fbundle%2Farchive.zip%3FX-Goog-Algorithm%3DGOOG4-RSA-SHA256%26X-Goog-Credential%3Dgcp-kaggle-com%2540kaggle-161607.iam.gserviceaccount.com%252F20240415%252Fauto%252Fstorage%252Fgoog4_request%26X-Goog-Date%3D20240415T061035Z%26X-Goog-Expires%3D259200%26X-Goog-SignedHeaders%3Dhost%26X-Goog-Signature%3D23a25ea99ee47508531cafc6d5e42b7160ca70110a7b2b6ece355162f705cebf21ab56ffcba0f187ee3e9603d4a4704c826c055ab73fdcfd2c5c56720ed06001401de58a4076f6f70b7801327f502812291d22ddaf0eaaeb5d6db7580282d9294af1a252f1d549fb09a07ec1703f0595888f9d801aa339d9cad1e895623b6620222d6674fccdb513e09366563561b6822afb1e2b884f8e4b2d4ff406de3f8cbcf825493881578acaf4d095a3c028d3bab9d40214558a2ec72707c543cef81827e5ad986fef9482a8e69e6a208d447d788f6e5e7394e42adcb92186df741d38236d47708f3dd40402bdcb6f3157902c363c713dc7b72baa72c61078c5393525e5'\n",
        "\n",
        "KAGGLE_INPUT_PATH='/kaggle/input'\n",
        "KAGGLE_WORKING_PATH='/kaggle/working'\n",
        "KAGGLE_SYMLINK='kaggle'\n",
        "\n",
        "!umount /kaggle/input/ 2> /dev/null\n",
        "shutil.rmtree('/kaggle/input', ignore_errors=True)\n",
        "os.makedirs(KAGGLE_INPUT_PATH, 0o777, exist_ok=True)\n",
        "os.makedirs(KAGGLE_WORKING_PATH, 0o777, exist_ok=True)\n",
        "\n",
        "try:\n",
        "  os.symlink(KAGGLE_INPUT_PATH, os.path.join(\"..\", 'input'), target_is_directory=True)\n",
        "except FileExistsError:\n",
        "  pass\n",
        "try:\n",
        "  os.symlink(KAGGLE_WORKING_PATH, os.path.join(\"..\", 'working'), target_is_directory=True)\n",
        "except FileExistsError:\n",
        "  pass\n",
        "\n",
        "for data_source_mapping in DATA_SOURCE_MAPPING.split(','):\n",
        "    directory, download_url_encoded = data_source_mapping.split(':')\n",
        "    download_url = unquote(download_url_encoded)\n",
        "    filename = urlparse(download_url).path\n",
        "    destination_path = os.path.join(KAGGLE_INPUT_PATH, directory)\n",
        "    try:\n",
        "        with urlopen(download_url) as fileres, NamedTemporaryFile() as tfile:\n",
        "            total_length = fileres.headers['content-length']\n",
        "            print(f'Downloading {directory}, {total_length} bytes compressed')\n",
        "            dl = 0\n",
        "            data = fileres.read(CHUNK_SIZE)\n",
        "            while len(data) > 0:\n",
        "                dl += len(data)\n",
        "                tfile.write(data)\n",
        "                done = int(50 * dl / int(total_length))\n",
        "                sys.stdout.write(f\"\\r[{'=' * done}{' ' * (50-done)}] {dl} bytes downloaded\")\n",
        "                sys.stdout.flush()\n",
        "                data = fileres.read(CHUNK_SIZE)\n",
        "            if filename.endswith('.zip'):\n",
        "              with ZipFile(tfile) as zfile:\n",
        "                zfile.extractall(destination_path)\n",
        "            else:\n",
        "              with tarfile.open(tfile.name) as tarfile:\n",
        "                tarfile.extractall(destination_path)\n",
        "            print(f'\\nDownloaded and uncompressed: {directory}')\n",
        "    except HTTPError as e:\n",
        "        print(f'Failed to load (likely expired) {download_url} to path {destination_path}')\n",
        "        continue\n",
        "    except OSError as e:\n",
        "        print(f'Failed to load {download_url} to path {destination_path}')\n",
        "        continue\n",
        "\n",
        "print('Data source import complete.')\n"
      ],
      "metadata": {
        "id": "RerFI1b7YQgb",
        "outputId": "2f8ca75f-b6d5-48c8-ac43-c1d727f9d296",
        "colab": {
          "base_uri": "https://localhost:8080/"
        }
      },
      "cell_type": "code",
      "outputs": [
        {
          "output_type": "stream",
          "name": "stdout",
          "text": [
            "Downloading hate-speech-detection-curated-dataset, 119628445 bytes compressed\n",
            "[==================================================] 119628445 bytes downloaded\n",
            "Downloaded and uncompressed: hate-speech-detection-curated-dataset\n",
            "Data source import complete.\n"
          ]
        }
      ],
      "execution_count": 1
    },
    {
      "cell_type": "code",
      "source": [
        "import torch\n",
        "import re\n",
        "import string\n",
        "import pandas as pd\n",
        "import numpy as np\n",
        "from __future__ import division\n",
        "from tqdm import tqdm\n",
        "from torch.utils.data import SequentialSampler,SequentialSampler\n",
        "from torch.optim import lr_scheduler\n",
        "from torch.utils.data import Dataset,DataLoader,Subset\n",
        "from torch.nn.utils.rnn import pad_sequence\n",
        "from transformers import AutoTokenizer,RobertaForSequenceClassification,RobertaConfig\n",
        "from transformers import TrainingArguments,Trainer\n",
        "from sklearn.model_selection import train_test_split"
      ],
      "metadata": {
        "_uuid": "8f2839f25d086af736a60e9eeb907d3b93b6e0e5",
        "_cell_guid": "b1076dfc-b9ad-4769-8c92-a6c4dae69d19",
        "execution": {
          "iopub.status.busy": "2024-04-13T19:13:41.999926Z",
          "iopub.execute_input": "2024-04-13T19:13:42.000749Z",
          "iopub.status.idle": "2024-04-13T19:14:12.307973Z",
          "shell.execute_reply.started": "2024-04-13T19:13:42.000714Z",
          "shell.execute_reply": "2024-04-13T19:14:12.307235Z"
        },
        "trusted": true,
        "id": "1mvVdc6DYQgk"
      },
      "execution_count": 2,
      "outputs": []
    },
    {
      "cell_type": "code",
      "source": [
        "data_frame=pd.read_csv(\"/kaggle/input/hate-speech-detection-curated-dataset/HateSpeechDatasetBalanced.csv\")"
      ],
      "metadata": {
        "execution": {
          "iopub.status.busy": "2024-04-13T19:14:12.310033Z",
          "iopub.execute_input": "2024-04-13T19:14:12.311143Z",
          "iopub.status.idle": "2024-04-13T19:14:15.647423Z",
          "shell.execute_reply.started": "2024-04-13T19:14:12.311103Z",
          "shell.execute_reply": "2024-04-13T19:14:15.646502Z"
        },
        "trusted": true,
        "id": "bqT8rQw5YQgm"
      },
      "execution_count": 3,
      "outputs": []
    },
    {
      "cell_type": "code",
      "source": [
        "label2id={'hate':1,'no_hate':0}\n",
        "id2label={ids:label for label,ids in label2id.items()}"
      ],
      "metadata": {
        "execution": {
          "iopub.status.busy": "2024-04-13T19:14:15.648597Z",
          "iopub.execute_input": "2024-04-13T19:14:15.648892Z",
          "iopub.status.idle": "2024-04-13T19:14:15.653761Z",
          "shell.execute_reply.started": "2024-04-13T19:14:15.648868Z",
          "shell.execute_reply": "2024-04-13T19:14:15.652817Z"
        },
        "trusted": true,
        "id": "TQuEhfP9YQgn"
      },
      "execution_count": 4,
      "outputs": []
    },
    {
      "cell_type": "code",
      "source": [
        "df=data_frame.copy()"
      ],
      "metadata": {
        "execution": {
          "iopub.status.busy": "2024-04-13T19:14:15.656133Z",
          "iopub.execute_input": "2024-04-13T19:14:15.656525Z",
          "iopub.status.idle": "2024-04-13T19:14:15.687378Z",
          "shell.execute_reply.started": "2024-04-13T19:14:15.65648Z",
          "shell.execute_reply": "2024-04-13T19:14:15.686528Z"
        },
        "trusted": true,
        "id": "93yFyOFxYQgo"
      },
      "execution_count": 5,
      "outputs": []
    },
    {
      "cell_type": "code",
      "source": [
        "def remove_urls(text):\n",
        "  return re.sub(r'http\\S+',\"\",text)\n",
        "\n",
        "df.loc[:,\"Content\"]=df[\"Content\"].apply(remove_urls)"
      ],
      "metadata": {
        "execution": {
          "iopub.status.busy": "2024-04-13T19:14:15.690662Z",
          "iopub.execute_input": "2024-04-13T19:14:15.690897Z",
          "iopub.status.idle": "2024-04-13T19:14:16.938136Z",
          "shell.execute_reply.started": "2024-04-13T19:14:15.690877Z",
          "shell.execute_reply": "2024-04-13T19:14:16.937133Z"
        },
        "trusted": true,
        "id": "ZpPa7wqDYQgo"
      },
      "execution_count": 6,
      "outputs": []
    },
    {
      "cell_type": "code",
      "source": [
        "#remove emojies\n",
        "def remove_emojies(text):\n",
        "  patterns=re.compile(\n",
        "    \"[\"\n",
        "    \"\\U0001F1E0-\\U0001F1FF\"  # flags (iOS)\n",
        "    \"\\U0001F300-\\U0001F5FF\"  # symbols & pictographs\n",
        "    \"\\U0001F600-\\U0001F64F\"  # emoticons\n",
        "    \"\\U0001F680-\\U0001F6FF\"  # transport & map symbols\n",
        "    \"\\U0001F700-\\U0001F77F\"  # alchemical symbols\n",
        "    \"\\U0001F780-\\U0001F7FF\"  # Geometric Shapes Extended\n",
        "    \"\\U0001F800-\\U0001F8FF\"  # Supplemental Arrows-C\n",
        "    \"\\U0001F900-\\U0001F9FF\"  # Supplemental Symbols and Pictographs\n",
        "    \"\\U0001FA00-\\U0001FA6F\"  # Chess Symbols\n",
        "    \"\\U0001FA70-\\U0001FAFF\"  # Symbols and Pictographs Extended-A\n",
        "    \"\\U00002702-\\U000027B0\"  # Dingbats\n",
        "    \"\\U000024C2-\\U0001F251\"\n",
        "    \"]+\"\n",
        ")\n",
        "\n",
        "  return re.sub(patterns,\"\",text)\n",
        "df[\"Content\"]=df[\"Content\"].apply(remove_emojies)"
      ],
      "metadata": {
        "execution": {
          "iopub.status.busy": "2024-04-13T19:14:16.939313Z",
          "iopub.execute_input": "2024-04-13T19:14:16.93961Z",
          "iopub.status.idle": "2024-04-13T19:14:28.821558Z",
          "shell.execute_reply.started": "2024-04-13T19:14:16.939584Z",
          "shell.execute_reply": "2024-04-13T19:14:28.82076Z"
        },
        "trusted": true,
        "id": "Iu7OieUGYQgp"
      },
      "execution_count": 7,
      "outputs": []
    },
    {
      "cell_type": "code",
      "source": [
        "#lets remove non enlgish\n",
        "def remove_non_english(text):\n",
        "  pattern=re.compile(r'\\b(?![a-zA-Z]+\\b)\\w+\\b')\n",
        "  result=re.sub(pattern,\"\",text)\n",
        "  if len(result)==0:\n",
        "    return None\n",
        "  else:\n",
        "    return result\n",
        "\n",
        "df[\"Content\"]=df[\"Content\"].apply(remove_non_english)"
      ],
      "metadata": {
        "execution": {
          "iopub.status.busy": "2024-04-13T19:14:28.822638Z",
          "iopub.execute_input": "2024-04-13T19:14:28.822915Z",
          "iopub.status.idle": "2024-04-13T19:14:42.265486Z",
          "shell.execute_reply.started": "2024-04-13T19:14:28.822892Z",
          "shell.execute_reply": "2024-04-13T19:14:42.264727Z"
        },
        "trusted": true,
        "id": "P2CIE9kYYQgp"
      },
      "execution_count": 8,
      "outputs": []
    },
    {
      "cell_type": "code",
      "source": [
        "def remove_puctuations(text):\n",
        "    if text is None:\n",
        "        return None\n",
        "    else:\n",
        "        return text.translate(str.maketrans(\"\",\"\",string.punctuation))\n",
        "\n",
        "df[\"Content\"]=df[\"Content\"].apply(remove_puctuations)"
      ],
      "metadata": {
        "execution": {
          "iopub.status.busy": "2024-04-13T19:14:42.266559Z",
          "iopub.execute_input": "2024-04-13T19:14:42.266815Z",
          "iopub.status.idle": "2024-04-13T19:14:45.467026Z",
          "shell.execute_reply.started": "2024-04-13T19:14:42.266793Z",
          "shell.execute_reply": "2024-04-13T19:14:45.46632Z"
        },
        "trusted": true,
        "id": "TShx0-_MYQgq"
      },
      "execution_count": 9,
      "outputs": []
    },
    {
      "cell_type": "code",
      "source": [
        "df.isna().sum()/len(df)"
      ],
      "metadata": {
        "execution": {
          "iopub.status.busy": "2024-04-13T19:14:45.468499Z",
          "iopub.execute_input": "2024-04-13T19:14:45.468833Z",
          "iopub.status.idle": "2024-04-13T19:14:45.566071Z",
          "shell.execute_reply.started": "2024-04-13T19:14:45.468802Z",
          "shell.execute_reply": "2024-04-13T19:14:45.565185Z"
        },
        "trusted": true,
        "id": "YCUFgHiPYQgr",
        "outputId": "8a4be2a1-3170-4702-d43e-a2ad46dabd6d",
        "colab": {
          "base_uri": "https://localhost:8080/"
        }
      },
      "execution_count": 10,
      "outputs": [
        {
          "output_type": "execute_result",
          "data": {
            "text/plain": [
              "Content    0.000017\n",
              "Label      0.000000\n",
              "dtype: float64"
            ]
          },
          "metadata": {},
          "execution_count": 10
        }
      ]
    },
    {
      "cell_type": "code",
      "source": [
        "#remove the na rows\n",
        "df.dropna(inplace=True,axis=0)"
      ],
      "metadata": {
        "execution": {
          "iopub.status.busy": "2024-04-13T19:14:45.569264Z",
          "iopub.execute_input": "2024-04-13T19:14:45.569547Z",
          "iopub.status.idle": "2024-04-13T19:14:45.717877Z",
          "shell.execute_reply.started": "2024-04-13T19:14:45.569523Z",
          "shell.execute_reply": "2024-04-13T19:14:45.716924Z"
        },
        "trusted": true,
        "id": "m4KScIpvYQgr"
      },
      "execution_count": 11,
      "outputs": []
    },
    {
      "cell_type": "code",
      "source": [
        "model_name=\"cardiffnlp/twitter-roberta-base-sentiment-latest\""
      ],
      "metadata": {
        "execution": {
          "iopub.status.busy": "2024-04-13T19:14:45.719128Z",
          "iopub.execute_input": "2024-04-13T19:14:45.719478Z",
          "iopub.status.idle": "2024-04-13T19:14:45.723477Z",
          "shell.execute_reply.started": "2024-04-13T19:14:45.719445Z",
          "shell.execute_reply": "2024-04-13T19:14:45.722596Z"
        },
        "trusted": true,
        "id": "8DYkFybeYQgs"
      },
      "execution_count": 12,
      "outputs": []
    },
    {
      "cell_type": "code",
      "source": [
        "tokenizer=AutoTokenizer.from_pretrained(model_name)"
      ],
      "metadata": {
        "execution": {
          "iopub.status.busy": "2024-04-13T19:14:45.724555Z",
          "iopub.execute_input": "2024-04-13T19:14:45.724831Z",
          "iopub.status.idle": "2024-04-13T19:14:47.076681Z",
          "shell.execute_reply.started": "2024-04-13T19:14:45.724794Z",
          "shell.execute_reply": "2024-04-13T19:14:47.075904Z"
        },
        "trusted": true,
        "id": "0SuThtwGYQgs",
        "outputId": "8a86a7d9-2110-4222-d793-66212c57d9f4",
        "colab": {
          "base_uri": "https://localhost:8080/",
          "height": 249,
          "referenced_widgets": [
            "4080ef538b564408b4910071c10be1eb",
            "df4b5946e0b84c8b8f6690e3fcd6823f",
            "2897cf2843c44643ab4c97955e7de114",
            "21a83e2d5b80498abbd93548ef84edff",
            "7853ffee89504bb0b83c7221928890dc",
            "76fc1818d55342ab8decae79df222332",
            "4c96d72dbe914623b04c597e65b8957c",
            "115585173fe3490c89c03dd5afc34bed",
            "86c788c107c64854a8feeb62d16b908b",
            "4a3161be9e674cab8ca38cae44a249e9",
            "bceb66c1edc040ceae41b603b5763459",
            "351897e922624b19879547debb6e8f74",
            "30cadba085604dae9381ba6d579ee7a9",
            "297ff4c60eae4c139e92788e10fc6df0",
            "eba7bdb0363c49a59e7efe9a17ea5254",
            "4a5ef879a7b143b88a3d66dc49cf458e",
            "c918d4da79cb4206be4bd17bd7ce9775",
            "e6c86e90d0624c0eb7e266983fcb92c4",
            "d1a2b29a2d3e46e4b1527e0353d29369",
            "c521f9075dec431e8d5f8f68696a7404",
            "f3926e81139444d1977264d3bb73b6bf",
            "789a7855ce39474c88e590aa6bf838e7",
            "2b1c6ad432f64782905bf8f4643345cd",
            "43d6ef8f63ac499d9cd653f236763e93",
            "8725b3e1833147bba059ccda606e0e7b",
            "e80f1f9af09b45589ae97e8f1bb6dc3d",
            "10ad4b94e55f4f7181cd03b843d2b8f7",
            "f34bae8ae9c34b84922a3347b9725a21",
            "aabfd658887e4acd9ca62d69848fb5d1",
            "d6e8725f8d934cdb8265553237c450eb",
            "0cff5cc622c84b6a8df8b5d615028f81",
            "6eb8da3e3b5b4813a85e1d4cfa69bfc9",
            "eb34c003c3ab409dbe27a31a23fd0be0",
            "54257177ab714f8b89d8e07d88b0d392",
            "1161be7733614d7984cc7534b399d9e6",
            "07476d77dd5f473ebf9d46ddab646f5b",
            "a78729ee96e2489888f3a293ce28069e",
            "2b125050f34d4de893a7968fcd75e145",
            "b5922028d25d44eabb88c19b11a92d4a",
            "c33b80cf4b1c4c91a85b2c6ee6198cf3",
            "0298db5fb2a44b1bb5504c547376bbcd",
            "0ac23406252b495cad61a8e3460a4186",
            "f38fb2542b17451581ee72915cd0c346",
            "a87d7ed3c28649579ec71f440df0192e"
          ]
        }
      },
      "execution_count": 13,
      "outputs": [
        {
          "output_type": "stream",
          "name": "stderr",
          "text": [
            "/usr/local/lib/python3.10/dist-packages/huggingface_hub/utils/_token.py:88: UserWarning: \n",
            "The secret `HF_TOKEN` does not exist in your Colab secrets.\n",
            "To authenticate with the Hugging Face Hub, create a token in your settings tab (https://huggingface.co/settings/tokens), set it as secret in your Google Colab and restart your session.\n",
            "You will be able to reuse this secret in all of your notebooks.\n",
            "Please note that authentication is recommended but still optional to access public models or datasets.\n",
            "  warnings.warn(\n"
          ]
        },
        {
          "output_type": "display_data",
          "data": {
            "text/plain": [
              "config.json:   0%|          | 0.00/929 [00:00<?, ?B/s]"
            ],
            "application/vnd.jupyter.widget-view+json": {
              "version_major": 2,
              "version_minor": 0,
              "model_id": "4080ef538b564408b4910071c10be1eb"
            }
          },
          "metadata": {}
        },
        {
          "output_type": "display_data",
          "data": {
            "text/plain": [
              "vocab.json:   0%|          | 0.00/899k [00:00<?, ?B/s]"
            ],
            "application/vnd.jupyter.widget-view+json": {
              "version_major": 2,
              "version_minor": 0,
              "model_id": "351897e922624b19879547debb6e8f74"
            }
          },
          "metadata": {}
        },
        {
          "output_type": "display_data",
          "data": {
            "text/plain": [
              "merges.txt:   0%|          | 0.00/456k [00:00<?, ?B/s]"
            ],
            "application/vnd.jupyter.widget-view+json": {
              "version_major": 2,
              "version_minor": 0,
              "model_id": "2b1c6ad432f64782905bf8f4643345cd"
            }
          },
          "metadata": {}
        },
        {
          "output_type": "display_data",
          "data": {
            "text/plain": [
              "special_tokens_map.json:   0%|          | 0.00/239 [00:00<?, ?B/s]"
            ],
            "application/vnd.jupyter.widget-view+json": {
              "version_major": 2,
              "version_minor": 0,
              "model_id": "54257177ab714f8b89d8e07d88b0d392"
            }
          },
          "metadata": {}
        }
      ]
    },
    {
      "cell_type": "code",
      "source": [
        "class Custom_Dataset(Dataset):\n",
        "  def __init__(self,data,tokenizer,max_length=512):\n",
        "    super().__init__()\n",
        "    self.text=data[\"Content\"]\n",
        "    self.label=data[\"Label\"]\n",
        "    self.tokenizer=tokenizer\n",
        "    self.max_length=max_length\n",
        "\n",
        "  def __len__(self):\n",
        "    return len(self.text)\n",
        "\n",
        "  def __getitem__(self,idx):\n",
        "    text=self.text.iloc[idx]\n",
        "    label=self.label.iloc[idx]\n",
        "    #assert that the data input is of string\n",
        "    assert type(text)==str,f\"the expected data type is str but found {type(text)}\"\n",
        "\n",
        "    encoded_text=self.tokenizer.encode_plus(\n",
        "        text,\n",
        "        padding=\"max_length\",\n",
        "        truncation=True,\n",
        "        max_length=self.max_length,\n",
        "        return_tensors=\"pt\",\n",
        "    )\n",
        "    label=torch.tensor([label],dtype=torch.long)\n",
        "\n",
        "\n",
        "    return {\n",
        "        \"input_ids\":encoded_text[\"input_ids\"].detach(),\n",
        "        \"attention_mask\":encoded_text[\"attention_mask\"].detach(),\n",
        "        \"labels\":label\n",
        "    }"
      ],
      "metadata": {
        "execution": {
          "iopub.status.busy": "2024-04-13T19:14:47.077757Z",
          "iopub.execute_input": "2024-04-13T19:14:47.078041Z",
          "iopub.status.idle": "2024-04-13T19:14:47.086058Z",
          "shell.execute_reply.started": "2024-04-13T19:14:47.078017Z",
          "shell.execute_reply": "2024-04-13T19:14:47.08525Z"
        },
        "trusted": true,
        "id": "FXLWRSzDYQgs"
      },
      "execution_count": 14,
      "outputs": []
    },
    {
      "cell_type": "code",
      "source": [
        "train_df,test_df=train_test_split(df,random_state=42)"
      ],
      "metadata": {
        "execution": {
          "iopub.status.busy": "2024-04-13T19:14:47.087146Z",
          "iopub.execute_input": "2024-04-13T19:14:47.087386Z",
          "iopub.status.idle": "2024-04-13T19:14:47.181343Z",
          "shell.execute_reply.started": "2024-04-13T19:14:47.087365Z",
          "shell.execute_reply": "2024-04-13T19:14:47.180563Z"
        },
        "trusted": true,
        "id": "nWiONuQHYQgt"
      },
      "execution_count": 15,
      "outputs": []
    },
    {
      "cell_type": "code",
      "source": [
        "train_dataset=Custom_Dataset(train_df,tokenizer)\n",
        "test_dataset=Custom_Dataset(test_df,tokenizer)"
      ],
      "metadata": {
        "execution": {
          "iopub.status.busy": "2024-04-13T19:14:47.182835Z",
          "iopub.execute_input": "2024-04-13T19:14:47.183192Z",
          "iopub.status.idle": "2024-04-13T19:14:47.187866Z",
          "shell.execute_reply.started": "2024-04-13T19:14:47.183159Z",
          "shell.execute_reply": "2024-04-13T19:14:47.186978Z"
        },
        "trusted": true,
        "id": "gf5_MP1dYQgt"
      },
      "execution_count": 16,
      "outputs": []
    },
    {
      "cell_type": "code",
      "source": [
        "input_ids=train_dataset[0][\"input_ids\"].shape\n",
        "attention_mask=train_dataset[0][\"attention_mask\"].shape\n",
        "labels=train_dataset[0][\"labels\"]\n",
        "print(type(input_ids))\n",
        "print(type(attention_mask))\n",
        "print(type(labels))\n",
        "print(input_ids)\n",
        "print(attention_mask)"
      ],
      "metadata": {
        "execution": {
          "iopub.status.busy": "2024-04-13T19:14:47.189408Z",
          "iopub.execute_input": "2024-04-13T19:14:47.189846Z",
          "iopub.status.idle": "2024-04-13T19:14:47.503785Z",
          "shell.execute_reply.started": "2024-04-13T19:14:47.189816Z",
          "shell.execute_reply": "2024-04-13T19:14:47.502853Z"
        },
        "trusted": true,
        "id": "G-KPJ0TvYQgt",
        "outputId": "93b81a28-7f22-471e-e6a7-d36172b4103c",
        "colab": {
          "base_uri": "https://localhost:8080/"
        }
      },
      "execution_count": 17,
      "outputs": [
        {
          "output_type": "stream",
          "name": "stdout",
          "text": [
            "<class 'torch.Size'>\n",
            "<class 'torch.Size'>\n",
            "<class 'torch.Tensor'>\n",
            "torch.Size([1, 512])\n",
            "torch.Size([1, 512])\n"
          ]
        }
      ]
    },
    {
      "cell_type": "code",
      "source": [
        "device=torch.device(\"cuda\" if torch.cuda.is_available() else \"cpu\")"
      ],
      "metadata": {
        "execution": {
          "iopub.status.busy": "2024-04-13T19:14:47.50506Z",
          "iopub.execute_input": "2024-04-13T19:14:47.505457Z",
          "iopub.status.idle": "2024-04-13T19:14:47.510282Z",
          "shell.execute_reply.started": "2024-04-13T19:14:47.505423Z",
          "shell.execute_reply": "2024-04-13T19:14:47.509386Z"
        },
        "trusted": true,
        "id": "4L2-WMmcYQgt"
      },
      "execution_count": 18,
      "outputs": []
    },
    {
      "cell_type": "code",
      "source": [
        "def custom_collate_fn(batch):\n",
        "    input_ids=[item[\"input_ids\"] for item in batch]\n",
        "    attention_mask=[item[\"attention_mask\"] for item in batch]\n",
        "    labels=[item[\"labels\"] for item in batch]\n",
        "\n",
        "      #lets pad the sequence\n",
        "    padded_input_ids=pad_sequence(input_ids,batch_first=True,padding_value=0)\n",
        "    padded_attention_mask=pad_sequence(attention_mask,batch_first=True,padding_value=0)\n",
        "    labels=torch.stack(labels,dim=0)\n",
        "    return {\n",
        "          \"input_ids\":padded_input_ids.to(\"cuda\"),\n",
        "          \"attention_mask\":padded_attention_mask.to(\"cuda\"),\n",
        "          \"labels\":labels.to(\"cuda\")\n",
        "  }"
      ],
      "metadata": {
        "execution": {
          "iopub.status.busy": "2024-04-13T19:14:47.511464Z",
          "iopub.execute_input": "2024-04-13T19:14:47.511725Z",
          "iopub.status.idle": "2024-04-13T19:14:47.52054Z",
          "shell.execute_reply.started": "2024-04-13T19:14:47.511702Z",
          "shell.execute_reply": "2024-04-13T19:14:47.519893Z"
        },
        "trusted": true,
        "id": "GMlvmNrjYQgt"
      },
      "execution_count": 19,
      "outputs": []
    },
    {
      "cell_type": "code",
      "source": [
        "batch_size=32\n",
        "\n",
        "#make the data loader\n",
        "train_dataloader=DataLoader(\n",
        "    dataset=train_dataset,\n",
        "    batch_size=batch_size,\n",
        "    sampler=SequentialSampler(train_dataset),\n",
        "    collate_fn=custom_collate_fn,\n",
        ")\n",
        "#doing the same thing for test data loader\n",
        "test_dataloader=DataLoader(\n",
        "    dataset=test_dataset,\n",
        "    batch_size=batch_size,\n",
        "    sampler=SequentialSampler(test_dataset),\n",
        "    collate_fn=custom_collate_fn,\n",
        ")"
      ],
      "metadata": {
        "execution": {
          "iopub.status.busy": "2024-04-13T19:14:47.52351Z",
          "iopub.execute_input": "2024-04-13T19:14:47.523816Z",
          "iopub.status.idle": "2024-04-13T19:14:47.535699Z",
          "shell.execute_reply.started": "2024-04-13T19:14:47.523795Z",
          "shell.execute_reply": "2024-04-13T19:14:47.535034Z"
        },
        "trusted": true,
        "id": "Vfb3D9CPYQgu"
      },
      "execution_count": 20,
      "outputs": []
    },
    {
      "cell_type": "code",
      "source": [
        "#lets check for the shapes of the values\n",
        "for batch in train_dataloader:\n",
        "    input_ids,attention_mask,labels=batch[\"input_ids\"],batch[\"attention_mask\"],batch[\"labels\"]\n",
        "    print(f\"shape of the input ids is :{input_ids.shape}\")\n",
        "    print(f\"shape of the attention mask:{attention_mask.shape}\")\n",
        "    print(f\"shape of the lables is:{labels.shape}\")\n",
        "    #device\n",
        "    print(f\"shape of the input ids is :{input_ids.device}\")\n",
        "    print(f\"shape of the attention mask:{attention_mask.device}\")\n",
        "    print(f\"shape of the lables is:{labels.device}\")\n",
        "    break"
      ],
      "metadata": {
        "execution": {
          "iopub.status.busy": "2024-04-13T19:14:47.537207Z",
          "iopub.execute_input": "2024-04-13T19:14:47.537681Z",
          "iopub.status.idle": "2024-04-13T19:14:47.713253Z",
          "shell.execute_reply.started": "2024-04-13T19:14:47.537651Z",
          "shell.execute_reply": "2024-04-13T19:14:47.712362Z"
        },
        "trusted": true,
        "id": "U3nI-dn9YQgu",
        "outputId": "fb9e0e7a-3064-4bff-af57-ddc3cd93c835",
        "colab": {
          "base_uri": "https://localhost:8080/"
        }
      },
      "execution_count": 21,
      "outputs": [
        {
          "output_type": "stream",
          "name": "stdout",
          "text": [
            "shape of the input ids is :torch.Size([32, 1, 512])\n",
            "shape of the attention mask:torch.Size([32, 1, 512])\n",
            "shape of the lables is:torch.Size([32, 1])\n",
            "shape of the input ids is :cuda:0\n",
            "shape of the attention mask:cuda:0\n",
            "shape of the lables is:cuda:0\n"
          ]
        }
      ]
    },
    {
      "cell_type": "code",
      "source": [
        "#lets set up the config\n",
        "config=RobertaConfig.from_pretrained(model_name)\n",
        "config.label2id=label2id\n",
        "config.id2label=id2label\n",
        "config.num_labels=len(id2label)"
      ],
      "metadata": {
        "execution": {
          "iopub.status.busy": "2024-04-13T19:14:47.714494Z",
          "iopub.execute_input": "2024-04-13T19:14:47.714783Z",
          "iopub.status.idle": "2024-04-13T19:14:47.78349Z",
          "shell.execute_reply.started": "2024-04-13T19:14:47.714757Z",
          "shell.execute_reply": "2024-04-13T19:14:47.782793Z"
        },
        "trusted": true,
        "id": "g5JLxLevYQgu"
      },
      "execution_count": 22,
      "outputs": []
    },
    {
      "cell_type": "code",
      "source": [
        "model=RobertaForSequenceClassification.from_pretrained(model_name,config=config,ignore_mismatched_sizes=True)"
      ],
      "metadata": {
        "execution": {
          "iopub.status.busy": "2024-04-13T19:14:47.784594Z",
          "iopub.execute_input": "2024-04-13T19:14:47.784926Z",
          "iopub.status.idle": "2024-04-13T19:14:52.233834Z",
          "shell.execute_reply.started": "2024-04-13T19:14:47.784895Z",
          "shell.execute_reply": "2024-04-13T19:14:52.233143Z"
        },
        "trusted": true,
        "id": "HiXYLHrkYQgu",
        "outputId": "90a8b3dc-318d-42d5-b4e0-d89ab65a0034",
        "colab": {
          "base_uri": "https://localhost:8080/",
          "height": 191,
          "referenced_widgets": [
            "a51f7f48a3cf4752b7ded3d1100c506b",
            "70afb069e3814e45ba678fb363f7e33a",
            "01e104e3a98744d79e631dd98bff15c5",
            "2ead31979bfd4abaa18981c636568b0b",
            "1f7a7707009945bfb89087881aca171d",
            "e6f53d9409c643ba96007ce98def7832",
            "2ac3f6bfadcf4dff9564f97ffd5b3ea0",
            "eb4cfc15c7b04d03a8b1ad0a8424feca",
            "f3c177acc6594beeba28e8d2df067033",
            "b5090a1ae4ac43e8b67bee68f6c71092",
            "2e6c2d40e78a4752ac567f8814e85ee5"
          ]
        }
      },
      "execution_count": 23,
      "outputs": [
        {
          "output_type": "display_data",
          "data": {
            "text/plain": [
              "pytorch_model.bin:   0%|          | 0.00/501M [00:00<?, ?B/s]"
            ],
            "application/vnd.jupyter.widget-view+json": {
              "version_major": 2,
              "version_minor": 0,
              "model_id": "a51f7f48a3cf4752b7ded3d1100c506b"
            }
          },
          "metadata": {}
        },
        {
          "output_type": "stream",
          "name": "stderr",
          "text": [
            "Some weights of the model checkpoint at cardiffnlp/twitter-roberta-base-sentiment-latest were not used when initializing RobertaForSequenceClassification: ['roberta.pooler.dense.bias', 'roberta.pooler.dense.weight']\n",
            "- This IS expected if you are initializing RobertaForSequenceClassification from the checkpoint of a model trained on another task or with another architecture (e.g. initializing a BertForSequenceClassification model from a BertForPreTraining model).\n",
            "- This IS NOT expected if you are initializing RobertaForSequenceClassification from the checkpoint of a model that you expect to be exactly identical (initializing a BertForSequenceClassification model from a BertForSequenceClassification model).\n",
            "Some weights of RobertaForSequenceClassification were not initialized from the model checkpoint at cardiffnlp/twitter-roberta-base-sentiment-latest and are newly initialized because the shapes did not match:\n",
            "- classifier.out_proj.weight: found shape torch.Size([3, 768]) in the checkpoint and torch.Size([2, 768]) in the model instantiated\n",
            "- classifier.out_proj.bias: found shape torch.Size([3]) in the checkpoint and torch.Size([2]) in the model instantiated\n",
            "You should probably TRAIN this model on a down-stream task to be able to use it for predictions and inference.\n"
          ]
        }
      ]
    },
    {
      "cell_type": "code",
      "source": [
        "#lets change some architurectural stuff\n",
        "for layer in model.roberta.embeddings.parameters():\n",
        "  layer.requires_grad=False\n",
        "\n",
        "for layer in model.roberta.encoder.layer[:8].parameters():\n",
        "  layer.requires_grad=False\n",
        "\n",
        "model.classifier.out_proj=torch.nn.Linear(in_features=model.config.hidden_size,out_features=len(id2label))"
      ],
      "metadata": {
        "execution": {
          "iopub.status.busy": "2024-04-13T19:14:52.234826Z",
          "iopub.execute_input": "2024-04-13T19:14:52.235092Z",
          "iopub.status.idle": "2024-04-13T19:14:52.244578Z",
          "shell.execute_reply.started": "2024-04-13T19:14:52.235069Z",
          "shell.execute_reply": "2024-04-13T19:14:52.243858Z"
        },
        "trusted": true,
        "id": "XYhCoRIcYQgv"
      },
      "execution_count": 24,
      "outputs": []
    },
    {
      "cell_type": "code",
      "source": [
        "model.to(device)"
      ],
      "metadata": {
        "execution": {
          "iopub.status.busy": "2024-04-13T19:14:52.245543Z",
          "iopub.execute_input": "2024-04-13T19:14:52.245797Z",
          "iopub.status.idle": "2024-04-13T19:14:52.398894Z",
          "shell.execute_reply.started": "2024-04-13T19:14:52.245775Z",
          "shell.execute_reply": "2024-04-13T19:14:52.398053Z"
        },
        "trusted": true,
        "id": "QIN81i4LYQgv",
        "outputId": "08384950-256e-430d-a3a1-5df8d17ec492",
        "colab": {
          "base_uri": "https://localhost:8080/"
        }
      },
      "execution_count": 25,
      "outputs": [
        {
          "output_type": "execute_result",
          "data": {
            "text/plain": [
              "RobertaForSequenceClassification(\n",
              "  (roberta): RobertaModel(\n",
              "    (embeddings): RobertaEmbeddings(\n",
              "      (word_embeddings): Embedding(50265, 768, padding_idx=1)\n",
              "      (position_embeddings): Embedding(514, 768, padding_idx=1)\n",
              "      (token_type_embeddings): Embedding(1, 768)\n",
              "      (LayerNorm): LayerNorm((768,), eps=1e-05, elementwise_affine=True)\n",
              "      (dropout): Dropout(p=0.1, inplace=False)\n",
              "    )\n",
              "    (encoder): RobertaEncoder(\n",
              "      (layer): ModuleList(\n",
              "        (0-11): 12 x RobertaLayer(\n",
              "          (attention): RobertaAttention(\n",
              "            (self): RobertaSelfAttention(\n",
              "              (query): Linear(in_features=768, out_features=768, bias=True)\n",
              "              (key): Linear(in_features=768, out_features=768, bias=True)\n",
              "              (value): Linear(in_features=768, out_features=768, bias=True)\n",
              "              (dropout): Dropout(p=0.1, inplace=False)\n",
              "            )\n",
              "            (output): RobertaSelfOutput(\n",
              "              (dense): Linear(in_features=768, out_features=768, bias=True)\n",
              "              (LayerNorm): LayerNorm((768,), eps=1e-05, elementwise_affine=True)\n",
              "              (dropout): Dropout(p=0.1, inplace=False)\n",
              "            )\n",
              "          )\n",
              "          (intermediate): RobertaIntermediate(\n",
              "            (dense): Linear(in_features=768, out_features=3072, bias=True)\n",
              "            (intermediate_act_fn): GELUActivation()\n",
              "          )\n",
              "          (output): RobertaOutput(\n",
              "            (dense): Linear(in_features=3072, out_features=768, bias=True)\n",
              "            (LayerNorm): LayerNorm((768,), eps=1e-05, elementwise_affine=True)\n",
              "            (dropout): Dropout(p=0.1, inplace=False)\n",
              "          )\n",
              "        )\n",
              "      )\n",
              "    )\n",
              "  )\n",
              "  (classifier): RobertaClassificationHead(\n",
              "    (dense): Linear(in_features=768, out_features=768, bias=True)\n",
              "    (dropout): Dropout(p=0.1, inplace=False)\n",
              "    (out_proj): Linear(in_features=768, out_features=2, bias=True)\n",
              "  )\n",
              ")"
            ]
          },
          "metadata": {},
          "execution_count": 25
        }
      ]
    },
    {
      "cell_type": "code",
      "source": [
        "optimizer=torch.optim.AdamW(params=model.parameters(),lr=0.01)\n",
        "loss_fn=torch.nn.CrossEntropyLoss()"
      ],
      "metadata": {
        "execution": {
          "iopub.status.busy": "2024-04-13T19:14:52.399927Z",
          "iopub.execute_input": "2024-04-13T19:14:52.400184Z",
          "iopub.status.idle": "2024-04-13T19:14:52.405874Z",
          "shell.execute_reply.started": "2024-04-13T19:14:52.400162Z",
          "shell.execute_reply": "2024-04-13T19:14:52.405052Z"
        },
        "trusted": true,
        "id": "foLVJcEVYQgv"
      },
      "execution_count": 26,
      "outputs": []
    },
    {
      "cell_type": "markdown",
      "source": [
        "todo:\n",
        "* try to over fit the model and study the model\n",
        "* add learning rate shceduler\n",
        "* early stopping and make number of epoch"
      ],
      "metadata": {
        "id": "1PbkXkFdYQgv"
      }
    },
    {
      "cell_type": "markdown",
      "source": [
        "# lets try to overfit the model over one batch of data"
      ],
      "metadata": {
        "id": "PMvVwQXPYQgx"
      }
    },
    {
      "cell_type": "code",
      "source": [
        "for batch in train_dataloader:\n",
        "    sample=batch\n",
        "    break"
      ],
      "metadata": {
        "execution": {
          "iopub.status.busy": "2024-04-13T19:14:52.406978Z",
          "iopub.execute_input": "2024-04-13T19:14:52.407703Z",
          "iopub.status.idle": "2024-04-13T19:14:52.447975Z",
          "shell.execute_reply.started": "2024-04-13T19:14:52.407673Z",
          "shell.execute_reply": "2024-04-13T19:14:52.447321Z"
        },
        "trusted": true,
        "id": "490dGiH4YQgx"
      },
      "execution_count": 27,
      "outputs": []
    },
    {
      "cell_type": "code",
      "source": [
        "for batch in test_dataloader:\n",
        "    test_sample=batch\n",
        "    break"
      ],
      "metadata": {
        "execution": {
          "iopub.status.busy": "2024-04-13T19:14:52.449051Z",
          "iopub.execute_input": "2024-04-13T19:14:52.449363Z",
          "iopub.status.idle": "2024-04-13T19:14:52.480256Z",
          "shell.execute_reply.started": "2024-04-13T19:14:52.449335Z",
          "shell.execute_reply": "2024-04-13T19:14:52.479615Z"
        },
        "trusted": true,
        "id": "UP4GLaX7YQgy"
      },
      "execution_count": 28,
      "outputs": []
    },
    {
      "cell_type": "code",
      "source": [
        "sample[\"input_ids\"][0].is_cuda,sample[\"attention_mask\"][0].is_cuda,sample[\"labels\"].is_cuda"
      ],
      "metadata": {
        "execution": {
          "iopub.status.busy": "2024-04-13T19:14:52.485226Z",
          "iopub.execute_input": "2024-04-13T19:14:52.485793Z",
          "iopub.status.idle": "2024-04-13T19:14:52.491691Z",
          "shell.execute_reply.started": "2024-04-13T19:14:52.485769Z",
          "shell.execute_reply": "2024-04-13T19:14:52.490743Z"
        },
        "trusted": true,
        "id": "M4x5VS9jYQgy",
        "outputId": "d7572165-b9ec-492b-8b96-f55b4b4da8db",
        "colab": {
          "base_uri": "https://localhost:8080/"
        }
      },
      "execution_count": 29,
      "outputs": [
        {
          "output_type": "execute_result",
          "data": {
            "text/plain": [
              "(True, True, True)"
            ]
          },
          "metadata": {},
          "execution_count": 29
        }
      ]
    },
    {
      "cell_type": "code",
      "source": [
        "len(sample['labels'])"
      ],
      "metadata": {
        "execution": {
          "iopub.status.busy": "2024-04-13T19:14:52.492789Z",
          "iopub.execute_input": "2024-04-13T19:14:52.493081Z",
          "iopub.status.idle": "2024-04-13T19:14:52.501937Z",
          "shell.execute_reply.started": "2024-04-13T19:14:52.493047Z",
          "shell.execute_reply": "2024-04-13T19:14:52.501043Z"
        },
        "trusted": true,
        "id": "xsnUZ8M8YQgy",
        "outputId": "847a77bb-5a62-4e63-e0f5-b46d7a5eaed7",
        "colab": {
          "base_uri": "https://localhost:8080/"
        }
      },
      "execution_count": 30,
      "outputs": [
        {
          "output_type": "execute_result",
          "data": {
            "text/plain": [
              "32"
            ]
          },
          "metadata": {},
          "execution_count": 30
        }
      ]
    },
    {
      "cell_type": "code",
      "source": [
        "#!nvidia-smi --gpu-reset"
      ],
      "metadata": {
        "execution": {
          "iopub.status.busy": "2024-04-13T19:14:52.50309Z",
          "iopub.execute_input": "2024-04-13T19:14:52.503367Z",
          "iopub.status.idle": "2024-04-13T19:14:52.511073Z",
          "shell.execute_reply.started": "2024-04-13T19:14:52.503344Z",
          "shell.execute_reply": "2024-04-13T19:14:52.5102Z"
        },
        "trusted": true,
        "id": "evXXhdfnYQgy"
      },
      "execution_count": 31,
      "outputs": []
    },
    {
      "cell_type": "code",
      "source": [
        "# # Release all tensors from GPU memory\n",
        "# torch.cuda.empty_cache()\n",
        "\n",
        "# # Reset GPU context (this effectively clears the entire GPU memory)\n",
        "# torch.cuda.reset_max_memory_allocated()\n",
        "# torch.cuda.empty_cache()\n"
      ],
      "metadata": {
        "execution": {
          "iopub.status.busy": "2024-04-13T19:14:52.512149Z",
          "iopub.execute_input": "2024-04-13T19:14:52.512401Z",
          "iopub.status.idle": "2024-04-13T19:14:52.524945Z",
          "shell.execute_reply.started": "2024-04-13T19:14:52.512379Z",
          "shell.execute_reply": "2024-04-13T19:14:52.523971Z"
        },
        "trusted": true,
        "id": "BHuueYJQYQgz"
      },
      "execution_count": 32,
      "outputs": []
    },
    {
      "cell_type": "code",
      "source": [
        "# epoch_nums=300\n",
        "# for epoch in tqdm(range(epoch_nums)):\n",
        "#     optimizer.zero_grad()\n",
        "#     input_ids,attention_mask,label=sample[\"input_ids\"].squeeze(dim=1),sample[\"attention_mask\"].squeeze(dim=1),batch[\"labels\"].squeeze(dim=1)\n",
        "#     logits=model(input_ids,attention_mask).logits\n",
        "#     loss=loss_fn(logits,label)\n",
        "\n",
        "#     #backprop\n",
        "#     loss.backward()\n",
        "#     #update the parameter\n",
        "#     optimizer.step()\n",
        "#     #extract the loss from the loss\n",
        "#     loss_item=loss.item()\n",
        "#     if epoch%10==0:\n",
        "#         print(f\"{epoch}/{epoch_nums} loss:{loss_item:.2f}\")\n",
        "\n",
        "#     #lets evalaute on testing dataset\n",
        "#     model.eval()\n",
        "#     with torch.no_grad():\n",
        "#         test_input_ids,test_attention_mask,test_labels=test_sample[\"input_ids\"].squeeze(dim=1),test_sample[\"attention_mask\"].squeeze(dim=1),test_sample[\"labels\"].squeeze(dim=1)\n",
        "#         test_logits=model(test_input_ids,test_attention_mask).logits\n",
        "#         loss=loss_fn(test_logits,test_labels).item()\n",
        "#         if epoch%10==0:\n",
        "\n",
        "#             print(f\"eval_loss:{epoch}/{epoch_nums} loss:{loss:.2f}\")"
      ],
      "metadata": {
        "execution": {
          "iopub.status.busy": "2024-04-13T19:14:52.525913Z",
          "iopub.execute_input": "2024-04-13T19:14:52.526211Z",
          "iopub.status.idle": "2024-04-13T19:14:52.53114Z",
          "shell.execute_reply.started": "2024-04-13T19:14:52.526188Z",
          "shell.execute_reply": "2024-04-13T19:14:52.530264Z"
        },
        "trusted": true,
        "id": "t8mIum3NYQgz"
      },
      "execution_count": 33,
      "outputs": []
    },
    {
      "cell_type": "markdown",
      "source": [
        "# new approach:\n",
        "* adding a new learning rate scheduler\n",
        "* early stoping(manually)"
      ],
      "metadata": {
        "id": "tZfmKCNFYQgz"
      }
    },
    {
      "cell_type": "code",
      "source": [
        "model2=model=RobertaForSequenceClassification.from_pretrained(model_name,config=config,ignore_mismatched_sizes=True)"
      ],
      "metadata": {
        "execution": {
          "iopub.status.busy": "2024-04-13T19:23:01.792202Z",
          "iopub.execute_input": "2024-04-13T19:23:01.792562Z",
          "iopub.status.idle": "2024-04-13T19:23:03.297044Z",
          "shell.execute_reply.started": "2024-04-13T19:23:01.792535Z",
          "shell.execute_reply": "2024-04-13T19:23:03.296196Z"
        },
        "trusted": true,
        "id": "LEFd8F_hYQgz",
        "outputId": "03595610-7e12-41aa-e14a-1559d6c41686",
        "colab": {
          "base_uri": "https://localhost:8080/"
        }
      },
      "execution_count": 34,
      "outputs": [
        {
          "output_type": "stream",
          "name": "stderr",
          "text": [
            "Some weights of the model checkpoint at cardiffnlp/twitter-roberta-base-sentiment-latest were not used when initializing RobertaForSequenceClassification: ['roberta.pooler.dense.bias', 'roberta.pooler.dense.weight']\n",
            "- This IS expected if you are initializing RobertaForSequenceClassification from the checkpoint of a model trained on another task or with another architecture (e.g. initializing a BertForSequenceClassification model from a BertForPreTraining model).\n",
            "- This IS NOT expected if you are initializing RobertaForSequenceClassification from the checkpoint of a model that you expect to be exactly identical (initializing a BertForSequenceClassification model from a BertForSequenceClassification model).\n",
            "Some weights of RobertaForSequenceClassification were not initialized from the model checkpoint at cardiffnlp/twitter-roberta-base-sentiment-latest and are newly initialized because the shapes did not match:\n",
            "- classifier.out_proj.weight: found shape torch.Size([3, 768]) in the checkpoint and torch.Size([2, 768]) in the model instantiated\n",
            "- classifier.out_proj.bias: found shape torch.Size([3]) in the checkpoint and torch.Size([2]) in the model instantiated\n",
            "You should probably TRAIN this model on a down-stream task to be able to use it for predictions and inference.\n"
          ]
        }
      ]
    },
    {
      "cell_type": "code",
      "source": [
        "device=torch.device(\"cuda\" if torch.cuda.is_available() else \"cpu\")"
      ],
      "metadata": {
        "execution": {
          "iopub.status.busy": "2024-04-13T19:21:22.640538Z",
          "iopub.execute_input": "2024-04-13T19:21:22.641273Z",
          "iopub.status.idle": "2024-04-13T19:21:22.645765Z",
          "shell.execute_reply.started": "2024-04-13T19:21:22.64124Z",
          "shell.execute_reply": "2024-04-13T19:21:22.644632Z"
        },
        "trusted": true,
        "id": "o8OFr3jjYQg0"
      },
      "execution_count": 35,
      "outputs": []
    },
    {
      "cell_type": "code",
      "source": [
        "model2=model2.to(device)"
      ],
      "metadata": {
        "execution": {
          "iopub.status.busy": "2024-04-13T19:21:34.681338Z",
          "iopub.execute_input": "2024-04-13T19:21:34.682196Z",
          "iopub.status.idle": "2024-04-13T19:21:34.690789Z",
          "shell.execute_reply.started": "2024-04-13T19:21:34.682162Z",
          "shell.execute_reply": "2024-04-13T19:21:34.689662Z"
        },
        "trusted": true,
        "id": "oG64ay8zYQg0"
      },
      "execution_count": 36,
      "outputs": []
    },
    {
      "cell_type": "code",
      "source": [
        "#lets change some architurectural stuff\n",
        "for layer in model2.roberta.embeddings.parameters():\n",
        "  layer.requires_grad=False\n",
        "\n",
        "for layer in model2.roberta.encoder.layer[:8].parameters():\n",
        "  layer.requires_grad=False\n",
        "\n",
        "model2.classifier.out_proj=torch.nn.Linear(in_features=model.config.hidden_size,out_features=len(id2label))"
      ],
      "metadata": {
        "execution": {
          "iopub.status.busy": "2024-04-13T19:23:07.089133Z",
          "iopub.execute_input": "2024-04-13T19:23:07.089471Z",
          "iopub.status.idle": "2024-04-13T19:23:07.096904Z",
          "shell.execute_reply.started": "2024-04-13T19:23:07.08944Z",
          "shell.execute_reply": "2024-04-13T19:23:07.095722Z"
        },
        "trusted": true,
        "id": "3YDq73DYYQg5"
      },
      "execution_count": 37,
      "outputs": []
    },
    {
      "cell_type": "code",
      "source": [
        "#traingin setup..\n",
        "learning_rate=1e-3\n",
        "num_epochs=1000\n",
        "optimizer=torch.optim.AdamW(model2.parameters(),lr=learning_rate)\n",
        "scheduler=lr_scheduler.ReduceLROnPlateau(optimizer,mode='min',factor=0.1,patience=2)\n",
        "loss_fn=torch.nn.CrossEntropyLoss()\n",
        "best_loss=float(\"inf\")\n",
        "patience=3"
      ],
      "metadata": {
        "execution": {
          "iopub.status.busy": "2024-04-13T19:23:10.12322Z",
          "iopub.execute_input": "2024-04-13T19:23:10.123808Z",
          "iopub.status.idle": "2024-04-13T19:23:10.13149Z",
          "shell.execute_reply.started": "2024-04-13T19:23:10.123774Z",
          "shell.execute_reply": "2024-04-13T19:23:10.130617Z"
        },
        "trusted": true,
        "id": "ZhPq3yFSYQg5"
      },
      "execution_count": 38,
      "outputs": []
    },
    {
      "cell_type": "markdown",
      "source": [
        "## lets make a new data loader"
      ],
      "metadata": {
        "id": "8auAP8LAYQg5"
      }
    },
    {
      "cell_type": "code",
      "source": [
        "len(train_dataset)//3"
      ],
      "metadata": {
        "execution": {
          "iopub.status.busy": "2024-04-13T19:14:54.118528Z",
          "iopub.execute_input": "2024-04-13T19:14:54.118862Z",
          "iopub.status.idle": "2024-04-13T19:14:54.130387Z",
          "shell.execute_reply.started": "2024-04-13T19:14:54.118832Z",
          "shell.execute_reply": "2024-04-13T19:14:54.129497Z"
        },
        "trusted": true,
        "id": "Hz1uU3EqYQg5",
        "outputId": "7c16183f-922b-4257-f6b2-d2578dece111",
        "colab": {
          "base_uri": "https://localhost:8080/"
        }
      },
      "execution_count": 39,
      "outputs": [
        {
          "output_type": "execute_result",
          "data": {
            "text/plain": [
              "181526"
            ]
          },
          "metadata": {},
          "execution_count": 39
        }
      ]
    },
    {
      "cell_type": "code",
      "source": [
        "slice_1=list(range(len(train_dataset)//2))\n",
        "slice_2=list(range(len(train_dataset)//2,len(train_dataset)))"
      ],
      "metadata": {
        "execution": {
          "iopub.status.busy": "2024-04-13T19:14:54.131431Z",
          "iopub.execute_input": "2024-04-13T19:14:54.131748Z",
          "iopub.status.idle": "2024-04-13T19:14:54.154834Z",
          "shell.execute_reply.started": "2024-04-13T19:14:54.131726Z",
          "shell.execute_reply": "2024-04-13T19:14:54.153897Z"
        },
        "trusted": true,
        "id": "L16xb660YQg5"
      },
      "execution_count": 40,
      "outputs": []
    },
    {
      "cell_type": "code",
      "source": [
        "train_set1=Subset(train_dataset,slice_1)\n",
        "train_set2=Subset(train_dataset,slice_2)"
      ],
      "metadata": {
        "execution": {
          "iopub.status.busy": "2024-04-13T19:14:54.155905Z",
          "iopub.execute_input": "2024-04-13T19:14:54.156251Z",
          "iopub.status.idle": "2024-04-13T19:14:54.165743Z",
          "shell.execute_reply.started": "2024-04-13T19:14:54.15622Z",
          "shell.execute_reply": "2024-04-13T19:14:54.164987Z"
        },
        "trusted": true,
        "id": "E7LczDrRYQg5"
      },
      "execution_count": 41,
      "outputs": []
    },
    {
      "cell_type": "code",
      "source": [
        "train_dataloader_1=DataLoader(\n",
        "    dataset=train_set1,\n",
        "    batch_size=batch_size,\n",
        "    collate_fn=custom_collate_fn,\n",
        ")\n",
        "\n",
        "train_dataloader_2=DataLoader(\n",
        "    dataset=train_set2,\n",
        "    batch_size=batch_size,\n",
        "    collate_fn=custom_collate_fn\n",
        ")"
      ],
      "metadata": {
        "execution": {
          "iopub.status.busy": "2024-04-13T19:14:54.166775Z",
          "iopub.execute_input": "2024-04-13T19:14:54.167053Z",
          "iopub.status.idle": "2024-04-13T19:14:54.177805Z",
          "shell.execute_reply.started": "2024-04-13T19:14:54.167024Z",
          "shell.execute_reply": "2024-04-13T19:14:54.177128Z"
        },
        "trusted": true,
        "id": "O7vWOAgrYQg6"
      },
      "execution_count": 42,
      "outputs": []
    },
    {
      "cell_type": "code",
      "source": [
        "#move model tinto gpu\n",
        "device=torch.device(\"cuda\" if torch.cuda.is_available() else \"cpu\")\n",
        "model2=model2.to(device)"
      ],
      "metadata": {
        "execution": {
          "iopub.status.busy": "2024-04-13T19:23:25.778908Z",
          "iopub.execute_input": "2024-04-13T19:23:25.779288Z",
          "iopub.status.idle": "2024-04-13T19:23:25.914304Z",
          "shell.execute_reply.started": "2024-04-13T19:23:25.779258Z",
          "shell.execute_reply": "2024-04-13T19:23:25.91336Z"
        },
        "trusted": true,
        "id": "mhGL9Bt9YQg6"
      },
      "execution_count": 43,
      "outputs": []
    },
    {
      "cell_type": "code",
      "source": [
        "# # Release all tensors from GPU memory\n",
        "# torch.cuda.empty_cache()\n",
        "\n",
        "# # Reset GPU context (this effectively clears the entire GPU memory)\n",
        "# torch.cuda.reset_max_memory_allocated()\n",
        "# torch.cuda.empty_cache()"
      ],
      "metadata": {
        "execution": {
          "iopub.status.busy": "2024-04-13T19:23:26.009684Z",
          "iopub.execute_input": "2024-04-13T19:23:26.009968Z",
          "iopub.status.idle": "2024-04-13T19:23:26.065308Z",
          "shell.execute_reply.started": "2024-04-13T19:23:26.009939Z",
          "shell.execute_reply": "2024-04-13T19:23:26.064319Z"
        },
        "trusted": true,
        "id": "fQLWbax9YQg6"
      },
      "execution_count": 44,
      "outputs": []
    },
    {
      "cell_type": "code",
      "source": [
        "#accumulation the gradient\n",
        "accumulate_gradient=4"
      ],
      "metadata": {
        "execution": {
          "iopub.status.busy": "2024-04-13T19:23:29.035308Z",
          "iopub.execute_input": "2024-04-13T19:23:29.036118Z",
          "iopub.status.idle": "2024-04-13T19:23:29.040161Z",
          "shell.execute_reply.started": "2024-04-13T19:23:29.036088Z",
          "shell.execute_reply": "2024-04-13T19:23:29.039234Z"
        },
        "trusted": true,
        "id": "KknZ1lm3YQg6"
      },
      "execution_count": 45,
      "outputs": []
    },
    {
      "cell_type": "code",
      "source": [
        "len(train_dataloader),len(test_dataloader)"
      ],
      "metadata": {
        "execution": {
          "iopub.status.busy": "2024-04-13T19:23:29.579262Z",
          "iopub.execute_input": "2024-04-13T19:23:29.579855Z",
          "iopub.status.idle": "2024-04-13T19:23:29.587723Z",
          "shell.execute_reply.started": "2024-04-13T19:23:29.579814Z",
          "shell.execute_reply": "2024-04-13T19:23:29.586675Z"
        },
        "trusted": true,
        "id": "0YEjvrEJYQg6",
        "outputId": "1401285e-82b8-443c-b8e0-c95f383edca9",
        "colab": {
          "base_uri": "https://localhost:8080/"
        }
      },
      "execution_count": 46,
      "outputs": [
        {
          "output_type": "execute_result",
          "data": {
            "text/plain": [
              "(17019, 5673)"
            ]
          },
          "metadata": {},
          "execution_count": 46
        }
      ]
    },
    {
      "cell_type": "code",
      "source": [
        "# for epoch in tqdm(range(num_epochs)):\n",
        "#     model2.train()\n",
        "#     #lets train it on the first half of the dataset\n",
        "#     train_loss=0.0\n",
        "#     for idx,batch in enumerate(train_dataloader):\n",
        "#         input_ids,attention_mask,label=batch[\"input_ids\"].squeeze(dim=1),batch[\"attention_mask\"].squeeze(dim=1),batch[\"labels\"].squeeze(dim=1)\n",
        "\n",
        "#         #batchifying our input over 4 mini batches\n",
        "#         with torch.set_grad_enabled(True):\n",
        "#             logits=model2(input_ids,attention_mask).logits\n",
        "#             loss=loss_fn(logits,label)\n",
        "\n",
        "#             #normalize our loss\n",
        "#             loss/=accumulate_gradient\n",
        "\n",
        "#             loss.backward()\n",
        "#             train_loss+=loss.item()\n",
        "\n",
        "#             #checking for condition\n",
        "#             if (((idx+1)%accumulate_gradient==0) or (idx+1==len(train_dataloader))):\n",
        "#                 optimizer.step()  #change the gradient\n",
        "#                 optimizer.zero_grad()\n",
        "\n",
        "#             #lets display the logits\n",
        "#             if (idx%1000==0):\n",
        "#                 print(f\"{epoch}/{num_epochs}: loss:{loss.item()}\")\n",
        "\n",
        "#     #lets accumulate the training loss\n",
        "#     train_loss/=len(train_dataloader.dataset)\n",
        "\n",
        "#     eval_loss=0.0\n",
        "#     #lets evaluate it\n",
        "#     model.eval()\n",
        "#     with torch.no_grad():\n",
        "#         for idx,batch in enumerate(test_dataloader):\n",
        "#             input_ids_test,attention_mask_test,label_test=batch[\"input_ids\"].squeeze(dim=1),batch[\"attention_mask\"].squeeze(),batch[\"labels\"].squeeze(dim=1)\n",
        "#             logits=model2(input_ids_test,attention_mask_test).logits\n",
        "#             loss=loss_fn(logits,label_test)\n",
        "#             loss/=accumulate_gradient\n",
        "\n",
        "#             eval_loss+=loss.item()*input_ids_test.size(0)\n",
        "\n",
        "#             if ((idx+1)%accumulate_gradient==0 or (idx+1==len(train_dataloader))):\n",
        "#                 optimizer.step()  #change the gradient\n",
        "#                 optimizer.zero_grad()\n",
        "\n",
        "\n",
        "\n",
        "#     eval_loss/=len(test_dataloader.dataset)\n",
        "#     scheduler.step(eval_loss)  #looks close at the evaluation metrics\n",
        "\n",
        "#      #the early stoping part of the code\n",
        "#     if eval_loss<best_loss:\n",
        "#         best_loss=eval_loss\n",
        "#         counter=0\n",
        "#     else:\n",
        "#         counter+=1\n",
        "#         if counter>patience:\n",
        "#             break"
      ],
      "metadata": {
        "execution": {
          "iopub.status.busy": "2024-04-13T19:23:29.964495Z",
          "iopub.execute_input": "2024-04-13T19:23:29.964918Z"
        },
        "trusted": true,
        "id": "xNW2Zs8OYQg6"
      },
      "execution_count": 47,
      "outputs": []
    },
    {
      "cell_type": "markdown",
      "source": [
        "## ToDo:\n",
        "* train on one batch\n",
        "* using mixed precision training\n",
        "* gradient accumulation\n",
        "* adjusting the learning rate"
      ],
      "metadata": {
        "id": "RmSqr6BeYQg6"
      }
    },
    {
      "cell_type": "markdown",
      "source": [
        "# experiment with one batch training compiled model"
      ],
      "metadata": {
        "id": "i6CWKPIpYQg7"
      }
    },
    {
      "cell_type": "code",
      "source": [
        "for batch in train_dataloader:\n",
        "  one_batch=batch\n",
        "  break"
      ],
      "metadata": {
        "id": "jScv7wSDYQg7"
      },
      "execution_count": 48,
      "outputs": []
    },
    {
      "cell_type": "code",
      "source": [
        "type(one_batch)"
      ],
      "metadata": {
        "id": "-eRdRQgqerV3",
        "outputId": "dcfe2edb-c521-474b-d091-1d62fe8de08c",
        "colab": {
          "base_uri": "https://localhost:8080/"
        }
      },
      "execution_count": 49,
      "outputs": [
        {
          "output_type": "execute_result",
          "data": {
            "text/plain": [
              "dict"
            ]
          },
          "metadata": {},
          "execution_count": 49
        }
      ]
    },
    {
      "cell_type": "code",
      "source": [
        "print(f\"input ids:{one_batch['input_ids'].size()}\")\n",
        "print(f\"attention mask: {one_batch['attention_mask'].size()}\")\n",
        "print(f\"labels:{one_batch['labels'].size()}\")"
      ],
      "metadata": {
        "id": "Vo9vJBbod66z",
        "outputId": "7a5b9922-38c2-4246-f888-224e5fde1e37",
        "colab": {
          "base_uri": "https://localhost:8080/"
        }
      },
      "execution_count": 50,
      "outputs": [
        {
          "output_type": "stream",
          "name": "stdout",
          "text": [
            "input ids:torch.Size([32, 1, 512])\n",
            "attention mask: torch.Size([32, 1, 512])\n",
            "labels:torch.Size([32, 1])\n"
          ]
        }
      ]
    },
    {
      "cell_type": "code",
      "source": [
        "compiled_model=torch.compile(model2)\n",
        "compiled_model.to(\"cuda\")"
      ],
      "metadata": {
        "id": "wrF6zbM5anjA",
        "outputId": "80dcb97a-7dc5-41f1-9244-3caa397cad4a",
        "colab": {
          "base_uri": "https://localhost:8080/"
        }
      },
      "execution_count": 51,
      "outputs": [
        {
          "output_type": "stream",
          "name": "stderr",
          "text": [
            "/usr/lib/python3.10/multiprocessing/popen_fork.py:66: RuntimeWarning: os.fork() was called. os.fork() is incompatible with multithreaded code, and JAX is multithreaded, so this will likely lead to a deadlock.\n",
            "  self.pid = os.fork()\n"
          ]
        },
        {
          "output_type": "execute_result",
          "data": {
            "text/plain": [
              "OptimizedModule(\n",
              "  (_orig_mod): RobertaForSequenceClassification(\n",
              "    (roberta): RobertaModel(\n",
              "      (embeddings): RobertaEmbeddings(\n",
              "        (word_embeddings): Embedding(50265, 768, padding_idx=1)\n",
              "        (position_embeddings): Embedding(514, 768, padding_idx=1)\n",
              "        (token_type_embeddings): Embedding(1, 768)\n",
              "        (LayerNorm): LayerNorm((768,), eps=1e-05, elementwise_affine=True)\n",
              "        (dropout): Dropout(p=0.1, inplace=False)\n",
              "      )\n",
              "      (encoder): RobertaEncoder(\n",
              "        (layer): ModuleList(\n",
              "          (0-11): 12 x RobertaLayer(\n",
              "            (attention): RobertaAttention(\n",
              "              (self): RobertaSelfAttention(\n",
              "                (query): Linear(in_features=768, out_features=768, bias=True)\n",
              "                (key): Linear(in_features=768, out_features=768, bias=True)\n",
              "                (value): Linear(in_features=768, out_features=768, bias=True)\n",
              "                (dropout): Dropout(p=0.1, inplace=False)\n",
              "              )\n",
              "              (output): RobertaSelfOutput(\n",
              "                (dense): Linear(in_features=768, out_features=768, bias=True)\n",
              "                (LayerNorm): LayerNorm((768,), eps=1e-05, elementwise_affine=True)\n",
              "                (dropout): Dropout(p=0.1, inplace=False)\n",
              "              )\n",
              "            )\n",
              "            (intermediate): RobertaIntermediate(\n",
              "              (dense): Linear(in_features=768, out_features=3072, bias=True)\n",
              "              (intermediate_act_fn): GELUActivation()\n",
              "            )\n",
              "            (output): RobertaOutput(\n",
              "              (dense): Linear(in_features=3072, out_features=768, bias=True)\n",
              "              (LayerNorm): LayerNorm((768,), eps=1e-05, elementwise_affine=True)\n",
              "              (dropout): Dropout(p=0.1, inplace=False)\n",
              "            )\n",
              "          )\n",
              "        )\n",
              "      )\n",
              "    )\n",
              "    (classifier): RobertaClassificationHead(\n",
              "      (dense): Linear(in_features=768, out_features=768, bias=True)\n",
              "      (dropout): Dropout(p=0.1, inplace=False)\n",
              "      (out_proj): Linear(in_features=768, out_features=2, bias=True)\n",
              "    )\n",
              "  )\n",
              ")"
            ]
          },
          "metadata": {},
          "execution_count": 51
        }
      ]
    },
    {
      "cell_type": "code",
      "source": [
        "# Release all tensors from GPU memory\n",
        "torch.cuda.empty_cache()\n",
        "\n",
        "# Reset GPU context (this effectively clears the entire GPU memory)\n",
        "torch.cuda.reset_max_memory_allocated()\n",
        "torch.cuda.empty_cache()"
      ],
      "metadata": {
        "id": "HSwvYT7FgM_Y",
        "outputId": "236891e7-05bf-46b8-9d46-ea5669477b86",
        "colab": {
          "base_uri": "https://localhost:8080/"
        }
      },
      "execution_count": 52,
      "outputs": [
        {
          "output_type": "stream",
          "name": "stderr",
          "text": [
            "/usr/local/lib/python3.10/dist-packages/torch/cuda/memory.py:330: FutureWarning: torch.cuda.reset_max_memory_allocated now calls torch.cuda.reset_peak_memory_stats, which resets /all/ peak memory stats.\n",
            "  warnings.warn(\n"
          ]
        }
      ]
    },
    {
      "cell_type": "code",
      "source": [
        "# num_epoch=300\n",
        "# compiled_model.train()\n",
        "# for epoch in range(num_epoch):\n",
        "#   optimizer.zero_grad()\n",
        "#   input_ids,attention_mask,labels=one_batch[\"input_ids\"].squeeze(dim=1),one_batch[\"attention_mask\"].squeeze(dim=1),one_batch[\"labels\"].squeeze(dim=1)\n",
        "#   logits=compiled_model(input_ids,attention_mask).logits\n",
        "#   loss=loss_fn(logits,labels)\n",
        "#   #back-prop\n",
        "#   loss.backward()\n",
        "#   if epoch%10==0:\n",
        "#     loss_item=loss.item()\n",
        "#     print(f\"{epoch}/{num_epoch} the loss: {loss_item}\")"
      ],
      "metadata": {
        "id": "dhiqm2e_ZvAq"
      },
      "execution_count": 54,
      "outputs": []
    },
    {
      "cell_type": "markdown",
      "source": [
        "# lets try using torch's mixed precision:\n",
        "* auto-cast  \n",
        "* grad-scaler\n",
        "* and accumulated gradient"
      ],
      "metadata": {
        "id": "HuqjIXKxi8MH"
      }
    },
    {
      "cell_type": "code",
      "source": [
        "model_name"
      ],
      "metadata": {
        "id": "c6-McyD9q9WF",
        "outputId": "5667bd8c-6f01-41bf-f9eb-cb0954ba4c23",
        "colab": {
          "base_uri": "https://localhost:8080/",
          "height": 35
        }
      },
      "execution_count": 55,
      "outputs": [
        {
          "output_type": "execute_result",
          "data": {
            "text/plain": [
              "'cardiffnlp/twitter-roberta-base-sentiment-latest'"
            ],
            "application/vnd.google.colaboratory.intrinsic+json": {
              "type": "string"
            }
          },
          "metadata": {},
          "execution_count": 55
        }
      ]
    },
    {
      "cell_type": "code",
      "source": [
        "model3=RobertaForSequenceClassification.from_pretrained(model_name)\n",
        "\n",
        "#lets change some architurectural stuff\n",
        "for layer in model3.roberta.embeddings.parameters():\n",
        "  layer.requires_grad=False\n",
        "\n",
        "for layer in model3.roberta.encoder.layer[:8].parameters():\n",
        "  layer.requires_grad=False\n",
        "\n",
        "model3.classifier.out_proj=torch.nn.Linear(in_features=model.config.hidden_size,out_features=len(id2label))"
      ],
      "metadata": {
        "id": "BhC9B-zbqonH",
        "outputId": "bfddc0a1-daf4-4d60-8411-68fd8f3630cc",
        "colab": {
          "base_uri": "https://localhost:8080/"
        }
      },
      "execution_count": 57,
      "outputs": [
        {
          "output_type": "stream",
          "name": "stderr",
          "text": [
            "Some weights of the model checkpoint at cardiffnlp/twitter-roberta-base-sentiment-latest were not used when initializing RobertaForSequenceClassification: ['roberta.pooler.dense.bias', 'roberta.pooler.dense.weight']\n",
            "- This IS expected if you are initializing RobertaForSequenceClassification from the checkpoint of a model trained on another task or with another architecture (e.g. initializing a BertForSequenceClassification model from a BertForPreTraining model).\n",
            "- This IS NOT expected if you are initializing RobertaForSequenceClassification from the checkpoint of a model that you expect to be exactly identical (initializing a BertForSequenceClassification model from a BertForSequenceClassification model).\n"
          ]
        }
      ]
    },
    {
      "cell_type": "code",
      "source": [
        "optimizer=torch.optim.AdamW(params=model3.parameters(),lr=0.01)\n",
        "loss_fn=torch.nn.CrossEntropyLoss()"
      ],
      "metadata": {
        "id": "1jNQkGprqlsJ"
      },
      "execution_count": 76,
      "outputs": []
    },
    {
      "cell_type": "code",
      "source": [
        "compiled_model3=torch.compile(model3,backend=\"eager\")\n",
        "compiled_model3=compiled_model3.to(device)"
      ],
      "metadata": {
        "id": "-9yP6H44rXQx"
      },
      "execution_count": 77,
      "outputs": []
    },
    {
      "cell_type": "code",
      "source": [
        "device=\"cuda\" if torch.cuda.is_available() else \"cpu\"\n",
        "device"
      ],
      "metadata": {
        "id": "1ABQWNGCuT0h",
        "outputId": "986629ed-0ca6-4af8-e112-51b7e24a3635",
        "colab": {
          "base_uri": "https://localhost:8080/",
          "height": 35
        }
      },
      "execution_count": 78,
      "outputs": [
        {
          "output_type": "execute_result",
          "data": {
            "text/plain": [
              "'cuda'"
            ],
            "application/vnd.google.colaboratory.intrinsic+json": {
              "type": "string"
            }
          },
          "metadata": {},
          "execution_count": 78
        }
      ]
    },
    {
      "cell_type": "code",
      "source": [
        "use_amp=True\n",
        "scaler=torch.cuda.amp.GradScaler()  #this clips the gradient during the backprop\n",
        "accum_iter=4\n",
        "num_epochs=100\n",
        "\n",
        "for epoch in range(num_epochs):\n",
        "  input_ids,attention_mask,labels=one_batch['input_ids'].squeeze(dim=1),one_batch['attention_mask'].squeeze(dim=1),one_batch['labels'].squeeze(dim=1)\n",
        "  with torch.autocast(device_type=device,dtype=torch.float16,enabled=use_amp):\n",
        "    logits=compiled_model3(input_ids,attention_mask).logits\n",
        "    loss=loss_fn(logits,labels)\n",
        "    if epoch%10==0:\n",
        "      print(f\"{epoch}/{num_epochs}:loss {loss.item()}\")\n",
        "\n",
        "\n",
        "  #calcualte the gradient and scale it\n",
        "  scaler.scale(loss).backward()\n",
        "\n",
        "  if epoch%accum_iter==0:\n",
        "    scaler.step(optimizer)\n",
        "    #update the scaler\n",
        "    scaler.update()\n",
        "    optimizer.zero_grad()"
      ],
      "metadata": {
        "id": "9iEcxxc0jK5y",
        "outputId": "27fe289f-40f4-4726-bcd6-8cbad5cdf052",
        "colab": {
          "base_uri": "https://localhost:8080/"
        }
      },
      "execution_count": 79,
      "outputs": [
        {
          "output_type": "stream",
          "name": "stdout",
          "text": [
            "0/100:loss 2.809880495071411\n",
            "10/100:loss 3.9845128059387207\n",
            "20/100:loss 1.0869827270507812\n",
            "30/100:loss 0.8290252685546875\n",
            "40/100:loss 0.6970367431640625\n",
            "50/100:loss 0.7324676513671875\n",
            "60/100:loss 0.72857666015625\n",
            "70/100:loss 0.707061767578125\n",
            "80/100:loss 0.699188232421875\n",
            "90/100:loss 0.691925048828125\n"
          ]
        }
      ]
    },
    {
      "cell_type": "markdown",
      "source": [
        "## same thing as above but with more epochs"
      ],
      "metadata": {
        "id": "pKpamCkJwL6V"
      }
    },
    {
      "cell_type": "code",
      "source": [
        "# use_amp=True\n",
        "# scaler=torch.cuda.amp.GradScaler()  #this clips the gradient during the backprop\n",
        "# accum_iter=4\n",
        "# num_epochs=10000\n",
        "\n",
        "# for epoch in range(num_epochs):\n",
        "#   input_ids,attention_mask,labels=one_batch['input_ids'].squeeze(dim=1),one_batch['attention_mask'].squeeze(dim=1),one_batch['labels'].squeeze(dim=1)\n",
        "#   with torch.autocast(device_type=device,dtype=torch.float16,enabled=use_amp):\n",
        "#     logits=compiled_model3(input_ids,attention_mask).logits\n",
        "#     loss=loss_fn(logits,labels)\n",
        "#     if epoch%1000==0:\n",
        "#       print(f\"{epoch}/{num_epochs}:loss {loss.item()}\")\n",
        "\n",
        "\n",
        "#   #calcualte the gradient and scale it\n",
        "#   scaler.scale(loss).backward()\n",
        "\n",
        "#   if epoch%accum_iter==0:\n",
        "#     scaler.step(optimizer)\n",
        "#     #update the scaler\n",
        "#     scaler.update()\n",
        "#     optimizer.zero_grad()\n",
        "\n",
        "\n",
        "# #the output of this model were mostly 0.7.... nothing less than it and it stopped after like 7000 epochs"
      ],
      "metadata": {
        "id": "trwV69gijK1D"
      },
      "execution_count": 82,
      "outputs": []
    },
    {
      "cell_type": "markdown",
      "source": [
        "# same as above:\n",
        "* added learing rate scheduler.\n",
        "* changing the optimizer from adama into adam\n",
        "* this all done by adding a new validation data into the mix"
      ],
      "metadata": {
        "id": "C7Jr0VK42wH8"
      }
    },
    {
      "cell_type": "code",
      "source": [
        "model4=RobertaForSequenceClassification.from_pretrained(model_name)\n",
        "\n",
        "#lets change some architurectural stuff\n",
        "for layer in model4.roberta.embeddings.parameters():\n",
        "  layer.requires_grad=False\n",
        "\n",
        "for layer in model4.roberta.encoder.layer[:8].parameters():\n",
        "  layer.requires_grad=False\n",
        "\n",
        "model4.classifier.out_proj=torch.nn.Linear(in_features=model.config.hidden_size,out_features=len(id2label))"
      ],
      "metadata": {
        "id": "J9mZpeTE5LR1",
        "outputId": "17b4d027-16d6-400d-e70c-7922fe8db456",
        "colab": {
          "base_uri": "https://localhost:8080/"
        }
      },
      "execution_count": 83,
      "outputs": [
        {
          "output_type": "stream",
          "name": "stderr",
          "text": [
            "Some weights of the model checkpoint at cardiffnlp/twitter-roberta-base-sentiment-latest were not used when initializing RobertaForSequenceClassification: ['roberta.pooler.dense.bias', 'roberta.pooler.dense.weight']\n",
            "- This IS expected if you are initializing RobertaForSequenceClassification from the checkpoint of a model trained on another task or with another architecture (e.g. initializing a BertForSequenceClassification model from a BertForPreTraining model).\n",
            "- This IS NOT expected if you are initializing RobertaForSequenceClassification from the checkpoint of a model that you expect to be exactly identical (initializing a BertForSequenceClassification model from a BertForSequenceClassification model).\n"
          ]
        }
      ]
    },
    {
      "cell_type": "code",
      "source": [
        "model4=model4.to(device)"
      ],
      "metadata": {
        "id": "vKIDvgCu_2F2"
      },
      "execution_count": 84,
      "outputs": []
    },
    {
      "cell_type": "code",
      "source": [
        "opt=torch.optim.Adam(params=model4.parameters(),lr=1e4)\n",
        "scheduler=torch.optim.lr_scheduler.ReduceLROnPlateau(optimizer=opt,\n",
        "                                                    mode='min',\n",
        "                                                    factor=0.1,\n",
        "                                                    patience=2)"
      ],
      "metadata": {
        "id": "_seoFfq725sN"
      },
      "execution_count": 87,
      "outputs": []
    },
    {
      "cell_type": "code",
      "source": [
        "for batch in test_dataloader:\n",
        "  one_val=batch\n",
        "  break"
      ],
      "metadata": {
        "id": "YK9dt5qK25oz"
      },
      "execution_count": 88,
      "outputs": []
    },
    {
      "cell_type": "code",
      "source": [
        "compiled_model4=torch.compile(model4,backend=\"eager\")\n",
        "compiled_model4.to(device)"
      ],
      "metadata": {
        "id": "nMsB5VdH84oj",
        "outputId": "15ba17f7-2b30-416e-fe02-12043d58fb72",
        "colab": {
          "base_uri": "https://localhost:8080/"
        }
      },
      "execution_count": 106,
      "outputs": [
        {
          "output_type": "execute_result",
          "data": {
            "text/plain": [
              "OptimizedModule(\n",
              "  (_orig_mod): RobertaForSequenceClassification(\n",
              "    (roberta): RobertaModel(\n",
              "      (embeddings): RobertaEmbeddings(\n",
              "        (word_embeddings): Embedding(50265, 768, padding_idx=1)\n",
              "        (position_embeddings): Embedding(514, 768, padding_idx=1)\n",
              "        (token_type_embeddings): Embedding(1, 768)\n",
              "        (LayerNorm): LayerNorm((768,), eps=1e-05, elementwise_affine=True)\n",
              "        (dropout): Dropout(p=0.1, inplace=False)\n",
              "      )\n",
              "      (encoder): RobertaEncoder(\n",
              "        (layer): ModuleList(\n",
              "          (0-11): 12 x RobertaLayer(\n",
              "            (attention): RobertaAttention(\n",
              "              (self): RobertaSelfAttention(\n",
              "                (query): Linear(in_features=768, out_features=768, bias=True)\n",
              "                (key): Linear(in_features=768, out_features=768, bias=True)\n",
              "                (value): Linear(in_features=768, out_features=768, bias=True)\n",
              "                (dropout): Dropout(p=0.1, inplace=False)\n",
              "              )\n",
              "              (output): RobertaSelfOutput(\n",
              "                (dense): Linear(in_features=768, out_features=768, bias=True)\n",
              "                (LayerNorm): LayerNorm((768,), eps=1e-05, elementwise_affine=True)\n",
              "                (dropout): Dropout(p=0.1, inplace=False)\n",
              "              )\n",
              "            )\n",
              "            (intermediate): RobertaIntermediate(\n",
              "              (dense): Linear(in_features=768, out_features=3072, bias=True)\n",
              "              (intermediate_act_fn): GELUActivation()\n",
              "            )\n",
              "            (output): RobertaOutput(\n",
              "              (dense): Linear(in_features=3072, out_features=768, bias=True)\n",
              "              (LayerNorm): LayerNorm((768,), eps=1e-05, elementwise_affine=True)\n",
              "              (dropout): Dropout(p=0.1, inplace=False)\n",
              "            )\n",
              "          )\n",
              "        )\n",
              "      )\n",
              "    )\n",
              "    (classifier): RobertaClassificationHead(\n",
              "      (dense): Linear(in_features=768, out_features=768, bias=True)\n",
              "      (dropout): Dropout(p=0.1, inplace=False)\n",
              "      (out_proj): Linear(in_features=768, out_features=2, bias=True)\n",
              "    )\n",
              "  )\n",
              ")"
            ]
          },
          "metadata": {},
          "execution_count": 106
        }
      ]
    },
    {
      "cell_type": "code",
      "source": [
        "len(train_dataloader)"
      ],
      "metadata": {
        "id": "EY6b9CSECo96",
        "outputId": "b7c4eda0-0890-4526-8c76-29bd9394b542",
        "colab": {
          "base_uri": "https://localhost:8080/"
        }
      },
      "execution_count": 101,
      "outputs": [
        {
          "output_type": "execute_result",
          "data": {
            "text/plain": [
              "17019"
            ]
          },
          "metadata": {},
          "execution_count": 101
        }
      ]
    },
    {
      "cell_type": "code",
      "source": [
        "use_amp=True\n",
        "scaler=torch.cuda.amp.GradScaler()  #this clips the gradient during the backprop\n",
        "accum_iter=4\n",
        "num_epochs=10000\n",
        "\n",
        "for epoch in tqdm(range(num_epochs)):\n",
        "  for idx,batch in enumerate(train_dataloader):\n",
        "    input_ids,attention_mask,labels=batch[\"input_ids\"].squeeze(dim=1),batch[\"attention_mask\"].squeeze(dim=1),batch[\"labels\"].squeeze(dim=1)\n",
        "    with torch.autocast(device_type=device,dtype=torch.float16,enabled=use_amp):\n",
        "      logits=compiled_model4(input_ids,attention_mask).logits\n",
        "      loss=loss_fn(logits,labels)\n",
        "      if idx%10==0:\n",
        "        print(f\"{epoch}/{num_epochs}:loss {loss.item()}\")\n",
        "\n",
        "\n",
        "    #calcualte the gradient and scale it\n",
        "    scaler.scale(loss).backward()\n",
        "\n",
        "\n",
        "\n",
        "    if idx%accum_iter==0:\n",
        "      scaler.step(opt)\n",
        "      #update the scaler\n",
        "      scaler.update()\n",
        "      optimizer.zero_grad()\n",
        "\n",
        "    #lets evaluate the model\n",
        "  model.eval()\n",
        "  with torch.no_grad():\n",
        "    for idx,batch in enumerate(test_dataloader):\n",
        "      test_inputs,test_attention,test_labels=batch[\"input_ids\"].squeeze(dim=1),batch[\"attention_mask\"].squeeze(dim=1),batch[\"labels\"].squeeze(dim=1)\n",
        "      with torch.autocast(device_type=device,dtype=torch.float16,enabled=True):\n",
        "        logits=compiled_model4(test_inputs,test_attention).logits\n",
        "        val_loss=loss_fn(logits,test_labels)\n",
        "      #check for the learning rate scheduler\n",
        "      scheduler.step(val_loss)\n",
        "      if idx%1000==0:\n",
        "        print(f\"{epoch}/{num_epochs}:loss {val_loss.item()}\")"
      ],
      "metadata": {
        "id": "qi1BG04P7cEB"
      },
      "execution_count": null,
      "outputs": []
    },
    {
      "cell_type": "code",
      "source": [],
      "metadata": {
        "id": "IVXN77_s7dxa"
      },
      "execution_count": null,
      "outputs": []
    },
    {
      "cell_type": "code",
      "source": [],
      "metadata": {
        "id": "el7FMdPh7dm-"
      },
      "execution_count": null,
      "outputs": []
    },
    {
      "cell_type": "markdown",
      "source": [
        "# new todo:\n",
        "* use new model:\n",
        "-> new model:xlm roberta base"
      ],
      "metadata": {
        "id": "zDTyECoThFgV"
      }
    },
    {
      "cell_type": "code",
      "source": [
        "new_model_name=\"FacebookAI/xlm-roberta-base\""
      ],
      "metadata": {
        "id": "kK-SM9Wtd16w"
      },
      "execution_count": null,
      "outputs": []
    }
  ]
}
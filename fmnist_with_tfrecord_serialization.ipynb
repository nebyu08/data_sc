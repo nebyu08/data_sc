{
 "cells": [
  {
   "cell_type": "code",
   "execution_count": 36,
   "id": "8eaa280b-689b-4beb-9b5c-06365d48af9e",
   "metadata": {},
   "outputs": [],
   "source": [
    "import keras \n",
    "import numpy as np\n",
    "import pandas as pd\n",
    "import tensorflow as tf\n",
    "import keras\n",
    "import os\n",
    "import matplotlib.pyplot as plt"
   ]
  },
  {
   "cell_type": "code",
   "execution_count": 37,
   "id": "43c42a32-280e-42e5-b37d-555b17fd9b44",
   "metadata": {},
   "outputs": [],
   "source": [
    "# lets split the data and handle \n",
    "fmnist_dataset=tf.keras.datasets.fashion_mnist.load_data()\n",
    "(x_train_full,y_train_full),(x_test,y_test)=fmnist_dataset"
   ]
  },
  {
   "cell_type": "code",
   "execution_count": 38,
   "id": "7d7392bb-1d97-43a8-b75e-49ec5a116282",
   "metadata": {},
   "outputs": [],
   "source": [
    "from sklearn.model_selection import train_test_split\n",
    "x_train,x_valid,y_train,y_valid=train_test_split(x_train_full,y_train_full,\n",
    "                                                 random_state=42,\n",
    "                                                 stratify=y_train_full,\n",
    "                                                 test_size=0.3)"
   ]
  },
  {
   "cell_type": "code",
   "execution_count": 39,
   "id": "0c45f200-c505-4d65-9025-6098e6192f1b",
   "metadata": {},
   "outputs": [],
   "source": [
    "# lets reshape\n",
    "y_train=y_train.reshape(-1,1)\n",
    "y_test=y_test.reshape(-1,1)"
   ]
  },
  {
   "cell_type": "code",
   "execution_count": 40,
   "id": "01592eec-826e-4cc1-9e68-692b5c07a40c",
   "metadata": {},
   "outputs": [],
   "source": [
    "y_valid=y_valid.reshape(-1,1)"
   ]
  },
  {
   "cell_type": "code",
   "execution_count": 42,
   "id": "df23bcc6-8156-4db3-a279-6df97a75aed3",
   "metadata": {},
   "outputs": [
    {
     "name": "stdout",
     "output_type": "stream",
     "text": [
      "(42000, 28, 28) (42000, 1)\n"
     ]
    }
   ],
   "source": [
    "print(x_train.shape,y_train.shape)"
   ]
  },
  {
   "cell_type": "code",
   "execution_count": 43,
   "id": "d6f2d3bc-8f8c-4192-a106-7b6ed12d7afa",
   "metadata": {},
   "outputs": [],
   "source": [
    "#let change the data type into tenorflow dataset\n",
    "train_set=tf.data.Dataset.from_tensor_slices((x_train,y_train)).shuffle(len(x_train))\n",
    "valid_set=tf.data.Dataset.from_tensor_slices((x_valid,y_valid))\n",
    "test_set=tf.data.Dataset.from_tensor_slices((x_test,y_test))"
   ]
  },
  {
   "cell_type": "markdown",
   "id": "8ae39f6c-010a-4d2e-8ed0-d12922efb9b6",
   "metadata": {},
   "source": [
    "# the protocol-buffer and TFRecord part"
   ]
  },
  {
   "cell_type": "code",
   "execution_count": 44,
   "id": "383b2533-c125-4613-bbe0-9a30742b2618",
   "metadata": {},
   "outputs": [],
   "source": [
    "from tensorflow.train import BytesList,FloatList,Int64List #data types\n",
    "from tensorflow.train import Example,Features,Feature"
   ]
  },
  {
   "cell_type": "code",
   "execution_count": 45,
   "id": "4e5ee9a0-886a-4611-81dd-170561317a00",
   "metadata": {},
   "outputs": [],
   "source": [
    "def create_example(image,label):\n",
    "    image_data=tf.io.serialize_tensor(image)\n",
    "    return Example(\n",
    "        features=Features(\n",
    "            feature={\n",
    "                \"image\":Feature(bytes_list=BytesList(value=[image_data.numpy()])),\n",
    "                \"label\":Feature(int64_list=Int64List(value=[label]))\n",
    "            }\n",
    "        )\n",
    "    )"
   ]
  },
  {
   "cell_type": "code",
   "execution_count": 46,
   "id": "6a053ec2-f911-467f-a7cd-f5b154ef3c20",
   "metadata": {},
   "outputs": [
    {
     "name": "stdout",
     "output_type": "stream",
     "text": [
      "features {\n",
      "  feature {\n",
      "    key: \"image\"\n",
      "    value {\n",
      "      bytes_list {\n",
      "        value: \"\\010\\004\\022\\010\\022\\002\\010\\034\\022\\002\\010\\034\\\"\\220\\006\\000\\000\\000\\000\\000\\000\\000\\000\\000\\000\\000\\000\\000\\000\\000\\000\\000\\000\\000\\000\\000\\000\\000\\000\\000\\000\\000\\000\\000\\000\\000\\000\\000\\000\\000\\000\\000\\000\\000\\000\\000\\000\\000\\000\\000\\000\\000\\000\\000\\000\\000\\000\\000\\000\\000\\000\\000\\000\\000\\000\\000\\000\\000\\000\\000\\000\\000\\000\\000\\000\\000\\000\\000\\000\\000\\000\\000\\000\\000\\000\\000\\000\\000\\000\\000\\000\\000\\000\\000\\000\\000\\000\\000\\000\\000\\000\\000\\000\\000\\000\\000\\000\\000\\000\\000\\000\\000\\000\\000\\000\\000\\000\\000\\000\\000\\000\\000\\000\\000\\000\\000\\000\\000\\000\\000\\000\\000\\000\\000\\000\\000\\000\\000\\000\\000\\000\\000\\000\\000\\000\\000\\000\\000\\000\\000\\000\\000\\000\\000\\000\\000\\000\\000\\000\\000\\000\\000\\000\\000\\000\\000\\000\\000\\000\\000\\000\\000\\000\\000\\000\\000\\000\\000\\000\\000\\000\\000\\000\\000\\000\\000\\000\\000\\000\\000\\000\\000\\000\\000\\000\\000\\000\\000\\000\\000\\000\\000\\000\\000\\000\\000\\000\\000\\000\\000\\000\\000\\000\\000\\000\\000\\000\\000\\000\\000\\000\\000\\000\\000\\000\\000\\000\\000\\000\\000\\000\\000\\000\\000\\000\\000\\000\\000\\000\\000\\000\\000\\005\\002\\000\\000\\000/\\000\\000\\000\\000\\005\\024\\000\\000\\000\\000\\000\\000\\000\\000\\000\\000\\000\\000\\000\\000\\001\\001\\000\\000\\000n\\301\\3773\\000\\000\\000\\221g\\000\\000\\000\\000\\000\\000\\000\\000\\000\\000\\000\\000\\001\\000\\000\\000\\000\\036\\277\\366\\317l\\000\\000\\000Z\\217\\304v\\000\\000\\000\\000\\000\\000\\000\\000\\000\\000\\001\\000\\000\\000A\\345\\353\\323\\334\\300~\\205\\000=\\235\\223\\345\\303\\000\\000\\001\\003\\004\\005\\003\\002\\000\\000\\000\\000-\\355\\372\\325\\312\\320\\331\\356{\\230\\304\\246v\\351\\325\\344\\214\\000\\000\\000\\000\\000\\000\\000\\000\\000#\\262\\372\\322\\272\\276\\330\\322\\312\\331\\355\\265\\237\\254\\354\\355\\304\\314\\365\\000\\000\\005\\022\\021\\025$c\\262\\371\\361\\307\\272\\312\\327\\317\\326\\326\\325\\324\\351\\371\\355\\347\\326\\330\\320\\356\\'_\\303\\322\\325\\326\\334\\336\\327\\313\\314\\317\\306\\317\\330\\321\\314\\324\\327\\307\\324\\303\\327\\316\\275\\310\\332\\3324\\221\\320\\302\\313\\311\\310\\305\\314\\316\\313\\312\\316\\316\\323\\347\\345\\371\\374\\377\\375\\377\\377\\377\\377\\377\\347\\377(\\007I\\201\\253\\304\\324\\340\\342\\344\\372\\375\\377\\377\\374\\361\\333\\302\\247\\203x\\202nbUG39\\t\\000\\000\\017\\021\\0307Qgxo^F,\\017\\003\\000\\000\\000\\001\\t\\007\\r\\027\\031\\\"-6.\\000\\000\\001\\031\\024\\034\\022\\022\\026\\032\\036\\032!(047\\311\\207+UHQXbghB\\000\\000\\000\\000\\000\\000\\007\\034 \\0329AT?\\202j\\024Tj!L5I>-\\031\\020\\000\\000\\000\\000\\000\\000\\000\\000\\000\\000\\000\\000\\000\\000\\000\\000\\000\\000\\000\\000\\000\\000\\000\\000\\000\\000\\000\\000\\000\\000\\000\\000\\000\\000\\000\\000\\000\\000\\000\\000\\000\\000\\000\\000\\000\\000\\000\\000\\000\\000\\000\\000\\000\\000\\000\\000\\000\\000\\000\\000\\000\\000\\000\\000\\000\\000\\000\\000\\000\\000\\000\\000\\000\\000\\000\\000\\000\\000\\000\\000\\000\\000\\000\\000\\000\\000\\000\\000\\000\\000\\000\\000\\000\\000\\000\\000\\000\\000\\000\\000\\000\\000\\000\\000\\000\\000\\000\\000\\000\\000\\000\\000\\000\\000\\000\\000\\000\\000\\000\\000\\000\\000\\000\\000\\000\\000\\000\\000\\000\\000\\000\\000\\000\\000\\000\\000\\000\\000\\000\\000\\000\\000\\000\\000\\000\\000\\000\\000\\000\\000\\000\\000\\000\\000\\000\\000\\000\\000\\000\\000\\000\\000\\000\\000\\000\\000\\000\\000\\000\\000\\000\\000\\000\\000\\000\\000\\000\\000\\000\\000\\000\\000\\000\\000\\000\\000\\000\\000\\000\\000\\000\\000\\000\\000\\000\\000\\000\"\n",
      "      }\n",
      "    }\n",
      "  }\n",
      "  feature {\n",
      "    key: \"label\"\n",
      "    value {\n",
      "      int64_list {\n",
      "        value: 7\n",
      "      }\n",
      "    }\n",
      "  }\n",
      "}\n",
      "\n"
     ]
    }
   ],
   "source": [
    "for image,label in train_set.take(1):\n",
    "    print(create_example(image,label))"
   ]
  },
  {
   "cell_type": "code",
   "execution_count": 54,
   "id": "e4298e3b-a3d4-4ac0-bf37-94c390b6ef30",
   "metadata": {},
   "outputs": [],
   "source": [
    "# the tfrecord part\n",
    "from contextlib import ExitStack\n",
    "\n",
    "def write_tfrecords(name,dataset,n_shards=10):\n",
    "    paths=[\"{}.tfrecord -{:05d}--of-{:05d}\".format(name,index,n_shards) for index in range(n_shards)]\n",
    "    with ExitStack() as stack:\n",
    "        writers=[stack.enter_context(tf.io.TFRecordWriter(path)) for path in paths]\n",
    "        for index,(image,label) in dataset.enumerate():\n",
    "            shard=index%n_shards\n",
    "            example=create_example(image,label)\n",
    "            writers[shard].write(example.SerializeToString())\n",
    "    return paths"
   ]
  },
  {
   "cell_type": "code",
   "execution_count": 57,
   "id": "a022308c-77e1-4a13-9e1c-4f21314c9534",
   "metadata": {},
   "outputs": [],
   "source": [
    "train_filepaths=write_tfrecords(\"my_fashion_mnist.train\",train_set)\n",
    "valid_filepaths=write_tfrecords(\"my_fashion_mnist.valid\",valid_set)\n",
    "test_filepaths=write_tfrecords(\"my_fashion_mnist.test\",test_set)"
   ]
  },
  {
   "cell_type": "code",
   "execution_count": 71,
   "id": "66378731-67df-44e9-a21f-f26c91fb4611",
   "metadata": {},
   "outputs": [],
   "source": [
    "# preprocess the tfrecords\n",
    "def preprocess(tfrecords):\n",
    "    #this is for de-serialization \n",
    "    feature_discriptions={\n",
    "        \"image\":tf.io.FixedLenFeature([],tf.string,default_value=\"\"), #the number is stated as string here\n",
    "        \"label\":tf.io.FixedLenFeature([],tf.int64,default_value=-1)\n",
    "    }\n",
    "    example=tf.io.parse_single_example(tfrecords,feature_discriptions)\n",
    "    image=tf.io.parse_tensor(example[\"image\"],out_type=tf.uint8)\n",
    "    image=tf.reshape(image,[28,28])\n",
    "    return image,example[\"label\"]\n"
   ]
  },
  {
   "cell_type": "code",
   "execution_count": 72,
   "id": "93855367-a0f0-43b4-82ca-ad1aa87289a1",
   "metadata": {},
   "outputs": [],
   "source": [
    "# for shuffling the dataset\n",
    "def mnist_dataset(filepath,n_read_threads=5,shuffle_buffer_size=None,n_parse_threads=5,batch_size=32,cache=True):\n",
    "    dataset=tf.data.TFRecordDataset(filepath,num_parallel_reads=n_read_threads)\n",
    "    if cache:\n",
    "        dataset=dataset.cache()\n",
    "    if shuffle_buffer_size:\n",
    "        dataset.shuffle(shuffle_buffer_size)\n",
    "    dataset=dataset.map(preprocess,num_parallel_calls=n_parse_threads)\n",
    "    dataset=dataset.batch(batch_size)\n",
    "    return dataset.prefetch(1)"
   ]
  },
  {
   "cell_type": "code",
   "execution_count": 73,
   "id": "b8a97153-bc7f-4eb1-8b0c-127f717c1952",
   "metadata": {},
   "outputs": [],
   "source": [
    "train_set=mnist_dataset(train_filepaths,shuffle_buffer_size=60000)\n",
    "valid_set=mnist_dataset(valid_filepaths)\n",
    "test_set=mnist_dataset(test_filepaths)"
   ]
  },
  {
   "cell_type": "code",
   "execution_count": 74,
   "id": "9f8c3175-d2ae-40d5-a392-a60137da37d3",
   "metadata": {},
   "outputs": [
    {
     "data": {
      "image/png": "[encoded data removed]",
      "text/plain": [
       "<Figure size 640x480 with 5 Axes>"
      ]
     },
     "metadata": {},
     "output_type": "display_data"
    }
   ],
   "source": [
    "for X, y in train_set.take(1):\n",
    "    for i in range(5):\n",
    "        plt.subplot(1, 5, i + 1)\n",
    "        plt.imshow(X[i].numpy(), cmap=\"binary\")\n",
    "        plt.axis(\"off\")\n",
    "        plt.title(str(y[i].numpy()))"
   ]
  },
  {
   "cell_type": "code",
   "execution_count": 75,
   "id": "9907768f-7fbb-4a9a-8d59-31839e839bc2",
   "metadata": {},
   "outputs": [],
   "source": [
    "#this is local-standardizer\n",
    "keras.backend.clear_session()\n",
    "tf.random.set_seed(42)\n",
    "np.random.seed(42)\n",
    "\n",
    "class Standardization(keras.layers.Layer):\n",
    "    def adapt(self, data_sample):\n",
    "        self.means_ = np.mean(data_sample, axis=0, keepdims=True)\n",
    "        self.stds_ = np.std(data_sample, axis=0, keepdims=True)\n",
    "    def call(self, inputs):\n",
    "        return (inputs - self.means_) / (self.stds_ + keras.backend.epsilon())"
   ]
  },
  {
   "cell_type": "code",
   "execution_count": 77,
   "id": "c017654d-8012-44e7-85dc-978b6bcf3e07",
   "metadata": {},
   "outputs": [],
   "source": [
    "standardization = Standardization(input_shape=[28, 28])"
   ]
  },
  {
   "cell_type": "code",
   "execution_count": 78,
   "id": "ac878e52-3531-4ff8-8739-964ef7f34dc9",
   "metadata": {},
   "outputs": [],
   "source": [
    "sample_image_batches = train_set.take(100).map(lambda image, label: image)\n",
    "sample_images = np.concatenate(list(sample_image_batches.as_numpy_iterator()),\n",
    "                               axis=0).astype(np.float32)\n",
    "standardization.adapt(sample_images)"
   ]
  },
  {
   "cell_type": "code",
   "execution_count": 79,
   "id": "118c033b-69a4-459a-9501-211566816e91",
   "metadata": {},
   "outputs": [],
   "source": [
    "model = keras.models.Sequential([\n",
    "    standardization,\n",
    "    keras.layers.Flatten(),\n",
    "    keras.layers.Dense(100, activation=\"relu\"),\n",
    "    keras.layers.Dense(10, activation=\"softmax\")\n",
    "])\n",
    "model.compile(loss=\"sparse_categorical_crossentropy\",\n",
    "              optimizer=\"nadam\", metrics=[\"accuracy\"])"
   ]
  },
  {
   "cell_type": "code",
   "execution_count": 80,
   "id": "c697bd76-bef9-4611-9f0e-c560329915c5",
   "metadata": {},
   "outputs": [
    {
     "name": "stdout",
     "output_type": "stream",
     "text": [
      "Epoch 1/5\n",
      "1313/1313 [==============================] - 55s 31ms/step - loss: 0.4817 - accuracy: 0.8353 - val_loss: 0.3925 - val_accuracy: 0.8699\n",
      "Epoch 2/5\n",
      "1313/1313 [==============================] - 24s 18ms/step - loss: 0.3542 - accuracy: 0.8732 - val_loss: 0.3688 - val_accuracy: 0.8753\n",
      "Epoch 3/5\n",
      "1313/1313 [==============================] - 15s 11ms/step - loss: 0.3118 - accuracy: 0.8863 - val_loss: 0.3532 - val_accuracy: 0.8803\n",
      "Epoch 4/5\n",
      "1313/1313 [==============================] - 19s 15ms/step - loss: 0.2798 - accuracy: 0.8983 - val_loss: 0.3618 - val_accuracy: 0.8823\n",
      "Epoch 5/5\n",
      "1313/1313 [==============================] - 20s 15ms/step - loss: 0.2595 - accuracy: 0.9064 - val_loss: 0.3554 - val_accuracy: 0.8858\n"
     ]
    },
    {
     "data": {
      "text/plain": [
       "<keras.src.callbacks.History at 0x1b6ec2f9400>"
      ]
     },
     "execution_count": 80,
     "metadata": {},
     "output_type": "execute_result"
    }
   ],
   "source": [
    "from datetime import datetime\n",
    "logs = os.path.join(os.curdir, \"my_logs\",\n",
    "                    \"run_\" + datetime.now().strftime(\"%Y%m%d_%H%M%S\"))\n",
    "\n",
    "tensorboard_cb = tf.keras.callbacks.TensorBoard(\n",
    "    log_dir=logs, histogram_freq=1, profile_batch=10)\n",
    "\n",
    "model.fit(train_set, epochs=5, validation_data=valid_set,\n",
    "          callbacks=[tensorboard_cb])"
   ]
  },
  {
   "cell_type": "code",
   "execution_count": null,
   "id": "11b6c5c6-b932-4544-aab9-8f5349132645",
   "metadata": {},
   "outputs": [],
   "source": []
  }
 ],
 "metadata": {
  "kernelspec": {
   "display_name": "Python 3 (ipykernel)",
   "language": "python",
   "name": "python3"
  },
  "language_info": {
   "codemirror_mode": {
    "name": "ipython",
    "version": 3
   },
   "file_extension": ".py",
   "mimetype": "text/x-python",
   "name": "python",
   "nbconvert_exporter": "python",
   "pygments_lexer": "ipython3",
   "version": "3.8.17"
  }
 },
 "nbformat": 4,
 "nbformat_minor": 5
}
